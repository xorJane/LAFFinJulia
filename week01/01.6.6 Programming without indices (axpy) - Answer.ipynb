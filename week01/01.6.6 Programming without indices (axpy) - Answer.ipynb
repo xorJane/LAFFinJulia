{
 "cells": [
  {
   "cell_type": "markdown",
   "metadata": {},
   "source": [
    "## Programming without indices (axpy)"
   ]
  },
  {
   "cell_type": "markdown",
   "metadata": {},
   "source": [
    "### Preliminaries"
   ]
  },
  {
   "cell_type": "markdown",
   "metadata": {},
   "source": [
    "<p><font color=red> Again, copy this notebook so that you don't corrupt the original!  Then you can \"play\" with the copy of the notebook all you want! </font> </p>\n",
    "\n",
    "<p>In this notebook, we show how the FLAME notation (the notation in which vectors and/or matrices are partitioned into regions) can be leveraged to implement linear algebra operations without using indices (which are the root of all evil in programming...).</p>"
   ]
  },
  {
   "cell_type": "markdown",
   "metadata": {},
   "source": [
    "Let's start by creating vectors $ x = \\left( \\begin{array}{r} 1 \\\\ 2 \\\\ 3 \\end{array} \\right) $, $ y = \\left( \\begin{array}{r} -1.0 \\\\ 0.0 \\\\ -2.0 \\end{array} \\right) $ and a scalar $ \\alpha = 2.5 $.  \n",
    "\n",
    "Execute the code in the box by clicking in the box and then on \"Cell -> Run\".  Alternatively, click on the box and push \"Shift\" and \"Return\" (or \"Enter\") together."
   ]
  },
  {
   "cell_type": "code",
   "execution_count": 26,
   "metadata": {},
   "outputs": [
    {
     "name": "stdout",
     "output_type": "stream",
     "text": [
      "x = [1, 2, 3]\n",
      "y = "
     ]
    },
    {
     "name": "stderr",
     "output_type": "stream",
     "text": [
      "WARNING: replacing module laff.\n"
     ]
    },
    {
     "name": "stdout",
     "output_type": "stream",
     "text": [
      "[-1.0, 0.0, -2.0]\n",
      "α = 2.5\n"
     ]
    }
   ],
   "source": [
    "include(\"../laff/laff.jl\")\n",
    "using .laff\n",
    "\n",
    "# create two column vectors x and y.  \n",
    "x = [1, 2, 3]\n",
    "@show x\n",
    "\n",
    "y = [-1.0, 0.0, -2.0]\n",
    "@show y\n",
    "\n",
    "α = 2.5\n",
    "@show α;\n",
    "\n",
    "yold = fill(0.0, 3)\n",
    "laff.copy!( y, yold )"
   ]
  },
  {
   "cell_type": "markdown",
   "metadata": {},
   "source": [
    "### Axpy as a simple routine"
   ]
  },
  {
   "cell_type": "markdown",
   "metadata": {},
   "source": [
    "<p>\n",
    "Here is a simple routine for computing $ y := \\alpha x + y $:\n",
    "</p>"
   ]
  },
  {
   "cell_type": "code",
   "execution_count": 27,
   "metadata": {},
   "outputs": [
    {
     "data": {
      "text/plain": [
       "axpy! (generic function with 1 method)"
      ]
     },
     "execution_count": 27,
     "metadata": {},
     "output_type": "execute_result"
    }
   ],
   "source": [
    "function axpy!( α, x, y )\n",
    "\n",
    "    m = length(x)\n",
    "    \n",
    "    for i in 1:m\n",
    "        y[ i ] = α * x[ i ] + y[ i ]\n",
    "    end\n",
    "end"
   ]
  },
  {
   "cell_type": "markdown",
   "metadata": {},
   "source": [
    "Be sure the run the above box, or this notebook won't know about the routine!!!"
   ]
  },
  {
   "cell_type": "markdown",
   "metadata": {},
   "source": [
    "Now, execute"
   ]
  },
  {
   "cell_type": "code",
   "execution_count": 28,
   "metadata": {},
   "outputs": [
    {
     "name": "stdout",
     "output_type": "stream",
     "text": [
      "y before axpy:\n",
      "[-1.0, 0.0, -2.0]\n",
      "y after axpy: \n",
      "[1.5, 5.0, 5.5]\n",
      "compare new y to alpha * x + yold:\n",
      "[0.0, 0.0, 0.0]\n"
     ]
    }
   ],
   "source": [
    "laff.copy!( yold, y )\n",
    "\n",
    "println( \"y before axpy:\")\n",
    "println( y )\n",
    "\n",
    "axpy!( α, x, y)\n",
    "\n",
    "println( \"y after axpy: \" )\n",
    "println( y )\n",
    "\n",
    "println( \"compare new y to alpha * x + yold:\" )\n",
    "println( y - ( α * x + yold ) )"
   ]
  },
  {
   "cell_type": "markdown",
   "metadata": {},
   "source": [
    "### An implementation with the FLAMEPy Application Programming Interface (API)"
   ]
  },
  {
   "cell_type": "markdown",
   "metadata": {},
   "source": [
    "We now show how to implement this same routine using the FLAMEPy API.\n",
    "\n",
    "Start by visiting the <a href=\"https://studio.edx.org/c4x/UTAustinX/UT.5.01x/asset/index.html\"> Spark webpage </a>.  Follow along with the video and paste the resulting code below.  Then follow along with the video and add the appropriate commands.\n",
    "\n",
    "Here is the algorithm as presented in Unit 1.6.5.  \n",
    "<img src=\"https://studio.edx.org/c4x/UTAustinX/UT.5.01x/asset/FLAME_Algorithm_Axpy.png\" alt=\"some_text\">\n",
    "\n",
    "In the video for Unit 1.6.6, you are encouraged to us the Spark webpage and the above algorithm to implement the axpy operation.\n",
    "\n",
    "<b> Note: </b>\n",
    "<ul>\n",
    "<li> Make sure that the name of the routine is <code> axpy_unb </code>.\n",
    "<li> Make sure you order the parameters <code> alpha, x, y </code>.\n",
    "<li> Make sure you work through the vectors in the right direction.\n",
    "</ul>"
   ]
  },
  {
   "cell_type": "code",
   "execution_count": 49,
   "metadata": {},
   "outputs": [
    {
     "name": "stderr",
     "output_type": "stream",
     "text": [
      "WARNING: replacing module laff.\n",
      "WARNING: replacing module flame.\n"
     ]
    },
    {
     "data": {
      "text/plain": [
       "axpy_unb! (generic function with 1 method)"
      ]
     },
     "execution_count": 49,
     "metadata": {},
     "output_type": "execute_result"
    }
   ],
   "source": [
    "include(\"../laff/laff.jl\")\n",
    "include(\"../flame.jl\")\n",
    "using .laff\n",
    "using .flame\n",
    "\n",
    "function axpy_unb!(alpha, x, y)\n",
    "\n",
    "    xT, xB  = flame.part_2x1(x, 0, \"TOP\")\n",
    "\n",
    "    yT, yB  = flame.part_2x1(y, 0, \"TOP\")\n",
    "\n",
    "    while size(xT)[1] < size(x)[1]\n",
    "\n",
    "        x0, chi1, x2    = flame.repart_2x1_to_3x1(xT, xB, 1, \"BOTTOM\")\n",
    "\n",
    "        y0, psi1, y2    = flame.repart_2x1_to_3x1(yT, yB, 1, \"BOTTOM\")\n",
    "\n",
    "        #------------------------------------------------------------#\n",
    "\n",
    "        psi1 = alpha * chi1 + psi1\n",
    "        \n",
    "        #------------------------------------------------------------#\n",
    "\n",
    "        xT, xB  = flame.cont_with_3x1_to_2x1(x0, chi1, x2, \"TOP\")\n",
    "\n",
    "        yT, yB  = flame.cont_with_3x1_to_2x1(y0, psi1, y2, \"TOP\")\n",
    "    end\n",
    "        \n",
    "    flame.merge_2x1!(yT, yB, y)\n",
    "\n",
    "end\n",
    "\n"
   ]
  },
  {
   "cell_type": "code",
   "execution_count": 50,
   "metadata": {},
   "outputs": [
    {
     "name": "stdout",
     "output_type": "stream",
     "text": [
      "y after axpy: \n",
      "[-3.0, -4.0, -8.0]\n",
      "compare new y to alpha * x + yold:\n",
      "[0.0, 0.0, 0.0]\n"
     ]
    },
    {
     "name": "stderr",
     "output_type": "stream",
     "text": [
      "WARNING: replacing module laff.\n"
     ]
    }
   ],
   "source": [
    "include(\"../laff/laff.jl\")\n",
    "using .laff\n",
    "\n",
    "laff.copy!( yold, y )\n",
    "\n",
    "α = -2.0 \n",
    "\n",
    "axpy_unb!( α, x, y )\n",
    "\n",
    "println( \"y after axpy: \" )\n",
    "println( y )\n",
    "\n",
    "println( \"compare new y to alpha * x + yold:\" )\n",
    "println( y - ( α * x + yold ) )"
   ]
  },
  {
   "cell_type": "markdown",
   "metadata": {},
   "source": [
    "The output should be:\n",
    "<code>\n",
    "y after axpy: \n",
    "[-3.0, -4.0, -8.0]\n",
    "compare new y to alpha * x + yold:\n",
    "[0.0, 0.0, 0.0]\n",
    "</code>"
   ]
  }
 ],
 "metadata": {
  "kernelspec": {
   "display_name": "Julia 1.0.1",
   "language": "julia",
   "name": "julia-1.0"
  },
  "language_info": {
   "file_extension": ".jl",
   "mimetype": "application/julia",
   "name": "julia",
   "version": "1.0.1"
  }
 },
 "nbformat": 4,
 "nbformat_minor": 1
}
