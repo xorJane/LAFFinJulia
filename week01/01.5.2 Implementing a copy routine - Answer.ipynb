{
 "cells": [
  {
   "cell_type": "markdown",
   "metadata": {},
   "source": [
    "## Implementing a (vector) copy routine"
   ]
  },
  {
   "cell_type": "markdown",
   "metadata": {},
   "source": [
    "### Preliminaries"
   ]
  },
  {
   "cell_type": "markdown",
   "metadata": {},
   "source": [
    "<p><font color=red> Copy this notebook so that you don't corrupt the original!  Then you can \"play\" with the copy of the notebook all you want! </font> </p>\n",
    "\n",
    "<p>This particular notebook does everything for you if you follow along with the video and type in code produced there.  You will be able to try it yourself in subsequent notebooks that implement other operations.</p>"
   ]
  },
  {
   "cell_type": "markdown",
   "metadata": {},
   "source": [
    "Let's start by importing the `LinearAlgebra` package and creating a vector $ x = \\left( \\begin{array}{r} 1 \\\\ 2 \\\\ 3 \\end{array} \\right) $ and a vector $ y = \\left( \\begin{array}{r} 0 \\\\ -1 \\\\ -2 \\end{array} \\right) $.  \n",
    "\n",
    "Execute the code in the box by clicking in the box and then on \"Cell -> Run\".  Alternatively, click on the box and push \"Shift\" and \"Return\" (or \"Enter\") together."
   ]
  },
  {
   "cell_type": "code",
   "execution_count": 3,
   "metadata": {},
   "outputs": [
    {
     "name": "stdout",
     "output_type": "stream",
     "text": [
      "x = [1, 2, 3]\n",
      "y = [0, -1, -2]\n"
     ]
    }
   ],
   "source": [
    "# This loads a package called `LinearAlgebra` that will make working with matrices \n",
    "# simpler.\n",
    "using LinearAlgebra\n",
    "\n",
    "# create 1D arrays or `Vector`s `x` and `y`\n",
    "x = [1, 2, 3]\n",
    "println(\"x = \", x)\n",
    "\n",
    "y = [0, -1, -2]\n",
    "println(\"y = \", y)"
   ]
  },
  {
   "cell_type": "markdown",
   "metadata": {},
   "source": [
    "***A note on printing arrays***\n",
    "\n",
    "First, notice that if we simply execute a cell containing the name of a `Vector` we've declared, the formatting indicates that it is a column vector:"
   ]
  },
  {
   "cell_type": "code",
   "execution_count": 4,
   "metadata": {},
   "outputs": [
    {
     "data": {
      "text/plain": [
       "3-element Array{Int64,1}:\n",
       " 1\n",
       " 2\n",
       " 3"
      ]
     },
     "execution_count": 4,
     "metadata": {},
     "output_type": "execute_result"
    }
   ],
   "source": [
    "x"
   ]
  },
  {
   "cell_type": "markdown",
   "metadata": {},
   "source": [
    "Whereas `println(x)` prints `x` so that it looks like a row."
   ]
  },
  {
   "cell_type": "code",
   "execution_count": 5,
   "metadata": {},
   "outputs": [
    {
     "name": "stdout",
     "output_type": "stream",
     "text": [
      "[1, 2, 3]\n"
     ]
    }
   ],
   "source": [
    "println(x)"
   ]
  },
  {
   "cell_type": "markdown",
   "metadata": {},
   "source": [
    "If we're happy with the row-like formatting, we could try `@show x;` instead of `println(\"x = \", x)`."
   ]
  },
  {
   "cell_type": "code",
   "execution_count": 6,
   "metadata": {},
   "outputs": [
    {
     "name": "stdout",
     "output_type": "stream",
     "text": [
      "x = [1, 2, 3]\n"
     ]
    }
   ],
   "source": [
    "@show x;"
   ]
  },
  {
   "cell_type": "markdown",
   "metadata": {},
   "source": [
    "and if we would like to print `x` so it *looks* like the column vector it is, we can use the function `Base.print_array()` from Julia's `Base`, which will take `stdout` as its first input argument:"
   ]
  },
  {
   "cell_type": "code",
   "execution_count": 7,
   "metadata": {},
   "outputs": [
    {
     "name": "stdout",
     "output_type": "stream",
     "text": [
      "x = \n",
      " 1\n",
      " 2\n",
      " 3"
     ]
    }
   ],
   "source": [
    "println(\"x = \")\n",
    "Base.print_array(stdout, x)"
   ]
  },
  {
   "cell_type": "markdown",
   "metadata": {},
   "source": [
    "Let's import `print_array` from `Base` and use it to print arrays going forward."
   ]
  },
  {
   "cell_type": "code",
   "execution_count": 8,
   "metadata": {},
   "outputs": [
    {
     "name": "stdout",
     "output_type": "stream",
     "text": [
      "x = \n",
      " 1\n",
      " 2\n",
      " 3"
     ]
    }
   ],
   "source": [
    "import Base.print_array\n",
    "println(\"x = \")\n",
    "print_array(stdout, x)"
   ]
  },
  {
   "cell_type": "markdown",
   "metadata": {},
   "source": [
    "For the rest of this notebook, we'll use the `@show` version for simplicity."
   ]
  },
  {
   "cell_type": "markdown",
   "metadata": {},
   "source": [
    "***Back to the assignment***\n",
    "\n",
    "Now, let's use assignment to copy x into vector y:\n",
    "\n",
    "(Again: \"Shift\" and \"Return\" at the same time!)"
   ]
  },
  {
   "cell_type": "code",
   "execution_count": 9,
   "metadata": {},
   "outputs": [
    {
     "name": "stdout",
     "output_type": "stream",
     "text": [
      "y = \n",
      " 1\n",
      " 2\n",
      " 3"
     ]
    }
   ],
   "source": [
    "y=x\n",
    "\n",
    "println(\"y = \")\n",
    "print_array(stdout, y)"
   ]
  },
  {
   "cell_type": "markdown",
   "metadata": {},
   "source": [
    "Hmmm, it seems like it all worked.  The problem is that, in this situation, Julia does a \"shallow copy\".  If you change a value in x, then that value also changes in y.  In other words, y is just a reference to the same data that x references.\n",
    "\n",
    "We illustrate this by setting the second entry in $ x $ to a new value and printing both <code> x </code> and <code> y </code>."
   ]
  },
  {
   "cell_type": "code",
   "execution_count": 10,
   "metadata": {},
   "outputs": [
    {
     "name": "stdout",
     "output_type": "stream",
     "text": [
      "x = \n",
      "    1\n",
      " -999\n",
      "    3\n",
      "y = \n",
      "    1\n",
      " -999\n",
      "    3"
     ]
    }
   ],
   "source": [
    "x[2] =  -999       # notice that Julia starts indexing at 1.  (You count 1, 2, 3, ...)\n",
    "                   # Given a vector `x` of length n, x[2] refers to the second \n",
    "                   # component of vector x. \n",
    "println(\"x = \")\n",
    "print_array(stdout, x)\n",
    "\n",
    "println(\"\\ny = \")\n",
    "print_array(stdout, y)"
   ]
  },
  {
   "cell_type": "markdown",
   "metadata": {},
   "source": [
    "To fix this, we could write a loop that copies the entries of x into the vector y.  Let's start by resetting the values in y:"
   ]
  },
  {
   "cell_type": "code",
   "execution_count": 11,
   "metadata": {},
   "outputs": [
    {
     "name": "stdout",
     "output_type": "stream",
     "text": [
      "x = \n",
      " 1\n",
      " 2\n",
      " 3\n",
      "y = \n",
      "  0\n",
      " -1\n",
      " -2"
     ]
    }
   ],
   "source": [
    "x = [1, 2, 3]\n",
    "y = [0, -1, -2]\n",
    "\n",
    "println(\"x = \")\n",
    "print_array(stdout, x)\n",
    "\n",
    "println(\"\\ny = \")\n",
    "print_array(stdout, y)"
   ]
  },
  {
   "cell_type": "markdown",
   "metadata": {},
   "source": [
    "Now, we want to copy the three entries in x into the three entries in y using a \"for\" loop:"
   ]
  },
  {
   "cell_type": "code",
   "execution_count": 12,
   "metadata": {},
   "outputs": [
    {
     "name": "stdout",
     "output_type": "stream",
     "text": [
      "\n",
      "y = \n",
      " 1\n",
      " 2\n",
      " 3"
     ]
    }
   ],
   "source": [
    "for i in 1:3     # This executes the second line for i = 1, 2, 3\n",
    "                 # So, 1:3 is the interval of integers [1, 3], inclusive of 3.\n",
    "    y[ i ] = x[ i ] \n",
    "end\n",
    "\n",
    "println(\"\\ny = \")\n",
    "print_array(stdout, y)"
   ]
  },
  {
   "cell_type": "markdown",
   "metadata": {},
   "source": [
    "If we now change the second value in x, the contents of y do not change:"
   ]
  },
  {
   "cell_type": "code",
   "execution_count": 13,
   "metadata": {},
   "outputs": [
    {
     "name": "stdout",
     "output_type": "stream",
     "text": [
      "x = \n",
      "    1\n",
      " -999\n",
      "    3\n",
      "y = \n",
      " 1\n",
      " 2\n",
      " 3"
     ]
    }
   ],
   "source": [
    "x[ 2 ] = -999\n",
    "println(\"x = \")\n",
    "print_array(stdout, x)\n",
    "\n",
    "println(\"\\ny = \")\n",
    "print_array(stdout, y)"
   ]
  },
  {
   "cell_type": "markdown",
   "metadata": {},
   "source": [
    "### Copy as a simple routine"
   ]
  },
  {
   "cell_type": "markdown",
   "metadata": {},
   "source": [
    "Clearly, writing the \"for loop\" every time you want to copy a vector would be very cumbersome.  For this reason, we are going to write a routine, copy( x, y ), that copies the contents of vector x to vector y.  <font color=red> (Note: there <i>are</i> other ways of doing a \"deep copy\" in Julia.  However, the whole point of writing these routines is to help learn the material in this course.  This is not a course in which we teach you Julia beyond what you need to better understand linear algebra.) </font>\n",
    "\n",
    "Here is what it means to copy a vector of size $ m $:\n",
    "$$\n",
    "\\left( \\begin{array}{c}\n",
    "\\psi_1 \\\\\n",
    "\\psi_2 \\\\\n",
    "\\vdots \\\\\n",
    "\\psi_{m}\n",
    "\\end{array}\n",
    "\\right)\n",
    ":=\n",
    "\\left( \\begin{array}{c}\n",
    "\\chi_1 \\\\\n",
    "\\chi_2 \\\\\n",
    "\\vdots \\\\\n",
    "\\chi_{m}\n",
    "\\end{array}\n",
    "\\right)\n",
    "$$\n",
    "\n",
    "As an algorithm this can be written as\n",
    "<p>\n",
    "<b> for </b> $ i = 1, \\ldots , m $  <br>\n",
    " $ ~~~ \\psi_i := \\chi_i $ <br>\n",
    "<b> endfor </b>\n",
    "</p>\n",
    "\n",
    "<p>\n",
    "This translates into the following routine:\n",
    "</p>"
   ]
  },
  {
   "cell_type": "code",
   "execution_count": 14,
   "metadata": {},
   "outputs": [
    {
     "data": {
      "text/plain": [
       "copy! (generic function with 1 method)"
      ]
     },
     "execution_count": 14,
     "metadata": {},
     "output_type": "execute_result"
    }
   ],
   "source": [
    "function copy!( x, y )\n",
    "    # Check how many elements there are in vector x.  For this, \n",
    "    # length( x ) returns the number of elements in x    \n",
    "    m = length(x)\n",
    "    \n",
    "    # now copy the elements\n",
    "    for i in 1:m\n",
    "        y[ i ] = x[ i ]\n",
    "    end\n",
    "end"
   ]
  },
  {
   "cell_type": "markdown",
   "metadata": {},
   "source": [
    "*Be sure the run the above box, or this notebook won't know about the routine!!!*"
   ]
  },
  {
   "cell_type": "markdown",
   "metadata": {},
   "source": [
    "Note that `copy!` has a `!` (a \"bang\") at the end of its name. In Julia, this is our way of reminding ourselves and others that `copy!` is a **mutating** function -- one that updates its input arguments. Here the second input argument is mutated: it will be equal to `x` after the function call even if it wasn't beforehand!"
   ]
  },
  {
   "cell_type": "markdown",
   "metadata": {},
   "source": [
    "Now, if you execute"
   ]
  },
  {
   "cell_type": "code",
   "execution_count": 33,
   "metadata": {},
   "outputs": [
    {
     "name": "stdout",
     "output_type": "stream",
     "text": [
      "x = \n",
      " 1\n",
      " 2\n",
      " 3\n",
      "y = \n",
      " 1\n",
      " 2\n",
      " 3"
     ]
    }
   ],
   "source": [
    "copy!( x, y )\n",
    "\n",
    "println(\"x = \")\n",
    "print_array(stdout, x)\n",
    "\n",
    "println(\"\\ny = \")\n",
    "print_array(stdout, y)"
   ]
  },
  {
   "cell_type": "markdown",
   "metadata": {},
   "source": [
    "you notice that vector x has been copied to vector y.  And if we change values in x, the values in y don't change:"
   ]
  },
  {
   "cell_type": "code",
   "execution_count": 34,
   "metadata": {},
   "outputs": [
    {
     "name": "stdout",
     "output_type": "stream",
     "text": [
      "x = \n",
      "   1\n",
      "   2\n",
      " 111\n",
      "y = \n",
      " 1\n",
      " 2\n",
      " 3"
     ]
    }
   ],
   "source": [
    "x[ 3 ] = 111\n",
    "\n",
    "println(\"x = \")\n",
    "print_array(stdout, x)\n",
    "\n",
    "println(\"\\ny = \")\n",
    "print_array(stdout, y)"
   ]
  },
  {
   "cell_type": "markdown",
   "metadata": {},
   "source": [
    "### A complete copy function"
   ]
  },
  {
   "cell_type": "markdown",
   "metadata": {},
   "source": [
    "As we develop our library, we want to be able to copy rows from a matrix into a column vector, columns of a matrix into a vector, a row of a matrix into a column of a matrix, and all such combinations.  As a result, what we really want is a copy routine that works when x and y are column and/or row vectors, in all combinations.  It also should notify us if we try to copy between vectors that are not of the same size.  The copy function below will accept both column vectors and row vectors (transpositions of column vectors) as input arguments. It checks that its input arguments have the same numbers of elements."
   ]
  },
  {
   "cell_type": "code",
   "execution_count": 46,
   "metadata": {},
   "outputs": [
    {
     "data": {
      "text/plain": [
       "copy!"
      ]
     },
     "execution_count": 46,
     "metadata": {},
     "output_type": "execute_result"
    }
   ],
   "source": [
    "\"\"\"\n",
    "    copy!(x, y)\n",
    "\n",
    "Compute y = x, overwriting y.\n",
    "\n",
    "x and y can be arrays with the same number of elements. For example,\n",
    "x and y may both be columns vectors (`Vector`s) and/or row vectors\n",
    "(transposed `Vector`s) of the same length.\n",
    "\"\"\"\n",
    "function copy!( x, y )\n",
    "    n = length(x)\n",
    "    @assert n == length(y) \"x and y have different numbers of elements!\"\n",
    "\n",
    "    for i in 1:n\n",
    "        y[ i ] = x[ i ]\n",
    "    end\n",
    "end"
   ]
  },
  {
   "cell_type": "markdown",
   "metadata": {},
   "source": [
    "### Test the code"
   ]
  },
  {
   "cell_type": "markdown",
   "metadata": {},
   "source": [
    "#### Copy a row to a row"
   ]
  },
  {
   "cell_type": "code",
   "execution_count": 36,
   "metadata": {},
   "outputs": [
    {
     "name": "stdout",
     "output_type": "stream",
     "text": [
      "x = \n",
      " 1  2  3\n",
      "y = \n",
      " 0  -2  -3\n",
      "y = \n",
      " 1  2  3"
     ]
    }
   ],
   "source": [
    "# We can get a row vector by calling `transpose()` on a column vector\n",
    "x = transpose([1, 2, 3])\n",
    "y = transpose([0, -2, -3])\n",
    "\n",
    "println(\"x = \")\n",
    "print_array(stdout, x)\n",
    "\n",
    "println(\"\\ny = \")\n",
    "print_array(stdout, y)\n",
    "\n",
    "copy!( x, y )\n",
    "println(\"\\ny = \")\n",
    "print_array(stdout, y)\n",
    "\n",
    "@assert x == y"
   ]
  },
  {
   "cell_type": "code",
   "execution_count": 37,
   "metadata": {},
   "outputs": [
    {
     "name": "stdout",
     "output_type": "stream",
     "text": [
      "-----SLAP_copy tests-----\n",
      "\n",
      "From row to row\n",
      "x = \n",
      " 1  2  3\n",
      "y = \n",
      " 0  0  0\n",
      "After copying:\n",
      "y = \n",
      " 1  2  3"
     ]
    }
   ],
   "source": [
    "println(\"-----SLAP_copy tests-----\\n\")\n",
    "\n",
    "x = transpose([1, 2, 3])\n",
    "y = transpose(fill(0, 3)) # create a vector of zeros and transpose it\n",
    "# y = transpose(zeros(Int64, 3)) # Alternatively could have used `zeros()`\n",
    "\n",
    "println(\"From row to row\")\n",
    "println(\"x = \")\n",
    "print_array(stdout, x)\n",
    "println(\"\\ny = \")\n",
    "print_array(stdout, y)\n",
    "\n",
    "copy!(x,y)\n",
    "println(\"\\nAfter copying:\")\n",
    "println(\"y = \")\n",
    "print_array(stdout, y)"
   ]
  },
  {
   "cell_type": "code",
   "execution_count": 38,
   "metadata": {},
   "outputs": [
    {
     "name": "stdout",
     "output_type": "stream",
     "text": [
      "From column to column\n",
      "x = \n",
      " 1\n",
      " 2\n",
      " 3\n",
      "y = \n",
      " 0\n",
      " 0\n",
      " 0\n",
      "After copying:\n",
      "y = \n",
      " 1\n",
      " 2\n",
      " 3"
     ]
    }
   ],
   "source": [
    "x = [1, 2, 3]\n",
    "y = fill(0, 3)\n",
    "\n",
    "println( \"From column to column\")\n",
    "println(\"x = \")\n",
    "print_array(stdout, x)\n",
    "println(\"\\ny = \")\n",
    "print_array(stdout, y)\n",
    "\n",
    "copy!(x,y)\n",
    "println(\"\\nAfter copying:\")\n",
    "println(\"y = \")\n",
    "print_array(stdout, y)"
   ]
  },
  {
   "cell_type": "code",
   "execution_count": 39,
   "metadata": {
    "scrolled": true
   },
   "outputs": [
    {
     "name": "stdout",
     "output_type": "stream",
     "text": [
      "From row to column\n",
      "x = \n",
      " 1  2  3\n",
      "y = \n",
      " 0\n",
      " 0\n",
      " 0\n",
      "After copying:\n",
      "y = \n",
      " 1\n",
      " 2\n",
      " 3"
     ]
    }
   ],
   "source": [
    "x = transpose([1, 2, 3])\n",
    "y = fill(0, 3)\n",
    "\n",
    "println( \"From row to column\")\n",
    "println(\"x = \")\n",
    "print_array(stdout, x)\n",
    "println(\"\\ny = \")\n",
    "print_array(stdout, y)\n",
    "\n",
    "copy!(x,y)\n",
    "println(\"\\nAfter copying:\")\n",
    "println(\"y = \")\n",
    "print_array(stdout, y)"
   ]
  },
  {
   "cell_type": "code",
   "execution_count": 40,
   "metadata": {},
   "outputs": [
    {
     "name": "stdout",
     "output_type": "stream",
     "text": [
      "From column to row\n",
      "x = \n",
      " 1\n",
      " 2\n",
      " 3\n",
      "y = \n",
      " 0  0  0\n",
      "After copying:\n",
      "y = \n",
      " 1  2  3"
     ]
    }
   ],
   "source": [
    "x = [1, 2, 3]\n",
    "y = transpose(fill(0, 3))\n",
    "\n",
    "println( \"From column to row\")\n",
    "println(\"x = \")\n",
    "print_array(stdout, x)\n",
    "println(\"\\ny = \")\n",
    "print_array(stdout, y)\n",
    "\n",
    "copy!(x,y)\n",
    "println(\"\\nAfter copying:\")\n",
    "println(\"y = \")\n",
    "print_array(stdout, y)"
   ]
  },
  {
   "cell_type": "markdown",
   "metadata": {},
   "source": [
    "Now, let's see what happens if we try to do something like copying a row of the wrong length into a column.  <font color=\"red\"> Don't worry about the fact that you are getting error messages.  The whole point of the next few cells is to illustrate how errors are reported. </font>"
   ]
  },
  {
   "cell_type": "code",
   "execution_count": 41,
   "metadata": {},
   "outputs": [
    {
     "name": "stdout",
     "output_type": "stream",
     "text": [
      "-----SLAP_copy tests-----\n",
      "From row to row\n",
      "x = \n",
      " 1  2  3  4\n",
      "y = \n",
      " 0  0  0"
     ]
    },
    {
     "ename": "BoundsError",
     "evalue": "BoundsError: attempt to access 3-element Array{Int64,1} at index [4]",
     "output_type": "error",
     "traceback": [
      "BoundsError: attempt to access 3-element Array{Int64,1} at index [4]",
      "",
      "Stacktrace:",
      " [1] setindex! at ./array.jl:769 [inlined]",
      " [2] setindex! at /Users/osx/buildbot/slave/package_osx64/build/usr/share/julia/stdlib/v1.0/LinearAlgebra/src/adjtrans.jl:131 [inlined]",
      " [3] copy!(::Transpose{Int64,Array{Int64,1}}, ::Transpose{Int64,Array{Int64,1}}) at ./In[14]:8",
      " [4] top-level scope at In[41]:11"
     ]
    }
   ],
   "source": [
    "println(\"-----SLAP_copy tests-----\")\n",
    "\n",
    "x = transpose([1, 2, 3, 4])\n",
    "y = transpose(fill(0, 3))\n",
    "println(\"From row to row\")\n",
    "\n",
    "println(\"x = \")\n",
    "print_array(stdout, x)\n",
    "println(\"\\ny = \")\n",
    "print_array(stdout, y)\n",
    "\n",
    "copy!(x,y)\n",
    "println(\"\\nAfter copying:\")\n",
    "println(\"y = \")\n",
    "print_array(stdout, y)"
   ]
  },
  {
   "cell_type": "code",
   "execution_count": 42,
   "metadata": {},
   "outputs": [
    {
     "name": "stdout",
     "output_type": "stream",
     "text": [
      "-----SLAP_copy tests-----\n",
      "From column to column\n",
      "x = \n",
      " 1\n",
      " 2\n",
      " 3\n",
      " 4\n",
      "y = \n",
      " 0\n",
      " 0\n",
      " 0"
     ]
    },
    {
     "ename": "BoundsError",
     "evalue": "BoundsError: attempt to access 3-element Array{Int64,1} at index [4]",
     "output_type": "error",
     "traceback": [
      "BoundsError: attempt to access 3-element Array{Int64,1} at index [4]",
      "",
      "Stacktrace:",
      " [1] setindex! at ./array.jl:769 [inlined]",
      " [2] copy!(::Array{Int64,1}, ::Array{Int64,1}) at ./In[14]:8",
      " [3] top-level scope at In[42]:11"
     ]
    }
   ],
   "source": [
    "println(\"-----SLAP_copy tests-----\")\n",
    "\n",
    "x = [1, 2, 3, 4]\n",
    "y = fill(0, 3)\n",
    "println(\"From column to column\")\n",
    "\n",
    "println(\"x = \")\n",
    "print_array(stdout, x)\n",
    "println(\"\\ny = \")\n",
    "print_array(stdout, y)\n",
    "\n",
    "copy!(x,y)\n",
    "println(\"\\nAfter copying:\")\n",
    "println(\"y = \")\n",
    "print_array(stdout, y) "
   ]
  },
  {
   "cell_type": "code",
   "execution_count": 43,
   "metadata": {},
   "outputs": [
    {
     "name": "stdout",
     "output_type": "stream",
     "text": [
      "-----SLAP_copy tests-----\n",
      "From row to column\n",
      "x = \n",
      " 1  2  3  4\n",
      "y = \n",
      " 0\n",
      " 0\n",
      " 0"
     ]
    },
    {
     "ename": "BoundsError",
     "evalue": "BoundsError: attempt to access 3-element Array{Int64,1} at index [4]",
     "output_type": "error",
     "traceback": [
      "BoundsError: attempt to access 3-element Array{Int64,1} at index [4]",
      "",
      "Stacktrace:",
      " [1] setindex! at ./array.jl:769 [inlined]",
      " [2] copy!(::Transpose{Int64,Array{Int64,1}}, ::Array{Int64,1}) at ./In[14]:8",
      " [3] top-level scope at In[43]:11"
     ]
    }
   ],
   "source": [
    "println(\"-----SLAP_copy tests-----\")\n",
    "\n",
    "x = transpose([1, 2, 3, 4])\n",
    "y = fill(0, 3)\n",
    "\n",
    "println( \"From row to column\")\n",
    "println(\"x = \")\n",
    "print_array(stdout, x)\n",
    "println(\"\\ny = \")\n",
    "print_array(stdout, y)\n",
    "\n",
    "copy!(x,y)\n",
    "println(\"\\nAfter copying:\")\n",
    "println(\"y = \")\n",
    "print_array(stdout, y)"
   ]
  },
  {
   "cell_type": "code",
   "execution_count": 44,
   "metadata": {},
   "outputs": [
    {
     "name": "stdout",
     "output_type": "stream",
     "text": [
      "-----SLAP_copy tests-----\n",
      "From column to row\n",
      "x = \n",
      " 1\n",
      " 2\n",
      " 3\n",
      " 4\n",
      "y = \n",
      " 0  0  0"
     ]
    },
    {
     "ename": "BoundsError",
     "evalue": "BoundsError: attempt to access 3-element Array{Int64,1} at index [4]",
     "output_type": "error",
     "traceback": [
      "BoundsError: attempt to access 3-element Array{Int64,1} at index [4]",
      "",
      "Stacktrace:",
      " [1] setindex! at ./array.jl:769 [inlined]",
      " [2] setindex! at /Users/osx/buildbot/slave/package_osx64/build/usr/share/julia/stdlib/v1.0/LinearAlgebra/src/adjtrans.jl:131 [inlined]",
      " [3] copy!(::Array{Int64,1}, ::Transpose{Int64,Array{Int64,1}}) at ./In[14]:8",
      " [4] top-level scope at In[44]:11"
     ]
    }
   ],
   "source": [
    "println(\"-----SLAP_copy tests-----\")\n",
    "\n",
    "x = [1, 2, 3, 4]\n",
    "y = transpose(fill(0, 3))\n",
    "\n",
    "println( \"From column to row\")\n",
    "println(\"x = \")\n",
    "print_array(stdout, x)\n",
    "println(\"\\ny = \")\n",
    "print_array(stdout, y)\n",
    "\n",
    "copy!(x,y)\n",
    "println(\"\\nAfter copying:\")\n",
    "println(\"y = \")\n",
    "print_array(stdout, y)"
   ]
  },
  {
   "cell_type": "markdown",
   "metadata": {},
   "source": [
    "Finally, let's see if we can copies rows and/or columns in matrices\n"
   ]
  },
  {
   "cell_type": "code",
   "execution_count": 45,
   "metadata": {},
   "outputs": [
    {
     "name": "stdout",
     "output_type": "stream",
     "text": [
      "-----SLAP_copy tests-----\n",
      "From row to row\n",
      "A = \n",
      " 1   2   3   4\n",
      " 5   6   7   8\n",
      " 9  10  11  12\n",
      "B = \n",
      " 0  0  0  0\n",
      " 0  0  0  0\n",
      " 0  0  0  0\n",
      "After copying:\n",
      "B = \n",
      " 0  0  0  0\n",
      " 0  0  0  0\n",
      " 0  0  0  0"
     ]
    }
   ],
   "source": [
    "println(\"-----SLAP_copy tests-----\")\n",
    "\n",
    "A = [1  2  3  4\n",
    "     5  6  7  8\n",
    "     9 10 11 12 ]\n",
    "B = fill(0, (3, 4))\n",
    "\n",
    "println(\"From row to row\")\n",
    "println(\"A = \")\n",
    "print_array(stdout, A)\n",
    "println(\"\\nB = \")\n",
    "print_array(stdout, B)\n",
    "\n",
    "copy!(A[2,:],B[1,:])\n",
    "println(\"\\nAfter copying:\")\n",
    "println(\"B = \")\n",
    "print_array(stdout, B)"
   ]
  },
  {
   "cell_type": "code",
   "execution_count": 61,
   "metadata": {},
   "outputs": [
    {
     "name": "stdout",
     "output_type": "stream",
     "text": [
      "-----SLAP_copy tests-----\n",
      "From column to column\n",
      "A = \n",
      " 1   2   3   4\n",
      " 5   6   7   8\n",
      " 9  10  11  12\n",
      "B = \n",
      " 0  0  0  0\n",
      " 0  0  0  0\n",
      " 0  0  0  0\n",
      "After copying:\n",
      "B = \n",
      " 0  0  0  0\n",
      " 0  0  0  0\n",
      " 0  0  0  0"
     ]
    }
   ],
   "source": [
    "println(\"-----SLAP_copy tests-----\")\n",
    "\n",
    "A = [1  2  3  4\n",
    "     5  6  7  8\n",
    "     9 10 11 12 ]\n",
    "B = fill(0, (3, 4))\n",
    "\n",
    "println(\"From column to column\")\n",
    "println(\"A = \")\n",
    "print_array(stdout, A)\n",
    "println(\"\\nB = \")\n",
    "print_array(stdout, B)\n",
    "\n",
    "copy!(A[:, 1],B[:, 2])\n",
    "println(\"\\nAfter copying:\")\n",
    "println(\"B = \")\n",
    "print_array(stdout, B)"
   ]
  },
  {
   "cell_type": "markdown",
   "metadata": {},
   "source": [
    "**We aren't getting any error messages, but `B` didn't change in either of the two examples above! Why is that?**\n",
    "\n",
    "Consider the following examples.\n",
    "\n",
    "We've already seen that when we run `y = x`, we don't truly copy `x` into `y`:"
   ]
  },
  {
   "cell_type": "code",
   "execution_count": 68,
   "metadata": {},
   "outputs": [
    {
     "name": "stdout",
     "output_type": "stream",
     "text": [
      "y = [1, 2, 3, 4]\n",
      "x = [999, 2, 3, 4]\n",
      "y = [999, 2, 3, 4]\n"
     ]
    },
    {
     "data": {
      "text/plain": [
       "4-element Array{Int64,1}:\n",
       " 999\n",
       "   2\n",
       "   3\n",
       "   4"
      ]
     },
     "execution_count": 68,
     "metadata": {},
     "output_type": "execute_result"
    }
   ],
   "source": [
    "x = [1, 2, 3, 4]\n",
    "y = x\n",
    "@show y\n",
    "x[1] = 999\n",
    "@show x\n",
    "@show y"
   ]
  },
  {
   "cell_type": "markdown",
   "metadata": {},
   "source": [
    "Consider this new example, where we assign `y`, to a slice of `x` instead of `x` itself."
   ]
  },
  {
   "cell_type": "code",
   "execution_count": 70,
   "metadata": {},
   "outputs": [
    {
     "name": "stdout",
     "output_type": "stream",
     "text": [
      "y = [1, 2, 3]\n",
      "x = [999, 2, 3, 4]\n",
      "y = [1, 2, 3]\n"
     ]
    }
   ],
   "source": [
    "x = [1, 2, 3, 4]\n",
    "y = x[1:3]\n",
    "@show y\n",
    "x[1] = 999\n",
    "@show x\n",
    "@show y;"
   ]
  },
  {
   "cell_type": "markdown",
   "metadata": {},
   "source": [
    "In this case, updating `x` did not update `y`!\n",
    "\n",
    "When we assign a slice of `x` to `y`, we *actually* copy that slice, rather than simply giving a `view` of the array.\n",
    "\n",
    "Look how this changes when we use the `@views` command!"
   ]
  },
  {
   "cell_type": "code",
   "execution_count": 71,
   "metadata": {},
   "outputs": [
    {
     "name": "stdout",
     "output_type": "stream",
     "text": [
      "y = [1, 2, 3]\n",
      "x = [999, 2, 3, 4]\n",
      "y = [999, 2, 3]\n"
     ]
    }
   ],
   "source": [
    "x = [1, 2, 3, 4]\n",
    "@views y = x[1:3]\n",
    "@show y\n",
    "x[1] = 999\n",
    "@show x\n",
    "@show y;"
   ]
  },
  {
   "cell_type": "markdown",
   "metadata": {},
   "source": [
    "Similarly, when we try to copy a column of `A` into `B` via\n",
    "\n",
    "```julia\n",
    "copy!(A[:, 1],B[:, 2])\n",
    "```\n",
    "\n",
    "we're not really passing columns of `A` and `B` to `copy!`. Instead, we're passing *copies of those columns* to `A` and `B`, so the `copy!` function isn't able to update `B` itself.\n",
    "\n",
    "As with the above example, we can fix this using `@views`."
   ]
  },
  {
   "cell_type": "markdown",
   "metadata": {},
   "source": [
    "**How to copy between rows and columns of matrices**"
   ]
  },
  {
   "cell_type": "code",
   "execution_count": 48,
   "metadata": {},
   "outputs": [
    {
     "name": "stdout",
     "output_type": "stream",
     "text": [
      "-----SLAP_copy tests-----\n",
      "From row to row\n",
      "A = \n",
      " 1   2   3   4\n",
      " 5   6   7   8\n",
      " 9  10  11  12\n",
      "B = \n",
      " 0  0  0  0\n",
      " 0  0  0  0\n",
      " 0  0  0  0\n",
      "After copying:\n",
      "B = \n",
      " 5  6  7  8\n",
      " 0  0  0  0\n",
      " 0  0  0  0"
     ]
    }
   ],
   "source": [
    "println(\"-----SLAP_copy tests-----\")\n",
    "\n",
    "A = [1  2  3  4\n",
    "     5  6  7  8\n",
    "     9 10 11 12 ]\n",
    "B = fill(0, (3, 4))\n",
    "\n",
    "println(\"From row to row\")\n",
    "println(\"A = \")\n",
    "print_array(stdout, A)\n",
    "println(\"\\nB = \")\n",
    "print_array(stdout, B)\n",
    "\n",
    "@views copy!(A[2,:],B[1,:])\n",
    "println(\"\\nAfter copying:\")\n",
    "println(\"B = \")\n",
    "print_array(stdout, B)"
   ]
  },
  {
   "cell_type": "code",
   "execution_count": 50,
   "metadata": {},
   "outputs": [
    {
     "name": "stdout",
     "output_type": "stream",
     "text": [
      "-----SLAP_copy tests-----\n",
      "From column to column\n",
      "A = \n",
      " 1   2   3   4\n",
      " 5   6   7   8\n",
      " 9  10  11  12\n",
      "B = \n",
      " 0  0  0  0\n",
      " 0  0  0  0\n",
      " 0  0  0  0\n",
      "After copying:\n",
      "B = \n",
      " 0  1  0  0\n",
      " 0  5  0  0\n",
      " 0  9  0  0"
     ]
    }
   ],
   "source": [
    "println(\"-----SLAP_copy tests-----\")\n",
    "\n",
    "A = [1  2  3  4\n",
    "     5  6  7  8\n",
    "     9 10 11 12 ]\n",
    "B = fill(0, (3, 4))\n",
    "\n",
    "println(\"From column to column\")\n",
    "println(\"A = \")\n",
    "print_array(stdout, A)\n",
    "println(\"\\nB = \")\n",
    "print_array(stdout, B)\n",
    "\n",
    "@views copy!(A[:, 1],B[:, 2])\n",
    "println(\"\\nAfter copying:\")\n",
    "println(\"B = \")\n",
    "print_array(stdout, B)"
   ]
  },
  {
   "cell_type": "markdown",
   "metadata": {},
   "source": [
    "## Copying rows and columns of matrices"
   ]
  },
  {
   "cell_type": "markdown",
   "metadata": {},
   "source": [
    "We haven't discussed matrices yet.  For now, just think of them as two dimensional arrays of numbers.  We illustrate how our general copy routine can copy rows to columns, columns to columns, and so forth."
   ]
  },
  {
   "cell_type": "code",
   "execution_count": 52,
   "metadata": {},
   "outputs": [
    {
     "name": "stdout",
     "output_type": "stream",
     "text": [
      "-----SLAP_copy tests-----\n",
      "From row to column\n",
      "A = \n",
      " 1   2   3   4\n",
      " 5   6   7   8\n",
      " 9  10  11  12\n",
      "B = \n",
      " 0  0  0\n",
      " 0  0  0\n",
      " 0  0  0\n",
      " 0  0  0\n",
      "After copying:\n",
      "B = \n",
      " 5  0  0\n",
      " 6  0  0\n",
      " 7  0  0\n",
      " 8  0  0"
     ]
    }
   ],
   "source": [
    "println(\"-----SLAP_copy tests-----\")\n",
    "\n",
    "A = [1  2  3  4\n",
    "     5  6  7  8\n",
    "     9 10 11 12 ]\n",
    "B = fill(0, (4, 3))\n",
    "\n",
    "println(\"From row to column\")\n",
    "println(\"A = \")\n",
    "print_array(stdout, A)\n",
    "println(\"\\nB = \")\n",
    "print_array(stdout, B)\n",
    "\n",
    "@views copy!(A[2, :],B[:, 1])\n",
    "println(\"\\nAfter copying:\")\n",
    "println(\"B = \")\n",
    "print_array(stdout, B)"
   ]
  },
  {
   "cell_type": "code",
   "execution_count": 53,
   "metadata": {},
   "outputs": [
    {
     "name": "stdout",
     "output_type": "stream",
     "text": [
      "-----SLAP_copy tests-----\n",
      "From column to row\n",
      "A = \n",
      " 1   2   3   4\n",
      " 5   6   7   8\n",
      " 9  10  11  12\n",
      "B = \n",
      " 0  0  0\n",
      " 0  0  0\n",
      " 0  0  0\n",
      " 0  0  0\n",
      "After copying:\n",
      "B = \n",
      " 2  6  10\n",
      " 0  0   0\n",
      " 0  0   0\n",
      " 0  0   0"
     ]
    }
   ],
   "source": [
    "println(\"-----SLAP_copy tests-----\")\n",
    "\n",
    "A = [1  2  3  4\n",
    "     5  6  7  8\n",
    "     9 10 11 12 ]\n",
    "B = fill(0, (4, 3))\n",
    "\n",
    "println(\"From column to row\")\n",
    "println(\"A = \")\n",
    "print_array(stdout, A)\n",
    "println(\"\\nB = \")\n",
    "print_array(stdout, B)\n",
    "\n",
    "@views copy!(A[:, 2],B[1, :])\n",
    "println(\"\\nAfter copying:\")\n",
    "println(\"B = \")\n",
    "print_array(stdout, B)"
   ]
  },
  {
   "cell_type": "markdown",
   "metadata": {},
   "source": [
    "## The laff library <code> copy </code> routine"
   ]
  },
  {
   "cell_type": "markdown",
   "metadata": {},
   "source": [
    "The above routine is part of a library routine as part of the `laff` library.  To use it you will have to execute\n",
    "\n",
    "```julia\n",
    "include(\"../laff/laff.jl\")\n",
    "using .laff\n",
    "```\n",
    "\n",
    "after which you can use the routine by calling\n",
    "\n",
    "```julia\n",
    "laff.copy!( x, y )\n",
    "```"
   ]
  },
  {
   "cell_type": "code",
   "execution_count": 72,
   "metadata": {},
   "outputs": [
    {
     "name": "stdout",
     "output_type": "stream",
     "text": [
      "x = \n",
      " 1\n",
      " 2\n",
      " 3\n",
      "y = \n",
      " 1\n",
      " 2\n",
      " 3"
     ]
    },
    {
     "name": "stderr",
     "output_type": "stream",
     "text": [
      "WARNING: replacing module laff.\n"
     ]
    }
   ],
   "source": [
    "include(\"../laff/laff.jl\")\n",
    "using .laff\n",
    "\n",
    "x = [1, 2, 3]\n",
    "y = [-1, 0, 2]\n",
    "\n",
    "laff.copy!( x, y )\n",
    "\n",
    "println(\"x = \")\n",
    "print_array(stdout, x)\n",
    "\n",
    "println(\"\\ny = \")\n",
    "print_array(stdout, y)"
   ]
  },
  {
   "cell_type": "markdown",
   "metadata": {},
   "source": [
    "<font color=\"red\"> That's all!  Next, you will get to practice writing some code.  But don't panic: we'll get you through it. </font>"
   ]
  },
  {
   "cell_type": "code",
   "execution_count": null,
   "metadata": {},
   "outputs": [],
   "source": []
  }
 ],
 "metadata": {
  "kernelspec": {
   "display_name": "Julia 1.0.1",
   "language": "julia",
   "name": "julia-1.0"
  },
  "language_info": {
   "file_extension": ".jl",
   "mimetype": "application/julia",
   "name": "julia",
   "version": "1.0.1"
  }
 },
 "nbformat": 4,
 "nbformat_minor": 1
}
