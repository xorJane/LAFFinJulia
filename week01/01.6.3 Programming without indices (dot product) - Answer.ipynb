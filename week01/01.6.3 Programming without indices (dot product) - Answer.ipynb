{
 "cells": [
  {
   "cell_type": "markdown",
   "metadata": {},
   "source": [
    "## Programming without indices (dot product)"
   ]
  },
  {
   "cell_type": "markdown",
   "metadata": {},
   "source": [
    "### Preliminaries"
   ]
  },
  {
   "cell_type": "markdown",
   "metadata": {},
   "source": [
    "<p><font color=red> Again, copy this notebook so that you don't corrupt the original!  Then you can \"play\" with the copy of the notebook all you want! </font> </p>\n",
    "\n",
    "<p>In this notebook, we show how the FLAME notation (the notation in which vectors and/or matrices are partitioned into regions) can be leveraged to implement linear algebra operations without using indices (which are the root of all evil in programming...).</p>"
   ]
  },
  {
   "cell_type": "markdown",
   "metadata": {},
   "source": [
    "Let's start by creating vectors $ x = \\left( \\begin{array}{r} 1 \\\\ 2 \\\\ 3 \\end{array} \\right) $ and $ y = \\left( \\begin{array}{r} -1 \\\\ 0 \\\\ -2 \\end{array} \\right) $.\n",
    "\n",
    "Execute the code in the box by clicking in the box and then on \"Cell -> Run\".  Alternative, click on the box and push \"Shift\" and \"Return\" (or \"Enter\") together."
   ]
  },
  {
   "cell_type": "code",
   "execution_count": 1,
   "metadata": {},
   "outputs": [
    {
     "name": "stdout",
     "output_type": "stream",
     "text": [
      "x = [1, 2, 3]\n",
      "y = [-1, 0, -2]\n",
      "α = 2.5\n"
     ]
    }
   ],
   "source": [
    "# create two column vectors x and y.  \n",
    "x = [1, 2, 3]\n",
    "@show x\n",
    "\n",
    "y = [-1, 0, -2]\n",
    "@show y\n",
    "\n",
    "α = 2.5\n",
    "@show α;"
   ]
  },
  {
   "cell_type": "markdown",
   "metadata": {},
   "source": [
    "### Dot as a simple routine"
   ]
  },
  {
   "cell_type": "markdown",
   "metadata": {},
   "source": [
    "<p>\n",
    "Here is a simple routine for computing $ {\\rm dot}( x, y ) = x^T y $:\n",
    "</p>"
   ]
  },
  {
   "cell_type": "code",
   "execution_count": 2,
   "metadata": {},
   "outputs": [
    {
     "data": {
      "text/plain": [
       "dot (generic function with 1 method)"
      ]
     },
     "execution_count": 2,
     "metadata": {},
     "output_type": "execute_result"
    }
   ],
   "source": [
    "function dot( x, y )\n",
    "    m = length(x)\n",
    "    alpha = 0.0\n",
    "    \n",
    "    for i in 1:m\n",
    "        alpha = x[ i ] * y[ i ] + alpha\n",
    "    end\n",
    "    \n",
    "    return alpha\n",
    "end"
   ]
  },
  {
   "cell_type": "markdown",
   "metadata": {},
   "source": [
    "Be sure the run the above box, or this notebook won't know about the routine!!!"
   ]
  },
  {
   "cell_type": "markdown",
   "metadata": {},
   "source": [
    "Now, execute"
   ]
  },
  {
   "cell_type": "code",
   "execution_count": 3,
   "metadata": {},
   "outputs": [
    {
     "name": "stdout",
     "output_type": "stream",
     "text": [
      "α = -7.0\n",
      "compare alpha to  transpose(x) * y:\n",
      "0.0"
     ]
    }
   ],
   "source": [
    "α = 0.\n",
    "\n",
    "α = dot( x, y )\n",
    "\n",
    "@show α\n",
    "\n",
    "println( \"compare alpha to  transpose(x) * y:\" )\n",
    "α_reference = transpose(x) * y\n",
    "\n",
    "print( α - α_reference  )"
   ]
  },
  {
   "cell_type": "markdown",
   "metadata": {},
   "source": [
    "### An implementation with the FLAMEPy Application Programming Interface (API)"
   ]
  },
  {
   "cell_type": "markdown",
   "metadata": {},
   "source": [
    "We now show how to implement this same routine using the FLAMEPy API.\n",
    "\n",
    "Start by visiting the <a href=\"https://studio.edx.org/c4x/UTAustinX/UT.5.01x/asset/index.html\"> Spark webpage</a>.  Follow along with the video and paste the resulting code below.  Then follow along with the video and add the appropriate commands. (You may even want to bookmark this page).\n",
    "\n",
    "Here is the algorithm as presented in Unit 1.6.2.  \n",
    "<img src=\"https://studio.edge.edx.org/c4x/UTX/UT.5.01x/asset/FLAMEDot_alg.png\" alt=\"some_text\">\n",
    "\n",
    "In the video for Unit 1.6.3, we discuss how to translate this into Python code using the FLAMEPy API.  Follow these instructions, insert the resulting code below."
   ]
  },
  {
   "cell_type": "code",
   "execution_count": 9,
   "metadata": {},
   "outputs": [
    {
     "name": "stderr",
     "output_type": "stream",
     "text": [
      "WARNING: replacing module laff.\n",
      "WARNING: replacing module flame.\n"
     ]
    },
    {
     "data": {
      "text/plain": [
       "dot_unb (generic function with 1 method)"
      ]
     },
     "execution_count": 9,
     "metadata": {},
     "output_type": "execute_result"
    }
   ],
   "source": [
    "# Programmed by: Name of author\n",
    "#                Email of author\n",
    "\n",
    "include(\"../laff/laff.jl\")\n",
    "include(\"../flame.jl\")\n",
    "using .laff\n",
    "using .flame\n",
    "\n",
    "function dot_unb(x, y, alpha)\n",
    "\n",
    "    xT, xB  = flame.part_2x1(x, 0, \"TOP\")\n",
    "\n",
    "    yT, yB  = flame.part_2x1(y, 0, \"TOP\")\n",
    "\n",
    "    alpha = 0.0\n",
    "\n",
    "    while size(xT)[1] < size(x)[1]\n",
    "\n",
    "        x0, chi1, x2    = flame.repart_2x1_to_3x1(xT, xB, 1, \"BOTTOM\")\n",
    "\n",
    "        y0, psi1, y2    = flame.repart_2x1_to_3x1(yT, yB, 1, \"BOTTOM\")\n",
    "\n",
    "        #------------------------------------------------------------#\n",
    "\n",
    "        # Here chi1 and psi1 are matrices, but alpha is a Number\n",
    "        # We probably either want alpha to be a matrix or chi1 and psi1\n",
    "        # to also be Numbers\n",
    "        alpha = (chi1 .* psi1)[1] + alpha\n",
    "\n",
    "        #------------------------------------------------------------#\n",
    "\n",
    "        xT, xB  = flame.cont_with_3x1_to_2x1(x0, chi1, x2, \"TOP\")\n",
    "\n",
    "        yT, yB  = flame.cont_with_3x1_to_2x1(y0, psi1, y2, \"TOP\")\n",
    "    end\n",
    "    return alpha\n",
    "end"
   ]
  },
  {
   "cell_type": "code",
   "execution_count": 10,
   "metadata": {},
   "outputs": [
    {
     "name": "stdout",
     "output_type": "stream",
     "text": [
      "alpha\n",
      "-7.0\n",
      "compare alpha to  np.transpose(x) * y:\n",
      "0.0\n"
     ]
    },
    {
     "name": "stderr",
     "output_type": "stream",
     "text": [
      "WARNING: replacing module laff.\n"
     ]
    }
   ],
   "source": [
    "include(\"../laff/laff.jl\")\n",
    "using .laff\n",
    "\n",
    "alpha = -2.0\n",
    "\n",
    "alpha = dot_unb( x, y, alpha )\n",
    "\n",
    "println( \"alpha\" )\n",
    "println( alpha )\n",
    "\n",
    "println( \"compare alpha to  np.transpose(x) * y:\" )\n",
    "alpha_reference = transpose(x) * y\n",
    "\n",
    "println( alpha - alpha_reference  )"
   ]
  },
  {
   "cell_type": "markdown",
   "metadata": {},
   "source": [
    "The output should be:\n",
    "<code>\n",
    "alpha\n",
    "-7.0\n",
    "compare alpha to  np.transpose(x) * y:\n",
    "0.0\n",
    "</code>"
   ]
  }
 ],
 "metadata": {
  "kernelspec": {
   "display_name": "Julia 1.0.1",
   "language": "julia",
   "name": "julia-1.0"
  },
  "language_info": {
   "file_extension": ".jl",
   "mimetype": "application/julia",
   "name": "julia",
   "version": "1.0.1"
  }
 },
 "nbformat": 4,
 "nbformat_minor": 1
}
