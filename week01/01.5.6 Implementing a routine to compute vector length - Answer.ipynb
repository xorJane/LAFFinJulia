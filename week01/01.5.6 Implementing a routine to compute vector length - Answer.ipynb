{
 "cells": [
  {
   "cell_type": "markdown",
   "metadata": {},
   "source": [
    "## Implementing a routine to compute vector length"
   ]
  },
  {
   "cell_type": "markdown",
   "metadata": {},
   "source": [
    "### Preliminaries"
   ]
  },
  {
   "cell_type": "markdown",
   "metadata": {},
   "source": [
    "<p><font color=red> Again, copy this notebook so that you don't corrupt the original!  Then you can \"play\" with the copy of the notebook all you want! </font> </p>\n",
    "\n",
    "<p>\n",
    "<b>\n",
    "NOTE: A common problem that students have with Jupyter notebooks is not understanding that when the code in the gray boxes (cells) is executed, it assigns variables that persist the whole time that the notebook is open. Further, some cells rely on variables assigned by earlier cells.  If you execute these cells out of order, or if you execute the same cell twice, then you may end up changing the value of the variables.  To correct this, click on \"Cell\" at the top and execute \"run all above\" or \"run all\".  You can also reset all cells by clicking \"Cell -> All Output -> Clear\"\n",
    "</b>\n",
    "</p>\n",
    "\n",
    "<p>In this notebook, we show how to write a routine to compute vector length. </p>"
   ]
  },
  {
   "cell_type": "markdown",
   "metadata": {},
   "source": [
    "Let's start by creating a vector $ x = \\left( \\begin{array}{r} 1 \\\\ 2 \\\\ 3 \\end{array} \\right) $.\n",
    "\n",
    "Execute the code in the box by clicking in the box and then on \"Cell -> Run\".  Alternative, click on the box and push \"Shift\" and \"Return\" (or \"Enter\") together."
   ]
  },
  {
   "cell_type": "code",
   "execution_count": 1,
   "metadata": {},
   "outputs": [
    {
     "name": "stdout",
     "output_type": "stream",
     "text": [
      "x = [1, 2, 3]\n"
     ]
    }
   ],
   "source": [
    "# create a column vector x. \n",
    "x = [1, 2, 3]\n",
    "@show x;"
   ]
  },
  {
   "cell_type": "markdown",
   "metadata": {},
   "source": [
    "Now, recall that the length of a vector equals $ \\| x \\|_2 = \\sqrt{ x^T x } $.  So, we can use the dot product routine that we wrote before to compute the length:"
   ]
  },
  {
   "cell_type": "code",
   "execution_count": 34,
   "metadata": {},
   "outputs": [
    {
     "name": "stderr",
     "output_type": "stream",
     "text": [
      "WARNING: replacing module laff.\n"
     ]
    }
   ],
   "source": [
    "include(\"../laff/laff.jl\")\n",
    "using .laff"
   ]
  },
  {
   "cell_type": "code",
   "execution_count": 35,
   "metadata": {},
   "outputs": [
    {
     "name": "stdout",
     "output_type": "stream",
     "text": [
      "length_x = 3.7416573867739413\n"
     ]
    }
   ],
   "source": [
    "length_x = sqrt( laff.dot( x, x ) )\n",
    "\n",
    "@show length_x;"
   ]
  },
  {
   "cell_type": "markdown",
   "metadata": {},
   "source": [
    "### Length as a simple routine"
   ]
  },
  {
   "cell_type": "markdown",
   "metadata": {},
   "source": [
    "<p>\n",
    "As before, it is preferable to create a routine that computes the length.\n",
    "</p>\n",
    "\n",
    "<p>\n",
    "Complete the following routine to implement this:\n",
    "</p>"
   ]
  },
  {
   "cell_type": "code",
   "execution_count": 41,
   "metadata": {},
   "outputs": [
    {
     "data": {
      "text/plain": [
       "length (generic function with 1 method)"
      ]
     },
     "execution_count": 41,
     "metadata": {},
     "output_type": "execute_result"
    }
   ],
   "source": [
    "function length( x )\n",
    "    return sqrt( laff.dot( x, x ) )\n",
    "end"
   ]
  },
  {
   "cell_type": "markdown",
   "metadata": {},
   "source": [
    "Be sure the run the above box, or this notebook won't know about the routine!!!"
   ]
  },
  {
   "cell_type": "markdown",
   "metadata": {},
   "source": [
    "Now, if you execute"
   ]
  },
  {
   "cell_type": "code",
   "execution_count": 45,
   "metadata": {},
   "outputs": [
    {
     "name": "stdout",
     "output_type": "stream",
     "text": [
      "length_x:\n",
      "3.7416573867739413\n",
      "difference between length_x and sqrt( laff.dot( x, x ) ):\n",
      "0.0\n"
     ]
    }
   ],
   "source": [
    "length_x = length( x )\n",
    "\n",
    "println( \"length_x:\" )\n",
    "println( length_x )\n",
    "\n",
    "println( \"difference between length_x and sqrt( laff.dot( x, x ) ):\" )\n",
    "println( length_x - sqrt( laff.dot( x, x ) ) )"
   ]
  },
  {
   "cell_type": "markdown",
   "metadata": {},
   "source": [
    "The result should be:\n",
    "\n",
    "<code>\n",
    "length_x:\n",
    "3.7416573867739413\n",
    "difference between length_x and sqrt( laff.dot( x, x ) ):\n",
    "0.0\n",
    "</code>"
   ]
  },
  {
   "cell_type": "markdown",
   "metadata": {},
   "source": [
    "### A complete length function as part of the LAFF library"
   ]
  },
  {
   "cell_type": "markdown",
   "metadata": {},
   "source": [
    "Note that your implementation of `length` will already work on column and row (transposed column) vectors."
   ]
  },
  {
   "cell_type": "code",
   "execution_count": 46,
   "metadata": {},
   "outputs": [],
   "source": [
    "import Base.print_array"
   ]
  },
  {
   "cell_type": "code",
   "execution_count": 47,
   "metadata": {},
   "outputs": [
    {
     "name": "stdout",
     "output_type": "stream",
     "text": [
      "x is a row vector\n",
      "x = \n",
      " 1  2  3\n",
      "length_x = \n",
      "3.7416573867739413\n"
     ]
    }
   ],
   "source": [
    "x = transpose([1, 2, 3])\n",
    "\n",
    "println(\"x is a row vector\")\n",
    "println(\"x = \")\n",
    "print_array(stdout, x)\n",
    "\n",
    "length_x = length(x)\n",
    "println(\"\\nlength_x = \")\n",
    "println(length_x)"
   ]
  },
  {
   "cell_type": "markdown",
   "metadata": {},
   "source": [
    "A routine similar to what you've written for this exercise is part of the 'laff' library.  If you do\n",
    "\n",
    "```julia\n",
    "include(\"../laff/laff.jl\")\n",
    "using .laff\n",
    "```\n",
    "then <code> laff.norm2( x ) </code> will perform the desired computation of the length of $ x $, when <code> x </code> is a column and/or a row vectors.  If you really want to see what this routine looks like, then ask for it on the discussion forum and we'll point you to where it can be found."
   ]
  },
  {
   "cell_type": "code",
   "execution_count": 57,
   "metadata": {},
   "outputs": [
    {
     "name": "stderr",
     "output_type": "stream",
     "text": [
      "WARNING: replacing module laff.\n"
     ]
    }
   ],
   "source": [
    "include(\"../laff/laff.jl\")\n",
    "using .laff"
   ]
  },
  {
   "cell_type": "code",
   "execution_count": 58,
   "metadata": {},
   "outputs": [
    {
     "name": "stdout",
     "output_type": "stream",
     "text": [
      "length_x:\n",
      "3.741657386773941\n",
      "difference between length_x and sqrt( laff.dot( x, x ) ):\n",
      "-4.440892098500626e-16\n"
     ]
    }
   ],
   "source": [
    "length_x = laff.norm2( x )\n",
    "\n",
    "println( \"length_x:\" )\n",
    "println( length_x )\n",
    "\n",
    "println( \"difference between length_x and sqrt( laff.dot( x, x ) ):\" )\n",
    "println( length_x - sqrt( laff.dot( x, x ) ) )"
   ]
  },
  {
   "cell_type": "markdown",
   "metadata": {},
   "source": [
    "### Need a challenge?"
   ]
  },
  {
   "cell_type": "markdown",
   "metadata": {},
   "source": [
    "In \"1.7.3 Overflow and Underflow\", we discuss how computing the length with the dot product can inadvertently cause overflow or underflow.  Write a routine that avoids that"
   ]
  },
  {
   "cell_type": "code",
   "execution_count": null,
   "metadata": {},
   "outputs": [],
   "source": [
    "function length( x )\n",
    "    ### You fill in the rest!\n",
    "end"
   ]
  },
  {
   "cell_type": "code",
   "execution_count": null,
   "metadata": {},
   "outputs": [],
   "source": []
  }
 ],
 "metadata": {
  "kernelspec": {
   "display_name": "Julia 1.0.1",
   "language": "julia",
   "name": "julia-1.0"
  },
  "language_info": {
   "file_extension": ".jl",
   "mimetype": "application/julia",
   "name": "julia",
   "version": "1.0.1"
  }
 },
 "nbformat": 4,
 "nbformat_minor": 1
}
