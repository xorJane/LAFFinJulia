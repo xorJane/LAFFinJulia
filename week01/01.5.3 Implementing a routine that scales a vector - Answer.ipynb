{
 "cells": [
  {
   "cell_type": "markdown",
   "metadata": {},
   "source": [
    "# Implementing a routine that scales a vector"
   ]
  },
  {
   "cell_type": "markdown",
   "metadata": {},
   "source": [
    "### Preliminaries"
   ]
  },
  {
   "cell_type": "markdown",
   "metadata": {},
   "source": [
    "<p><font color=red> Again, copy this notebook so that you don't corrupt the original!  Then you can \"play\" with the copy of the notebook all you want! </font> </p>\n",
    "\n",
    "<p>\n",
    "<b>\n",
    "NOTE: A common problem that students have with Jupyter notebooks is not understanding that when the code in the gray boxes (cells) is executed, it assigns variables that persist the whole time that the notebook is open. Further, some cells rely on variables assigned by earlier cells.  If you execute these cells out of order, or if you execute the same cell twice, then you may end up changing the value of the variables.  To correct this, click on \"Cell\" at the top and execute \"run all above\" or \"run all\".  You can also reset all cells by clicking \"Cell -> All Output -> Clear\"\n",
    "</b>\n",
    "</p>\n",
    "\n",
    "<p>In this notebook, you are asked to write the loop that scales a vector.</p>"
   ]
  },
  {
   "cell_type": "markdown",
   "metadata": {},
   "source": [
    "Let's start by creating a vector $ x = \\left( \\begin{array}{r} 1 \\\\ 2 \\\\ 3 \\end{array} \\right) $ and a scalar $ \\alpha $.  \n",
    "\n",
    "Execute the code in the box by clicking in the box and then on \"Cell -> Run\".  Alternative, click on the box and push \"Shift\" and \"Return\" (or \"Enter\") together."
   ]
  },
  {
   "cell_type": "code",
   "execution_count": 2,
   "metadata": {},
   "outputs": [
    {
     "name": "stdout",
     "output_type": "stream",
     "text": [
      "x = [1, 2, 3]\n",
      "α = 2.5\n"
     ]
    }
   ],
   "source": [
    "x = [1, 2, 3]\n",
    "@show x\n",
    "\n",
    "α = 2.5\n",
    "@show α;"
   ]
  },
  {
   "cell_type": "markdown",
   "metadata": {},
   "source": [
    "As in notebook `01.5.2`, you can print the contents of an array, `x`, using\n",
    "\n",
    "```julia\n",
    "Base.printarray(stdout, x)\n",
    "```\n",
    "\n",
    "or simply\n",
    "\n",
    "```julia\n",
    "printarray(stdout, x)\n",
    "```\n",
    "\n",
    "after running `import Base.print_array`. Above we simply use `@show` because it is simple and terse, even if it doesn't make it immediately obvious that `x` is a column vector."
   ]
  },
  {
   "cell_type": "markdown",
   "metadata": {},
   "source": [
    "With Julia, you can simply multiply $α x$  to scale the vector, $ x $.  We will first make a copy of $ x $ so we can easily reset $ x $ to its original contents in the future.  For this, we will use the laff.copy routine."
   ]
  },
  {
   "cell_type": "code",
   "execution_count": 21,
   "metadata": {},
   "outputs": [
    {
     "name": "stdout",
     "output_type": "stream",
     "text": [
      "xold = [1, 2, 3]\n"
     ]
    },
    {
     "name": "stderr",
     "output_type": "stream",
     "text": [
      "WARNING: replacing module laff.\n"
     ]
    }
   ],
   "source": [
    "include(\"../laff/laff.jl\")\n",
    "using .laff\n",
    "\n",
    "xold = fill(0, length(x))\n",
    "\n",
    "laff.copy!( x, xold )\n",
    "\n",
    "@show xold;"
   ]
  },
  {
   "cell_type": "markdown",
   "metadata": {},
   "source": [
    "Now, let's scale $ x $:"
   ]
  },
  {
   "cell_type": "code",
   "execution_count": 9,
   "metadata": {},
   "outputs": [
    {
     "name": "stdout",
     "output_type": "stream",
     "text": [
      "x before scaling\n",
      "[1.0, 2.0, 3.0]\n",
      "x after scaling:\n",
      "[2.5, 5.0, 7.5]\n"
     ]
    }
   ],
   "source": [
    "laff.copy!(xold, x)\n",
    "\n",
    "println( \"x before scaling\")\n",
    "println( x )\n",
    "\n",
    "x = α * x\n",
    "\n",
    "println( \"x after scaling:\" )\n",
    "println( x )"
   ]
  },
  {
   "cell_type": "markdown",
   "metadata": {},
   "source": [
    "## Scaling with a loop"
   ]
  },
  {
   "cell_type": "markdown",
   "metadata": {},
   "source": [
    "Now, we want you to write a loop that scales the three entries in $ x $ by $ \\alpha $.  \n",
    "Recall that the loop for copying three entries of a vector $ x $ into a vector $ y $ was given by \n",
    "\n",
    "```julia\n",
    "for i in 1:3\n",
    "    y[ i ] = x[ i ] \n",
    "end\n",
    "```"
   ]
  },
  {
   "cell_type": "code",
   "execution_count": 13,
   "metadata": {},
   "outputs": [
    {
     "name": "stdout",
     "output_type": "stream",
     "text": [
      "x before scaling\n",
      "[1.0, 2.0, 3.0]\n",
      "x after scaling:\n",
      "[2.5, 5.0, 7.5]\n",
      "difference between result and α * xold:\n",
      "[0.0, 0.0, 0.0]\n"
     ]
    }
   ],
   "source": [
    "laff.copy!( xold, x )\n",
    "\n",
    "println( \"x before scaling\")\n",
    "println( x )\n",
    "\n",
    "for i in 1:3\n",
    "   x[i] = α * x[i] \n",
    "end\n",
    "\n",
    "println( \"x after scaling:\" )\n",
    "println( x )\n",
    "\n",
    "println( \"difference between result and α * xold:\" )\n",
    "println( x - α * xold )"
   ]
  },
  {
   "cell_type": "markdown",
   "metadata": {},
   "source": [
    "### Scaling as a simple routine"
   ]
  },
  {
   "cell_type": "markdown",
   "metadata": {},
   "source": [
    "Writing the \"for loop\" every time you want to scale a vector is cumbersome.  Obviously, you can do \"<code> x = α * x </code>\", but the point of this exercise is for you to write your own routine.  For this reason, you are going to write a routine, `scal( α, x )`, that scales the contents of vector `x` by the value of scalar `α`.  \n",
    "\n",
    "Recall, here is what it means to scale a vector $ x $ of size $ m $ by $ \\alpha $:\n",
    "$$\n",
    "\\left( \\begin{array}{c}\n",
    "\\chi_1 \\\\\n",
    "\\chi_2 \\\\\n",
    "\\vdots \\\\\n",
    "\\chi_{m}\n",
    "\\end{array}\n",
    "\\right)\n",
    ":=\n",
    "\\left( \\begin{array}{c}\n",
    "\\alpha \\chi_1 \\\\\n",
    "\\alpha \\chi_2 \\\\\n",
    "\\vdots \\\\\n",
    "\\alpha \\chi_{m}\n",
    "\\end{array}\n",
    "\\right)\n",
    "$$\n",
    "\n",
    "As an algorithm this can be written as\n",
    "<p>\n",
    "<b> for </b> $ i = 1, \\ldots , m $  <br>\n",
    " $ ~~~ \\chi_i := \\alpha \\chi_i $ <br>\n",
    "<b> endfor </b>\n",
    "</p>\n",
    "\n",
    "<p>\n",
    "Complete the following routine to implement this:\n",
    "</p>"
   ]
  },
  {
   "cell_type": "code",
   "execution_count": 18,
   "metadata": {},
   "outputs": [
    {
     "data": {
      "text/plain": [
       "scal! (generic function with 1 method)"
      ]
     },
     "execution_count": 18,
     "metadata": {},
     "output_type": "execute_result"
    }
   ],
   "source": [
    "function scal!( α, x )\n",
    "    # Check how many elements there are in vector x.\n",
    "    m = length(x)\n",
    "    \n",
    "    for i in 1:m\n",
    "        x[ i ] = α * x[ i ]\n",
    "    end   \n",
    "end"
   ]
  },
  {
   "cell_type": "markdown",
   "metadata": {},
   "source": [
    "Be sure the run the above box, or this notebook won't know about the routine!!!"
   ]
  },
  {
   "cell_type": "markdown",
   "metadata": {},
   "source": [
    "Now, if you execute"
   ]
  },
  {
   "cell_type": "code",
   "execution_count": 19,
   "metadata": {},
   "outputs": [
    {
     "name": "stdout",
     "output_type": "stream",
     "text": [
      "x before scaling:\n",
      "[1.0, 2.0, 3.0]\n",
      "x after scaling:\n",
      "[2.5, 5.0, 7.5]\n",
      "difference between result and α * xold:\n",
      "[0.0, 0.0, 0.0]\n"
     ]
    }
   ],
   "source": [
    "laff.copy!( xold, x )\n",
    "\n",
    "println( \"x before scaling:\" )\n",
    "println( x )\n",
    "\n",
    "scal!( α, x )\n",
    "\n",
    "println( \"x after scaling:\" )\n",
    "println( x )\n",
    "\n",
    "println( \"difference between result and α * xold:\" )\n",
    "println( x - α * xold )"
   ]
  },
  {
   "cell_type": "markdown",
   "metadata": {},
   "source": [
    "This should result in:\n",
    "\n",
    "<code>\n",
    "x before scaling:\n",
    "[1.0, 2.0, 3.0]\n",
    "x after scaling:\n",
    "[2.5, 5.0, 7.5]\n",
    "difference between result and α * xold:\n",
    "[0.0, 0.0, 0.0]\n",
    "</code>"
   ]
  },
  {
   "cell_type": "markdown",
   "metadata": {},
   "source": [
    "### A complete scal function as part of the LAFF library"
   ]
  },
  {
   "cell_type": "markdown",
   "metadata": {},
   "source": [
    "Note that your implementation of `scal!` will already work on column and row (transposed column) vectors."
   ]
  },
  {
   "cell_type": "code",
   "execution_count": 47,
   "metadata": {},
   "outputs": [
    {
     "name": "stdout",
     "output_type": "stream",
     "text": [
      "Before scaling,\n",
      " x = \n",
      " 1\n",
      " 2\n",
      " 3\n",
      "After scaling,\n",
      " x = \n",
      " 3\n",
      " 6\n",
      " 9"
     ]
    }
   ],
   "source": [
    "import Base.print_array\n",
    "\n",
    "x = [1, 2, 3]\n",
    "\n",
    "println(\"Before scaling,\\n x = \")\n",
    "print_array(stdout, x)\n",
    "\n",
    "α = 3.0\n",
    "scal!( α, x )\n",
    "\n",
    "println(\"\\nAfter scaling,\\n x = \")\n",
    "print_array(stdout, x)"
   ]
  },
  {
   "cell_type": "code",
   "execution_count": 50,
   "metadata": {},
   "outputs": [
    {
     "name": "stdout",
     "output_type": "stream",
     "text": [
      "Before scaling,\n",
      " x = \n",
      " 1  2  3\n",
      "After scaling,\n",
      " x = \n",
      " 3  6  9"
     ]
    }
   ],
   "source": [
    "x = transpose([1, 2, 3])\n",
    "\n",
    "println(\"Before scaling,\\n x = \")\n",
    "print_array(stdout, x)\n",
    "\n",
    "α = 3.0\n",
    "scal!( α, x )\n",
    "\n",
    "println(\"\\nAfter scaling,\\n x = \")\n",
    "print_array(stdout, x)"
   ]
  },
  {
   "cell_type": "markdown",
   "metadata": {},
   "source": [
    "As with copying rows or columns of matrices (as seen in notebook 01.5.2), we need `@views` to scale a row or column of a matrix:"
   ]
  },
  {
   "cell_type": "code",
   "execution_count": 51,
   "metadata": {},
   "outputs": [
    {
     "name": "stdout",
     "output_type": "stream",
     "text": [
      "Before scaling,\n",
      " A = \n",
      " 1  1  1\n",
      " 1  1  1\n",
      " 1  1  1\n",
      "After scaling,\n",
      " A = \n",
      " 3  3  3\n",
      " 1  1  1\n",
      " 1  1  1"
     ]
    }
   ],
   "source": [
    "A = fill(1, (3, 3))\n",
    "\n",
    "println(\"Before scaling,\\n A = \")\n",
    "print_array(stdout, A)\n",
    "\n",
    "α = 3.0\n",
    "@views scal!( α, A[1, :] )\n",
    "\n",
    "println(\"\\nAfter scaling,\\n A = \")\n",
    "print_array(stdout, A)"
   ]
  },
  {
   "cell_type": "markdown",
   "metadata": {},
   "source": [
    "As we proceed to develop routines that contain progressively more advanced operations, we are really going to need a scal routine that can scal rows from a matrix or columns of a matrix.  \n",
    "\n",
    "A routine similar to what you've written for this exercise is part of the 'laff' library.  If you do\n",
    "\n",
    "```julia\n",
    "include(\"../laff/laff.jl\")\n",
    "using .laff\n",
    "```\n",
    "\n",
    "then <code> laff.scal!( alpha, x ) </code> will perform the desired scaling, when <code> x </code> is a (column) vector or a row vector."
   ]
  },
  {
   "cell_type": "code",
   "execution_count": 39,
   "metadata": {},
   "outputs": [
    {
     "name": "stderr",
     "output_type": "stream",
     "text": [
      "WARNING: replacing module laff.\n"
     ]
    }
   ],
   "source": [
    "include(\"../laff/laff.jl\")\n",
    "using .laff"
   ]
  },
  {
   "cell_type": "code",
   "execution_count": 53,
   "metadata": {},
   "outputs": [
    {
     "name": "stdout",
     "output_type": "stream",
     "text": [
      "x before scaling:\n",
      "[1, 2, 3]\n",
      "x after scaling:\n",
      "[3, 6, 9]\n",
      "difference between result and α * xold:\n",
      "[0.0, 0.0, 0.0]\n"
     ]
    }
   ],
   "source": [
    "x = fill(0, 3)\n",
    "xold = [1, 2, 3]\n",
    "laff.copy!( xold, x )\n",
    "\n",
    "println( \"x before scaling:\" )\n",
    "println( x )\n",
    "\n",
    "laff.scal!( α, x )\n",
    "\n",
    "println( \"x after scaling:\" )\n",
    "println( x )\n",
    "\n",
    "println( \"difference between result and α * xold:\" )\n",
    "println( x - α * xold )"
   ]
  },
  {
   "cell_type": "markdown",
   "metadata": {},
   "source": [
    "### Need a challenge?"
   ]
  },
  {
   "cell_type": "markdown",
   "metadata": {},
   "source": [
    "In \"1.5.2 Implementing a copy routine\", we gave a complete routine that implements a copy from a row/column vector to a row/column vector, checked whether the parameters were legal, and had comments in it.  If you feel up to the challenge, below write a routine <code> scal </code> that similarly checks the parameters, and has appropriate comments.  Be sure to test your implementation.  \n",
    "\n",
    "**Note** that the concrete type in Julia used to refer to column vectors is `Vector` and the type used to refer to their transpositions is `LinearAlgebra.Transpose{Vector}`. To access this second time, first execute\n",
    "\n",
    "```julia\n",
    "using LinearAlgebra\n",
    "```"
   ]
  },
  {
   "cell_type": "code",
   "execution_count": 54,
   "metadata": {},
   "outputs": [
    {
     "data": {
      "text/plain": [
       "scal (generic function with 1 method)"
      ]
     },
     "execution_count": 54,
     "metadata": {},
     "output_type": "execute_result"
    }
   ],
   "source": [
    "function scal!( alpha, x )\n",
    "    ### You fill in the rest!\n",
    "end"
   ]
  },
  {
   "cell_type": "code",
   "execution_count": null,
   "metadata": {},
   "outputs": [],
   "source": []
  }
 ],
 "metadata": {
  "kernelspec": {
   "display_name": "Julia 1.0.1",
   "language": "julia",
   "name": "julia-1.0"
  },
  "language_info": {
   "file_extension": ".jl",
   "mimetype": "application/julia",
   "name": "julia",
   "version": "1.0.1"
  }
 },
 "nbformat": 4,
 "nbformat_minor": 1
}
