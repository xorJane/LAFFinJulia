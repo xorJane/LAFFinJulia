{
 "cells": [
  {
   "cell_type": "markdown",
   "metadata": {},
   "source": [
    "## Implementing a dot routine"
   ]
  },
  {
   "cell_type": "markdown",
   "metadata": {},
   "source": [
    "### Preliminaries"
   ]
  },
  {
   "cell_type": "markdown",
   "metadata": {},
   "source": [
    "<p><font color=red> Again, copy this notebook so that you don't corrupt the original!  Then you can \"play\" with the copy of the notebook all you want! </font> </p>\n",
    "\n",
    "<p>\n",
    "<b>\n",
    "NOTE: A common problem that students have with Jupyter notebooks is not understanding that when the code in the gray boxes (cells) is executed, it assigns variables that persist the whole time that the notebook is open. Further, some cells rely on variables assigned by earlier cells.  If you execute these cells out of order, or if you execute the same cell twice, then you may end up changing the value of the variables.  To correct this, click on \"Cell\" at the top and execute \"run all above\" or \"run all\".  You can also reset all cells by clicking \"Cell -> All Output -> Clear\"\n",
    "</b>\n",
    "</p>\n",
    "\n",
    "<p>In this notebook, you are asked to write a loop that implements a routine that computes a dot (inner) product.</p>"
   ]
  },
  {
   "cell_type": "markdown",
   "metadata": {},
   "source": [
    "Let's start by creating vectors $ x = \\left( \\begin{array}{r} 1 \\\\ 2 \\\\ 3 \\end{array} \\right) $ and $ y = \\left( \\begin{array}{r} -1 \\\\ 0 \\\\ -2 \\end{array} \\right) $.\n",
    "\n",
    "Execute the code in the box by clicking in the box and then on \"Cell -> Run\".  Alternative, click on the box and push \"Shift\" and \"Return\" (or \"Enter\") together."
   ]
  },
  {
   "cell_type": "code",
   "execution_count": 1,
   "metadata": {},
   "outputs": [
    {
     "name": "stdout",
     "output_type": "stream",
     "text": [
      "x = [1, 2, 3]\n",
      "y = [-1, 0, -2]\n",
      "α = 2.5\n"
     ]
    }
   ],
   "source": [
    "# create two column vectors x and y.  \n",
    "x = [1, 2, 3]\n",
    "@show x\n",
    "\n",
    "y = [-1, 0, -2]\n",
    "@show y\n",
    "\n",
    "α = 2.5\n",
    "@show α;"
   ]
  },
  {
   "cell_type": "markdown",
   "metadata": {},
   "source": [
    "With Julia, you can simply execute <code> α = transpose( x ) * y</code>  to compute $ \\alpha : = x^T y $:"
   ]
  },
  {
   "cell_type": "code",
   "execution_count": 3,
   "metadata": {},
   "outputs": [
    {
     "name": "stdout",
     "output_type": "stream",
     "text": [
      "α = -7\n"
     ]
    }
   ],
   "source": [
    "α = transpose( x ) * y\n",
    "\n",
    "@show α;"
   ]
  },
  {
   "cell_type": "markdown",
   "metadata": {},
   "source": [
    "Note that α is an integer:"
   ]
  },
  {
   "cell_type": "code",
   "execution_count": 4,
   "metadata": {},
   "outputs": [
    {
     "data": {
      "text/plain": [
       "Int64"
      ]
     },
     "execution_count": 4,
     "metadata": {},
     "output_type": "execute_result"
    }
   ],
   "source": [
    "typeof(α)"
   ]
  },
  {
   "cell_type": "markdown",
   "metadata": {},
   "source": [
    "This is unlike what we would see in Python or Matlab, where the result would be stored in a 1 x 1 matrix (a matrix with only one element) because \n",
    "<code> x </code> and <code> y </code> would be treated as matrices rather than vectors. That is a topic we will cover in a few weeks..."
   ]
  },
  {
   "cell_type": "markdown",
   "metadata": {},
   "source": [
    "## Computing a dot product with a loop"
   ]
  },
  {
   "cell_type": "markdown",
   "metadata": {},
   "source": [
    "Now, we want you to write a loop that computes $ \\alpha := x^T y $.  \n",
    "\n",
    "Recall that the loop for copying three entries of a vector $ x $ into a vector $ y $ was given by \n",
    "\n",
    "```julia\n",
    "for i in 1:3\n",
    "    y[ i ] = x[ i ] \n",
    "end\n",
    "```\n",
    "\n",
    "Remember that $ x^T y = \\sum_{i=1}^{m} \\chi_i \\psi_i $, where $ m $ is the size of the vectors."
   ]
  },
  {
   "cell_type": "code",
   "execution_count": 7,
   "metadata": {},
   "outputs": [
    {
     "name": "stdout",
     "output_type": "stream",
     "text": [
      "α = -7.0\n",
      "compare α to  transpose(x) * y:\n",
      "0.0\n"
     ]
    }
   ],
   "source": [
    "α = 0.\n",
    "\n",
    "for i in 1:3\n",
    "    α = x[ i ] * y[ i ] + α\n",
    "end\n",
    "\n",
    "@show α\n",
    "\n",
    "println( \"compare α to  transpose(x) * y:\" )\n",
    "α_reference = transpose(x) * y\n",
    "\n",
    "println( α - α_reference  )"
   ]
  },
  {
   "cell_type": "markdown",
   "metadata": {},
   "source": [
    "The result should be:\n",
    "\n",
    "<code>\n",
    "α = -7.0\n",
    "compare α to  transpose(x) * y:\n",
    "0.0\n",
    "</code>"
   ]
  },
  {
   "cell_type": "markdown",
   "metadata": {},
   "source": [
    "### Dot as a simple routine"
   ]
  },
  {
   "cell_type": "markdown",
   "metadata": {},
   "source": [
    "<p>\n",
    "Writing the \"for loop\" every time you want to compute $ \\alpha := x^Ty $ is tedious and unnecessary.  Obviously, you can do \"<code> α = transpose(x) * y </code>\", but the point of this exercise is for you to write your own routine.  For this reason, you are going to write a routine, dot( x, y ).\n",
    "</p>\n",
    "\n",
    "<p>\n",
    "Complete the following routine to implement this:\n",
    "</p>"
   ]
  },
  {
   "cell_type": "code",
   "execution_count": 37,
   "metadata": {},
   "outputs": [
    {
     "data": {
      "text/plain": [
       "dot (generic function with 1 method)"
      ]
     },
     "execution_count": 37,
     "metadata": {},
     "output_type": "execute_result"
    }
   ],
   "source": [
    "function dot( x, y )\n",
    "    \n",
    "    m = length(x)\n",
    "    \n",
    "    alpha = 0.0\n",
    "    \n",
    "    for i in 1:m\n",
    "        alpha = x[ i ] * y[ i ] + alpha\n",
    "    end\n",
    "    \n",
    "    return alpha\n",
    "end"
   ]
  },
  {
   "cell_type": "markdown",
   "metadata": {},
   "source": [
    "Be sure the run the above box, or this notebook won't know about the routine!!!"
   ]
  },
  {
   "cell_type": "markdown",
   "metadata": {},
   "source": [
    "Now, if you execute"
   ]
  },
  {
   "cell_type": "code",
   "execution_count": 10,
   "metadata": {},
   "outputs": [
    {
     "name": "stdout",
     "output_type": "stream",
     "text": [
      "α = -7.0\n",
      "compare alpha to  transpose(x) * y:\n",
      "0.0"
     ]
    }
   ],
   "source": [
    "α = 0.\n",
    "\n",
    "α = dot( x, y )\n",
    "\n",
    "@show α\n",
    "\n",
    "println( \"compare alpha to  transpose(x) * y:\" )\n",
    "α_reference = transpose(x) * y\n",
    "\n",
    "print( α - α_reference  )"
   ]
  },
  {
   "cell_type": "markdown",
   "metadata": {},
   "source": [
    "The result should be:\n",
    "\n",
    "<code>\n",
    "α = -7.0\n",
    "compare alpha to  transpose(x) * y:\n",
    "0.0\n",
    "</code>"
   ]
  },
  {
   "cell_type": "markdown",
   "metadata": {},
   "source": [
    "### A complete dot function as part of the LAFF library"
   ]
  },
  {
   "cell_type": "markdown",
   "metadata": {},
   "source": [
    "Note that your implementation of `dot` will already work on column and row (transposed column) vectors."
   ]
  },
  {
   "cell_type": "code",
   "execution_count": 11,
   "metadata": {},
   "outputs": [],
   "source": [
    "import Base.print_array"
   ]
  },
  {
   "cell_type": "code",
   "execution_count": 21,
   "metadata": {},
   "outputs": [
    {
     "name": "stdout",
     "output_type": "stream",
     "text": [
      "x & y are both column vectors\n",
      "\n",
      "x = \n",
      " 1\n",
      " 2\n",
      " 3\n",
      "\n",
      "y = \n",
      " -1\n",
      "  0\n",
      " -2\n",
      "\n",
      " α = -7.0\n"
     ]
    }
   ],
   "source": [
    "x = [1, 2, 3]\n",
    "y = [-1, 0, -2]\n",
    "\n",
    "println(\"x & y are both column vectors\\n\")\n",
    "println(\"x = \")\n",
    "print_array(stdout, x)\n",
    "println(\"\\n\\ny = \")\n",
    "print_array(stdout, y)\n",
    "\n",
    "α = dot(x, y)\n",
    "println(\"\\n\\n α = \", α)"
   ]
  },
  {
   "cell_type": "code",
   "execution_count": 22,
   "metadata": {},
   "outputs": [
    {
     "name": "stdout",
     "output_type": "stream",
     "text": [
      "x & y are both row vectors\n",
      "\n",
      "x = \n",
      " 1  2  3\n",
      "\n",
      "y = \n",
      " -1  0  -2\n",
      "\n",
      " α = -7.0\n"
     ]
    }
   ],
   "source": [
    "x = transpose([1, 2, 3])\n",
    "y = transpose([-1, 0, -2])\n",
    "\n",
    "println(\"x & y are both row vectors\\n\")\n",
    "println(\"x = \")\n",
    "print_array(stdout, x)\n",
    "println(\"\\n\\ny = \")\n",
    "print_array(stdout, y)\n",
    "\n",
    "α = dot(x, y)\n",
    "println(\"\\n\\n α = \", α)"
   ]
  },
  {
   "cell_type": "code",
   "execution_count": 23,
   "metadata": {},
   "outputs": [
    {
     "name": "stdout",
     "output_type": "stream",
     "text": [
      "x & y are row and column vectors, respecrively \n",
      "\n",
      "x = \n",
      " 1  2  3\n",
      "\n",
      "y = \n",
      " -1\n",
      "  0\n",
      " -2\n",
      "\n",
      " α = -7.0\n"
     ]
    }
   ],
   "source": [
    "x = transpose([1, 2, 3])\n",
    "y = [-1, 0, -2]\n",
    "\n",
    "println(\"x & y are row and column vectors, respecrively \\n\")\n",
    "println(\"x = \")\n",
    "print_array(stdout, x)\n",
    "println(\"\\n\\ny = \")\n",
    "print_array(stdout, y)\n",
    "\n",
    "α = dot(x, y)\n",
    "println(\"\\n\\n α = \", α)"
   ]
  },
  {
   "cell_type": "code",
   "execution_count": 24,
   "metadata": {},
   "outputs": [
    {
     "name": "stdout",
     "output_type": "stream",
     "text": [
      "x & y are both column and row vectors, respectively\n",
      "\n",
      "x = \n",
      " 1\n",
      " 2\n",
      " 3\n",
      "\n",
      "y = \n",
      " -1  0  -2\n",
      "\n",
      " α = -7.0\n"
     ]
    }
   ],
   "source": [
    "x = [1, 2, 3]\n",
    "y = transpose([-1, 0, -2])\n",
    "\n",
    "println(\"x & y are both column and row vectors, respectively\\n\")\n",
    "println(\"x = \")\n",
    "print_array(stdout, x)\n",
    "println(\"\\n\\ny = \")\n",
    "print_array(stdout, y)\n",
    "\n",
    "α = dot(x, y)\n",
    "println(\"\\n\\n α = \", α)"
   ]
  },
  {
   "cell_type": "markdown",
   "metadata": {},
   "source": [
    "A routine similar to what you've written for this exercise is part of the 'laff' library.  If you do\n",
    "\n",
    "```julia\n",
    "include(\"../laff/laff.jl\")\n",
    "using .laff\n",
    "```\n",
    "\n",
    "then <code> laff.dot( x, y ) </code> will perform the desired dot product, when <code> x </code> and <code> y </code> are column and/or a row vectors.  If you really want to see what this routine looks like, then ask for it on the discussion forum and we'll point you to where it can be found."
   ]
  },
  {
   "cell_type": "code",
   "execution_count": 45,
   "metadata": {},
   "outputs": [
    {
     "name": "stderr",
     "output_type": "stream",
     "text": [
      "WARNING: replacing module laff.\n"
     ]
    }
   ],
   "source": [
    "include(\"../laff/laff.jl\")\n",
    "using .laff"
   ]
  },
  {
   "cell_type": "code",
   "execution_count": 46,
   "metadata": {},
   "outputs": [
    {
     "name": "stdout",
     "output_type": "stream",
     "text": [
      "α = -7.0\n",
      "compare α to  transpose(x) * y:\n",
      "0.0\n"
     ]
    }
   ],
   "source": [
    "x = [1, 2, 3]\n",
    "y = [-1, 0, -2]\n",
    "α = 0.\n",
    "\n",
    "α = laff.dot( x, y )\n",
    "\n",
    "@show α\n",
    "\n",
    "println( \"compare α to  transpose(x) * y:\" )\n",
    "α_reference = transpose(x) * y\n",
    "\n",
    "println( α - α_reference  )"
   ]
  },
  {
   "cell_type": "markdown",
   "metadata": {},
   "source": [
    "### Need a challenge?"
   ]
  },
  {
   "cell_type": "markdown",
   "metadata": {},
   "source": [
    "In \"1.5.2 Implementing a copy routine\", we gave a complete routine that implements a copy from a row/column vector to a row/column vector, checked whether the parameters were legal, and had comments in it.  If you feel up to the challenge, below write a similar routine <code>dot</code> that works for row and column vectors, checks the parameters, and has comments.  Be sure to test your implementation. \n",
    "\n",
    "**Note** that the concrete type in Julia used to refer to column vectors is `Vector` and the type used to refer to their transpositions is `LinearAlgebra.Transpose{Vector}`. To access this second time, first execute\n",
    "\n",
    "```julia\n",
    "using LinearAlgebra\n",
    "```"
   ]
  },
  {
   "cell_type": "code",
   "execution_count": 29,
   "metadata": {},
   "outputs": [
    {
     "data": {
      "text/plain": [
       "dot (generic function with 1 method)"
      ]
     },
     "execution_count": 29,
     "metadata": {},
     "output_type": "execute_result"
    }
   ],
   "source": [
    "function dot( x, y )\n",
    "    ### You fill in the rest!\n",
    "end"
   ]
  },
  {
   "cell_type": "code",
   "execution_count": null,
   "metadata": {},
   "outputs": [],
   "source": []
  }
 ],
 "metadata": {
  "kernelspec": {
   "display_name": "Julia 1.0.1",
   "language": "julia",
   "name": "julia-1.0"
  },
  "language_info": {
   "file_extension": ".jl",
   "mimetype": "application/julia",
   "name": "julia",
   "version": "1.0.1"
  }
 },
 "nbformat": 4,
 "nbformat_minor": 1
}
