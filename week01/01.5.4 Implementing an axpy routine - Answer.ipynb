{
 "cells": [
  {
   "cell_type": "markdown",
   "metadata": {},
   "source": [
    "## Implementing an axpy routine"
   ]
  },
  {
   "cell_type": "markdown",
   "metadata": {},
   "source": [
    "### Preliminaries"
   ]
  },
  {
   "cell_type": "markdown",
   "metadata": {},
   "source": [
    "<p><font color=red> Again, copy this notebook so that you don't corrupt the original!  Then you can \"play\" with the copy of the notebook all you want! </font> </p>\n",
    "\n",
    "<p>\n",
    "<b>\n",
    "NOTE: A common problem that students have with Jupyter notebooks is not understanding that when the code in the gray boxes (cells) is executed, it assigns variables that persist the whole time that the notebook is open. Further, some cells rely on variables assigned by earlier cells.  If you execute these cells out of order, or if you execute the same cell twice, then you may end up changing the value of the variables.  To correct this, click on \"Cell\" at the top and execute \"run all above\" or \"run all\".  You can also reset all cells by clicking \"Cell -> All Output -> Clear\"\n",
    "</b>\n",
    "</p>\n",
    "\n",
    "<p>In this notebook, you are asked to write the loop that implements an axpy operation.</p>"
   ]
  },
  {
   "cell_type": "markdown",
   "metadata": {},
   "source": [
    "Let's start by creating vectors $ x = \\left( \\begin{array}{r} 1 \\\\ 2 \\\\ 3 \\end{array} \\right) $, $ y = \\left( \\begin{array}{r} -1 \\\\ 0 \\\\ -2 \\end{array} \\right) $ and a scalar $ \\alpha = 2.5 $.  \n",
    "\n",
    "Execute the code in the box by clicking in the box and then on \"Cell -> Run\".  Alternative, click on the box and push \"Shift\" and \"Return\" (or \"Enter\") together."
   ]
  },
  {
   "cell_type": "code",
   "execution_count": 2,
   "metadata": {},
   "outputs": [
    {
     "name": "stdout",
     "output_type": "stream",
     "text": [
      "x = [1, 2, 3]\n",
      "y = [-1, 0, -2]\n",
      "α = 2.5\n"
     ]
    }
   ],
   "source": [
    "# create two column vectors x and y.  \n",
    "x = [1, 2, 3]\n",
    "@show x\n",
    "\n",
    "y = [-1, 0, -2]\n",
    "@show y\n",
    "\n",
    "α = 2.5\n",
    "@show α;"
   ]
  },
  {
   "cell_type": "markdown",
   "metadata": {},
   "source": [
    "With Julia, you can simply compute $ y := \\alpha x + y $.  We will first make a copy of $ y $ so we can easily reset $ y $ to its original contents in the future.  For this, we will use the `laff.copy!` routine."
   ]
  },
  {
   "cell_type": "code",
   "execution_count": 3,
   "metadata": {},
   "outputs": [],
   "source": [
    "include(\"../laff/laff.jl\")\n",
    "using .laff"
   ]
  },
  {
   "cell_type": "code",
   "execution_count": 5,
   "metadata": {},
   "outputs": [
    {
     "name": "stdout",
     "output_type": "stream",
     "text": [
      "yold = [-1, 0, -2]\n"
     ]
    }
   ],
   "source": [
    "yold = fill(0, 3)\n",
    "\n",
    "laff.copy!( y, yold )\n",
    "\n",
    "@show yold;"
   ]
  },
  {
   "cell_type": "markdown",
   "metadata": {},
   "source": [
    "Now, let's update $ y := \\alpha x + y $:"
   ]
  },
  {
   "cell_type": "code",
   "execution_count": 7,
   "metadata": {},
   "outputs": [
    {
     "name": "stdout",
     "output_type": "stream",
     "text": [
      "y before axpy:\n",
      "[-1.0, 0.0, -2.0]\n",
      "y after axpy: \n",
      "[1.5, 5.0, 5.5]\n",
      "compare new y to alpha * x + yold:\n",
      "[0.0, 0.0, 0.0]\n"
     ]
    }
   ],
   "source": [
    "laff.copy!( yold, y )\n",
    "\n",
    "println( \"y before axpy:\")\n",
    "println( y )\n",
    "\n",
    "y = α * x + y\n",
    "\n",
    "println( \"y after axpy: \" )\n",
    "println( y )\n",
    "\n",
    "println( \"compare new y to alpha * x + yold:\" )\n",
    "println( y - ( α * x + yold ) )"
   ]
  },
  {
   "cell_type": "markdown",
   "metadata": {},
   "source": [
    "## Computing an axpy with a loop"
   ]
  },
  {
   "cell_type": "markdown",
   "metadata": {},
   "source": [
    "Now, we want you to write a loop that updates the three entries in $ y $ with $ \\alpha x + y $.  \n",
    "Recall that the loop for copying three entries of a vector $ x $ into a vector $ y $ was given by \n",
    "\n",
    "```julia\n",
    "for i in 1:3\n",
    "    y[ i ] = x[ i ]\n",
    "end\n",
    "```"
   ]
  },
  {
   "cell_type": "code",
   "execution_count": 8,
   "metadata": {},
   "outputs": [
    {
     "name": "stdout",
     "output_type": "stream",
     "text": [
      "y before axpy:\n",
      "[-1.0, 0.0, -2.0]\n",
      "y after axpy: \n",
      "[1.5, 5.0, 5.5]\n",
      "compare new y to alpha * x + yold:\n",
      "[0.0, 0.0, 0.0]\n"
     ]
    }
   ],
   "source": [
    "laff.copy!( yold, y )\n",
    "\n",
    "println( \"y before axpy:\")\n",
    "println( y )\n",
    "\n",
    "for i in 1:3\n",
    "    y[ i ] = α * x[ i ] + y[ i ]\n",
    "end\n",
    "\n",
    "println( \"y after axpy: \" )\n",
    "println( y )\n",
    "\n",
    "println( \"compare new y to alpha * x + yold:\" )\n",
    "println( y - ( α * x + yold ) )"
   ]
  },
  {
   "cell_type": "markdown",
   "metadata": {},
   "source": [
    "The result should be:\n",
    "\n",
    "<code>\n",
    "y before axpy:\n",
    "[-1.0, 0.0, -2.0]\n",
    "y after axpy: \n",
    "[1.5, 5.0, 5.5]\n",
    "compare new y to alpha * x + yold:\n",
    "[0.0, 0.0, 0.0]\n",
    "</code>"
   ]
  },
  {
   "cell_type": "markdown",
   "metadata": {},
   "source": [
    "### Axpy as a simple routine"
   ]
  },
  {
   "cell_type": "markdown",
   "metadata": {},
   "source": [
    "Writing the \"for loop\" every time you want to compute $ y := \\alpha * x + y $ is labor intensive and unnecessary.  Obviously, you can do \"<code> y = α * x + y </code>\", but the point of this exercise is for you to write your own routine.  For this reason, you are going to write a routine, axpy( α, x, y ).\n",
    "\n",
    "Recall what it means to update.  $ y $ becomes $ \\alpha x + y $ when $ x $ and $ y $ are both of size $ m $:\n",
    "$$\n",
    "\\left( \\begin{array}{c}\n",
    "\\psi_1 \\\\\n",
    "\\psi_2 \\\\\n",
    "\\vdots \\\\\n",
    "\\psi_{m}\n",
    "\\end{array}\n",
    "\\right)\n",
    ":=\n",
    "\\left( \\begin{array}{c}\n",
    "\\alpha \\chi_1 \\\\\n",
    "\\alpha \\chi_2 \\\\\n",
    "\\vdots \\\\\n",
    "\\alpha \\chi_{m}\n",
    "\\end{array}\n",
    "\\right)\n",
    "+\n",
    "\\left( \\begin{array}{c}\n",
    "\\psi_1 \\\\\n",
    "\\psi_2 \\\\\n",
    "\\vdots \\\\\n",
    "\\psi_{m}\n",
    "\\end{array}\n",
    "\\right)\n",
    "=\n",
    "\\left( \\begin{array}{c}\n",
    "\\alpha \\chi_1 + \\psi_1 \\\\\n",
    "\\alpha \\chi_2 + \\psi_2 \\\\\n",
    "\\vdots \\\\\n",
    "\\alpha \\chi_{m} + \\psi_{m}\n",
    "\\end{array}\n",
    "\\right)\n",
    "$$\n",
    "\n",
    "As an algorithm this can be written as\n",
    "<p>\n",
    "<b> for </b> $ i = 1, \\ldots , m $  <br>\n",
    " $ ~~~ \\psi_i := \\alpha \\chi_i + \\psi_i $ <br>\n",
    "<b> endfor </b>\n",
    "</p>\n",
    "\n",
    "<p>\n",
    "Complete the following routine to implement this:\n",
    "</p>"
   ]
  },
  {
   "cell_type": "code",
   "execution_count": 9,
   "metadata": {},
   "outputs": [
    {
     "data": {
      "text/plain": [
       "axpy! (generic function with 1 method)"
      ]
     },
     "execution_count": 9,
     "metadata": {},
     "output_type": "execute_result"
    }
   ],
   "source": [
    "function axpy!( α, x, y )\n",
    "\n",
    "    m = length(x)\n",
    "    \n",
    "    for i in 1:m\n",
    "        y[ i ] = α * x[ i ] + y[ i ]\n",
    "    end\n",
    "end"
   ]
  },
  {
   "cell_type": "markdown",
   "metadata": {},
   "source": [
    "Be sure to run the box above, or this notebook won't know about the routine!!!"
   ]
  },
  {
   "cell_type": "markdown",
   "metadata": {},
   "source": [
    "Now, if you execute"
   ]
  },
  {
   "cell_type": "code",
   "execution_count": 10,
   "metadata": {},
   "outputs": [
    {
     "name": "stdout",
     "output_type": "stream",
     "text": [
      "y before axpy:\n",
      "[-1.0, 0.0, -2.0]\n",
      "y after axpy: \n",
      "[1.5, 5.0, 5.5]\n",
      "compare new y to alpha * x + yold:\n",
      "[0.0, 0.0, 0.0]\n"
     ]
    }
   ],
   "source": [
    "laff.copy!( yold, y )\n",
    "\n",
    "println( \"y before axpy:\")\n",
    "println( y )\n",
    "\n",
    "axpy!( α, x, y)\n",
    "\n",
    "println( \"y after axpy: \" )\n",
    "println( y )\n",
    "\n",
    "println( \"compare new y to alpha * x + yold:\" )\n",
    "println( y - ( α * x + yold ) )"
   ]
  },
  {
   "cell_type": "markdown",
   "metadata": {},
   "source": [
    "The result should be:\n",
    "\n",
    "<code>\n",
    "y before axpy:\n",
    "[-1.0, 0.0, -2.0]\n",
    "y after axpy: \n",
    "[1.5, 5.0, 5.5]\n",
    "compare new y to alpha * x + yold:\n",
    "[0.0, 0.0, 0.0]\n",
    "</code>"
   ]
  },
  {
   "cell_type": "markdown",
   "metadata": {},
   "source": [
    "### A complete axpy function as part of the LAFF library"
   ]
  },
  {
   "cell_type": "markdown",
   "metadata": {},
   "source": [
    "Note that your implementation of `axpy!` will already work on column and row (transposed column) vectors."
   ]
  },
  {
   "cell_type": "code",
   "execution_count": 13,
   "metadata": {},
   "outputs": [],
   "source": [
    "import Base.print_array"
   ]
  },
  {
   "cell_type": "code",
   "execution_count": 14,
   "metadata": {},
   "outputs": [
    {
     "name": "stdout",
     "output_type": "stream",
     "text": [
      "x & y are both column vectors\n",
      "\n",
      "Before axpy!,\n",
      " y = \n",
      " -1\n",
      "  0\n",
      " -2\n",
      "After axpy!,\n",
      " y = \n",
      " 2\n",
      " 6\n",
      " 7"
     ]
    }
   ],
   "source": [
    "α = 3.0\n",
    "x = [1, 2, 3]\n",
    "y = [-1, 0, -2]\n",
    "\n",
    "println(\"x & y are both column vectors\\n\")\n",
    "println(\"Before axpy!,\\n y = \")\n",
    "print_array(stdout, y)\n",
    "\n",
    "axpy!( α, x, y )\n",
    "\n",
    "println(\"\\nAfter axpy!,\\n y = \")\n",
    "print_array(stdout, y)"
   ]
  },
  {
   "cell_type": "code",
   "execution_count": 15,
   "metadata": {},
   "outputs": [
    {
     "name": "stdout",
     "output_type": "stream",
     "text": [
      "x & y are both row vectors\n",
      "\n",
      "Before axpy!,\n",
      " y = \n",
      " -1  0  -2\n",
      "After axpy!,\n",
      " y = \n",
      " 2  6  7"
     ]
    }
   ],
   "source": [
    "α = 3.0\n",
    "x = transpose([1, 2, 3])\n",
    "y = transpose([-1, 0, -2])\n",
    "\n",
    "println(\"x & y are both row vectors\\n\")\n",
    "println(\"Before axpy!,\\n y = \")\n",
    "print_array(stdout, y)\n",
    "\n",
    "axpy!( α, x, y )\n",
    "\n",
    "println(\"\\nAfter axpy!,\\n y = \")\n",
    "print_array(stdout, y)"
   ]
  },
  {
   "cell_type": "code",
   "execution_count": 16,
   "metadata": {},
   "outputs": [
    {
     "name": "stdout",
     "output_type": "stream",
     "text": [
      "x & y are row and column vectors, respectively\n",
      "\n",
      "Before axpy!,\n",
      " y = \n",
      " -1\n",
      "  0\n",
      " -2\n",
      "After axpy!,\n",
      " y = \n",
      " 2\n",
      " 6\n",
      " 7"
     ]
    }
   ],
   "source": [
    "α = 3.0\n",
    "x = transpose([1, 2, 3])\n",
    "y = [-1, 0, -2]\n",
    "\n",
    "println(\"x & y are row and column vectors, respectively\\n\")\n",
    "println(\"Before axpy!,\\n y = \")\n",
    "print_array(stdout, y)\n",
    "\n",
    "axpy!( α, x, y )\n",
    "\n",
    "println(\"\\nAfter axpy!,\\n y = \")\n",
    "print_array(stdout, y)"
   ]
  },
  {
   "cell_type": "code",
   "execution_count": 17,
   "metadata": {},
   "outputs": [
    {
     "name": "stdout",
     "output_type": "stream",
     "text": [
      "x & y are column and row vectors, respectively\n",
      "\n",
      "Before axpy!,\n",
      " y = \n",
      " -1  0  -2\n",
      "After axpy!,\n",
      " y = \n",
      " 2  6  7"
     ]
    }
   ],
   "source": [
    "α = 3.0\n",
    "x = [1, 2, 3]\n",
    "y = transpose([-1, 0, -2])\n",
    "\n",
    "println(\"x & y are column and row vectors, respectively\\n\")\n",
    "println(\"Before axpy!,\\n y = \")\n",
    "print_array(stdout, y)\n",
    "\n",
    "axpy!( α, x, y )\n",
    "\n",
    "println(\"\\nAfter axpy!,\\n y = \")\n",
    "print_array(stdout, y)"
   ]
  },
  {
   "cell_type": "markdown",
   "metadata": {},
   "source": [
    "A routine similar to what you've written for this exercise is part of the 'laff' library.  If you do\n",
    "\n",
    "```julia\n",
    "include(\"../laff/laff.jl\")\n",
    "using .laff\n",
    "```\n",
    "\n",
    "then <code> laff.axpy!( alpha, x, y ) </code> will perform the desired axpy, when <code> x </code> and <code> y </code> are column and/or a row vectors.  If you really want to see what this routine looks like, then ask for it on the discussion forum and we'll point you to where it can be found."
   ]
  },
  {
   "cell_type": "code",
   "execution_count": 22,
   "metadata": {},
   "outputs": [
    {
     "name": "stdout",
     "output_type": "stream",
     "text": [
      "y before axpy:\n",
      "[-1, 0, -2]\n",
      "y after axpy: \n",
      "[2, 6, 7]\n",
      "compare new y to alpha * x + yold:\n",
      "[0.0, 0.0, 0.0]\n"
     ]
    }
   ],
   "source": [
    "y = fill(0, length(yold))\n",
    "laff.copy!( yold, y )\n",
    "\n",
    "println( \"y before axpy:\")\n",
    "println( y )\n",
    "\n",
    "laff.axpy!(α, x, y)\n",
    "\n",
    "println( \"y after axpy: \" )\n",
    "println( y )\n",
    "\n",
    "println( \"compare new y to alpha * x + yold:\" )\n",
    "println( y - ( α * x + yold ) )"
   ]
  },
  {
   "cell_type": "markdown",
   "metadata": {},
   "source": [
    "### Need a challenge?"
   ]
  },
  {
   "cell_type": "markdown",
   "metadata": {},
   "source": [
    "In \"1.5.2 Implementing a copy routine\", we gave a complete routine that implements a copy from a row/column vector to a row/column vector, checked whether the parameters were legal, and had comments in it.  If you feel up to the challenge, below write a similar routine <code> axpy! </code> that works for row and column vectors, checks the parameters, and has comments.  Be sure to test your implementation.  \n",
    "\n",
    "**Note** that the concrete type in Julia used to refer to column vectors is `Vector` and the type used to refer to their transpositions is `LinearAlgebra.Transpose{Vector}`. To access this second time, first execute\n",
    "\n",
    "```julia\n",
    "using LinearAlgebra\n",
    "```"
   ]
  },
  {
   "cell_type": "code",
   "execution_count": null,
   "metadata": {},
   "outputs": [],
   "source": [
    "function axpy!( alpha, x, y )\n",
    "    ### You fill in the rest!\n",
    "    \n",
    "end"
   ]
  },
  {
   "cell_type": "code",
   "execution_count": null,
   "metadata": {},
   "outputs": [],
   "source": []
  }
 ],
 "metadata": {
  "kernelspec": {
   "display_name": "Julia 1.0.1",
   "language": "julia",
   "name": "julia-1.0"
  },
  "language_info": {
   "file_extension": ".jl",
   "mimetype": "application/julia",
   "name": "julia",
   "version": "1.0.1"
  }
 },
 "nbformat": 4,
 "nbformat_minor": 1
}
