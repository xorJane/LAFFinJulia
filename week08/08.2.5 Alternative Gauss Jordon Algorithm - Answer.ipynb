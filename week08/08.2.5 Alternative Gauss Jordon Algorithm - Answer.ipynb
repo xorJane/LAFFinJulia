{
 "cells": [
  {
   "cell_type": "markdown",
   "metadata": {},
   "source": [
    "# 8.2.5 Alternative Gauss Jordon Algorithm"
   ]
  },
  {
   "cell_type": "markdown",
   "metadata": {},
   "source": [
    "In this notebook, you will implement the alternative Gauss Jordan algorithm that overwrites $ A $ in one sweep with the identity matrix and $ B $ with the inverse of the original matrix $ A $.\n",
    "\n",
    "<font color=red> Be sure to make a copy!!!! </font>\n",
    "\n",
    "<h2> First, let's create a matrix $ A $ and set $ B $ to the identity. </h2>"
   ]
  },
  {
   "cell_type": "code",
   "execution_count": 4,
   "metadata": {},
   "outputs": [
    {
     "name": "stderr",
     "output_type": "stream",
     "text": [
      "WARNING: replacing module flame.\n",
      "WARNING: replacing module laff.\n"
     ]
    }
   ],
   "source": [
    "include(\"../flame.jl\")\n",
    "include(\"../laff/laff.jl\")\n",
    "\n",
    "# `LinearAlgebra` us to use LinearAlgebra.I to create an identity matrix\n",
    "using LinearAlgebra"
   ]
  },
  {
   "cell_type": "code",
   "execution_count": 16,
   "metadata": {},
   "outputs": [
    {
     "name": "stdout",
     "output_type": "stream",
     "text": [
      "A = \n"
     ]
    },
    {
     "data": {
      "text/plain": [
       "4×4 Array{Float64,2}:\n",
       "  2.0  -1.0   3.0  -2.0\n",
       " -4.0   0.0  -5.0   3.0\n",
       "  2.0   5.0   1.0   3.0\n",
       "  4.0  -8.0   8.0  -6.0"
      ]
     },
     "execution_count": 16,
     "metadata": {},
     "output_type": "execute_result"
    }
   ],
   "source": [
    "L = [ 1  0  0  0\n",
    "     -2  1  0  0\n",
    "      1 -3  1  0\n",
    "      2  3 -1  1. ]\n",
    "\n",
    "U = [ 2 -1  3 -2\n",
    "      0 -2  1 -1\n",
    "      0  0  1  2\n",
    "      0  0  0  3 ]\n",
    "\n",
    "A = L * U\n",
    "Aold = copy(A)\n",
    "println(\"A = \")\n",
    "A"
   ]
  },
  {
   "cell_type": "code",
   "execution_count": 17,
   "metadata": {},
   "outputs": [
    {
     "name": "stdout",
     "output_type": "stream",
     "text": [
      " B = \n"
     ]
    },
    {
     "data": {
      "text/plain": [
       "4×4 Array{Float64,2}:\n",
       " 1.0  0.0  0.0  0.0\n",
       " 0.0  1.0  0.0  0.0\n",
       " 0.0  0.0  1.0  0.0\n",
       " 0.0  0.0  0.0  1.0"
      ]
     },
     "execution_count": 17,
     "metadata": {},
     "output_type": "execute_result"
    }
   ],
   "source": [
    "B = Matrix{Float64}(I, 4, 4)\n",
    "println(\" B = \")\n",
    "B"
   ]
  },
  {
   "cell_type": "code",
   "execution_count": 18,
   "metadata": {},
   "outputs": [],
   "source": [
    "# # We can create identity matrices in a few ways!\n",
    "# # Try these out: \n",
    "# B = Matrix{Int}(I, 4, 4)\n",
    "# B = Diagonal(ones(4))\n",
    "\n",
    "# # What do you get when you try the following?\n",
    "# B = Matrix(I, 4, 4)"
   ]
  },
  {
   "cell_type": "markdown",
   "metadata": {},
   "source": [
    "<h2> Implement the alternative Gauss-Jordan algorithm from 8.2.5 </h2>\n",
    "\n",
    "Here is the algorithm:\n",
    "\n",
    "<img src=\"https://studio.edx.org/c4x/UTAustinX/UT.5.01x/asset/8_2_5_Algorithm.png\" alt=\"Alternative Gauss-Jordan algorithm\" width=100%>\n",
    "    \n",
    "<font color=red> Important: if you make a mistake, rerun ALL cells above the cell in which you were working, and then the one where you are working. </font>"
   ]
  },
  {
   "cell_type": "markdown",
   "metadata": {},
   "source": [
    "Create the routine\n",
    "<code> GJ_Inverse_alt! </code>\n",
    "with the <a href=\"https://studio.edx.org/c4x/UTAustinX/UT.5.01x/asset/index.html\"> Spark webpage</a> for the algorithm"
   ]
  },
  {
   "cell_type": "code",
   "execution_count": 19,
   "metadata": {},
   "outputs": [
    {
     "name": "stderr",
     "output_type": "stream",
     "text": [
      "WARNING: replacing module flame.\n",
      "WARNING: replacing module laff.\n"
     ]
    },
    {
     "data": {
      "text/plain": [
       "GJ_Inverse_alt! (generic function with 1 method)"
      ]
     },
     "execution_count": 19,
     "metadata": {},
     "output_type": "execute_result"
    }
   ],
   "source": [
    "include(\"../flame.jl\")\n",
    "include(\"../laff/laff.jl\")\n",
    "\n",
    "function GJ_Inverse_alt!(A, B)\n",
    "\n",
    "    ATL, ATR, \n",
    "    ABL, ABR  = flame.part_2x2(A, \n",
    "                               0, 0, \"TL\")\n",
    "\n",
    "    BTL, BTR, \n",
    "    BBL, BBR  = flame.part_2x2(B, \n",
    "                               0, 0, \"TL\")\n",
    "\n",
    "    while size(ATL, 1) < size(A, 1)\n",
    "\n",
    "        A00,  a01,     A02,  \n",
    "        a10t, alpha11, a12t, \n",
    "        A20,  a21,     A22   = flame.repart_2x2_to_3x3(ATL, ATR, \n",
    "                                                       ABL, ABR, \n",
    "                                                       1, 1, \"BR\")\n",
    "\n",
    "        B00,  b01,    B02,  \n",
    "        b10t, beta11, b12t, \n",
    "        B20,  b21,    B22   = flame.repart_2x2_to_3x3(BTL, BTR, \n",
    "                                                      BBL, BBR, \n",
    "                                                      1, 1, \"BR\")\n",
    "\n",
    "        #------------------------------------------------------------#\n",
    "\n",
    "        # a01 := a01 / alpha11\n",
    "        # a21 := a21 / alpha11\n",
    "        laff.invscal!( alpha11, a01 )\n",
    "        laff.invscal!( alpha11, a21 )\n",
    "        \n",
    "        # A02 := A02 - a01 * a12t\n",
    "        laff.ger!( -1.0, a01, a12t, A02 )\n",
    "        # A22 := A22 - a21 * a12t\n",
    "        laff.ger!( -1.0, a21, a12t, A22 )\n",
    "        \n",
    "        # B00 := B00 - a01 * b01t\n",
    "        laff.ger!( -1.0, a01, b10t, B00 )\n",
    "        # B20 := B20 - a21 * b01t\n",
    "        laff.ger!( -1.0, a21, b10t, B20 )\n",
    "        \n",
    "        # b01 := - a01 (= - u01 in the discussion)\n",
    "        laff.copy!( a01, b01 )\n",
    "        laff.scal!( -1.0, b01 )\n",
    "        # b21 := - a21 (= - l21 in the discussion)\n",
    "        laff.copy!( a21, b21 )\n",
    "        laff.scal!( -1.0, b21 )\n",
    "        \n",
    "        # a12t:= a21t / alpha11  \n",
    "        laff.invscal!( alpha11, a12t )\n",
    "        # b10t:= b10t / alpha11 \n",
    "        laff.invscal!( alpha11, b10t )\n",
    "        \n",
    "        # beta11 := 1.0 / alpha11\n",
    "        laff.invscal!( alpha11, beta11 )\n",
    "       \n",
    "        # a01 = 0  (zero vector)\n",
    "        # alpha11 = 1\n",
    "        # a21 = 0  (zero vector)\n",
    "        laff.zerov!( a01 )\n",
    "        laff.onev!( alpha11 )\n",
    "        laff.zerov!( a21 )\n",
    "\n",
    "        #------------------------------------------------------------#\n",
    "\n",
    "        ATL, ATR, \n",
    "        ABL, ABR  = flame.cont_with_3x3_to_2x2(A00,  a01,     A02,  \n",
    "                                               a10t, alpha11, a12t, \n",
    "                                               A20,  a21,     A22,  \n",
    "                                               \"TL\")\n",
    "\n",
    "        BTL, BTR, \n",
    "        BBL, BBR  = flame.cont_with_3x3_to_2x2(B00,  b01,    B02,  \n",
    "                                               b10t, beta11, b12t, \n",
    "                                               B20,  b21,    B22,  \n",
    "                                               \"TL\")\n",
    "\n",
    "    end\n",
    "\n",
    "    flame.merge_2x2!(ATL, ATR, \n",
    "                     ABL, ABR, A)\n",
    "\n",
    "    flame.merge_2x2!(BTL, BTR, \n",
    "                     BBL, BBR, B)\n",
    "\n",
    "end"
   ]
  },
  {
   "cell_type": "markdown",
   "metadata": {},
   "source": [
    "<h3> Test the routine </h3>\n",
    "\n",
    "<font color=red> Important: if you make a mistake, rerun ALL cells above the cell in which you were working, and then the one where you are working. </font>"
   ]
  },
  {
   "cell_type": "code",
   "execution_count": 20,
   "metadata": {},
   "outputs": [],
   "source": [
    "GJ_Inverse_alt!( A, B )"
   ]
  },
  {
   "cell_type": "code",
   "execution_count": 21,
   "metadata": {},
   "outputs": [
    {
     "data": {
      "text/plain": [
       "4×4 Array{Float64,2}:\n",
       " 1.0  0.0  0.0  0.0\n",
       " 0.0  1.0  0.0  0.0\n",
       " 0.0  0.0  1.0  0.0\n",
       " 0.0  0.0  0.0  1.0"
      ]
     },
     "execution_count": 21,
     "metadata": {},
     "output_type": "execute_result"
    }
   ],
   "source": [
    "A"
   ]
  },
  {
   "cell_type": "code",
   "execution_count": 22,
   "metadata": {},
   "outputs": [
    {
     "data": {
      "text/plain": [
       "4×4 Array{Float64,2}:\n",
       " -9.5  -4.0  -0.166667   1.08333 \n",
       "  3.0   1.0   0.0       -0.5     \n",
       "  7.0   3.0   0.333333  -0.666667\n",
       " -1.0   0.0   0.333333   0.333333"
      ]
     },
     "execution_count": 22,
     "metadata": {},
     "output_type": "execute_result"
    }
   ],
   "source": [
    "B"
   ]
  },
  {
   "cell_type": "markdown",
   "metadata": {},
   "source": [
    "Matrix $ A $ should now be an identity matrix and $ B $ should no longer be an identity matrix.\n",
    "\n",
    "Check if $ B $ now equals (approximately) the inverse of the original matrix $ A $:"
   ]
  },
  {
   "cell_type": "code",
   "execution_count": 23,
   "metadata": {},
   "outputs": [
    {
     "data": {
      "text/plain": [
       "4×4 Array{Float64,2}:\n",
       " 1.0  0.0  0.0           0.0        \n",
       " 0.0  1.0  5.55112e-17   5.55112e-17\n",
       " 0.0  0.0  1.0          -5.55112e-17\n",
       " 0.0  0.0  1.11022e-16   1.0        "
      ]
     },
     "execution_count": 23,
     "metadata": {},
     "output_type": "execute_result"
    }
   ],
   "source": [
    "Aold * B"
   ]
  },
  {
   "cell_type": "code",
   "execution_count": null,
   "metadata": {},
   "outputs": [],
   "source": []
  }
 ],
 "metadata": {
  "kernelspec": {
   "display_name": "Julia 1.0.1",
   "language": "julia",
   "name": "julia-1.0"
  },
  "language_info": {
   "file_extension": ".jl",
   "mimetype": "application/julia",
   "name": "julia",
   "version": "1.0.1"
  }
 },
 "nbformat": 4,
 "nbformat_minor": 1
}
