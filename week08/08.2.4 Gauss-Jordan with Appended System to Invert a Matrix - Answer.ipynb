{
 "cells": [
  {
   "cell_type": "markdown",
   "metadata": {},
   "source": [
    "# 8.2.4 Gauss-Jordan with Appended System to Invert a Matrix"
   ]
  },
  {
   "cell_type": "markdown",
   "metadata": {},
   "source": [
    "<font color=red> Copy this notebook first! At each step, if you make a mistake, rerun all the cells above the current cell!!!</font>\n",
    "\n",
    "<br>\n",
    "\n",
    "With this notebook, we walk you through Homework 8.2.4.  \n",
    "\n",
    "We start with the same appended system as in 8.2.4, except now we work with three right-hand sides, and pick those right-hand sides to be the unit basis vectors.  In other words, we append the identity matrix.\n",
    "\n",
    "Let's set this up as an appended matrix and the application of Gauss transforms.  Here matrix $ A $ holds the appended system\n",
    "$ \n",
    "\\left( \\begin{array}{ r r r | r r f}\n",
    "-2 & 2 & -5 & 1 & 0 & 0 \\\\\n",
    "2 & -3 & 7 & 0 & 1 & 0 \\\\\n",
    "-4 & 3 & -7 & 0 & 0 & 1\n",
    "\\end{array} \\right)\n",
    "$\n",
    "\n",
    "Fill in the ? in matrix $ A $.  Notice that the matrix on the left side of the appended system is the same as the matrix from 8.2.2 and 8.2.3. See what happens if you simply use the same Gauss transforms, and apply them to the appended system! "
   ]
  },
  {
   "cell_type": "code",
   "execution_count": 1,
   "metadata": {},
   "outputs": [
    {
     "name": "stdout",
     "output_type": "stream",
     "text": [
      "A = \n"
     ]
    },
    {
     "data": {
      "text/plain": [
       "3×6 Array{Int64,2}:\n",
       " -2   2  -5  1  0  0\n",
       "  2  -3   7  0  1  0\n",
       " -4   3  -7  0  0  1"
      ]
     },
     "execution_count": 1,
     "metadata": {},
     "output_type": "execute_result"
    }
   ],
   "source": [
    "A = [-2  2 -5     1  0  0\n",
    "      2 -3  7     0  1  0\n",
    "     -4  3 -7     0  0  1 ]\n",
    "\n",
    "println(\"A = \")\n",
    "A"
   ]
  },
  {
   "cell_type": "code",
   "execution_count": 2,
   "metadata": {},
   "outputs": [
    {
     "name": "stdout",
     "output_type": "stream",
     "text": [
      "A0 =\n"
     ]
    },
    {
     "data": {
      "text/plain": [
       "3×6 Array{Int64,2}:\n",
       " -2   2  -5   1  0  0\n",
       "  0  -1   2   1  1  0\n",
       "  0  -1   3  -2  0  1"
      ]
     },
     "execution_count": 2,
     "metadata": {},
     "output_type": "execute_result"
    }
   ],
   "source": [
    "G0 = [ 1  0  0\n",
    "       1  1  0\n",
    "      -2  0  1 ]\n",
    "\n",
    "A0 = G0 * A\n",
    "println(\"A0 =\")\n",
    "A0"
   ]
  },
  {
   "cell_type": "markdown",
   "metadata": {},
   "source": [
    "If you did this right, the result matrix $ A_0 = G_0 A $ has zeroes in the off-diagonal entries of the first column, which then corresponds to the answer to the first step in Homework 8.2.4.1:\n",
    "\n",
    "<img src=\"https://studio.edx.org/c4x/UTAustinX/UT.5.01x/asset/8_2_4_1_QuestionA.png\" width=\"75%\"> </img>"
   ]
  },
  {
   "cell_type": "markdown",
   "metadata": {},
   "source": [
    "The appended system is now represented by <code> A0 </code>:"
   ]
  },
  {
   "cell_type": "code",
   "execution_count": 3,
   "metadata": {},
   "outputs": [
    {
     "name": "stdout",
     "output_type": "stream",
     "text": [
      "A0 =\n"
     ]
    },
    {
     "data": {
      "text/plain": [
       "3×6 Array{Int64,2}:\n",
       " -2   2  -5   1  0  0\n",
       "  0  -1   2   1  1  0\n",
       "  0  -1   3  -2  0  1"
      ]
     },
     "execution_count": 3,
     "metadata": {},
     "output_type": "execute_result"
    }
   ],
   "source": [
    "println( \"A0 =\" )\n",
    "A0"
   ]
  },
  {
   "cell_type": "markdown",
   "metadata": {},
   "source": [
    "Now, use $ G_1 $ from Homework 8.2.2.1 to introduce zeroes in the off-diagonal elemental of the second column of $ A_0 $:"
   ]
  },
  {
   "cell_type": "code",
   "execution_count": 4,
   "metadata": {},
   "outputs": [
    {
     "name": "stdout",
     "output_type": "stream",
     "text": [
      "A1 = \n"
     ]
    },
    {
     "data": {
      "text/plain": [
       "3×6 Array{Int64,2}:\n",
       " -2   0  -1   3   2  0\n",
       "  0  -1   2   1   1  0\n",
       "  0   0   1  -3  -1  1"
      ]
     },
     "execution_count": 4,
     "metadata": {},
     "output_type": "execute_result"
    }
   ],
   "source": [
    "G1 = [ 1  2  0\n",
    "       0  1  0\n",
    "       0 -1  1 ]\n",
    "\n",
    "A1 = G1 * A0\n",
    "\n",
    "println( \"A1 = \" )\n",
    "A1"
   ]
  },
  {
   "cell_type": "markdown",
   "metadata": {},
   "source": [
    "If you did this right, the result matrix $ A_1 = G_1 A_0 = G_1 G_0 A $ has zeroes in the off-diagonal entries of the first column and the second column, which then corresponds to the answer to the second step in Homework 8.2.4.1:\n",
    "\n",
    "<img src=\"https://studio.edx.org/c4x/UTAustinX/UT.5.01x/asset/8_2_4_1_QuestionB.png\" width=\"75%\"> </img>"
   ]
  },
  {
   "cell_type": "markdown",
   "metadata": {},
   "source": [
    "The appended system is now represented by <code> A1 </code>:"
   ]
  },
  {
   "cell_type": "code",
   "execution_count": 5,
   "metadata": {},
   "outputs": [
    {
     "name": "stdout",
     "output_type": "stream",
     "text": [
      "A1 = \n"
     ]
    },
    {
     "data": {
      "text/plain": [
       "3×6 Array{Int64,2}:\n",
       " -2   0  -1   3   2  0\n",
       "  0  -1   2   1   1  0\n",
       "  0   0   1  -3  -1  1"
      ]
     },
     "execution_count": 5,
     "metadata": {},
     "output_type": "execute_result"
    }
   ],
   "source": [
    "println( \"A1 = \" )\n",
    "A1"
   ]
  },
  {
   "cell_type": "markdown",
   "metadata": {},
   "source": [
    "Now, use the $ G_2 $ from Homework 8.2.2 to introduce zeroes in the off-diagonal elemental of the third column of $ A_1 $:"
   ]
  },
  {
   "cell_type": "code",
   "execution_count": 6,
   "metadata": {},
   "outputs": [
    {
     "name": "stdout",
     "output_type": "stream",
     "text": [
      "A2 = \n"
     ]
    },
    {
     "data": {
      "text/plain": [
       "3×6 Array{Int64,2}:\n",
       " -2   0  0   0   1   1\n",
       "  0  -1  0   7   3  -2\n",
       "  0   0  1  -3  -1   1"
      ]
     },
     "execution_count": 6,
     "metadata": {},
     "output_type": "execute_result"
    }
   ],
   "source": [
    "G2 = [ 1  0  1\n",
    "       0  1 -2\n",
    "       0  0  1 ]\n",
    "\n",
    "A2 = G2 * A1\n",
    "\n",
    "println( \"A2 = \" )\n",
    "A2"
   ]
  },
  {
   "cell_type": "markdown",
   "metadata": {},
   "source": [
    "If you did this right, the result matrix $ A_2 = G_2 A_1 = G_2 G_1 A_0 = G_2 G_1 G_0 A $ has zeroes in the off-diagonal entries of the first, second, and third column, which then corresponds to the answer to the third step in Homework 8.2.4.1:\n",
    "\n",
    "<img src=\"https://studio.edx.org/c4x/UTAustinX/UT.5.01x/asset/8_2_4_1_QuestionC.png\" width=\"75%\"> </img>"
   ]
  },
  {
   "cell_type": "markdown",
   "metadata": {},
   "source": [
    "The appended system is now represented by <code> A2 </code>:"
   ]
  },
  {
   "cell_type": "code",
   "execution_count": 7,
   "metadata": {},
   "outputs": [
    {
     "name": "stdout",
     "output_type": "stream",
     "text": [
      "A2 = \n"
     ]
    },
    {
     "data": {
      "text/plain": [
       "3×6 Array{Int64,2}:\n",
       " -2   0  0   0   1   1\n",
       "  0  -1  0   7   3  -2\n",
       "  0   0  1  -3  -1   1"
      ]
     },
     "execution_count": 7,
     "metadata": {},
     "output_type": "execute_result"
    }
   ],
   "source": [
    "println( \"A2 = \" )\n",
    "A2"
   ]
  },
  {
   "cell_type": "markdown",
   "metadata": {},
   "source": [
    "Now, use the diagonal matrix $ D $ from Homework 8.2.2 to set the diagonal elements in the appended system to one, making the first three columns into an identity matrix:"
   ]
  },
  {
   "cell_type": "code",
   "execution_count": 8,
   "metadata": {},
   "outputs": [
    {
     "name": "stdout",
     "output_type": "stream",
     "text": [
      "A3 = \n"
     ]
    },
    {
     "data": {
      "text/plain": [
       "3×6 Array{Float64,2}:\n",
       " 1.0  0.0  0.0   0.0  -0.5  -0.5\n",
       " 0.0  1.0  0.0  -7.0  -3.0   2.0\n",
       " 0.0  0.0  1.0  -3.0  -1.0   1.0"
      ]
     },
     "execution_count": 8,
     "metadata": {},
     "output_type": "execute_result"
    }
   ],
   "source": [
    "D = [-0.5  0   0\n",
    "      0   -1   0\n",
    "      0    0   1 ]\n",
    "\n",
    "A3 = D * A2\n",
    "\n",
    "println( \"A3 = \" )\n",
    "A3"
   ]
  },
  {
   "cell_type": "markdown",
   "metadata": {},
   "source": [
    "If you did this right, the result matrix \n",
    "\n",
    "$ A_3 = D A_2 = D G_2 A_1 = D G_2 G_1 A_0 = D G_2 G_1 G_0 A $ \n",
    "\n",
    "has an identity in the first three columns, which then corresponds to the answer to the fourth step in Homework 8.2.4.1:\n",
    "\n",
    "<img src=\"https://studio.edx.org/c4x/UTAustinX/UT.5.01x/asset/8_2_4_1_QuestionD.png\" width=\"75%\"> </img>"
   ]
  },
  {
   "cell_type": "markdown",
   "metadata": {},
   "source": [
    "If you did this right, the last three columns of the appended system now contain the inverse of the original matrix $ A $.\n",
    "\n",
    "Let's see what happens if we create a matrix $ B $ from the last three columns, restore the matrix $ A $ to its original contents, and multiply $ A B $:"
   ]
  },
  {
   "cell_type": "code",
   "execution_count": 9,
   "metadata": {},
   "outputs": [
    {
     "name": "stdout",
     "output_type": "stream",
     "text": [
      "B = \n"
     ]
    },
    {
     "data": {
      "text/plain": [
       "3×3 Array{Float64,2}:\n",
       "  0.0  -0.5  -0.5\n",
       " -7.0  -3.0   2.0\n",
       " -3.0  -1.0   1.0"
      ]
     },
     "execution_count": 9,
     "metadata": {},
     "output_type": "execute_result"
    }
   ],
   "source": [
    "B = A3[ 1:3, 4:6 ]\n",
    "\n",
    "println(\"B = \")\n",
    "B"
   ]
  },
  {
   "cell_type": "code",
   "execution_count": 10,
   "metadata": {},
   "outputs": [
    {
     "name": "stdout",
     "output_type": "stream",
     "text": [
      "A = \n"
     ]
    },
    {
     "data": {
      "text/plain": [
       "3×3 Array{Int64,2}:\n",
       " -2   2  -5\n",
       "  2  -3   7\n",
       " -4   3  -7"
      ]
     },
     "execution_count": 10,
     "metadata": {},
     "output_type": "execute_result"
    }
   ],
   "source": [
    "A = [-2  2 -5\n",
    "      2 -3  7\n",
    "     -4  3 -7 ]\n",
    "\n",
    "println(\"A = \")\n",
    "A"
   ]
  },
  {
   "cell_type": "code",
   "execution_count": 11,
   "metadata": {},
   "outputs": [
    {
     "name": "stdout",
     "output_type": "stream",
     "text": [
      "A * B = \n"
     ]
    },
    {
     "data": {
      "text/plain": [
       "3×3 Array{Float64,2}:\n",
       " 1.0  0.0  0.0\n",
       " 0.0  1.0  0.0\n",
       " 0.0  0.0  1.0"
      ]
     },
     "execution_count": 11,
     "metadata": {},
     "output_type": "execute_result"
    }
   ],
   "source": [
    "println(\"A * B = \")\n",
    "A * B"
   ]
  },
  {
   "cell_type": "markdown",
   "metadata": {},
   "source": [
    "Hopefully, yielded the answer to the last part of 8.2.4.1:\n",
    "\n",
    "<img src=\"https://studio.edx.org/c4x/UTAustinX/UT.5.01x/asset/8_2_4_1_QuestionE.png\" width=\"75%\"> </img>"
   ]
  },
  {
   "cell_type": "code",
   "execution_count": null,
   "metadata": {},
   "outputs": [],
   "source": []
  }
 ],
 "metadata": {
  "kernelspec": {
   "display_name": "Julia 1.0.1",
   "language": "julia",
   "name": "julia-1.0"
  },
  "language_info": {
   "file_extension": ".jl",
   "mimetype": "application/julia",
   "name": "julia",
   "version": "1.0.1"
  }
 },
 "nbformat": 4,
 "nbformat_minor": 1
}
