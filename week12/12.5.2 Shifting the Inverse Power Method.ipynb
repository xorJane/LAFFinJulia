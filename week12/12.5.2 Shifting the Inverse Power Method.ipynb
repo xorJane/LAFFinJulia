{
 "cells": [
  {
   "cell_type": "markdown",
   "metadata": {},
   "source": [
    "#     12.5.2 Shifting the Inverse Power Method"
   ]
  },
  {
   "cell_type": "markdown",
   "metadata": {},
   "source": [
    "With this notebook, we demonstrate how the Inverse Power Method can be accelerated by shifting the matrix.\n",
    "\n",
    "<font color=red> Be sure to make a copy!!!! </font>"
   ]
  },
  {
   "cell_type": "markdown",
   "metadata": {},
   "source": [
    "We start by creating a matrix with known eigenvalues and eigenvectors\n",
    "\n",
    "How do we do this?  \n",
    "<ul>\n",
    "  <li>\n",
    "    We want a matrix that is not deficient, since otherwise the Shifted Inverse Power Method may not work. \n",
    "  </li>\n",
    "  <li>\n",
    "    Hence, $ A = V \\Lambda V^{-1} $ for some diagonal matrix $ \\Lambda $ and nonsingular matrix $ V $.  The eigenvalues are then on the diagonal of $ \\Lambda $ and the eigenvectors are the columns of $ V $.\n",
    "    </li>\n",
    "    <li>\n",
    "    So, let's pick the eigenvalues for the diagonal of $ \\Lambda $ and let's pick a random matrix $ V $ (in the hopes that it has linearly independent columns) and then let's see what happens.  \n",
    "    </li>\n",
    "    </ul>\n",
    "\n",
    "<font color=red> Experiment by changing the eigenvalues!  What happens if you make the second entry on the diagonal equal to -4?  Or what if you set 2 to -1? </font>"
   ]
  },
  {
   "cell_type": "code",
   "execution_count": 11,
   "metadata": {},
   "outputs": [
    {
     "name": "stdout",
     "output_type": "stream",
     "text": [
      "Λ = \n"
     ]
    },
    {
     "data": {
      "text/plain": [
       "4×4 Diagonal{Float64,Array{Float64,1}}:\n",
       " 4.0   ⋅    ⋅    ⋅ \n",
       "  ⋅   3.0   ⋅    ⋅ \n",
       "  ⋅    ⋅   2.0   ⋅ \n",
       "  ⋅    ⋅    ⋅   1.0"
      ]
     },
     "execution_count": 11,
     "metadata": {},
     "output_type": "execute_result"
    }
   ],
   "source": [
    "using LinearAlgebra\n",
    "\n",
    "Λ = Diagonal([4., 3., 2., 1.])\n",
    "\n",
    "λ1 = Λ[1, 1]\n",
    "\n",
    "V = rand(4, 4)\n",
    "\n",
    "# normalize the columns of V to each have a length of one\n",
    "for j in 1:4\n",
    "    V[:, j:j] = V[:, j:j] / sqrt( V[:, j]' * V[:, j])\n",
    "end\n",
    "\n",
    "A = V * Λ * inv(V)\n",
    "\n",
    "println(\"Λ = \")\n",
    "Λ"
   ]
  },
  {
   "cell_type": "code",
   "execution_count": 12,
   "metadata": {},
   "outputs": [
    {
     "name": "stdout",
     "output_type": "stream",
     "text": [
      "V = \n"
     ]
    },
    {
     "data": {
      "text/plain": [
       "4×4 Array{Float64,2}:\n",
       " 0.401898  0.413966  0.404508  0.661614\n",
       " 0.827046  0.436008  0.390839  0.488107\n",
       " 0.113078  0.552455  0.55678   0.160282\n",
       " 0.376412  0.577341  0.61124   0.546195"
      ]
     },
     "execution_count": 12,
     "metadata": {},
     "output_type": "execute_result"
    }
   ],
   "source": [
    "println(\"V = \")\n",
    "V"
   ]
  },
  {
   "cell_type": "code",
   "execution_count": 13,
   "metadata": {},
   "outputs": [
    {
     "name": "stdout",
     "output_type": "stream",
     "text": [
      "A = \n"
     ]
    },
    {
     "data": {
      "text/plain": [
       "4×4 Array{Float64,2}:\n",
       " 4.56531  2.82118  5.40654   -8.42643\n",
       " 1.30818  6.17767  4.33174   -7.4828 \n",
       " 7.64106  1.48573  9.88757  -13.1915 \n",
       " 5.59424  2.8762   7.78272  -10.6306 "
      ]
     },
     "execution_count": 13,
     "metadata": {},
     "output_type": "execute_result"
    }
   ],
   "source": [
    "println(\"A = \")\n",
    "A"
   ]
  },
  {
   "cell_type": "markdown",
   "metadata": {},
   "source": [
    "The idea is as follows:\n",
    "\n",
    "The eigenvalues of $ A $ are $ \\lambda_1, \\ldots, \\lambda_4 $ with\n",
    "\n",
    "$$\n",
    "\\vert \\lambda_1 \\vert > \\vert \\lambda_2 \\vert > \\vert \\lambda_3 \\vert > \\vert \\lambda_4 \\vert > 0\n",
    "$$\n",
    "\n",
    "and how fast the iteration converges depends on the ratio \n",
    "\n",
    "$$\n",
    "\\left\\vert \\frac{\\lambda_4}{\\lambda_3} \\right\\vert .\n",
    "$$\n",
    "Now, if you pick a value, $ \\mu $ close to $ \\lambda_4 $, and you iterate with $ A - \\mu I $ (which is known as shifting the matrix/spectrum by $ \\mu $) you can greatly improve the ratio\n",
    "$$\n",
    "\\left\\vert \\frac{\\lambda_4-\\mu}{\\lambda_3-\\mu} \\right\\vert .\n",
    "$$\n",
    "\n",
    "Try different values of $ \\mu$.  What if you pick $ \\mu \\approx 2 $?  \n",
    "What if you pick $ \\mu = 0.8 $?"
   ]
  },
  {
   "cell_type": "code",
   "execution_count": 14,
   "metadata": {},
   "outputs": [
    {
     "name": "stdout",
     "output_type": "stream",
     "text": [
      "Rayleigh quotient with vector x: 0.9535046611957441\n",
      "inner product of x with v4     : 0.9994262074827158  \n",
      "\n",
      "Rayleigh quotient with vector x: 1.008308950253941\n",
      "inner product of x with v4     : 0.9999506104387562  \n",
      "\n",
      "Rayleigh quotient with vector x: 1.0028995250926407\n",
      "inner product of x with v4     : 0.9999978787132767  \n",
      "\n",
      "Rayleigh quotient with vector x: 1.0006212033662651\n",
      "inner product of x with v4     : 0.9999999281598289  \n",
      "\n",
      "Rayleigh quotient with vector x: 1.0001160340626962\n",
      "inner product of x with v4     : 0.9999999977974049  \n",
      "\n",
      "Rayleigh quotient with vector x: 1.0000204734695066\n",
      "inner product of x with v4     : 0.9999999999355833  \n",
      "\n",
      "Rayleigh quotient with vector x: 1.0000035153220281\n",
      "inner product of x with v4     : 0.9999999999981608  \n",
      "\n",
      "Rayleigh quotient with vector x: 1.0000005952568074\n",
      "inner product of x with v4     : 0.9999999999999483  \n",
      "\n",
      "Rayleigh quotient with vector x: 1.0000001000613086\n",
      "inner product of x with v4     : 0.9999999999999987  \n",
      "\n",
      "Rayleigh quotient with vector x: 1.0000000167543364\n",
      "inner product of x with v4     : 1.0  \n",
      "\n"
     ]
    }
   ],
   "source": [
    "# Pick a random starting vector and a value of μ\n",
    "x = rand( 4 )\n",
    "μ = 0.8\n",
    "\n",
    "# We should really compute a factorization of A, but let's be lazy, and compute the inverse\n",
    "# explicitly\n",
    "Ainv = inv( A - μ * I )\n",
    "\n",
    "for i in 1:10\n",
    "    x = Ainv * x \n",
    "    \n",
    "    # normalize x to length one\n",
    "    x = x / sqrt( transpose( x ) * x )\n",
    "    \n",
    "    # Notice we compute the Rayleigh quotient with matrix A, not Ainv.  This is because\n",
    "    # the eigenvector of A is an eigenvector of Ainv\n",
    "    println(\"Rayleigh quotient with vector x: $(x'*A*x / (x'x))\")\n",
    "    println(\"inner product of x with v4     : $(x' * V[:, 4])  \\n\" )\n",
    "end"
   ]
  },
  {
   "cell_type": "markdown",
   "metadata": {},
   "source": [
    "In the above, \n",
    " <ul>\n",
    " <li>\n",
    " The Rayleigh quotient should converge to 1.0 (quickly if $ \\mu \\approx 1 $).\n",
    " </li>\n",
    " <li>\n",
    " The inner product of $ x $ and the last column of $ V $, $ v_{n} $, should converge to 1 or -1 since eventually $ x $ should be in the direction of $ v_{n} $ (or in the opposite direction).\n",
    " </li>\n",
    " </ul>\n",
    " \n",
    " This time, if you change the \"2\" on the diagonal to \"-1\", you still converge to $ v_{n} $ because for the matrix $ A - \\mu I $, $ -1 - \\mu $ is not as small as $ 1 - \\mu $ (in magnitude).\n",
    "\n",
    " You can check this by looking at $ ( I - V_R ( V_R^T V_R )^{-1} V_R^T ) x $, where $V_R $ equals the matrix with $ v_3 $ and $ v_4 $ as its columns, to see if the vector orthogonal to $ {\\cal C}( V_R ) $ converges to zero. This is seen in the following code block:\n"
   ]
  },
  {
   "cell_type": "code",
   "execution_count": 15,
   "metadata": {},
   "outputs": [
    {
     "data": {
      "text/plain": [
       "4×2 Array{Float64,2}:\n",
       " 0.404508  0.661614\n",
       " 0.390839  0.488107\n",
       " 0.55678   0.160282\n",
       " 0.61124   0.546195"
      ]
     },
     "execution_count": 15,
     "metadata": {},
     "output_type": "execute_result"
    }
   ],
   "source": [
    "VR = V[:, 3:4]"
   ]
  },
  {
   "cell_type": "code",
   "execution_count": 16,
   "metadata": {},
   "outputs": [
    {
     "data": {
      "text/plain": [
       "4-element Array{Float64,1}:\n",
       "  2.2393198406689407e-13\n",
       " -2.0349277818354494e-12\n",
       " -6.392109064279339e-13 \n",
       "  1.7346124536743446e-12"
      ]
     },
     "execution_count": 16,
     "metadata": {},
     "output_type": "execute_result"
    }
   ],
   "source": [
    "w = x - VR * inv(VR'VR) * VR' * x"
   ]
  }
 ],
 "metadata": {
  "kernelspec": {
   "display_name": "Julia 1.0.1",
   "language": "julia",
   "name": "julia-1.0"
  },
  "language_info": {
   "file_extension": ".jl",
   "mimetype": "application/julia",
   "name": "julia",
   "version": "1.0.1"
  }
 },
 "nbformat": 4,
 "nbformat_minor": 1
}
