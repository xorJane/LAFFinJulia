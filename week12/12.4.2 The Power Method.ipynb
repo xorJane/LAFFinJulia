{
 "cells": [
  {
   "cell_type": "markdown",
   "metadata": {},
   "source": [
    "#     12.4.2 The Power Method"
   ]
  },
  {
   "cell_type": "markdown",
   "metadata": {},
   "source": [
    "With this notebook, we demonstrate how the Power Method can be used to compute the eigenvector associated with the largest eigenvalue (in magnitude).\n",
    "\n",
    "<font color=red> Be sure to make a copy!!!! </font>"
   ]
  },
  {
   "cell_type": "markdown",
   "metadata": {},
   "source": [
    "We start by creating a matrix with known eigenvalues and eigenvectors\n",
    "\n",
    "How do we do this?  \n",
    "<ul>\n",
    "  <li>\n",
    "    We want a matrix that is not deficient, since otherwise the Power Method may not work. \n",
    "  </li>\n",
    "  <li>\n",
    "    Hence, $ A = V \\Lambda V^{-1} $ for some diagonal matrix $ \\Lambda $ and nonsingular matrix $ V $.  The eigenvalues are then on the diagonal of $ \\Lambda $ and the eigenvectors are the columns of $ V $.\n",
    "    </li>\n",
    "    <li>\n",
    "    So, let's pick the eigenvalues for the diagonal of $ \\Lambda $ and let's pick a random matrix $ V $ (in the hopes that it has linearly independent columns) and then let's see what happens.  \n",
    "    </li>\n",
    "    </ul>\n",
    "\n",
    "<font color=red> Experiment by changing the eigenvalues!  What happens if you make the second entry on the diagonal equal to -4?  Or what if you set 2 to -1? </font>"
   ]
  },
  {
   "cell_type": "code",
   "execution_count": 41,
   "metadata": {},
   "outputs": [
    {
     "name": "stdout",
     "output_type": "stream",
     "text": [
      "Λ = \n"
     ]
    },
    {
     "data": {
      "text/plain": [
       "4×4 Diagonal{Float64,Array{Float64,1}}:\n",
       " 4.0   ⋅    ⋅    ⋅ \n",
       "  ⋅   3.0   ⋅    ⋅ \n",
       "  ⋅    ⋅   2.0   ⋅ \n",
       "  ⋅    ⋅    ⋅   1.0"
      ]
     },
     "execution_count": 41,
     "metadata": {},
     "output_type": "execute_result"
    }
   ],
   "source": [
    "using LinearAlgebra\n",
    "\n",
    "Λ = Diagonal([4., 3., 2., 1.])\n",
    "\n",
    "λ1 = Λ[1, 1]\n",
    "\n",
    "V = rand(4, 4)\n",
    "\n",
    "# normalize the columns of V to each have a length of one\n",
    "for j in 1:4\n",
    "    V[ :, j ] = V[ :, j ] / sqrt( V[:,j]' * V[:, j ] )\n",
    "end\n",
    "\n",
    "A = V * Λ * inv(V)\n",
    "\n",
    "println(\"Λ = \")\n",
    "Λ"
   ]
  },
  {
   "cell_type": "code",
   "execution_count": 42,
   "metadata": {},
   "outputs": [
    {
     "name": "stdout",
     "output_type": "stream",
     "text": [
      "V = \n"
     ]
    },
    {
     "data": {
      "text/plain": [
       "4×4 Array{Float64,2}:\n",
       " 0.314446   0.0419312  0.421083   0.528991 \n",
       " 0.504106   0.138744   0.794917   0.0859131\n",
       " 0.804199   0.0962025  0.426      0.734617 \n",
       " 0.0162952  0.984752   0.0965385  0.416083 "
      ]
     },
     "execution_count": 42,
     "metadata": {},
     "output_type": "execute_result"
    }
   ],
   "source": [
    "println(\"V = \")\n",
    "V"
   ]
  },
  {
   "cell_type": "code",
   "execution_count": 43,
   "metadata": {},
   "outputs": [
    {
     "name": "stdout",
     "output_type": "stream",
     "text": [
      "A  = \n"
     ]
    },
    {
     "data": {
      "text/plain": [
       "4×4 Array{Float64,2}:\n",
       " -1.07415  0.865998  1.44299   -0.089502 \n",
       " -3.26774  2.56585   2.17694   -0.0123592\n",
       " -6.4397   1.52268   5.56735   -0.191139 \n",
       " -2.11745  0.831513  0.328165   2.94095  "
      ]
     },
     "execution_count": 43,
     "metadata": {},
     "output_type": "execute_result"
    }
   ],
   "source": [
    "println(\"A  = \")\n",
    "A"
   ]
  },
  {
   "cell_type": "code",
   "execution_count": 44,
   "metadata": {},
   "outputs": [
    {
     "name": "stdout",
     "output_type": "stream",
     "text": [
      "Iteration 1:\n",
      "Rayleigh quotient with vector x: 0.8966114399159364\n",
      "inner product of x with v1     : 0.25495549693193725  \n",
      "\n",
      "Iteration 11:\n",
      "Rayleigh quotient with vector x: 4.000757479101614\n",
      "inner product of x with v1     : -0.9999809968628672  \n",
      "\n",
      "Iteration 21:\n",
      "Rayleigh quotient with vector x: 3.999938463739041\n",
      "inner product of x with v1     : -0.9999999377912783  \n",
      "\n",
      "Iteration 31:\n",
      "Rayleigh quotient with vector x: 3.9999964374038526\n",
      "inner product of x with v1     : -0.99999999980257  \n",
      "\n",
      "Iteration 41:\n",
      "Rayleigh quotient with vector x: 3.9999997992967526\n",
      "inner product of x with v1     : -0.999999999999374  \n",
      "\n",
      "Iteration 51:\n",
      "Rayleigh quotient with vector x: 3.9999999886976627\n",
      "inner product of x with v1     : -0.9999999999999981  \n",
      "\n",
      "Iteration 61:\n",
      "Rayleigh quotient with vector x: 3.999999999363527\n",
      "inner product of x with v1     : -1.0  \n",
      "\n",
      "Iteration 71:\n",
      "Rayleigh quotient with vector x: 3.999999999964159\n",
      "inner product of x with v1     : -1.0  \n",
      "\n",
      "Iteration 81:\n",
      "Rayleigh quotient with vector x: 3.9999999999979825\n",
      "inner product of x with v1     : -1.0  \n",
      "\n",
      "Iteration 91:\n",
      "Rayleigh quotient with vector x: 3.9999999999998876\n",
      "inner product of x with v1     : -1.0  \n",
      "\n",
      "Iteration 101:\n",
      "Rayleigh quotient with vector x: 3.9999999999999942\n",
      "inner product of x with v1     : -0.9999999999999999  \n",
      "\n"
     ]
    }
   ],
   "source": [
    "# Pick a random starting vector\n",
    "x = rand(4)\n",
    "\n",
    "for i in 1:101\n",
    "    x = A * x\n",
    "    \n",
    "    # normalize x to length one\n",
    "    x = x / sqrt(x'x)\n",
    "    \n",
    "    if i % 10 == 1\n",
    "        println(\"Iteration $i:\")\n",
    "        println(\"Rayleigh quotient with vector x: $(x'*A*x / (x'x))\")\n",
    "        println(\"inner product of x with v1     : $(x' * V[:, 1])  \\n\" )\n",
    "    end\n",
    "end"
   ]
  },
  {
   "cell_type": "markdown",
   "metadata": {},
   "source": [
    "In the above, \n",
    " <ul>\n",
    " <li>\n",
    " The Rayleigh quotient should converge to 4.0 (slowly).\n",
    " </li>\n",
    " <li>\n",
    " The inner product of $ x $ and the first column of $ V $, $ v_1 $, should converge to 1 or -1 since eventually $ x $ should be in the direction of $ v_1 $ (or in the opposite direction).\n",
    " </li>\n",
    " </ul>\n",
    " \n",
    "If you change the \"3\" on the diagonal to \"-4\", then you have two largest eigenvalues (in magnitude), and the vector $ x $ will end up in the space spanned by $ v_1 $ and $ v_2 $. \n",
    " You can check this by looking at $ ( I - V_L ( V_L^T V_L )^{-1} V_L^T ) x $, where $V_L $ equals the matrix with $ v_1 $ and $ v_2 $ as its columns, to see if the vector orthogonal to $ {\\cal C}( V_L ) $ converges to zero. This is seen in the following code block:\n",
    "\n"
   ]
  },
  {
   "cell_type": "code",
   "execution_count": 36,
   "metadata": {},
   "outputs": [
    {
     "data": {
      "text/plain": [
       "4×2 Array{Float64,2}:\n",
       " 0.411125   0.54302 \n",
       " 0.741534   0.423535\n",
       " 0.525342   0.61062 \n",
       " 0.0715421  0.391012"
      ]
     },
     "execution_count": 36,
     "metadata": {},
     "output_type": "execute_result"
    }
   ],
   "source": [
    "VL = V[:, 1:2]"
   ]
  },
  {
   "cell_type": "code",
   "execution_count": 37,
   "metadata": {},
   "outputs": [
    {
     "name": "stdout",
     "output_type": "stream",
     "text": [
      "Norm of orthogonal component: 1.0039119183961511e-15\n"
     ]
    }
   ],
   "source": [
    "w = x - VL * inv( VL'VL ) * VL' * x\n",
    "println(\"Norm of orthogonal component: \", norm(w))"
   ]
  },
  {
   "cell_type": "code",
   "execution_count": null,
   "metadata": {},
   "outputs": [],
   "source": []
  }
 ],
 "metadata": {
  "kernelspec": {
   "display_name": "Julia 1.0.1",
   "language": "julia",
   "name": "julia-1.0"
  },
  "language_info": {
   "file_extension": ".jl",
   "mimetype": "application/julia",
   "name": "julia",
   "version": "1.0.1"
  }
 },
 "nbformat": 4,
 "nbformat_minor": 1
}
