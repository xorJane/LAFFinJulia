{
 "cells": [
  {
   "cell_type": "markdown",
   "metadata": {},
   "source": [
    "#     12.4.2 The Power Method"
   ]
  },
  {
   "cell_type": "markdown",
   "metadata": {},
   "source": [
    "With this notebook, we demonstrate how the Power Method can be used to compute the eigenvector associated with the largest eigenvalue (in magnitude).\n",
    "\n",
    "<font color=red> Be sure to make a copy!!!! </font>"
   ]
  },
  {
   "cell_type": "markdown",
   "metadata": {},
   "source": [
    "We start by creating a matrix with known eigenvalues and eigenvectors\n",
    "\n",
    "How do we do this?  \n",
    "<ul>\n",
    "  <li>\n",
    "    We want a matrix that is not deficient, since otherwise the Power Method may not work. \n",
    "  </li>\n",
    "  <li>\n",
    "    Hence, $ A = V \\Lambda V^{-1} $ for some diagonal matrix $ \\Lambda $ and nonsingular matrix $ V $.  The eigenvalues are then on the diagonal of $ \\Lambda $ and the eigenvectors are the columns of $ V $.\n",
    "    </li>\n",
    "    <li>\n",
    "    So, let's pick the eigenvalues for the diagonal of $ \\Lambda $ and let's pick a random matrix $ V $ (in the hopes that it has linearly independent columns) and then let's see what happens.  \n",
    "    </li>\n",
    "    </ul>\n",
    "\n",
    "<font color=red> Experiment by changing the eigenvalues!  What happens if you make the second entry on the diagonal equal to -4?  Or what if you set 2 to -1? </font>"
   ]
  },
  {
   "cell_type": "code",
   "execution_count": 7,
   "metadata": {},
   "outputs": [
    {
     "name": "stdout",
     "output_type": "stream",
     "text": [
      "λ = \n"
     ]
    },
    {
     "data": {
      "text/plain": [
       "4×4 Diagonal{Float64,Array{Float64,1}}:\n",
       " 4.0   ⋅    ⋅    ⋅ \n",
       "  ⋅   3.0   ⋅    ⋅ \n",
       "  ⋅    ⋅   2.0   ⋅ \n",
       "  ⋅    ⋅    ⋅   1.0"
      ]
     },
     "execution_count": 7,
     "metadata": {},
     "output_type": "execute_result"
    }
   ],
   "source": [
    "using LinearAlgebra\n",
    "\n",
    "λ = Diagonal([4., 3., 2., 1.])\n",
    "\n",
    "λ0 = λ[1, 1]\n",
    "\n",
    "V = rand(4, 4)\n",
    "\n",
    "# normalize the columns of V to each have a length of one\n",
    "for j in 1:4\n",
    "    V[ :, j ] = V[ :, j ] / sqrt( V[:,j]' * V[:, j ] )\n",
    "end\n",
    "\n",
    "A = V * λ * inv(V)\n",
    "\n",
    "println(\"λ = \")\n",
    "λ"
   ]
  },
  {
   "cell_type": "code",
   "execution_count": 8,
   "metadata": {},
   "outputs": [
    {
     "name": "stdout",
     "output_type": "stream",
     "text": [
      "V = \n"
     ]
    },
    {
     "data": {
      "text/plain": [
       "4×4 Array{Float64,2}:\n",
       " 0.675807   0.0591527  0.199495  0.434895\n",
       " 0.0708917  0.104294   0.438066  0.60922 \n",
       " 0.72405    0.840047   0.637372  0.44796 \n",
       " 0.118371   0.529098   0.601712  0.488927"
      ]
     },
     "execution_count": 8,
     "metadata": {},
     "output_type": "execute_result"
    }
   ],
   "source": [
    "println(\"V = \")\n",
    "V"
   ]
  },
  {
   "cell_type": "code",
   "execution_count": 9,
   "metadata": {},
   "outputs": [
    {
     "name": "stdout",
     "output_type": "stream",
     "text": [
      "A  = \n"
     ]
    },
    {
     "data": {
      "text/plain": [
       "4×4 Array{Float64,2}:\n",
       " 26.5227   -34.9547   -24.7099     43.4922 \n",
       " 17.0416   -23.8824   -18.5444     32.8366 \n",
       "  3.9225    -6.52351    0.0815077   5.48103\n",
       "  2.34714   -5.07442   -2.22985     7.27816"
      ]
     },
     "execution_count": 9,
     "metadata": {},
     "output_type": "execute_result"
    }
   ],
   "source": [
    "println(\"A  = \")\n",
    "A"
   ]
  },
  {
   "cell_type": "code",
   "execution_count": 29,
   "metadata": {},
   "outputs": [
    {
     "name": "stdout",
     "output_type": "stream",
     "text": [
      "Iteration 1:\n",
      "Rayleigh quotient with vector x: 3.5811376180391914\n",
      "inner product of x with v0     : 0.7276302433542429  \n",
      "\n",
      "Iteration 11:\n",
      "Rayleigh quotient with vector x: 4.085581681956546\n",
      "inner product of x with v0     : 0.9955862973232069  \n",
      "\n",
      "Iteration 21:\n",
      "Rayleigh quotient with vector x: 4.00508033944331\n",
      "inner product of x with v0     : 0.9999877618091384  \n",
      "\n",
      "Iteration 31:\n",
      "Rayleigh quotient with vector x: 4.000286215252883\n",
      "inner product of x with v0     : 0.9999999615380831  \n",
      "\n",
      "Iteration 41:\n",
      "Rayleigh quotient with vector x: 4.0000161177112075\n",
      "inner product of x with v0     : 0.9999999998780936  \n",
      "\n",
      "Iteration 51:\n",
      "Rayleigh quotient with vector x: 4.000000907644401\n",
      "inner product of x with v0     : 0.9999999999996135  \n",
      "\n",
      "Iteration 61:\n",
      "Rayleigh quotient with vector x: 4.000000051112723\n",
      "inner product of x with v0     : 0.9999999999999988  \n",
      "\n",
      "Iteration 71:\n",
      "Rayleigh quotient with vector x: 4.000000002878412\n",
      "inner product of x with v0     : 1.0  \n",
      "\n",
      "Iteration 81:\n",
      "Rayleigh quotient with vector x: 4.000000000162176\n",
      "inner product of x with v0     : 1.0  \n",
      "\n",
      "Iteration 91:\n",
      "Rayleigh quotient with vector x: 4.000000000009222\n",
      "inner product of x with v0     : 1.0  \n",
      "\n",
      "Iteration 101:\n",
      "Rayleigh quotient with vector x: 4.000000000000601\n",
      "inner product of x with v0     : 1.0000000000000002  \n",
      "\n"
     ]
    }
   ],
   "source": [
    "# Pick a random starting vector\n",
    "x = rand(4)\n",
    "\n",
    "for i in 1:101\n",
    "    x = A * x\n",
    "    \n",
    "    # normalize x to length one\n",
    "    x = x / sqrt(x'x)\n",
    "    \n",
    "    if i % 10 == 1\n",
    "        println(\"Iteration $i:\")\n",
    "        println(\"Rayleigh quotient with vector x: $(x'*A*x / (x'x))\")\n",
    "        println(\"inner product of x with v0     : $(x' * V[:, 1])  \\n\" )\n",
    "    end\n",
    "end"
   ]
  },
  {
   "cell_type": "markdown",
   "metadata": {},
   "source": [
    "In the above, \n",
    " <ul>\n",
    " <li>\n",
    " The Rayleigh quotient should converge to 4.0 (slowly).\n",
    " </li>\n",
    " <li>\n",
    " The inner product of $ x $ and the first column of $ V $, $ v_0 $, should converge to 1 or -1 since eventually $ x $ should be in the direction of $ v_0 $ (or in the opposite direction).\n",
    " </li>\n",
    " </ul>\n",
    " \n",
    "If you change the \"3\" on the diagonal to \"-4\", then you have two largest eigenvalues (in magnitude), and the vector $ x $ will end up in the space spanned by $ v_0 $ and $ v_1 $. \n",
    " You can check this by looking at $ ( I - V_L ( V_L^T V_L )^{-1} V_L^T ) x $, where $V_L $ equals the matrix with $ v_0 $ and $ v_1 $ as its columns, to see if the vector orthogonal to $ {\\cal C}( V_L ) $ converges to zero. This is seen in the following code block:\n",
    "\n"
   ]
  },
  {
   "cell_type": "code",
   "execution_count": 30,
   "metadata": {},
   "outputs": [
    {
     "data": {
      "text/plain": [
       "4×2 Array{Float64,2}:\n",
       " 0.675807   0.0591527\n",
       " 0.0708917  0.104294 \n",
       " 0.72405    0.840047 \n",
       " 0.118371   0.529098 "
      ]
     },
     "execution_count": 30,
     "metadata": {},
     "output_type": "execute_result"
    }
   ],
   "source": [
    "VL = V[:, 1:2]"
   ]
  },
  {
   "cell_type": "code",
   "execution_count": 31,
   "metadata": {},
   "outputs": [
    {
     "name": "stdout",
     "output_type": "stream",
     "text": [
      "Norm of orthogonal component: 2.9415649869811416e-14\n"
     ]
    }
   ],
   "source": [
    "w = x - VL * inv( VL'VL ) * VL' * x\n",
    "println(\"Norm of orthogonal component: \", norm(w))"
   ]
  }
 ],
 "metadata": {
  "kernelspec": {
   "display_name": "Julia 1.0.1",
   "language": "julia",
   "name": "julia-1.0"
  },
  "language_info": {
   "file_extension": ".jl",
   "mimetype": "application/julia",
   "name": "julia",
   "version": "1.0.1"
  }
 },
 "nbformat": 4,
 "nbformat_minor": 1
}
