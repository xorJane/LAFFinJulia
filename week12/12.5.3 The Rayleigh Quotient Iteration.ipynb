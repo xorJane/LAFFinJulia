{
 "cells": [
  {
   "cell_type": "markdown",
   "metadata": {},
   "source": [
    "#     12.5.3 The Rayleigh Quotient Iteration"
   ]
  },
  {
   "cell_type": "markdown",
   "metadata": {},
   "source": [
    "With this notebook, we demonstrate how the Inverse Power Method can be accelerated by shifting the matrix, this time by approximating the smallest eigenvalue with the Rayleigh quotient.\n",
    "\n",
    "<font color=red> Be sure to make a copy!!!! </font>"
   ]
  },
  {
   "cell_type": "markdown",
   "metadata": {},
   "source": [
    "We start by creating a matrix with known eigenvalues and eigenvectors\n",
    "\n",
    "How do we do this?  \n",
    "<ul>\n",
    "  <li>\n",
    "    We want a matrix that is not deficient, since otherwise the Rayleigh Quotient Iteration Method may not work. \n",
    "  </li>\n",
    "  <li>\n",
    "    Hence, $ A = V \\Lambda V^{-1} $ for some diagonal matrix $ \\Lambda $ and nonsingular matrix $ V $.  The eigenvalues are then on the diagonal of $ \\Lambda $ and the eigenvectors are the columns of $ V $.\n",
    "    </li>\n",
    "    <li>\n",
    "    So, let's pick the eigenvalues for the diagonal of $ \\Lambda $ and let's pick a random matrix $ V $ (in the hopes that it has linearly independent columns) and then let's see what happens.  \n",
    "    </li>\n",
    "    </ul>\n",
    "\n",
    "<font color=red> Experiment by changing the eigenvalues!  What happens if you make the second entry on the diagonal equal to -4?  Or what if you set 2 to -1? </font>"
   ]
  },
  {
   "cell_type": "code",
   "execution_count": 1,
   "metadata": {},
   "outputs": [
    {
     "name": "stdout",
     "output_type": "stream",
     "text": [
      "Λ = \n"
     ]
    },
    {
     "data": {
      "text/plain": [
       "4×4 Diagonal{Float64,Array{Float64,1}}:\n",
       " 4.0   ⋅    ⋅    ⋅ \n",
       "  ⋅   3.0   ⋅    ⋅ \n",
       "  ⋅    ⋅   2.0   ⋅ \n",
       "  ⋅    ⋅    ⋅   1.0"
      ]
     },
     "execution_count": 1,
     "metadata": {},
     "output_type": "execute_result"
    }
   ],
   "source": [
    "using LinearAlgebra\n",
    "\n",
    "Λ = Diagonal([4., 3., 2., 1.])\n",
    "\n",
    "λ1 = Λ[1, 1]\n",
    "\n",
    "V = rand(4, 4)\n",
    "\n",
    "# normalize the columns of V to each have a length of one\n",
    "for j in 1:4\n",
    "    V[:, j:j] = V[:, j:j] / sqrt( V[:, j]' * V[:, j])\n",
    "end\n",
    "\n",
    "A = V * Λ * inv(V)\n",
    "\n",
    "println(\"Λ = \")\n",
    "Λ"
   ]
  },
  {
   "cell_type": "code",
   "execution_count": 2,
   "metadata": {},
   "outputs": [
    {
     "name": "stdout",
     "output_type": "stream",
     "text": [
      "V = \n"
     ]
    },
    {
     "data": {
      "text/plain": [
       "4×4 Array{Float64,2}:\n",
       " 0.449204  0.406523  0.71868    0.28708 \n",
       " 0.319182  0.231012  0.426402   0.412557\n",
       " 0.150113  0.564961  0.0612388  0.53101 \n",
       " 0.820856  0.679847  0.54583    0.682209"
      ]
     },
     "execution_count": 2,
     "metadata": {},
     "output_type": "execute_result"
    }
   ],
   "source": [
    "println(\"V = \")\n",
    "V"
   ]
  },
  {
   "cell_type": "code",
   "execution_count": 3,
   "metadata": {},
   "outputs": [
    {
     "name": "stdout",
     "output_type": "stream",
     "text": [
      "A = \n"
     ]
    },
    {
     "data": {
      "text/plain": [
       "4×4 Array{Float64,2}:\n",
       " 2.40916   -3.78727  -1.08464  2.54156\n",
       " 0.60889   -1.35211  -0.97688  1.92655\n",
       " 1.95404   -4.72681   2.20728  1.09649\n",
       " 0.947601  -7.34712  -2.17295  6.73566"
      ]
     },
     "execution_count": 3,
     "metadata": {},
     "output_type": "execute_result"
    }
   ],
   "source": [
    "println(\"A = \")\n",
    "A"
   ]
  },
  {
   "cell_type": "markdown",
   "metadata": {},
   "source": [
    "The idea is as follows:\n",
    "\n",
    "The eigenvalues of $ A $ are $ \\lambda_1, \\ldots, \\lambda_4 $ with\n",
    "\n",
    "$$\n",
    "\\vert \\lambda_1 \\vert > \\vert \\lambda_2 \\vert > \\vert \\lambda_3 \\vert > \\vert \\lambda_4 \\vert > 0\n",
    "$$\n",
    "\n",
    "and how fast the iteration converges depends on the ratio \n",
    "\n",
    "$$\n",
    "\\left\\vert \\frac{\\lambda_4}{\\lambda_3} \\right\\vert .\n",
    "$$\n",
    "Now, if you pick a value, $ \\mu $ close to $ \\lambda_4 $, and you iterate with $ A - \\mu I $ (which is known as shifting the matrix/spectrum by $ \\mu $) you can greatly improve the ratio\n",
    "$$\n",
    "\\left\\vert \\frac{\\lambda_4-\\mu}{\\lambda_3-\\mu} \\right\\vert .\n",
    "$$\n",
    "\n",
    "Generally we don't know $ \\lambda_4 $ and hence don't know how to choose $ \\mu $.  But we are generating a vector $ x $ that progressively gets closer and closer to an eigenvector.  Thus, we can use the Rayleigh quotient to approximate an eigenvalue.\n",
    "\n",
    "Here we purposely say \"an eigenvalue\" since it could be that the first random vector $ x $ is close to an eigenvector associated with another eigenvalue, and then we may converge to a different eigenvalue."
   ]
  },
  {
   "cell_type": "code",
   "execution_count": 21,
   "metadata": {},
   "outputs": [
    {
     "name": "stdout",
     "output_type": "stream",
     "text": [
      "Rayleigh quotient with vector x: 0.4281402869801054\n",
      "inner product of x with v4     : 0.9911281929874582  \n",
      "\n",
      "Rayleigh quotient with vector x: 0.9286672113131451\n",
      "inner product of x with v4     : 0.9989136715004745  \n",
      "\n",
      "Rayleigh quotient with vector x: 1.0001082759909314\n",
      "inner product of x with v4     : 0.9999944611308647  \n",
      "\n",
      "Rayleigh quotient with vector x: 0.9999997344656207\n",
      "inner product of x with v4     : -0.9999999999999306  \n",
      "\n",
      "Rayleigh quotient with vector x: 0.9999999999998974\n",
      "inner product of x with v4     : -1.0  \n",
      "\n",
      "Rayleigh quotient with vector x: 0.9999999999999993\n",
      "inner product of x with v4     : -0.9999999999999998  \n",
      "\n",
      "Rayleigh quotient with vector x: 1.0000000000000009\n",
      "inner product of x with v4     : -1.0  \n",
      "\n",
      "Rayleigh quotient with vector x: 1.0000000000000013\n",
      "inner product of x with v4     : 1.0  \n",
      "\n",
      "Rayleigh quotient with vector x: 1.0000000000000018\n",
      "inner product of x with v4     : -0.9999999999999999  \n",
      "\n",
      "Rayleigh quotient with vector x: 1.0\n",
      "inner product of x with v4     : 1.0  \n",
      "\n"
     ]
    }
   ],
   "source": [
    "# Pick a random starting vector\n",
    "x = rand(4)\n",
    "\n",
    "# Let's start by not shifting, so hopefully we hone in on the smallest eigenvalue\n",
    "μ = 0.\n",
    "\n",
    "for i in 1:10\n",
    "    # We should really compute a factorization of A, but let's be lazy, and compute the inverse\n",
    "    # explicitly\n",
    "    Ainv = inv( A - μ * I )\n",
    "    \n",
    "    x = Ainv * x \n",
    "    \n",
    "    # normalize x to length one\n",
    "    x = x / sqrt( x'x )\n",
    "    \n",
    "    # Notice we compute the Rayleigh quotient with matrix A, not Ainv.  This is because\n",
    "    # the eigenvector of A is an eigenvector of Ainv\n",
    "    μ = x' * A * x\n",
    "\n",
    "    println(\"Rayleigh quotient with vector x: $(x'*A*x / (x'x))\")\n",
    "    println(\"inner product of x with v4     : $(x' * V[:, 4])  \\n\" )\n",
    "end"
   ]
  },
  {
   "cell_type": "markdown",
   "metadata": {},
   "source": [
    "In the above, \n",
    " <ul>\n",
    " <li>\n",
    " The Rayleigh quotient may converge to 1.0 (but it may converge to another eigenvalue!).\n",
    " </li>\n",
    " <li>\n",
    " The inner product of $ x $ and the last column of $ V $, $ v_{n} $, may converge to 1 or -1 since eventually $ x $ may be in the direction of $ v_{n} $ (or in the opposite direction).  But not if we start converging to another eigenvalue... If this happens, try rerunning all the code blocks above to get a different $V$ matrix.\n",
    " </li>\n",
    " </ul>\n"
   ]
  }
 ],
 "metadata": {
  "kernelspec": {
   "display_name": "Julia 1.0.1",
   "language": "julia",
   "name": "julia-1.0"
  },
  "language_info": {
   "file_extension": ".jl",
   "mimetype": "application/julia",
   "name": "julia",
   "version": "1.0.1"
  }
 },
 "nbformat": 4,
 "nbformat_minor": 1
}
