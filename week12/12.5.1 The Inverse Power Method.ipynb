{
 "cells": [
  {
   "cell_type": "markdown",
   "metadata": {},
   "source": [
    "#     12.5.1 The Inverse Power Method"
   ]
  },
  {
   "cell_type": "markdown",
   "metadata": {},
   "source": [
    "With this notebook, we demonstrate how the Inverse Power Method can be used to find the smallest eigenvector of a matrix.\n",
    "\n",
    "<font color=red> Be sure to make a copy!!!! </font>"
   ]
  },
  {
   "cell_type": "markdown",
   "metadata": {},
   "source": [
    "We start by creating a matrix with known eigenvalues and eigenvectors\n",
    "\n",
    "How do we do this?  \n",
    "<ul>\n",
    "  <li>\n",
    "    We want a matrix that is not deficient, since otherwise the Inverse Power Method may not work. \n",
    "  </li>\n",
    "  <li>\n",
    "    Hence, $ A = V \\Lambda V^{-1} $ for some diagonal matrix $ \\Lambda $ and nonsingular matrix $ V $.  The eigenvalues are then on the diagonal of $ \\Lambda $ and the eigenvectors are the columns of $ V $.\n",
    "    </li>\n",
    "    <li>\n",
    "    So, let's pick the eigenvalues for the diagonal of $ \\Lambda $ and let's pick a random matrix $ V $ (in the hopes that it has linearly independent columns) and then let's see what happens.  \n",
    "    </li>\n",
    "    </ul>\n",
    "\n",
    "<font color=red> Experiment by changing the eigenvalues!  What happens if you make the second entry on the diagonal equal to -4?  Or what if you set 2 to -1? </font>"
   ]
  },
  {
   "cell_type": "code",
   "execution_count": 7,
   "metadata": {},
   "outputs": [
    {
     "name": "stdout",
     "output_type": "stream",
     "text": [
      "Λ = \n"
     ]
    },
    {
     "data": {
      "text/plain": [
       "4×4 Diagonal{Float64,Array{Float64,1}}:\n",
       " 4.0   ⋅    ⋅    ⋅ \n",
       "  ⋅   3.0   ⋅    ⋅ \n",
       "  ⋅    ⋅   2.0   ⋅ \n",
       "  ⋅    ⋅    ⋅   1.0"
      ]
     },
     "execution_count": 7,
     "metadata": {},
     "output_type": "execute_result"
    }
   ],
   "source": [
    "using LinearAlgebra\n",
    "\n",
    "Λ = Diagonal([4., 3., 2., 1.])\n",
    "\n",
    "λ1 = Λ[1, 1]\n",
    "\n",
    "V = rand(4, 4)\n",
    "\n",
    "# normalize the columns of V to each have a length of one\n",
    "for j in 1:4\n",
    "    V[:, j:j] = V[:, j:j] / sqrt( V[:, j]' * V[:, j])\n",
    "end\n",
    "\n",
    "A = V * Λ * inv(V)\n",
    "\n",
    "println(\"Λ = \")\n",
    "Λ"
   ]
  },
  {
   "cell_type": "code",
   "execution_count": 8,
   "metadata": {},
   "outputs": [
    {
     "name": "stdout",
     "output_type": "stream",
     "text": [
      "V = \n"
     ]
    },
    {
     "data": {
      "text/plain": [
       "4×4 Array{Float64,2}:\n",
       " 0.83992    0.253765  0.604025   0.12551 \n",
       " 0.0933187  0.616387  0.516623   0.477396\n",
       " 0.519881   0.506018  0.0722272  0.675737\n",
       " 0.124695   0.547372  0.602525   0.547466"
      ]
     },
     "execution_count": 8,
     "metadata": {},
     "output_type": "execute_result"
    }
   ],
   "source": [
    "println(\"V = \")\n",
    "V"
   ]
  },
  {
   "cell_type": "code",
   "execution_count": 9,
   "metadata": {},
   "outputs": [
    {
     "name": "stdout",
     "output_type": "stream",
     "text": [
      "A = \n"
     ]
    },
    {
     "data": {
      "text/plain": [
       "4×4 Array{Float64,2}:\n",
       " 3.71823   2.30836   0.956258  -3.81639\n",
       " 0.674144  8.75091  -0.403051  -6.41594\n",
       " 1.63214   6.9112    1.93446   -7.55422\n",
       " 0.784858  6.61213  -0.439265  -4.40359"
      ]
     },
     "execution_count": 9,
     "metadata": {},
     "output_type": "execute_result"
    }
   ],
   "source": [
    "println(\"A = \")\n",
    "A"
   ]
  },
  {
   "cell_type": "markdown",
   "metadata": {},
   "source": [
    "The idea is as follows:\n",
    "\n",
    "The eigenvalues of $ A $ are $ \\lambda_1, \\ldots, \\lambda_4 $ with\n",
    "\n",
    "$$\n",
    "\\vert \\lambda_1 \\vert > \\vert \\lambda_2 \\vert > \\vert \\lambda_3 \\vert > \\vert \\lambda_4 \\vert > 0\n",
    "$$\n",
    "\n",
    "and how fast the iteration converges depends on the ratio \n",
    "\n",
    "$$\n",
    "\\left\\vert \\frac{\\lambda_4}{\\lambda_3} \\right\\vert .\n",
    "$$\n"
   ]
  },
  {
   "cell_type": "code",
   "execution_count": 18,
   "metadata": {},
   "outputs": [
    {
     "name": "stdout",
     "output_type": "stream",
     "text": [
      "Rayleigh quotient with vector x: 4.076279382877128\n",
      "inner product of x with v4     : -0.017751016984099394  \n",
      "\n",
      "Rayleigh quotient with vector x: 0.420651980214127\n",
      "inner product of x with v4     : -0.9511507222768198  \n",
      "\n",
      "Rayleigh quotient with vector x: 0.8180563747571222\n",
      "inner product of x with v4     : -0.9979864527746334  \n",
      "\n",
      "Rayleigh quotient with vector x: 0.9589675341674864\n",
      "inner product of x with v4     : -0.9997957843278547  \n",
      "\n",
      "Rayleigh quotient with vector x: 0.9933924117442903\n",
      "inner product of x with v4     : -0.9999498564609901  \n",
      "\n",
      "Rayleigh quotient with vector x: 1.0005907596721038\n",
      "inner product of x with v4     : -0.9999852718610498  \n",
      "\n",
      "Rayleigh quotient with vector x: 1.001408318698326\n",
      "inner product of x with v4     : -0.9999958621731542  \n",
      "\n",
      "Rayleigh quotient with vector x: 1.0010287476199684\n",
      "inner product of x with v4     : -0.9999988913639115  \n",
      "\n",
      "Rayleigh quotient with vector x: 1.0006109221749666\n",
      "inner product of x with v4     : -0.9999997115780106  \n",
      "\n",
      "Rayleigh quotient with vector x: 1.0003347190950427\n",
      "inner product of x with v4     : -0.9999999262140304  \n",
      "\n"
     ]
    }
   ],
   "source": [
    "# Pick a random starting vector\n",
    "x = rand( 4 )\n",
    "\n",
    "# We should really compute a factorization of A, but let's be lazy, and compute the inverse\n",
    "# explicitly\n",
    "Ainv = inv( A )\n",
    "\n",
    "for i in 1:10\n",
    "    x = Ainv * x \n",
    "    \n",
    "    # normalize x to length one\n",
    "    x = x / sqrt( transpose( x ) * x )\n",
    "    \n",
    "    # Notice we compute the Rayleigh quotient with matrix A, not Ainv.  This is because\n",
    "    # the eigenvector of A is an eigenvector of Ainv\n",
    "    println(\"Rayleigh quotient with vector x: $(x'*A*x / (x'x))\")\n",
    "    println(\"inner product of x with v4     : $(x' * V[:, 4])  \\n\" )\n",
    "end"
   ]
  },
  {
   "cell_type": "markdown",
   "metadata": {},
   "source": [
    "In the above, \n",
    " <ul>\n",
    " <li>\n",
    " The Rayleigh quotient should converge to 1.0 (quicker than the Power Method converged).\n",
    " </li>\n",
    " <li>\n",
    " The inner product of $ x $ and the last column of $ V $, $ v_n $, should converge to 1 or -1 since eventually $ x $ should be in the direction of $ v_n $ (or in the opposite direction).\n",
    " </li>\n",
    " </ul>\n",
    " \n",
    " Try changing the \"2\" to a \"-1\" or \"1\".  What happens then?\n",
    " \n",
    " You can check this by looking at $ ( I - V_R ( V_R^T V_R )^{-1} V_R^T ) x $, where $V_R $ equals the matrix with $ v_3 $ and $ v_4 $ as its columns, to see if the vector orthogonal to $ {\\cal C}( V_R ) $ converges to zero. This is seen in the following code block:\n"
   ]
  },
  {
   "cell_type": "code",
   "execution_count": 19,
   "metadata": {},
   "outputs": [
    {
     "data": {
      "text/plain": [
       "4×2 Array{Float64,2}:\n",
       " 0.604025   0.12551 \n",
       " 0.516623   0.477396\n",
       " 0.0722272  0.675737\n",
       " 0.602525   0.547466"
      ]
     },
     "execution_count": 19,
     "metadata": {},
     "output_type": "execute_result"
    }
   ],
   "source": [
    "VR = V[:, 3:4]"
   ]
  },
  {
   "cell_type": "code",
   "execution_count": 20,
   "metadata": {},
   "outputs": [
    {
     "data": {
      "text/plain": [
       "4-element Array{Float64,1}:\n",
       "  1.9492540546950377e-6\n",
       "  6.241200006806835e-7 \n",
       "  1.3443077856445385e-6\n",
       " -2.6503942123223823e-6"
      ]
     },
     "execution_count": 20,
     "metadata": {},
     "output_type": "execute_result"
    }
   ],
   "source": [
    "w = x - VR * inv(VR'VR) * VR' * x"
   ]
  }
 ],
 "metadata": {
  "kernelspec": {
   "display_name": "Julia 1.0.1",
   "language": "julia",
   "name": "julia-1.0"
  },
  "language_info": {
   "file_extension": ".jl",
   "mimetype": "application/julia",
   "name": "julia",
   "version": "1.0.1"
  }
 },
 "nbformat": 4,
 "nbformat_minor": 1
}
