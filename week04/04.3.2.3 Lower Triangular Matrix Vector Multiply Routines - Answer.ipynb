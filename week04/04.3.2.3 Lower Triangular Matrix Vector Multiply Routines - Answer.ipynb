{
 "cells": [
  {
   "cell_type": "markdown",
   "metadata": {},
   "source": [
    "# Lower Triangular Matrix Vector Multiply Routines"
   ]
  },
  {
   "cell_type": "markdown",
   "metadata": {},
   "source": [
    "This notebook walks you through how to implement $ y := L x + y $ where $ L $ is lower triangular."
   ]
  },
  {
   "cell_type": "markdown",
   "metadata": {},
   "source": [
    "## Getting started"
   ]
  },
  {
   "cell_type": "markdown",
   "metadata": {},
   "source": [
    "We will use some functions that are part of our laff library (of which this function will become a part) as well as some routines from the FLAME API (Application Programming Interface) that allows us to write code that closely resembles how we typeset algorithms using the FLAME notation.  These functions are imported with `include` and `using` statements."
   ]
  },
  {
   "cell_type": "markdown",
   "metadata": {},
   "source": [
    "## The `Tmvmult_ln_unb_var1!( L, x, y )` routine"
   ]
  },
  {
   "cell_type": "markdown",
   "metadata": {},
   "source": [
    "This routine, given lower triangular $ L \\in \\mathbb{R}^{n \\times n} $, $ x \\in \\mathbb{R}^n $, and $ y \\in \\mathbb{R}^n $, computes $ y := L x + y $.  The \"_ln_\" in the name of the routine indicates this is the \"lower triangular, no transpose\" matrix-vector multiplication.  \n",
    "\n",
    "The specific laff functions we will use are \n",
    "<ul>\n",
    "<li> <code> laff.dots!( x, y, alpha ) </code> which computes $ \\alpha := x^T y + \\alpha $.  </li>\n",
    "</ul>\n",
    "\n",
    "Use the <a href=\"https://studio.edx.org/c4x/UTAustinX/UT.5.01x/asset/index.html\"> Spark webpage</a> to generate a code skeleton.  (Make sure you adjust the name of the routine.)"
   ]
  },
  {
   "cell_type": "code",
   "execution_count": 7,
   "metadata": {},
   "outputs": [
    {
     "name": "stderr",
     "output_type": "stream",
     "text": [
      "WARNING: replacing module flame.\n",
      "WARNING: replacing module laff.\n"
     ]
    },
    {
     "data": {
      "text/plain": [
       "Tmvmult_ln_unb_var1! (generic function with 1 method)"
      ]
     },
     "execution_count": 7,
     "metadata": {},
     "output_type": "execute_result"
    }
   ],
   "source": [
    "include(\"../flame.jl\")\n",
    "using .flame\n",
    "include(\"../laff/laff.jl\")\n",
    "using .laff\n",
    "\n",
    "function Tmvmult_ln_unb_var1!(L, x, y)\n",
    "\n",
    "    LTL, LTR, \n",
    "    LBL, LBR  = flame.part_2x2(L, \n",
    "                               0, 0, \"TL\")\n",
    "\n",
    "    xT, \n",
    "    xB  = flame.part_2x1(x, \n",
    "                         0, \"TOP\")\n",
    "\n",
    "    yT, \n",
    "    yB  = flame.part_2x1(y, \n",
    "                         0, \"TOP\")\n",
    "\n",
    "    while size(LTL, 1) < size(L, 1)\n",
    "\n",
    "        L00,  l01,      L02,  \n",
    "        l10t, lambda11, l12t, \n",
    "        L20,  l21,      L22   = flame.repart_2x2_to_3x3(LTL, LTR, \n",
    "                                                        LBL, LBR, \n",
    "                                                        1, 1, \"BR\")\n",
    "\n",
    "        x0,   \n",
    "        chi1, \n",
    "        x2    = flame.repart_2x1_to_3x1(xT, \n",
    "                                        xB, \n",
    "                                        1, \"BOTTOM\")\n",
    "\n",
    "        y0,   \n",
    "        psi1, \n",
    "        y2    = flame.repart_2x1_to_3x1(yT, \n",
    "                                        yB, \n",
    "                                        1, \"BOTTOM\")\n",
    "\n",
    "        #------------------------------------------------------------#\n",
    "\n",
    "        laff.dots!( l10t, x0, psi1 )\n",
    "        laff.dots!( lambda11, chi1, psi1 )\n",
    "\n",
    "        #------------------------------------------------------------#\n",
    "\n",
    "        LTL, LTR, \n",
    "        LBL, LBR  = flame.cont_with_3x3_to_2x2(L00,  l01,      L02,  \n",
    "                                               l10t, lambda11, l12t, \n",
    "                                               L20,  l21,      L22,  \n",
    "                                               \"TL\")\n",
    "\n",
    "        xT, \n",
    "        xB  = flame.cont_with_3x1_to_2x1(x0,   \n",
    "                                         chi1, \n",
    "                                         x2,   \n",
    "                                         \"TOP\")\n",
    "\n",
    "        yT, \n",
    "        yB  = flame.cont_with_3x1_to_2x1(y0,   \n",
    "                                         psi1, \n",
    "                                         y2,   \n",
    "                                         \"TOP\")\n",
    "\n",
    "    end\n",
    "    flame.merge_2x1!(yT, \n",
    "                    yB, y)\n",
    "end\n"
   ]
  },
  {
   "cell_type": "markdown",
   "metadata": {},
   "source": [
    "## Testing"
   ]
  },
  {
   "cell_type": "markdown",
   "metadata": {},
   "source": [
    "Let's quickly test the routine by creating a 4 x 4 matrix and related vectors, performing the computation."
   ]
  },
  {
   "cell_type": "code",
   "execution_count": 8,
   "metadata": {},
   "outputs": [
    {
     "name": "stdout",
     "output_type": "stream",
     "text": [
      "L before =\n"
     ]
    },
    {
     "data": {
      "text/plain": [
       "4×4 Array{Float64,2}:\n",
       " 0.64307    0.0202959  0.09173   0.792   \n",
       " 0.937238   0.982946   0.828569  0.262435\n",
       " 0.304826   0.622455   0.986724  0.732755\n",
       " 0.0743717  0.604782   0.758972  0.318948"
      ]
     },
     "execution_count": 8,
     "metadata": {},
     "output_type": "execute_result"
    }
   ],
   "source": [
    "L = rand(4, 4)\n",
    "x = rand(4)\n",
    "y = rand(4)\n",
    "yold = rand(4)\n",
    "\n",
    "# Notice that L is not lower triangular.  We will only use the lower triangular part.\n",
    "\n",
    "println( \"L before =\" )\n",
    "L"
   ]
  },
  {
   "cell_type": "code",
   "execution_count": 9,
   "metadata": {},
   "outputs": [
    {
     "name": "stdout",
     "output_type": "stream",
     "text": [
      "x before =\n"
     ]
    },
    {
     "data": {
      "text/plain": [
       "4-element Array{Float64,1}:\n",
       " 0.5537696552408193\n",
       " 0.5783011266839857\n",
       " 0.3396707667901766\n",
       " 0.4767183319696071"
      ]
     },
     "execution_count": 9,
     "metadata": {},
     "output_type": "execute_result"
    }
   ],
   "source": [
    "println( \"x before =\" )\n",
    "x"
   ]
  },
  {
   "cell_type": "code",
   "execution_count": 10,
   "metadata": {},
   "outputs": [
    {
     "name": "stdout",
     "output_type": "stream",
     "text": [
      "y before =\n"
     ]
    },
    {
     "data": {
      "text/plain": [
       "4-element Array{Float64,1}:\n",
       " 0.2429989489402955 \n",
       " 0.6513041638725159 \n",
       " 0.6126286624214028 \n",
       " 0.20988220354656728"
      ]
     },
     "execution_count": 10,
     "metadata": {},
     "output_type": "execute_result"
    }
   ],
   "source": [
    "println( \"y before =\" )\n",
    "y"
   ]
  },
  {
   "cell_type": "code",
   "execution_count": 11,
   "metadata": {},
   "outputs": [
    {
     "name": "stdout",
     "output_type": "stream",
     "text": [
      "y after =\n"
     ]
    },
    {
     "data": {
      "text/plain": [
       "4-element Array{Float64,1}:\n",
       " 0.5991118585293383\n",
       " 1.738756964951383 \n",
       " 1.4765600041535165\n",
       " 1.0106622002214223"
      ]
     },
     "execution_count": 11,
     "metadata": {},
     "output_type": "execute_result"
    }
   ],
   "source": [
    "laff.copy!( y, yold )   # save the original vector y\n",
    "\n",
    "Tmvmult_ln_unb_var1!( L, x, y )\n",
    "\n",
    "println( \"y after =\" )\n",
    "y"
   ]
  },
  {
   "cell_type": "code",
   "execution_count": 13,
   "metadata": {},
   "outputs": [
    {
     "name": "stdout",
     "output_type": "stream",
     "text": [
      "y - ( LowerTriangular( L ) * x + yold ) = \n"
     ]
    },
    {
     "data": {
      "text/plain": [
       "4-element Array{Float64,1}:\n",
       " 0.0                  \n",
       " 0.0                  \n",
       " 0.0                  \n",
       " 2.220446049250313e-16"
      ]
     },
     "execution_count": 13,
     "metadata": {},
     "output_type": "execute_result"
    }
   ],
   "source": [
    "using LinearAlgebra\n",
    "println( \"y - ( LowerTriangular( L ) * x + yold ) = \" ) #LowerTriangular extracts the matrix lower triangular\n",
    "y - ( LowerTriangular( L ) * x + yold ) "
   ]
  },
  {
   "cell_type": "markdown",
   "metadata": {},
   "source": [
    "Bingo, it seems to work!  (Notice that we are doing floating point computations, which means that due to rounding you may not get an exact \"0\".)"
   ]
  },
  {
   "cell_type": "markdown",
   "metadata": {},
   "source": [
    "## Watch your code in action!"
   ]
  },
  {
   "cell_type": "markdown",
   "metadata": {},
   "source": [
    "Copy and paste the code into <a href=\"http://edx-org-utaustinx.s3.amazonaws.com/UT501x/PictureFlame/PictureFLAME.html\"> PictureFLAME </a>, a webpage where you can watch your routine in action.  Just cut and paste into the box.  \n",
    "\n",
    "Disclaimer: we implemented a VERY simple interpreter.  If you do something wrong, we cannot guarantee the results.  But if you do it right, you are in for a treat.\n",
    "\n",
    "If you want to reset the problem, just click in the box into which you pasted the code and hit \"next\" again."
   ]
  },
  {
   "cell_type": "markdown",
   "metadata": {},
   "source": [
    "## The `Tmvmult_ln_unb_var2!( L, x, y )` routine"
   ]
  },
  {
   "cell_type": "markdown",
   "metadata": {},
   "source": [
    "This routine, given lower triangular $ L \\in \\mathbb{R}^{n \\times n} $, $ x \\in \\mathbb{R}^n $, and $ y \\in \\mathbb{R}^n $, computes $ y := L x + y $.  The \"_ln_\" in the name of the routine indicates this is the \"lower triangular, no transpose\" matrix-vector multiplication.  \n",
    "\n",
    "The specific laff functions we will use are \n",
    "<ul>\n",
    "<li> <code> laff.axpy!( alpha, x, y ) </code> which computes $ y := \\alpha x +  y  $.  </li>\n",
    "</ul>\n",
    "\n",
    "Use the <a href=\"https://studio.edx.org/c4x/UTAustinX/UT.5.01x/asset/index.html\"> Spark webpage</a> to generate a code skeleton.  (Make sure you adjust the name of the routine.)"
   ]
  },
  {
   "cell_type": "code",
   "execution_count": 19,
   "metadata": {},
   "outputs": [
    {
     "name": "stderr",
     "output_type": "stream",
     "text": [
      "WARNING: replacing module flame.\n",
      "WARNING: replacing module laff.\n"
     ]
    },
    {
     "data": {
      "text/plain": [
       "Tmvmult_ln_unb_var2! (generic function with 1 method)"
      ]
     },
     "execution_count": 19,
     "metadata": {},
     "output_type": "execute_result"
    }
   ],
   "source": [
    "include(\"../flame.jl\")\n",
    "using .flame\n",
    "include(\"../laff/laff.jl\")\n",
    "using .laff\n",
    "\n",
    "function Tmvmult_ln_unb_var2!(L, x, y)\n",
    "\n",
    "    LTL, LTR,\n",
    "    LBL, LBR  = flame.part_2x2(L,\n",
    "                               0, 0, \"TL\")\n",
    "\n",
    "    xT,\n",
    "    xB  = flame.part_2x1(x,\n",
    "                         0, \"TOP\")\n",
    "\n",
    "    yT, \n",
    "    yB  = flame.part_2x1(y, \n",
    "                         0, \"TOP\")\n",
    "\n",
    "    while size(LTL, 1) < size(L, 1)\n",
    "\n",
    "        L00,  l01,      L02,  \n",
    "        l10t, lambda11, l12t, \n",
    "        L20,  l21,      L22   = flame.repart_2x2_to_3x3(LTL, LTR, \n",
    "                                                        LBL, LBR, \n",
    "                                                        1, 1, \"BR\")\n",
    "\n",
    "        x0,   \n",
    "        chi1, \n",
    "        x2    = flame.repart_2x1_to_3x1(xT, \n",
    "                                        xB, \n",
    "                                        1, \"BOTTOM\")\n",
    "\n",
    "        y0, \n",
    "        psi1,\n",
    "        y2    = flame.repart_2x1_to_3x1(yT,\n",
    "                                        yB, \n",
    "                                        1, \"BOTTOM\")\n",
    "\n",
    "        #------------------------------------------------------------#\n",
    "\n",
    "        laff.axpy!( chi1, lambda11, psi1 )\n",
    "        laff.axpy!( chi1, l21, y2 )\n",
    "\n",
    "        #------------------------------------------------------------#\n",
    "\n",
    "        LTL, LTR, \n",
    "        LBL, LBR  = flame.cont_with_3x3_to_2x2(L00,  l01,      L02,  \n",
    "                                               l10t, lambda11, l12t, \n",
    "                                               L20,  l21,      L22,  \n",
    "                                               \"TL\")\n",
    "\n",
    "        xT, \n",
    "        xB  = flame.cont_with_3x1_to_2x1(x0,   \n",
    "                                         chi1, \n",
    "                                         x2,   \n",
    "                                         \"TOP\")\n",
    "\n",
    "        yT, \n",
    "        yB  = flame.cont_with_3x1_to_2x1(y0,   \n",
    "                                         psi1, \n",
    "                                         y2,   \n",
    "                                         \"TOP\")\n",
    "\n",
    "    end\n",
    "    flame.merge_2x1!(yT,\n",
    "                     yB, y)\n",
    "end\n"
   ]
  },
  {
   "cell_type": "markdown",
   "metadata": {},
   "source": [
    "## Testing"
   ]
  },
  {
   "cell_type": "markdown",
   "metadata": {},
   "source": [
    "Let's quickly test the routine by creating a 4 x 4 matrix and related vectors, performing the computation."
   ]
  },
  {
   "cell_type": "code",
   "execution_count": 20,
   "metadata": {},
   "outputs": [
    {
     "name": "stdout",
     "output_type": "stream",
     "text": [
      "L before =\n"
     ]
    },
    {
     "data": {
      "text/plain": [
       "4×4 Array{Float64,2}:\n",
       " 0.149784  0.601658   0.27546   0.0341998\n",
       " 0.506955  0.0410626  0.631249  0.738038 \n",
       " 0.683994  0.270742   0.545561  0.914777 \n",
       " 0.37186   0.627505   0.397284  0.195869 "
      ]
     },
     "execution_count": 20,
     "metadata": {},
     "output_type": "execute_result"
    }
   ],
   "source": [
    "L = rand(4, 4)\n",
    "x = rand(4)\n",
    "y = rand(4)\n",
    "yold = rand(4)\n",
    "\n",
    "# Notice that L is not lower triangular.  We will only use the lower triangular part.\n",
    "\n",
    "println( \"L before =\" )\n",
    "L"
   ]
  },
  {
   "cell_type": "code",
   "execution_count": 21,
   "metadata": {},
   "outputs": [
    {
     "name": "stdout",
     "output_type": "stream",
     "text": [
      "x before =\n"
     ]
    },
    {
     "data": {
      "text/plain": [
       "4-element Array{Float64,1}:\n",
       " 0.8790709040739446\n",
       " 0.730044289502376 \n",
       " 0.9727124823392397\n",
       " 0.9886277129468488"
      ]
     },
     "execution_count": 21,
     "metadata": {},
     "output_type": "execute_result"
    }
   ],
   "source": [
    "println( \"x before =\" )\n",
    "x"
   ]
  },
  {
   "cell_type": "code",
   "execution_count": 22,
   "metadata": {},
   "outputs": [
    {
     "name": "stdout",
     "output_type": "stream",
     "text": [
      "y before =\n"
     ]
    },
    {
     "data": {
      "text/plain": [
       "4-element Array{Float64,1}:\n",
       " 0.7278705361427134 \n",
       " 0.5195457574718487 \n",
       " 0.7718167252116068 \n",
       " 0.24255603757329025"
      ]
     },
     "execution_count": 22,
     "metadata": {},
     "output_type": "execute_result"
    }
   ],
   "source": [
    "println( \"y before =\" )\n",
    "y"
   ]
  },
  {
   "cell_type": "code",
   "execution_count": 23,
   "metadata": {},
   "outputs": [
    {
     "name": "stdout",
     "output_type": "stream",
     "text": [
      "y after =\n"
     ]
    },
    {
     "data": {
      "text/plain": [
       "4-element Array{Float64,1}:\n",
       " 0.8595412431601117\n",
       " 0.9951728079045491\n",
       " 2.101423692692483 \n",
       " 1.6076375804526157"
      ]
     },
     "execution_count": 23,
     "metadata": {},
     "output_type": "execute_result"
    }
   ],
   "source": [
    "laff.copy!( y, yold )   # save the original vector y\n",
    "\n",
    "Tmvmult_ln_unb_var2!( L, x, y )\n",
    "\n",
    "println( \"y after =\" )\n",
    "y"
   ]
  },
  {
   "cell_type": "code",
   "execution_count": 24,
   "metadata": {},
   "outputs": [
    {
     "name": "stdout",
     "output_type": "stream",
     "text": [
      "y - ( LowerTriangular( L ) * x + yold ) = \n"
     ]
    },
    {
     "data": {
      "text/plain": [
       "4-element Array{Float64,1}:\n",
       "  0.0                   \n",
       "  1.1102230246251565e-16\n",
       " -4.440892098500626e-16 \n",
       "  2.220446049250313e-16 "
      ]
     },
     "execution_count": 24,
     "metadata": {},
     "output_type": "execute_result"
    }
   ],
   "source": [
    "using LinearAlgebra\n",
    "println( \"y - ( LowerTriangular( L ) * x + yold ) = \" ) #LowerTriangular extracts the matrix lower triangular\n",
    "y - ( LowerTriangular( L ) * x + yold ) "
   ]
  },
  {
   "cell_type": "markdown",
   "metadata": {},
   "source": [
    "Bingo, it seems to work!  (Notice that we are doing floating point computations, which means that due to rounding you may not get an exact \"0\".)"
   ]
  },
  {
   "cell_type": "markdown",
   "metadata": {},
   "source": [
    "## Watch your code in action!"
   ]
  },
  {
   "cell_type": "markdown",
   "metadata": {},
   "source": [
    "Copy and paste the code into <a href=\"http://edx-org-utaustinx.s3.amazonaws.com/UT501x/PictureFlame/PictureFLAME.html\"> PictureFLAME </a>, a webpage where you can watch your routine in action.  Just cut and paste into the box.  \n",
    "\n",
    "Disclaimer: we implemented a VERY simple interpreter.  If you do something wrong, we cannot guarantee the results.  But if you do it right, you are in for a treat.\n",
    "\n",
    "If you want to reset the problem, just click in the box into which you pasted the code and hit \"next\" again."
   ]
  },
  {
   "cell_type": "code",
   "execution_count": null,
   "metadata": {},
   "outputs": [],
   "source": []
  }
 ],
 "metadata": {
  "kernelspec": {
   "display_name": "Julia 1.0.1",
   "language": "julia",
   "name": "julia-1.0"
  },
  "language_info": {
   "file_extension": ".jl",
   "mimetype": "application/julia",
   "name": "julia",
   "version": "1.0.1"
  }
 },
 "nbformat": 4,
 "nbformat_minor": 1
}
