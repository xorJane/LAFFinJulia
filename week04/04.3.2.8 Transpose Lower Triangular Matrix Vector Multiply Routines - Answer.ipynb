{
 "cells": [
  {
   "cell_type": "markdown",
   "metadata": {},
   "source": [
    "# Transpose Lower Triangular Matrix Vector Multiply Routines"
   ]
  },
  {
   "cell_type": "markdown",
   "metadata": {},
   "source": [
    "This notebook walks you through how to implement $ y := L^T x + y $ where $ L $ is lower triangular."
   ]
  },
  {
   "cell_type": "markdown",
   "metadata": {},
   "source": [
    "## Getting started"
   ]
  },
  {
   "cell_type": "markdown",
   "metadata": {},
   "source": [
    "We will use some functions that are part of our laff library (of which this function will become a part) as well as some routines from the FLAME API (Application Programming Interface) that allows us to write code that closely resembles how we typeset algorithms using the FLAME notation.  These functions are imported with `include` and `using` statements."
   ]
  },
  {
   "cell_type": "markdown",
   "metadata": {},
   "source": [
    "## The `Tmvmult_lt_unb_var1!( L, x, y )` routine"
   ]
  },
  {
   "cell_type": "markdown",
   "metadata": {},
   "source": [
    "This routine, given lower triangular $ L \\in \\mathbb{R}^{n \\times n} $, $ x \\in \\mathbb{R}^n $, and $ y \\in \\mathbb{R}^n $, computes $ y := L^T x + y $.  The \"_lt_\" in the name of the routine indicates this is the \"lower triangular, no transpose\" matrix-vector multiplication.  \n",
    "\n",
    "The specific laff functions we will use are \n",
    "<ul>\n",
    "<li> <code> laff.dots!( x, y, alpha ) </code> which computes $ \\alpha := x^T y + \\alpha $.  </li>\n",
    "</ul>\n",
    "\n",
    "Use the <a href=\"https://studio.edx.org/c4x/UTAustinX/UT.5.01x/asset/index.html\"> Spark webpage</a> to generate a code skeleton.  (Make sure you adjust the name of the routine.)"
   ]
  },
  {
   "cell_type": "code",
   "execution_count": 1,
   "metadata": {},
   "outputs": [
    {
     "data": {
      "text/plain": [
       "Tmvmult_lt_unb_var1! (generic function with 1 method)"
      ]
     },
     "execution_count": 1,
     "metadata": {},
     "output_type": "execute_result"
    }
   ],
   "source": [
    "include(\"../flame.jl\")\n",
    "using .flame\n",
    "include(\"../laff/laff.jl\")\n",
    "using .laff\n",
    "\n",
    "function Tmvmult_lt_unb_var1!(L, x, y)\n",
    "\n",
    "    LTL, LTR, \n",
    "    LBL, LBR  = flame.part_2x2(L, \n",
    "                               0, 0, \"TL\")\n",
    "\n",
    "    xT, \n",
    "    xB  = flame.part_2x1(x, \n",
    "                         0, \"TOP\")\n",
    "\n",
    "    yT, \n",
    "    yB  = flame.part_2x1(y, \n",
    "                         0, \"TOP\")\n",
    "\n",
    "    while size(LTL, 1) < size(L, 1)\n",
    "\n",
    "        L00,  l01,      L02,  \n",
    "        l10t, lambda11, l12t, \n",
    "        L20,  l21,      L22   = flame.repart_2x2_to_3x3(LTL, LTR, \n",
    "                                                        LBL, LBR, \n",
    "                                                        1, 1, \"BR\")\n",
    "\n",
    "        x0,   \n",
    "        chi1, \n",
    "        x2    = flame.repart_2x1_to_3x1(xT, \n",
    "                                        xB, \n",
    "                                        1, \"BOTTOM\")\n",
    "\n",
    "        y0,   \n",
    "        psi1, \n",
    "        y2    = flame.repart_2x1_to_3x1(yT, \n",
    "                                        yB, \n",
    "                                        1, \"BOTTOM\")\n",
    "\n",
    "        #------------------------------------------------------------#\n",
    "\n",
    "        laff.dots!( l21, x2, psi1 )\n",
    "        laff.dots!( lambda11, chi1, psi1 )\n",
    "        \n",
    "        #------------------------------------------------------------#\n",
    "\n",
    "        LTL, LTR, \n",
    "        LBL, LBR  = flame.cont_with_3x3_to_2x2(L00,  l01,      L02,  \n",
    "                                               l10t, lambda11, l12t, \n",
    "                                               L20,  l21,      L22,  \n",
    "                                               \"TL\")\n",
    "\n",
    "        xT, \n",
    "        xB  = flame.cont_with_3x1_to_2x1(x0,   \n",
    "                                         chi1, \n",
    "                                         x2,   \n",
    "                                         \"TOP\")\n",
    "\n",
    "        yT, \n",
    "        yB  = flame.cont_with_3x1_to_2x1(y0,   \n",
    "                                         psi1, \n",
    "                                         y2,   \n",
    "                                         \"TOP\")\n",
    "\n",
    "    end\n",
    "\n",
    "    flame.merge_2x1!(yT, \n",
    "                     yB, y)\n",
    "\n",
    "end"
   ]
  },
  {
   "cell_type": "markdown",
   "metadata": {},
   "source": [
    "## Testing"
   ]
  },
  {
   "cell_type": "markdown",
   "metadata": {},
   "source": [
    "Let's quickly test the routine by creating a 4 x 4 matrix and related vectors, performing the computation."
   ]
  },
  {
   "cell_type": "code",
   "execution_count": 11,
   "metadata": {},
   "outputs": [
    {
     "name": "stdout",
     "output_type": "stream",
     "text": [
      "L before =\n"
     ]
    },
    {
     "data": {
      "text/plain": [
       "4×4 Array{Float64,2}:\n",
       " 0.54334    0.996083   0.449281  0.865738\n",
       " 0.0844183  0.990684   0.600359  0.381218\n",
       " 0.390127   0.423369   0.277526  0.52265 \n",
       " 0.292509   0.0274141  0.681395  0.799696"
      ]
     },
     "execution_count": 11,
     "metadata": {},
     "output_type": "execute_result"
    }
   ],
   "source": [
    "L = rand(4, 4)\n",
    "x = rand(4)\n",
    "y = rand(4)\n",
    "yold = rand(4)\n",
    "\n",
    "# Notice that L is not lower triangular.  We will only use the lower triangular part.\n",
    "\n",
    "println( \"L before =\" )\n",
    "L"
   ]
  },
  {
   "cell_type": "code",
   "execution_count": 12,
   "metadata": {},
   "outputs": [
    {
     "name": "stdout",
     "output_type": "stream",
     "text": [
      "x before =\n"
     ]
    },
    {
     "data": {
      "text/plain": [
       "4-element Array{Float64,1}:\n",
       " 0.2909495194514651 \n",
       " 0.21520796044117718\n",
       " 0.1813166669223134 \n",
       " 0.33717967063710574"
      ]
     },
     "execution_count": 12,
     "metadata": {},
     "output_type": "execute_result"
    }
   ],
   "source": [
    "println( \"x before =\" )\n",
    "x"
   ]
  },
  {
   "cell_type": "code",
   "execution_count": 13,
   "metadata": {},
   "outputs": [
    {
     "name": "stdout",
     "output_type": "stream",
     "text": [
      "y before =\n"
     ]
    },
    {
     "data": {
      "text/plain": [
       "4-element Array{Float64,1}:\n",
       " 0.10867568415850548\n",
       " 0.49083173420982096\n",
       " 0.47045948047131025\n",
       " 0.5410419635726744 "
      ]
     },
     "execution_count": 13,
     "metadata": {},
     "output_type": "execute_result"
    }
   ],
   "source": [
    "println( \"y before =\" )\n",
    "y"
   ]
  },
  {
   "cell_type": "code",
   "execution_count": 14,
   "metadata": {},
   "outputs": [
    {
     "name": "stdout",
     "output_type": "stream",
     "text": [
      "y after = \n"
     ]
    },
    {
     "data": {
      "text/plain": [
       "4-element Array{Float64,1}:\n",
       " 0.4542921065640019\n",
       " 0.7900420559148051\n",
       " 0.7505320434771868\n",
       " 0.8106832807103039"
      ]
     },
     "execution_count": 14,
     "metadata": {},
     "output_type": "execute_result"
    }
   ],
   "source": [
    "laff.copy!(y, yold)\n",
    "Tmvmult_lt_unb_var1!( L, x, y )\n",
    "\n",
    "println( \"y after = \" )\n",
    "y"
   ]
  },
  {
   "cell_type": "code",
   "execution_count": 15,
   "metadata": {},
   "outputs": [
    {
     "name": "stdout",
     "output_type": "stream",
     "text": [
      "y - ( transpose( LowerTriangular( L ) ) * x + yold ) = \n"
     ]
    },
    {
     "data": {
      "text/plain": [
       "4-element Array{Float64,1}:\n",
       " 0.0\n",
       " 0.0\n",
       " 0.0\n",
       " 0.0"
      ]
     },
     "execution_count": 15,
     "metadata": {},
     "output_type": "execute_result"
    }
   ],
   "source": [
    "# LowerTriangular() makes the matrix lower triangular\n",
    "using LinearAlgebra\n",
    "println( \"y - ( transpose( LowerTriangular( L ) ) * x + yold ) = \" )\n",
    "y - ( transpose( LowerTriangular( L ) ) * x + yold ) "
   ]
  },
  {
   "cell_type": "markdown",
   "metadata": {},
   "source": [
    "Bingo, it seems to work!  (Notice that we are doing floating point computations, which means that due to rounding you may not get an exact \"0\".)"
   ]
  },
  {
   "cell_type": "markdown",
   "metadata": {},
   "source": [
    "## Watch your code in action!"
   ]
  },
  {
   "cell_type": "markdown",
   "metadata": {},
   "source": [
    "Copy and paste the code into <a href=\"http://edx-org-utaustinx.s3.amazonaws.com/UT501x/PictureFlame/PictureFLAME.html\"> PictureFLAME </a>, a webpage where you can watch your routine in action.  Just cut and paste into the box.  \n",
    "\n",
    "Disclaimer: we implemented a VERY simple interpreter.  If you do something wrong, we cannot guarantee the results.  But if you do it right, you are in for a treat.\n",
    "\n",
    "If you want to reset the problem, just click in the box into which you pasted the code and hit \"next\" again."
   ]
  },
  {
   "cell_type": "markdown",
   "metadata": {},
   "source": [
    "## The `Tmvmult_lt_unb_var2( L, x, y )` routine"
   ]
  },
  {
   "cell_type": "markdown",
   "metadata": {},
   "source": [
    "This routine, given lower triangular $ L \\in \\mathbb{R}^{n \\times n} $, $ x \\in \\mathbb{R}^n $, and $ y \\in \\mathbb{R}^n $, computes $ y := L^T x + y $.  The \"_lt_\" in the name of the routine indicates this is the \"lower triangular, no transpose\" matrix-vector multiplication.  \n",
    "\n",
    "The specific laff functions we will use are \n",
    "<ul>\n",
    "<li> <code> laff.axpy!( alpha, x, y ) </code> which computes $ y := \\alpha x +  y  $.  </li>\n",
    "</ul>\n",
    "\n",
    "Use the <a href=\"https://studio.edx.org/c4x/UTAustinX/UT.5.01x/asset/index.html\"> Spark webpage</a> to generate a code skeleton.  (Make sure you adjust the name of the routine.)"
   ]
  },
  {
   "cell_type": "code",
   "execution_count": 16,
   "metadata": {},
   "outputs": [
    {
     "name": "stderr",
     "output_type": "stream",
     "text": [
      "WARNING: replacing module flame.\n",
      "WARNING: replacing module laff.\n"
     ]
    },
    {
     "data": {
      "text/plain": [
       "Tmvmult_lt_unb_var2! (generic function with 1 method)"
      ]
     },
     "execution_count": 16,
     "metadata": {},
     "output_type": "execute_result"
    }
   ],
   "source": [
    "include(\"../flame.jl\")\n",
    "using .flame\n",
    "include(\"../laff/laff.jl\")\n",
    "using .laff\n",
    "\n",
    "function Tmvmult_lt_unb_var2!(L, x, y)\n",
    "\n",
    "    LTL, LTR, \n",
    "    LBL, LBR  = flame.part_2x2(L, \n",
    "                               0, 0, \"TL\")\n",
    "\n",
    "    xT, \n",
    "    xB  = flame.part_2x1(x, \n",
    "                         0, \"TOP\")\n",
    "\n",
    "    yT, \n",
    "    yB  = flame.part_2x1(y, \n",
    "                         0, \"TOP\")\n",
    "\n",
    "    while size(LTL, 1) < size(L, 1)\n",
    "\n",
    "        L00,  l01,      L02,  \n",
    "        l10t, lambda11, l12t, \n",
    "        L20,  l21,      L22   = flame.repart_2x2_to_3x3(LTL, LTR, \n",
    "                                                        LBL, LBR, \n",
    "                                                        1, 1, \"BR\")\n",
    "\n",
    "        x0,   \n",
    "        chi1, \n",
    "        x2    = flame.repart_2x1_to_3x1(xT, \n",
    "                                        xB, \n",
    "                                        1, \"BOTTOM\")\n",
    "\n",
    "        y0,   \n",
    "        psi1, \n",
    "        y2    = flame.repart_2x1_to_3x1(yT, \n",
    "                                        yB, \n",
    "                                        1, \"BOTTOM\")\n",
    "\n",
    "        #------------------------------------------------------------#\n",
    "\n",
    "        laff.axpy!( chi1, lambda11, psi1 )\n",
    "        laff.axpy!( chi1, l10t, y0 )\n",
    "        \n",
    "        #------------------------------------------------------------#\n",
    "\n",
    "        LTL, LTR, \n",
    "        LBL, LBR  = flame.cont_with_3x3_to_2x2(L00,  l01,      L02,  \n",
    "                                               l10t, lambda11, l12t, \n",
    "                                               L20,  l21,      L22,  \n",
    "                                               \"TL\")\n",
    "\n",
    "        xT, \n",
    "        xB  = flame.cont_with_3x1_to_2x1(x0,   \n",
    "                                         chi1, \n",
    "                                         x2,   \n",
    "                                         \"TOP\")\n",
    "\n",
    "        yT, \n",
    "        yB  = flame.cont_with_3x1_to_2x1(y0,   \n",
    "                                         psi1, \n",
    "                                         y2,   \n",
    "                                         \"TOP\")\n",
    "\n",
    "    end\n",
    "\n",
    "    flame.merge_2x1!(yT, \n",
    "                     yB, y)\n",
    "\n",
    "end"
   ]
  },
  {
   "cell_type": "markdown",
   "metadata": {},
   "source": [
    "## Testing"
   ]
  },
  {
   "cell_type": "markdown",
   "metadata": {},
   "source": [
    "Let's quickly test the routine by creating a 4 x 4 matrix and related vectors, performing the computation."
   ]
  },
  {
   "cell_type": "code",
   "execution_count": 17,
   "metadata": {},
   "outputs": [
    {
     "name": "stdout",
     "output_type": "stream",
     "text": [
      "L before =\n"
     ]
    },
    {
     "data": {
      "text/plain": [
       "4×4 Array{Float64,2}:\n",
       " 0.0724212  0.446586  0.805223    0.307933\n",
       " 0.71185    0.654529  0.0340174   0.832625\n",
       " 0.426742   0.659015  0.00450574  0.791312\n",
       " 0.182425   0.115015  0.636768    0.382166"
      ]
     },
     "execution_count": 17,
     "metadata": {},
     "output_type": "execute_result"
    }
   ],
   "source": [
    "L = rand(4, 4)\n",
    "x = rand(4)\n",
    "y = rand(4)\n",
    "yold = rand(4)\n",
    "\n",
    "# Notice that L is not lower triangular.  We will only use the lower triangular part.\n",
    "\n",
    "println( \"L before =\" )\n",
    "L"
   ]
  },
  {
   "cell_type": "code",
   "execution_count": 18,
   "metadata": {},
   "outputs": [
    {
     "name": "stdout",
     "output_type": "stream",
     "text": [
      "x before =\n"
     ]
    },
    {
     "data": {
      "text/plain": [
       "4-element Array{Float64,1}:\n",
       " 0.8033201740435727\n",
       " 0.9365308819590796\n",
       " 0.3249564699055876\n",
       " 0.7782984984742982"
      ]
     },
     "execution_count": 18,
     "metadata": {},
     "output_type": "execute_result"
    }
   ],
   "source": [
    "println( \"x before =\" )\n",
    "x"
   ]
  },
  {
   "cell_type": "code",
   "execution_count": 19,
   "metadata": {},
   "outputs": [
    {
     "name": "stdout",
     "output_type": "stream",
     "text": [
      "y before =\n"
     ]
    },
    {
     "data": {
      "text/plain": [
       "4-element Array{Float64,1}:\n",
       " 0.531017555273962 \n",
       " 0.8805455307891643\n",
       " 0.458780329045853 \n",
       " 0.1842548005419482"
      ]
     },
     "execution_count": 19,
     "metadata": {},
     "output_type": "execute_result"
    }
   ],
   "source": [
    "println( \"y before =\" )\n",
    "y"
   ]
  },
  {
   "cell_type": "code",
   "execution_count": 20,
   "metadata": {},
   "outputs": [
    {
     "name": "stdout",
     "output_type": "stream",
     "text": [
      "y after = \n"
     ]
    },
    {
     "data": {
      "text/plain": [
       "4-element Array{Float64,1}:\n",
       " 1.536517707137722  \n",
       " 1.7971992605074838 \n",
       " 0.9558399521616561 \n",
       " 0.48169428372477213"
      ]
     },
     "execution_count": 20,
     "metadata": {},
     "output_type": "execute_result"
    }
   ],
   "source": [
    "laff.copy!(y, yold)\n",
    "Tmvmult_lt_unb_var2!( L, x, y )\n",
    "\n",
    "println( \"y after = \" )\n",
    "y"
   ]
  },
  {
   "cell_type": "code",
   "execution_count": 21,
   "metadata": {},
   "outputs": [
    {
     "name": "stdout",
     "output_type": "stream",
     "text": [
      "y - ( transpose( LowerTriangular( L ) ) * x + yold ) = \n"
     ]
    },
    {
     "data": {
      "text/plain": [
       "4-element Array{Float64,1}:\n",
       " -2.220446049250313e-16\n",
       "  2.220446049250313e-16\n",
       "  0.0                  \n",
       "  0.0                  "
      ]
     },
     "execution_count": 21,
     "metadata": {},
     "output_type": "execute_result"
    }
   ],
   "source": [
    "# LowerTriangular() makes the matrix lower triangular\n",
    "using LinearAlgebra\n",
    "println( \"y - ( transpose( LowerTriangular( L ) ) * x + yold ) = \" )\n",
    "y - ( transpose( LowerTriangular( L ) ) * x + yold ) "
   ]
  },
  {
   "cell_type": "markdown",
   "metadata": {},
   "source": [
    "Bingo, it seems to work!  (Notice that we are doing floating point computations, which means that due to rounding you may not get an exact \"0\".)"
   ]
  },
  {
   "cell_type": "markdown",
   "metadata": {},
   "source": [
    "## Watch your code in action!"
   ]
  },
  {
   "cell_type": "markdown",
   "metadata": {},
   "source": [
    "Copy and paste the code into <a href=\"http://edx-org-utaustinx.s3.amazonaws.com/UT501x/PictureFlame/PictureFLAME.html\"> PictureFLAME </a>, a webpage where you can watch your routine in action.  Just cut and paste into the box.  \n",
    "\n",
    "Disclaimer: we implemented a VERY simple interpreter.  If you do something wrong, we cannot guarantee the results.  But if you do it right, you are in for a treat.\n",
    "\n",
    "If you want to reset the problem, just click in the box into which you pasted the code and hit \"next\" again."
   ]
  }
 ],
 "metadata": {
  "kernelspec": {
   "display_name": "Julia 1.0.1",
   "language": "julia",
   "name": "julia-1.0"
  },
  "language_info": {
   "file_extension": ".jl",
   "mimetype": "application/julia",
   "name": "julia",
   "version": "1.0.1"
  }
 },
 "nbformat": 4,
 "nbformat_minor": 1
}
