{
 "cells": [
  {
   "cell_type": "markdown",
   "metadata": {},
   "source": [
    "# Matrix Multiplication Practice"
   ]
  },
  {
   "cell_type": "markdown",
   "metadata": {},
   "source": [
    " In this notebook you'll be able to practice matrix multiplication with randomly generated problems. Notice the special shapes that come up!  You should encounter, as matrix-matrix multiplication, 8 problem types:\n",
    "\n",
    "<ul>\n",
    "<li>\n",
    " Matrix-matrix multiplication (all of them!)\n",
    "</li>\n",
    "<li>\n",
    "Dot Products ($ m = n = 1 $)\n",
    "</li>\n",
    "<li>\n",
    "Outer Products ($ k = 1 $)\n",
    "</li>\n",
    "<li>\n",
    "Row vector scaling ($ m = k = 1 $)\n",
    "</li>\n",
    "<li>\n",
    "Column vector scaling ($ n = k = 1 $)\n",
    "</li>\n",
    "<li>\n",
    "Scalar multiplication ( $ m = n = k = 1 $)\n",
    "</li>\n",
    "<li>\n",
    "Matrix-vector multiplication ($ n = 1 $)\n",
    "</li>\n",
    "<li>\n",
    "Row vector-matrix multiplication ($ m = 1 $)\n",
    "</li>\n",
    "</ul>\n",
    "\n",
    "Each problem type is equally likely, so you'll be able to practice the special cases more often. Try guessing the problem type every time one pops up.  Guess the most specific case of matrix-matrix multiplication.   (Yes, you could guess \"matrix-vector multiplication\" when it is also a scalar multiplication.)\n",
    "\n",
    "A lot of people get confused between Dot and Outer products, and they are really important."
   ]
  },
  {
   "cell_type": "markdown",
   "metadata": {},
   "source": [
    "## Usage"
   ]
  },
  {
   "cell_type": "markdown",
   "metadata": {},
   "source": [
    "Use the three cells below. The routines should be pretty self explanatory, but you can re-run the first code block to get a new random problem as many times as you'd like. The variable <code>p</code> stores the answer to the problem you've generated, so use the <code>p.show_answer()</code> code block to reveal the answer and the <code>p.show_problem_type()</code> code block to reveal the problem type."
   ]
  },
  {
   "cell_type": "code",
   "execution_count": 7,
   "metadata": {},
   "outputs": [
    {
     "name": "stderr",
     "output_type": "stream",
     "text": [
      "WARNING: replacing module PracticeGemm.\n"
     ]
    }
   ],
   "source": [
    "include(\"PracticeGemm.jl\")\n",
    "using .PracticeGemm"
   ]
  },
  {
   "cell_type": "code",
   "execution_count": 28,
   "metadata": {},
   "outputs": [
    {
     "name": "stdout",
     "output_type": "stream",
     "text": [
      "SCAL :\n",
      "<  2  >  < -2  0  1 >   =  \n"
     ]
    }
   ],
   "source": [
    "problem = PracticeGemm.new_problem();"
   ]
  },
  {
   "cell_type": "code",
   "execution_count": 29,
   "metadata": {},
   "outputs": [
    {
     "name": "stdout",
     "output_type": "stream",
     "text": [
      "<  2  >  < -2  0  1 >   =  < -4  0  2 >  \n"
     ]
    }
   ],
   "source": [
    "PracticeGemm.show_answer(problem)"
   ]
  },
  {
   "cell_type": "code",
   "execution_count": null,
   "metadata": {},
   "outputs": [],
   "source": []
  }
 ],
 "metadata": {
  "kernelspec": {
   "display_name": "Julia 1.0.1",
   "language": "julia",
   "name": "julia-1.0"
  },
  "language_info": {
   "file_extension": ".jl",
   "mimetype": "application/julia",
   "name": "julia",
   "version": "1.0.1"
  }
 },
 "nbformat": 4,
 "nbformat_minor": 1
}
