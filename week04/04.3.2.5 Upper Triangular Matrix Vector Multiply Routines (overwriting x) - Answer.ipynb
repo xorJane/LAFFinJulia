{
 "cells": [
  {
   "cell_type": "markdown",
   "metadata": {},
   "source": [
    "# Upper Triangular Matrix Vector Multiply Routines"
   ]
  },
  {
   "cell_type": "markdown",
   "metadata": {},
   "source": [
    "This notebook walks you through how to implement $ x := U x $ where $ U $ is upper triangular.  Vector $ y $ is not to be touched (and, indeed, not even passed into the routines).  This is a little trickier than you might think, especially when you work with lower triangular matrix $ L $, later.  Indeed, you may want to do a few small problems by hand if you don't get the right answer.  Also, PictureFLAME may help you see what is going on."
   ]
  },
  {
   "cell_type": "markdown",
   "metadata": {},
   "source": [
    "## Getting started"
   ]
  },
  {
   "cell_type": "markdown",
   "metadata": {},
   "source": [
    "We will use some functions that are part of our laff library (of which this function will become a part) as well as some routines from the FLAME API (Application Programming Interface) that allows us to write code that closely resembles how we typeset algorithms using the FLAME notation.  These functions are imported with `include` and `using` statements."
   ]
  },
  {
   "cell_type": "markdown",
   "metadata": {},
   "source": [
    "## Algorithm that takes dot products\n",
    "\n",
    "<img src=\"../images/trmvp_un_dot.png\" alt=\"Matrix-matrix multiplication by columns picture\" width=\"80%\">"
   ]
  },
  {
   "cell_type": "markdown",
   "metadata": {},
   "source": [
    "## The `Trmvp_un_unb_var1!( U, x )` routine"
   ]
  },
  {
   "cell_type": "markdown",
   "metadata": {},
   "source": [
    "This routine, given upper triangular $ U \\in \\mathbb{R}^{n \\times n} $ and $ x \\in \\mathbb{R}^n $ computes $ x := U x $.  The \"_un_\" in the name of the routine indicates this is the \"upper, no transpose\" matrix-vector multiplication.  \n",
    "\n",
    "The specific laff functions we will use are \n",
    "<ul>\n",
    "<li> <code> laff.dots!( x, y, alpha ) </code> which computes $ \\alpha := x^T y + \\alpha $.  </li>\n",
    "<li> <code> laff.scal!( alpha, x ) </code> which computes $ x := \\alpha x $.  </li> (You will want to use this one to update $ \\chi_1 $ if you want to use PictureFrame.)\n",
    "</ul>\n",
    "\n",
    "Use the <a href=\"https://studio.edx.org/c4x/UTAustinX/UT.5.01x/asset/index.html\"> Spark webpage</a> to generate a code skeleton.  (Make sure you adjust the name of the routine.)"
   ]
  },
  {
   "cell_type": "code",
   "execution_count": 30,
   "metadata": {},
   "outputs": [
    {
     "name": "stderr",
     "output_type": "stream",
     "text": [
      "WARNING: replacing module flame.\n",
      "WARNING: replacing module laff.\n"
     ]
    },
    {
     "data": {
      "text/plain": [
       "Trmvp_un_unb_var1! (generic function with 1 method)"
      ]
     },
     "execution_count": 30,
     "metadata": {},
     "output_type": "execute_result"
    }
   ],
   "source": [
    "include(\"../flame.jl\")\n",
    "using .flame\n",
    "include(\"../laff/laff.jl\")\n",
    "using .laff\n",
    "\n",
    "function Trmvp_un_unb_var1!(U, x)\n",
    "\n",
    "    UTL, UTR, \n",
    "    UBL, UBR  = flame.part_2x2(U, \n",
    "                               0, 0, \"TL\")\n",
    "\n",
    "    xT, \n",
    "    xB  = flame.part_2x1(x, \n",
    "                         0, \"TOP\")\n",
    "\n",
    "    while size(UTL, 1) < size(U, 1)\n",
    "\n",
    "        U00,  u01,       U02,  \n",
    "        u10t, upsilon11, u12t, \n",
    "        U20,  u21,       U22   = flame.repart_2x2_to_3x3(UTL, UTR, \n",
    "                                                         UBL, UBR, \n",
    "                                                         1, 1, \"BR\")\n",
    "\n",
    "        x0,   \n",
    "        chi1, \n",
    "        x2    = flame.repart_2x1_to_3x1(xT, \n",
    "                                        xB, \n",
    "                                        1, \"BOTTOM\")\n",
    "\n",
    "        #------------------------------------------------------------#\n",
    "\n",
    "        laff.scal!( upsilon11, chi1 )\n",
    "        laff.dots!( u12t, x2, chi1 )\n",
    "        \n",
    "        #------------------------------------------------------------#\n",
    "\n",
    "        UTL, UTR, \n",
    "        UBL, UBR  = flame.cont_with_3x3_to_2x2(U00,  u01,       U02,  \n",
    "                                               u10t, upsilon11, u12t, \n",
    "                                               U20,  u21,       U22,  \n",
    "                                               \"TL\")\n",
    "\n",
    "        xT, \n",
    "        xB  = flame.cont_with_3x1_to_2x1(x0,   \n",
    "                                         chi1, \n",
    "                                         x2,   \n",
    "                                         \"TOP\")\n",
    "\n",
    "    end\n",
    "\n",
    "    flame.merge_2x1!(xT, \n",
    "                     xB, x)\n",
    "\n",
    "end"
   ]
  },
  {
   "cell_type": "markdown",
   "metadata": {},
   "source": [
    "## Testing"
   ]
  },
  {
   "cell_type": "markdown",
   "metadata": {},
   "source": [
    "Let's quickly test the routine by creating a 4 x 4 matrix and related vectors, performing the computation."
   ]
  },
  {
   "cell_type": "code",
   "execution_count": 31,
   "metadata": {},
   "outputs": [
    {
     "name": "stdout",
     "output_type": "stream",
     "text": [
      "U before =\n"
     ]
    },
    {
     "data": {
      "text/plain": [
       "4×4 Array{Float64,2}:\n",
       " 0.568712  0.0484043  0.239765  0.597326\n",
       " 0.513997  0.451848   0.109589  0.94517 \n",
       " 0.502999  0.229655   0.999115  0.150114\n",
       " 0.601896  0.674244   0.70824   0.93796 "
      ]
     },
     "execution_count": 31,
     "metadata": {},
     "output_type": "execute_result"
    }
   ],
   "source": [
    "U = rand(4, 4)\n",
    "x = rand(4)\n",
    "xold = rand(4)\n",
    "\n",
    "# Notice that U is not upper triangular.  We will only use the upper triangular part.\n",
    "\n",
    "println( \"U before =\" )\n",
    "U"
   ]
  },
  {
   "cell_type": "code",
   "execution_count": 32,
   "metadata": {},
   "outputs": [
    {
     "name": "stdout",
     "output_type": "stream",
     "text": [
      "x before =\n"
     ]
    },
    {
     "data": {
      "text/plain": [
       "4-element Array{Float64,1}:\n",
       " 0.8922830772807757 \n",
       " 0.19250286062510757\n",
       " 0.31566567331804163\n",
       " 0.11048724269184662"
      ]
     },
     "execution_count": 32,
     "metadata": {},
     "output_type": "execute_result"
    }
   ],
   "source": [
    "println( \"x before =\" )\n",
    "x"
   ]
  },
  {
   "cell_type": "code",
   "execution_count": 33,
   "metadata": {},
   "outputs": [
    {
     "name": "stdout",
     "output_type": "stream",
     "text": [
      "after =\n"
     ]
    },
    {
     "data": {
      "text/plain": [
       "4-element Array{Float64,1}:\n",
       " 0.6584528290959286 \n",
       " 0.22600478716218547\n",
       " 0.33197207995421807\n",
       " 0.10363262985771861"
      ]
     },
     "execution_count": 33,
     "metadata": {},
     "output_type": "execute_result"
    }
   ],
   "source": [
    "laff.copy!( x, xold )   # save the original vector x\n",
    "\n",
    "Trmvp_un_unb_var1!( U, x )\n",
    "\n",
    "println( \"after =\" )\n",
    "x"
   ]
  },
  {
   "cell_type": "code",
   "execution_count": 34,
   "metadata": {},
   "outputs": [
    {
     "data": {
      "text/plain": [
       "4-element Array{Float64,1}:\n",
       " 0.6584528290959286 \n",
       " 0.22600478716218547\n",
       " 0.33197207995421807\n",
       " 0.10363262985771861"
      ]
     },
     "execution_count": 34,
     "metadata": {},
     "output_type": "execute_result"
    }
   ],
   "source": [
    "using LinearAlgebra\n",
    "UpperTriangular( U ) * xold"
   ]
  },
  {
   "cell_type": "code",
   "execution_count": 35,
   "metadata": {},
   "outputs": [
    {
     "name": "stdout",
     "output_type": "stream",
     "text": [
      "x - ( UpperTriangular( U ) * xold ) = \n"
     ]
    },
    {
     "data": {
      "text/plain": [
       "4-element Array{Float64,1}:\n",
       " 0.0\n",
       " 0.0\n",
       " 0.0\n",
       " 0.0"
      ]
     },
     "execution_count": 35,
     "metadata": {},
     "output_type": "execute_result"
    }
   ],
   "source": [
    "println( \"x - ( UpperTriangular( U ) * xold ) = \" ) # UpperTriangular() makes the matrix upper triangular\n",
    "x - ( UpperTriangular( U ) * xold )"
   ]
  },
  {
   "cell_type": "markdown",
   "metadata": {},
   "source": [
    "Bingo, it seems to work!  (Notice that we are doing floating point computations, which means that due to rounding you may not get an exact \"0\".)"
   ]
  },
  {
   "cell_type": "markdown",
   "metadata": {},
   "source": [
    "## Watch your code in action!"
   ]
  },
  {
   "cell_type": "markdown",
   "metadata": {},
   "source": [
    "Copy and paste the code into <a href=\"http://edx-org-utaustinx.s3.amazonaws.com/UT501x/PictureFlame/PictureFLAME.html\"> PictureFLAME </a>, a webpage where you can watch your routine in action.  Just cut and paste into the box.  \n",
    "\n",
    "Disclaimer: we implemented a VERY simple interpreter.  If you do something wrong, we cannot guarantee the results.  But if you do it right, you are in for a treat.\n",
    "\n",
    "If you want to reset the problem, just click in the box into which you pasted the code and hit \"next\" again."
   ]
  },
  {
   "cell_type": "markdown",
   "metadata": {},
   "source": [
    "## Algorithm that uses axpys\n",
    "\n",
    "<img src=\"../images/trmvp_un_axpy.png\" alt=\"Matrix-matrix multiplication by columns picture\" width=\"80%\">"
   ]
  },
  {
   "cell_type": "markdown",
   "metadata": {},
   "source": [
    "## The `Trmvp_un_unb_var2!( U, x )` routine"
   ]
  },
  {
   "cell_type": "markdown",
   "metadata": {},
   "source": [
    "This routine, given upper triangular $ U \\in \\mathbb{R}^{n \\times n} $ and $ x \\in \\mathbb{R}^n $ computes $ x := U x $.  The \"_un_\" in the name of the routine indicates this is the \"upper triangular, no transpose\" matrix-vector multiplication.  \n",
    "\n",
    "The specific laff functions we will use are \n",
    "<ul>\n",
    "<li> <code> laff.axpy!( alpha, x, y ) </code> which computes $ y := \\alpha x +  y  $.  </li>\n",
    "<li> <code> laff.scal!( alpha, x ) </code> which computes $ x := \\alpha x $.  </li> (You will want to use this one to update $ \\chi_1 $ if you want to use PictureFrame.)\n",
    "</ul>\n",
    "\n",
    "Use the <a href=\"https://studio.edx.org/c4x/UTAustinX/UT.5.01x/asset/index.html\"> Spark webpage</a> to generate a code skeleton.  (Make sure you adjust the name of the routine.)"
   ]
  },
  {
   "cell_type": "code",
   "execution_count": 36,
   "metadata": {},
   "outputs": [
    {
     "name": "stderr",
     "output_type": "stream",
     "text": [
      "WARNING: replacing module flame.\n",
      "WARNING: replacing module laff.\n"
     ]
    },
    {
     "data": {
      "text/plain": [
       "Trmvp_un_unb_var2! (generic function with 1 method)"
      ]
     },
     "execution_count": 36,
     "metadata": {},
     "output_type": "execute_result"
    }
   ],
   "source": [
    "include(\"../flame.jl\")\n",
    "using .flame\n",
    "include(\"../laff/laff.jl\")\n",
    "using .laff\n",
    "\n",
    "function Trmvp_un_unb_var2!(U, x)\n",
    "\n",
    "    UTL, UTR, \n",
    "    UBL, UBR  = flame.part_2x2(U, \n",
    "                               0, 0, \"TL\")\n",
    "\n",
    "    xT, \n",
    "    xB  = flame.part_2x1(x, \n",
    "                         0, \"TOP\")\n",
    "\n",
    "    while size(UTL, 1) < size(U, 1)\n",
    "\n",
    "        U00,  u01,       U02,  \n",
    "        u10t, upsilon11, u12t, \n",
    "        U20,  u21,       U22   = flame.repart_2x2_to_3x3(UTL, UTR, \n",
    "                                                         UBL, UBR, \n",
    "                                                         1, 1, \"BR\")\n",
    "\n",
    "        x0,   \n",
    "        chi1, \n",
    "        x2    = flame.repart_2x1_to_3x1(xT, \n",
    "                                        xB, \n",
    "                                        1, \"BOTTOM\")\n",
    "\n",
    "        #------------------------------------------------------------#\n",
    "\n",
    "        laff.axpy!( chi1, u01, x0 )\n",
    "        laff.scal!( upsilon11, chi1 )\n",
    "        \n",
    "        #------------------------------------------------------------#\n",
    "\n",
    "        UTL, UTR, \n",
    "        UBL, UBR  = flame.cont_with_3x3_to_2x2(U00,  u01,       U02,  \n",
    "                                               u10t, upsilon11, u12t, \n",
    "                                               U20,  u21,       U22,  \n",
    "                                               \"TL\")\n",
    "\n",
    "        xT, \n",
    "        xB  = flame.cont_with_3x1_to_2x1(x0,   \n",
    "                                         chi1, \n",
    "                                         x2,   \n",
    "                                         \"TOP\")\n",
    "\n",
    "    end\n",
    "\n",
    "    flame.merge_2x1!(xT, \n",
    "                     xB, x)\n",
    "\n",
    "end"
   ]
  },
  {
   "cell_type": "markdown",
   "metadata": {},
   "source": [
    "## Testing"
   ]
  },
  {
   "cell_type": "markdown",
   "metadata": {},
   "source": [
    "Let's quickly test the routine by creating a 4 x 4 matrix and related vectors, performing the computation."
   ]
  },
  {
   "cell_type": "code",
   "execution_count": 37,
   "metadata": {},
   "outputs": [
    {
     "name": "stdout",
     "output_type": "stream",
     "text": [
      "U before =\n"
     ]
    },
    {
     "data": {
      "text/plain": [
       "4×4 Array{Float64,2}:\n",
       " 0.407676   0.213559   0.954064  0.346649 \n",
       " 0.75617    0.559332   0.77835   0.0199678\n",
       " 0.0778386  0.705902   0.856714  0.730193 \n",
       " 0.498111   0.0277845  0.281855  0.103336 "
      ]
     },
     "execution_count": 37,
     "metadata": {},
     "output_type": "execute_result"
    }
   ],
   "source": [
    "U = rand(4, 4)\n",
    "x = rand(4)\n",
    "xold = rand(4)\n",
    "\n",
    "# Notice that U is not upper triangular.  We will only use the upper triangular part.\n",
    "\n",
    "println( \"U before =\" )\n",
    "U"
   ]
  },
  {
   "cell_type": "code",
   "execution_count": 38,
   "metadata": {},
   "outputs": [
    {
     "name": "stdout",
     "output_type": "stream",
     "text": [
      "x before =\n"
     ]
    },
    {
     "data": {
      "text/plain": [
       "4-element Array{Float64,1}:\n",
       " 0.5959365771819232  \n",
       " 0.9481134857472329  \n",
       " 0.8802097318036222  \n",
       " 0.026284186562488765"
      ]
     },
     "execution_count": 38,
     "metadata": {},
     "output_type": "execute_result"
    }
   ],
   "source": [
    "println( \"x before =\" )\n",
    "x"
   ]
  },
  {
   "cell_type": "code",
   "execution_count": 39,
   "metadata": {},
   "outputs": [
    {
     "name": "stdout",
     "output_type": "stream",
     "text": [
      "after =\n"
     ]
    },
    {
     "data": {
      "text/plain": [
       "4-element Array{Float64,1}:\n",
       " 1.294315158712078   \n",
       " 1.215945841422403   \n",
       " 0.77328093503125    \n",
       " 0.002716094694956955"
      ]
     },
     "execution_count": 39,
     "metadata": {},
     "output_type": "execute_result"
    }
   ],
   "source": [
    "laff.copy!( x, xold )   # save the original vector x\n",
    "\n",
    "Trmvp_un_unb_var2!( U, x )\n",
    "\n",
    "println( \"after =\" )\n",
    "x"
   ]
  },
  {
   "cell_type": "code",
   "execution_count": 40,
   "metadata": {},
   "outputs": [
    {
     "data": {
      "text/plain": [
       "4-element Array{Float64,1}:\n",
       " 1.294315158712078   \n",
       " 1.215945841422403   \n",
       " 0.77328093503125    \n",
       " 0.002716094694956955"
      ]
     },
     "execution_count": 40,
     "metadata": {},
     "output_type": "execute_result"
    }
   ],
   "source": [
    "using LinearAlgebra\n",
    "UpperTriangular( U ) * xold"
   ]
  },
  {
   "cell_type": "code",
   "execution_count": 41,
   "metadata": {},
   "outputs": [
    {
     "name": "stdout",
     "output_type": "stream",
     "text": [
      "x - ( UpperTriangular( U ) * xold ) = \n"
     ]
    },
    {
     "data": {
      "text/plain": [
       "4-element Array{Float64,1}:\n",
       " 0.0\n",
       " 0.0\n",
       " 0.0\n",
       " 0.0"
      ]
     },
     "execution_count": 41,
     "metadata": {},
     "output_type": "execute_result"
    }
   ],
   "source": [
    "println( \"x - ( UpperTriangular( U ) * xold ) = \" ) # UpperTriangular() makes the matrix upper triangular\n",
    "x - ( UpperTriangular( U ) * xold )"
   ]
  },
  {
   "cell_type": "markdown",
   "metadata": {},
   "source": [
    "Bingo, it seems to work!  (Notice that we are doing floating point computations, which means that due to rounding you may not get an exact \"0\".)"
   ]
  },
  {
   "cell_type": "markdown",
   "metadata": {},
   "source": [
    "## Watch your code in action!"
   ]
  },
  {
   "cell_type": "markdown",
   "metadata": {},
   "source": [
    "Copy and paste the code into <a href=\"http://edx-org-utaustinx.s3.amazonaws.com/UT501x/PictureFlame/PictureFLAME.html\"> PictureFLAME </a>, a webpage where you can watch your routine in action.  Just cut and paste into the box.  \n",
    "\n",
    "Disclaimer: we implemented a VERY simple interpreter.  If you do something wrong, we cannot guarantee the results.  But if you do it right, you are in for a treat.\n",
    "\n",
    "If you want to reset the problem, just click in the box into which you pasted the code and hit \"next\" again."
   ]
  }
 ],
 "metadata": {
  "kernelspec": {
   "display_name": "Julia 1.0.1",
   "language": "julia",
   "name": "julia-1.0"
  },
  "language_info": {
   "file_extension": ".jl",
   "mimetype": "application/julia",
   "name": "julia",
   "version": "1.0.1"
  }
 },
 "nbformat": 4,
 "nbformat_minor": 1
}
