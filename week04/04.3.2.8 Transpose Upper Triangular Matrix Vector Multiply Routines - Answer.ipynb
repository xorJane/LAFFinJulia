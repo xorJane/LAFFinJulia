{
 "cells": [
  {
   "cell_type": "markdown",
   "metadata": {},
   "source": [
    "# Transpose Upper Triangular Matrix Vector Multiply Routines"
   ]
  },
  {
   "cell_type": "markdown",
   "metadata": {},
   "source": [
    "This notebook walks you through how to implement $ y := U^T x + y $ where $ U $ is upper triangular."
   ]
  },
  {
   "cell_type": "markdown",
   "metadata": {},
   "source": [
    "## Getting started"
   ]
  },
  {
   "cell_type": "markdown",
   "metadata": {},
   "source": [
    "We will use some functions that are part of our laff library (of which this function will become a part) as well as some routines from the FLAME API (Application Programming Interface) that allows us to write code that closely resembles how we typeset algorithms using the FLAME notation.  These functions are imported with `include` and `using` statements."
   ]
  },
  {
   "cell_type": "markdown",
   "metadata": {},
   "source": [
    "## Algorithm that takes dot products"
   ]
  },
  {
   "cell_type": "markdown",
   "metadata": {},
   "source": [
    "## The `Tmvmult_ut_unb_var1!( U, x, y )` routine"
   ]
  },
  {
   "cell_type": "markdown",
   "metadata": {},
   "source": [
    "This routine, given upper triangular $ U \\in \\mathbb{R}^{n \\times n} $, $ x \\in \\mathbb{R}^n $, and $ y \\in \\mathbb{R}^n $, computes $ y := U^T x + y $.  The \"_ut_\" in the name of the routine indicates this is the \"upper, transpose\" matrix-vector multiplication.  \n",
    "\n",
    "The specific laff functions we will use are \n",
    "<ul>\n",
    "<li> <code> laff.dots!( x, y, alpha ) </code> which computes $ \\alpha := x^T y + \\alpha $.  </li>\n",
    "</ul>\n",
    "\n",
    "Use the <a href=\"https://studio.edx.org/c4x/UTAustinX/UT.5.01x/asset/index.html\"> Spark webpage</a> to generate a code skeleton.  (Make sure you adjust the name of the routine.)"
   ]
  },
  {
   "cell_type": "code",
   "execution_count": 9,
   "metadata": {},
   "outputs": [
    {
     "name": "stderr",
     "output_type": "stream",
     "text": [
      "WARNING: replacing module flame.\n",
      "WARNING: replacing module laff.\n"
     ]
    },
    {
     "data": {
      "text/plain": [
       "Tmvmult_ut_unb_var1! (generic function with 1 method)"
      ]
     },
     "execution_count": 9,
     "metadata": {},
     "output_type": "execute_result"
    }
   ],
   "source": [
    "include(\"../flame.jl\")\n",
    "using .flame\n",
    "include(\"../laff/laff.jl\")\n",
    "using .laff\n",
    "\n",
    "function Tmvmult_ut_unb_var1!(U, x, y)\n",
    "\n",
    "    UTL, UTR, \n",
    "    UBL, UBR  = flame.part_2x2(U, \n",
    "                               0, 0, \"TL\")\n",
    "\n",
    "    xT, \n",
    "    xB  = flame.part_2x1(x, \n",
    "                         0, \"TOP\")\n",
    "\n",
    "    yT, \n",
    "    yB  = flame.part_2x1(y, \n",
    "                         0, \"TOP\")\n",
    "\n",
    "    while size(UTL, 1) < size(U, 1)\n",
    "\n",
    "        U00,  u01,       U02,  \n",
    "        u10t, upsilon11, u12t, \n",
    "        U20,  u21,       U22   = flame.repart_2x2_to_3x3(UTL, UTR, \n",
    "                                                         UBL, UBR, \n",
    "                                                         1, 1, \"BR\")\n",
    "\n",
    "        x0,   \n",
    "        chi1, \n",
    "        x2    = flame.repart_2x1_to_3x1(xT, \n",
    "                                        xB, \n",
    "                                        1, \"BOTTOM\")\n",
    "\n",
    "        y0,   \n",
    "        psi1, \n",
    "        y2    = flame.repart_2x1_to_3x1(yT, \n",
    "                                        yB, \n",
    "                                        1, \"BOTTOM\")\n",
    "\n",
    "        #------------------------------------------------------------#\n",
    "\n",
    "        laff.dots!( upsilon11, chi1, psi1 )\n",
    "        laff.dots!( u01, x0, psi1 )\n",
    "        \n",
    "        #------------------------------------------------------------#\n",
    "\n",
    "        UTL, UTR, \n",
    "        UBL, UBR  = flame.cont_with_3x3_to_2x2(U00,  u01,       U02,  \n",
    "                                               u10t, upsilon11, u12t, \n",
    "                                               U20,  u21,       U22,  \n",
    "                                               \"TL\")\n",
    "\n",
    "        xT, \n",
    "        xB  = flame.cont_with_3x1_to_2x1(x0,   \n",
    "                                         chi1, \n",
    "                                         x2,   \n",
    "                                         \"TOP\")\n",
    "\n",
    "        yT, \n",
    "        yB  = flame.cont_with_3x1_to_2x1(y0,   \n",
    "                                         psi1, \n",
    "                                         y2,   \n",
    "                                         \"TOP\")\n",
    "\n",
    "    end\n",
    "\n",
    "    flame.merge_2x1!(yT, \n",
    "                     yB, y)\n",
    "\n",
    "end"
   ]
  },
  {
   "cell_type": "markdown",
   "metadata": {},
   "source": [
    "## Testing"
   ]
  },
  {
   "cell_type": "markdown",
   "metadata": {},
   "source": [
    "Let's quickly test the routine by creating a 4 x 4 matrix and related vectors, performing the computation."
   ]
  },
  {
   "cell_type": "code",
   "execution_count": 10,
   "metadata": {},
   "outputs": [
    {
     "name": "stdout",
     "output_type": "stream",
     "text": [
      "U before =\n"
     ]
    },
    {
     "data": {
      "text/plain": [
       "4×4 Array{Float64,2}:\n",
       " 0.94883   0.384147  0.00294439  0.782414\n",
       " 0.533379  0.12194   0.425606    0.193788\n",
       " 0.510094  0.79745   0.144869    0.210651\n",
       " 0.560685  0.579221  0.240718    0.820349"
      ]
     },
     "execution_count": 10,
     "metadata": {},
     "output_type": "execute_result"
    }
   ],
   "source": [
    "U = rand(4, 4)\n",
    "x = rand(4)\n",
    "y = rand(4)\n",
    "yold = rand(4)\n",
    "\n",
    "# Notice that U is not upper triangular.  We will only use the upper triangular part.\n",
    "\n",
    "println( \"U before =\" )\n",
    "U"
   ]
  },
  {
   "cell_type": "code",
   "execution_count": 11,
   "metadata": {},
   "outputs": [
    {
     "name": "stdout",
     "output_type": "stream",
     "text": [
      "x before =\n"
     ]
    },
    {
     "data": {
      "text/plain": [
       "4-element Array{Float64,1}:\n",
       " 0.7946370646671832\n",
       " 0.8740745452831999\n",
       " 0.9806021236294933\n",
       " 0.2545552268874598"
      ]
     },
     "execution_count": 11,
     "metadata": {},
     "output_type": "execute_result"
    }
   ],
   "source": [
    "println( \"x before =\" )\n",
    "x"
   ]
  },
  {
   "cell_type": "code",
   "execution_count": 12,
   "metadata": {
    "scrolled": true
   },
   "outputs": [
    {
     "name": "stdout",
     "output_type": "stream",
     "text": [
      "y before =\n"
     ]
    },
    {
     "data": {
      "text/plain": [
       "4-element Array{Float64,1}:\n",
       " 0.6409003832238664 \n",
       " 0.38285213960168174\n",
       " 0.9422115549836747 \n",
       " 0.4333447490865663 "
      ]
     },
     "execution_count": 12,
     "metadata": {},
     "output_type": "execute_result"
    }
   ],
   "source": [
    "println( \"y before =\" )\n",
    "y"
   ]
  },
  {
   "cell_type": "code",
   "execution_count": 13,
   "metadata": {},
   "outputs": [
    {
     "name": "stdout",
     "output_type": "stream",
     "text": [
      "y after =\n"
     ]
    },
    {
     "data": {
      "text/plain": [
       "4-element Array{Float64,1}:\n",
       " 1.3948760233387052\n",
       " 0.7946944292429243\n",
       " 1.4586219118368198\n",
       " 1.639854371600785 "
      ]
     },
     "execution_count": 13,
     "metadata": {},
     "output_type": "execute_result"
    }
   ],
   "source": [
    "laff.copy!( y, yold )   # save the original vector y\n",
    "\n",
    "Tmvmult_ut_unb_var1!( U, x, y )\n",
    "\n",
    "println( \"y after =\" )\n",
    "y"
   ]
  },
  {
   "cell_type": "code",
   "execution_count": 14,
   "metadata": {},
   "outputs": [
    {
     "name": "stdout",
     "output_type": "stream",
     "text": [
      "y - ( transpose( UpperTriangular( U ) ) * x + yold ) = \n"
     ]
    },
    {
     "data": {
      "text/plain": [
       "4-element Array{Float64,1}:\n",
       "  0.0                  \n",
       "  0.0                  \n",
       "  0.0                  \n",
       " -2.220446049250313e-16"
      ]
     },
     "execution_count": 14,
     "metadata": {},
     "output_type": "execute_result"
    }
   ],
   "source": [
    "using LinearAlgebra\n",
    "# UpperTriangular() makes the matrix upper triangular\n",
    "println( \"y - ( transpose( UpperTriangular( U ) ) * x + yold ) = \" )\n",
    "y - ( transpose( UpperTriangular( U ) ) * x + yold )"
   ]
  },
  {
   "cell_type": "markdown",
   "metadata": {},
   "source": [
    "Bingo, it seems to work!  (Notice that we are doing floating point computations, which means that due to rounding you may not get an exact \"0\".)"
   ]
  },
  {
   "cell_type": "markdown",
   "metadata": {},
   "source": [
    "## Watch your code in action!"
   ]
  },
  {
   "cell_type": "markdown",
   "metadata": {},
   "source": [
    "Copy and paste the code into <a href=\"http://edx-org-utaustinx.s3.amazonaws.com/UT501x/PictureFlame/PictureFLAME.html\"> PictureFLAME </a>, a webpage where you can watch your routine in action.  Just cut and paste into the box.  \n",
    "\n",
    "Disclaimer: we implemented a VERY simple interpreter.  If you do something wrong, we cannot guarantee the results.  But if you do it right, you are in for a treat.\n",
    "\n",
    "If you want to reset the problem, just click in the box into which you pasted the code and hit \"next\" again."
   ]
  },
  {
   "cell_type": "markdown",
   "metadata": {},
   "source": [
    "## Algorithm that uses axpys"
   ]
  },
  {
   "cell_type": "markdown",
   "metadata": {},
   "source": [
    "## The `Tmvmult_ut_unb_var2!( U, x, y )` routine"
   ]
  },
  {
   "cell_type": "markdown",
   "metadata": {},
   "source": [
    "This routine, given upper triangular $ U \\in \\mathbb{R}^{n \\times n} $, $ x \\in \\mathbb{R}^n $, and $ y \\in \\mathbb{R}^n $, computes $ y := U^T x + y $.  The \"_ut_\" in the name of the routine indicates this is the \"upper triangular, no transpose\" matrix-vector multiplication.  \n",
    "\n",
    "The specific laff functions we will use are \n",
    "<ul>\n",
    "<li> <code> laff.axpy!( alpha, x, y ) </code> which computes $ y := \\alpha x +  y  $.  </li>\n",
    "</ul>\n",
    "\n",
    "Use the <a href=\"https://studio.edx.org/c4x/UTAustinX/UT.5.01x/asset/index.html\"> Spark webpage</a> to generate a code skeleton.  (Make sure you adjust the name of the routine.)"
   ]
  },
  {
   "cell_type": "code",
   "execution_count": 15,
   "metadata": {},
   "outputs": [
    {
     "name": "stderr",
     "output_type": "stream",
     "text": [
      "WARNING: replacing module flame.\n",
      "WARNING: replacing module laff.\n"
     ]
    },
    {
     "data": {
      "text/plain": [
       "Tmvmult_ut_unb_var2! (generic function with 1 method)"
      ]
     },
     "execution_count": 15,
     "metadata": {},
     "output_type": "execute_result"
    }
   ],
   "source": [
    "include(\"../flame.jl\")\n",
    "using .flame\n",
    "include(\"../laff/laff.jl\")\n",
    "using .laff\n",
    "\n",
    "function Tmvmult_ut_unb_var2!(U, x, y)\n",
    "\n",
    "    UTL, UTR, \n",
    "    UBL, UBR  = flame.part_2x2(U, \n",
    "                               0, 0, \"TL\")\n",
    "\n",
    "    xT, \n",
    "    xB  = flame.part_2x1(x, \n",
    "                         0, \"TOP\")\n",
    "\n",
    "    yT, \n",
    "    yB  = flame.part_2x1(y, \n",
    "                         0, \"TOP\")\n",
    "\n",
    "    while size(UTL, 1) < size(U, 1)\n",
    "\n",
    "        U00,  u01,       U02,  \n",
    "        u10t, upsilon11, u12t, \n",
    "        U20,  u21,       U22   = flame.repart_2x2_to_3x3(UTL, UTR, \n",
    "                                                         UBL, UBR, \n",
    "                                                         1, 1, \"BR\")\n",
    "\n",
    "        x0,   \n",
    "        chi1, \n",
    "        x2    = flame.repart_2x1_to_3x1(xT, \n",
    "                                        xB, \n",
    "                                        1, \"BOTTOM\")\n",
    "\n",
    "        y0,   \n",
    "        psi1, \n",
    "        y2    = flame.repart_2x1_to_3x1(yT, \n",
    "                                        yB, \n",
    "                                        1, \"BOTTOM\")\n",
    "\n",
    "        #------------------------------------------------------------#\n",
    "\n",
    "        laff.axpy!( chi1, u12t, y2 )\n",
    "        laff.axpy!( chi1, upsilon11, psi1 )\n",
    "        \n",
    "        #------------------------------------------------------------#\n",
    "\n",
    "        UTL, UTR, \n",
    "        UBL, UBR  = flame.cont_with_3x3_to_2x2(U00,  u01,       U02,  \n",
    "                                               u10t, upsilon11, u12t, \n",
    "                                               U20,  u21,       U22,  \n",
    "                                               \"TL\")\n",
    "\n",
    "        xT, \n",
    "        xB  = flame.cont_with_3x1_to_2x1(x0,   \n",
    "                                         chi1, \n",
    "                                         x2,   \n",
    "                                         \"TOP\")\n",
    "\n",
    "        yT, \n",
    "        yB  = flame.cont_with_3x1_to_2x1(y0,   \n",
    "                                         psi1, \n",
    "                                         y2,   \n",
    "                                         \"TOP\")\n",
    "\n",
    "    end\n",
    "\n",
    "    flame.merge_2x1!(yT, \n",
    "                     yB, y)\n",
    "\n",
    "end"
   ]
  },
  {
   "cell_type": "markdown",
   "metadata": {},
   "source": [
    "## Testing"
   ]
  },
  {
   "cell_type": "markdown",
   "metadata": {},
   "source": [
    "Let's quickly test the routine by creating a 4 x 4 matrix and related vectors, performing the computation."
   ]
  },
  {
   "cell_type": "code",
   "execution_count": 16,
   "metadata": {},
   "outputs": [
    {
     "name": "stdout",
     "output_type": "stream",
     "text": [
      "U before =\n"
     ]
    },
    {
     "data": {
      "text/plain": [
       "4×4 Array{Float64,2}:\n",
       " 0.0748038  0.819176  0.505906   0.436579\n",
       " 0.324334   0.710495  0.676943   0.54178 \n",
       " 0.180601   0.548393  0.0870379  0.466402\n",
       " 0.878547   0.747691  0.0689026  0.168852"
      ]
     },
     "execution_count": 16,
     "metadata": {},
     "output_type": "execute_result"
    }
   ],
   "source": [
    "U = rand(4, 4)\n",
    "x = rand(4)\n",
    "y = rand(4)\n",
    "yold = rand(4)\n",
    "\n",
    "# Notice that U is not upper triangular.  We will only use the upper triangular part.\n",
    "\n",
    "println( \"U before =\" )\n",
    "U"
   ]
  },
  {
   "cell_type": "code",
   "execution_count": 17,
   "metadata": {},
   "outputs": [
    {
     "name": "stdout",
     "output_type": "stream",
     "text": [
      "x before =\n"
     ]
    },
    {
     "data": {
      "text/plain": [
       "4-element Array{Float64,1}:\n",
       " 0.38375143719773885\n",
       " 0.3896637942871266 \n",
       " 0.03955462436444801\n",
       " 0.2267630254014723 "
      ]
     },
     "execution_count": 17,
     "metadata": {},
     "output_type": "execute_result"
    }
   ],
   "source": [
    "println( \"x before =\" )\n",
    "x"
   ]
  },
  {
   "cell_type": "code",
   "execution_count": 18,
   "metadata": {
    "scrolled": true
   },
   "outputs": [
    {
     "name": "stdout",
     "output_type": "stream",
     "text": [
      "y before =\n"
     ]
    },
    {
     "data": {
      "text/plain": [
       "4-element Array{Float64,1}:\n",
       " 0.8446878569286851  \n",
       " 0.5718373118183055  \n",
       " 0.017118971943671735\n",
       " 0.24454998535829198 "
      ]
     },
     "execution_count": 18,
     "metadata": {},
     "output_type": "execute_result"
    }
   ],
   "source": [
    "println( \"y before =\" )\n",
    "y"
   ]
  },
  {
   "cell_type": "code",
   "execution_count": 19,
   "metadata": {},
   "outputs": [
    {
     "name": "stdout",
     "output_type": "stream",
     "text": [
      "y after =\n"
     ]
    },
    {
     "data": {
      "text/plain": [
       "4-element Array{Float64,1}:\n",
       " 0.8733939211184157\n",
       " 1.1630514682114743\n",
       " 0.4784837397100513\n",
       " 0.6799377152374568"
      ]
     },
     "execution_count": 19,
     "metadata": {},
     "output_type": "execute_result"
    }
   ],
   "source": [
    "laff.copy!( y, yold )   # save the original vector y\n",
    "\n",
    "Tmvmult_ut_unb_var2!( U, x, y )\n",
    "\n",
    "println( \"y after =\" )\n",
    "y"
   ]
  },
  {
   "cell_type": "code",
   "execution_count": 20,
   "metadata": {},
   "outputs": [
    {
     "name": "stdout",
     "output_type": "stream",
     "text": [
      "y - ( transpose( UpperTriangular( U ) ) * x + yold ) = \n"
     ]
    },
    {
     "data": {
      "text/plain": [
       "4-element Array{Float64,1}:\n",
       " 0.0\n",
       " 0.0\n",
       " 0.0\n",
       " 0.0"
      ]
     },
     "execution_count": 20,
     "metadata": {},
     "output_type": "execute_result"
    }
   ],
   "source": [
    "using LinearAlgebra\n",
    "# UpperTriangular() makes the matrix upper triangular\n",
    "println( \"y - ( transpose( UpperTriangular( U ) ) * x + yold ) = \" )\n",
    "y - ( transpose( UpperTriangular( U ) ) * x + yold )"
   ]
  },
  {
   "cell_type": "markdown",
   "metadata": {},
   "source": [
    "Bingo, it seems to work!  (Notice that we are doing floating point computations, which means that due to rounding you may not get an exact \"0\".)"
   ]
  },
  {
   "cell_type": "markdown",
   "metadata": {},
   "source": [
    "## Watch your code in action!"
   ]
  },
  {
   "cell_type": "markdown",
   "metadata": {},
   "source": [
    "Copy and paste the code into <a href=\"http://edx-org-utaustinx.s3.amazonaws.com/UT501x/PictureFlame/PictureFLAME.html\"> PictureFLAME </a>, a webpage where you can watch your routine in action.  Just cut and paste into the box.  \n",
    "\n",
    "Disclaimer: we implemented a VERY simple interpreter.  If you do something wrong, we cannot guarantee the results.  But if you do it right, you are in for a treat.\n",
    "\n",
    "If you want to reset the problem, just click in the box into which you pasted the code and hit \"next\" again."
   ]
  },
  {
   "cell_type": "code",
   "execution_count": null,
   "metadata": {},
   "outputs": [],
   "source": []
  }
 ],
 "metadata": {
  "kernelspec": {
   "display_name": "Julia 1.0.1",
   "language": "julia",
   "name": "julia-1.0"
  },
  "language_info": {
   "file_extension": ".jl",
   "mimetype": "application/julia",
   "name": "julia",
   "version": "1.0.1"
  }
 },
 "nbformat": 4,
 "nbformat_minor": 1
}
