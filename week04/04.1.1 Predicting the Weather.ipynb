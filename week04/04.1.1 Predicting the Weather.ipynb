{
 "cells": [
  {
   "cell_type": "markdown",
   "metadata": {},
   "source": [
    "# Week 4: Predicting the Weather"
   ]
  },
  {
   "cell_type": "markdown",
   "metadata": {},
   "source": [
    "The opener for Week 4 discusses an example in which tomorrow's weather is predicted from today's weather. This is done by assigning probabilities to how today's weather transitions to tomorrow's weather."
   ]
  },
  {
   "cell_type": "markdown",
   "metadata": {},
   "source": [
    "## The data"
   ]
  },
  {
   "cell_type": "markdown",
   "metadata": {},
   "source": [
    "<img src=\"https://studio.edx.org/c4x/UTAustinX/UT.5.01x/asset/4.1.1WeatherPicture.png\" alt=\"Transition Table\" width=50%>"
   ]
  },
  {
   "cell_type": "markdown",
   "metadata": {},
   "source": [
    "## The transition matrix, $ P $"
   ]
  },
  {
   "cell_type": "code",
   "execution_count": 1,
   "metadata": {},
   "outputs": [
    {
     "data": {
      "text/plain": [
       "3×3 Array{Float64,2}:\n",
       " 0.4  0.3  0.1\n",
       " 0.4  0.3  0.6\n",
       " 0.2  0.4  0.3"
      ]
     },
     "execution_count": 1,
     "metadata": {},
     "output_type": "execute_result"
    }
   ],
   "source": [
    "P = [ 0.4  0.3  0.1\n",
    "      0.4  0.3  0.6\n",
    "      0.2  0.4  0.3]"
   ]
  },
  {
   "cell_type": "markdown",
   "metadata": {},
   "source": [
    "## Today is cloudy"
   ]
  },
  {
   "cell_type": "markdown",
   "metadata": {},
   "source": [
    "Vector $ x $ consists of three components: \n",
    "$$ \\left( \\begin{array}{c} \\chi_s \\\\ \\chi_c \\\\ \\chi_r \\end{array} \\right). $$\n",
    "If we want to use $ x^{(0)} $ to express that on day $ 0 $ it is cloudy, we set\n",
    "$$ \\left( \\begin{array}{c} \\chi_s^{(0)} \\\\ \\chi_c^{(0)} \\\\ \\chi_r^{(0)} \\end{array} \\right) = \n",
    "\\left( \\begin{array}{r} 0 \\\\ 1 \\\\ 0 \\end{array} \\right). $$"
   ]
  },
  {
   "cell_type": "code",
   "execution_count": 3,
   "metadata": {},
   "outputs": [
    {
     "data": {
      "text/plain": [
       "3-element Array{Int64,1}:\n",
       " 0\n",
       " 1\n",
       " 0"
      ]
     },
     "execution_count": 3,
     "metadata": {},
     "output_type": "execute_result"
    }
   ],
   "source": [
    "x0 = [0, 1, 0]"
   ]
  },
  {
   "cell_type": "markdown",
   "metadata": {},
   "source": [
    "## Predicting the weather a week from today"
   ]
  },
  {
   "cell_type": "markdown",
   "metadata": {},
   "source": [
    "The weather for day $ 1 $ is predicted by $ x^{(1)} = P x^{(0)} $.  Notice that if <code> P  </code> and <code> x0 </code> are a `Matrix` and `Vector, respectively, then <code> P * x0 </code> computes the product of matrix <code> P </code> times vector <code> x0 </code>."
   ]
  },
  {
   "cell_type": "code",
   "execution_count": 4,
   "metadata": {},
   "outputs": [
    {
     "data": {
      "text/plain": [
       "3-element Array{Float64,1}:\n",
       " 0.3\n",
       " 0.3\n",
       " 0.4"
      ]
     },
     "execution_count": 4,
     "metadata": {},
     "output_type": "execute_result"
    }
   ],
   "source": [
    "x1 = P * x0"
   ]
  },
  {
   "cell_type": "markdown",
   "metadata": {},
   "source": [
    "Predict the weather for day 2 from day 1."
   ]
  },
  {
   "cell_type": "code",
   "execution_count": 5,
   "metadata": {},
   "outputs": [
    {
     "data": {
      "text/plain": [
       "3-element Array{Float64,1}:\n",
       " 0.25               \n",
       " 0.44999999999999996\n",
       " 0.3                "
      ]
     },
     "execution_count": 5,
     "metadata": {},
     "output_type": "execute_result"
    }
   ],
   "source": [
    "x2 = P * x1"
   ]
  },
  {
   "cell_type": "markdown",
   "metadata": {},
   "source": [
    "Predict the weather for day 3 from day 2."
   ]
  },
  {
   "cell_type": "code",
   "execution_count": null,
   "metadata": {},
   "outputs": [],
   "source": []
  },
  {
   "cell_type": "markdown",
   "metadata": {},
   "source": [
    "Predict the weather for day 4 from day 3."
   ]
  },
  {
   "cell_type": "code",
   "execution_count": null,
   "metadata": {},
   "outputs": [],
   "source": []
  },
  {
   "cell_type": "markdown",
   "metadata": {},
   "source": [
    "Predict the weather for day 5 from day 4."
   ]
  },
  {
   "cell_type": "code",
   "execution_count": null,
   "metadata": {},
   "outputs": [],
   "source": []
  },
  {
   "cell_type": "markdown",
   "metadata": {},
   "source": [
    "Predict the weather for day 6 from day 5."
   ]
  },
  {
   "cell_type": "code",
   "execution_count": null,
   "metadata": {},
   "outputs": [],
   "source": []
  },
  {
   "cell_type": "markdown",
   "metadata": {},
   "source": [
    "Predict the weather for day 7 from day 6."
   ]
  },
  {
   "cell_type": "code",
   "execution_count": null,
   "metadata": {},
   "outputs": [],
   "source": []
  },
  {
   "cell_type": "markdown",
   "metadata": {},
   "source": [
    "What are the probabilities it is sunny, cloudy, rainy on day 7 (given that it was cloudy on day 0)?  (Just think about this...)"
   ]
  },
  {
   "cell_type": "markdown",
   "metadata": {},
   "source": [
    "## Predicting the next 20 days"
   ]
  },
  {
   "cell_type": "markdown",
   "metadata": {},
   "source": [
    "This is best done with a loop, where $ x $ simply takes on the next value everytime through the loop."
   ]
  },
  {
   "cell_type": "code",
   "execution_count": 7,
   "metadata": {},
   "outputs": [
    {
     "name": "stdout",
     "output_type": "stream",
     "text": [
      "Day 0\n",
      "x = [0, 1, 0]\n",
      "Day 1\n",
      "x = [0.3, 0.3, 0.4]\n",
      "Day 2\n",
      "x = [0.25, 0.45, 0.3]\n",
      "Day 3\n",
      "x = [0.265, 0.415, 0.32]\n",
      "Day 4\n",
      "x = [0.2625, 0.4225, 0.315]\n",
      "Day 5\n",
      "x = [0.26325, 0.42075, 0.316]\n",
      "Day 6\n",
      "x = [0.263125, 0.421125, 0.31575]\n",
      "Day 7\n",
      "x = [0.263163, 0.421037, 0.3158]\n",
      "Day 8\n",
      "x = [0.263156, 0.421056, 0.315787]\n",
      "Day 9\n",
      "x = [0.263158, 0.421052, 0.31579]\n",
      "Day 10\n",
      "x = [0.263158, 0.421053, 0.315789]\n",
      "Day 11\n",
      "x = [0.263158, 0.421053, 0.315789]\n",
      "Day 12\n",
      "x = [0.263158, 0.421053, 0.315789]\n",
      "Day 13\n",
      "x = [0.263158, 0.421053, 0.315789]\n",
      "Day 14\n",
      "x = [0.263158, 0.421053, 0.315789]\n",
      "Day 15\n",
      "x = [0.263158, 0.421053, 0.315789]\n",
      "Day 16\n",
      "x = [0.263158, 0.421053, 0.315789]\n",
      "Day 17\n",
      "x = [0.263158, 0.421053, 0.315789]\n",
      "Day 18\n",
      "x = [0.263158, 0.421053, 0.315789]\n",
      "Day 19\n",
      "x = [0.263158, 0.421053, 0.315789]\n",
      "Day 20\n",
      "x = [0.263158, 0.421053, 0.315789]\n"
     ]
    }
   ],
   "source": [
    "x = x0\n",
    "for i in 0:20      # you saw range( n ) in Week 1\n",
    "    println( \"Day \", i )        # print the predictions for day i\n",
    "    @show x\n",
    "    x = P * x              # compute the predictions for day i+1\n",
    "end"
   ]
  },
  {
   "cell_type": "markdown",
   "metadata": {},
   "source": [
    "## Predicting the weather for a year from now"
   ]
  },
  {
   "cell_type": "markdown",
   "metadata": {},
   "source": [
    "Modify the above loop to compute the prediction for Day 365."
   ]
  },
  {
   "cell_type": "code",
   "execution_count": null,
   "metadata": {},
   "outputs": [],
   "source": []
  },
  {
   "cell_type": "markdown",
   "metadata": {},
   "source": [
    "Compare Day 365 to Day 20.  Notice that they are almost the same.  Go back and start with x0 = \"today is sunny\".  Go back and start with x0 = \"today is rainy\" Notice that no matter what the weather is today, eventually the prediction becomes \"the typical forecast for this location\"."
   ]
  },
  {
   "cell_type": "code",
   "execution_count": null,
   "metadata": {},
   "outputs": [],
   "source": []
  }
 ],
 "metadata": {
  "kernelspec": {
   "display_name": "Julia 1.0.1",
   "language": "julia",
   "name": "julia-1.0"
  },
  "language_info": {
   "file_extension": ".jl",
   "mimetype": "application/julia",
   "name": "julia",
   "version": "1.0.1"
  }
 },
 "nbformat": 4,
 "nbformat_minor": 1
}
