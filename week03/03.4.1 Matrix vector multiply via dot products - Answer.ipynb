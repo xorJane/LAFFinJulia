{
 "cells": [
  {
   "cell_type": "markdown",
   "metadata": {},
   "source": [
    "# Matrix-vector multiplication via dot products"
   ]
  },
  {
   "cell_type": "markdown",
   "metadata": {},
   "source": [
    "This notebook walks you through how to implement $ y := A x + y $ via dot products."
   ]
  },
  {
   "cell_type": "markdown",
   "metadata": {},
   "source": [
    "## Getting started"
   ]
  },
  {
   "cell_type": "markdown",
   "metadata": {},
   "source": [
    "We will use some functions that are part of our laff library (of which this function will become a part) as well as some routines from the FLAME API (Application Programming Interface) that allows us to write code that closely resembles how we typeset algorithms using the FLAME notation.  These functions are imported with `include` and `using` statements."
   ]
  },
  {
   "cell_type": "markdown",
   "metadata": {},
   "source": [
    "## Algorithm"
   ]
  },
  {
   "cell_type": "markdown",
   "metadata": {},
   "source": [
    "<image src=\"https://studio.edx.org/c4x/UTAustinX/UT.5.01x/asset/341Mvmult_n_unb_var1.png\" alt=\"Matrix-vector multiplication via dot products algorithm\" width=\"75%\">"
   ]
  },
  {
   "cell_type": "markdown",
   "metadata": {},
   "source": [
    "## The `Mvmult_n_unb_var1!( A, x, y )` routine"
   ]
  },
  {
   "cell_type": "markdown",
   "metadata": {},
   "source": [
    "This routine, given $ A \\in \\mathbb{R}^{m \\times n} $, $ x \\in \\mathbb{R}^n $, and $ y \\in \\mathbb{R}^m $, computes $ y := A x + y $.  The \"_n_\" indicates this is the \"no transpose\" matrix-vector multiplication.  What this means will become clear next week.\n",
    "\n",
    "The specific laff function we will use is\n",
    "<ul>\n",
    "<li> <code> laff.dot!( x, y, alpha ) </code> which computes $ \\alpha := x^T y + \\alpha $.  </li>\n",
    "</ul>\n",
    "\n",
    "Use the <a href=\"https://studio.edx.org/c4x/UTAustinX/UT.5.01x/asset/index.html\"> Spark webpage </a>."
   ]
  },
  {
   "cell_type": "code",
   "execution_count": 15,
   "metadata": {},
   "outputs": [
    {
     "name": "stderr",
     "output_type": "stream",
     "text": [
      "WARNING: replacing module flame.\n",
      "WARNING: replacing module laff.\n"
     ]
    },
    {
     "data": {
      "text/plain": [
       "Mvmult_n_unb_var1! (generic function with 1 method)"
      ]
     },
     "execution_count": 15,
     "metadata": {},
     "output_type": "execute_result"
    }
   ],
   "source": [
    "include(\"../flame.jl\")\n",
    "using .flame\n",
    "include(\"../laff/laff.jl\")\n",
    "using .laff\n",
    "\n",
    "function Mvmult_n_unb_var1!(A, x, y)\n",
    "\n",
    "    AT,\n",
    "    AB  = flame.part_2x1(A,\n",
    "                         0, \"TOP\")\n",
    "\n",
    "    yT,\n",
    "    yB  = flame.part_2x1(y,\n",
    "                         0, \"TOP\")\n",
    "\n",
    "    while size(AT, 1) < size(A, 1)\n",
    "\n",
    "        A0,\n",
    "        a1t,\n",
    "        A2   = flame.repart_2x1_to_3x1(AT,\n",
    "                                       AB,\n",
    "                                       1, \"BOTTOM\")\n",
    "\n",
    "        y0,\n",
    "        psi1,\n",
    "        y2    = flame.repart_2x1_to_3x1(yT,\n",
    "                                        yB,\n",
    "                                        1, \"BOTTOM\")\n",
    "\n",
    "        #------------------------------------------------------------#\n",
    "\n",
    "        laff.dot!( a1t, x, psi1 )\n",
    "\n",
    "        #------------------------------------------------------------#\n",
    "\n",
    "        AT,\n",
    "        AB  = flame.cont_with_3x1_to_2x1(A0,\n",
    "                                         a1t,\n",
    "                                         A2,\n",
    "                                         \"TOP\")\n",
    "\n",
    "        yT,\n",
    "        yB  = flame.cont_with_3x1_to_2x1(y0,\n",
    "                                         psi1,\n",
    "                                         y2,\n",
    "                                         \"TOP\")\n",
    "    end\n",
    "        \n",
    "    flame.merge_2x1!(yT,\n",
    "                    yB, y)\n",
    "end\n",
    "\n"
   ]
  },
  {
   "cell_type": "markdown",
   "metadata": {},
   "source": [
    "## Testing"
   ]
  },
  {
   "cell_type": "markdown",
   "metadata": {},
   "source": [
    "Let's quickly test the routine by creating a 4 x 3 matrix and related vectors, performing the computation."
   ]
  },
  {
   "cell_type": "code",
   "execution_count": 16,
   "metadata": {},
   "outputs": [
    {
     "name": "stdout",
     "output_type": "stream",
     "text": [
      "A before =\n"
     ]
    },
    {
     "data": {
      "text/plain": [
       "4×3 Array{Float64,2}:\n",
       " 0.364776  0.368704    0.437088 \n",
       " 0.180985  0.0378993   0.0544687\n",
       " 0.661383  0.00244661  0.325169 \n",
       " 0.840361  0.028703    0.944274 "
      ]
     },
     "execution_count": 16,
     "metadata": {},
     "output_type": "execute_result"
    }
   ],
   "source": [
    "A = rand(4, 3)\n",
    "x = rand(3)\n",
    "y = rand(4)\n",
    "yold = rand(4)\n",
    "\n",
    "println(\"A before =\")\n",
    "A"
   ]
  },
  {
   "cell_type": "code",
   "execution_count": 17,
   "metadata": {},
   "outputs": [
    {
     "name": "stdout",
     "output_type": "stream",
     "text": [
      "x before =\n"
     ]
    },
    {
     "data": {
      "text/plain": [
       "3-element Array{Float64,1}:\n",
       " 0.9303415412156346\n",
       " 0.7030511046676859\n",
       " 0.243355415167549 "
      ]
     },
     "execution_count": 17,
     "metadata": {},
     "output_type": "execute_result"
    }
   ],
   "source": [
    "println(\"x before =\")\n",
    "x"
   ]
  },
  {
   "cell_type": "code",
   "execution_count": 18,
   "metadata": {},
   "outputs": [
    {
     "name": "stdout",
     "output_type": "stream",
     "text": [
      "y before =\n"
     ]
    },
    {
     "data": {
      "text/plain": [
       "4-element Array{Float64,1}:\n",
       " 0.56310170304486   \n",
       " 0.3621085755303912 \n",
       " 0.17250737815578931\n",
       " 0.34209393324770065"
      ]
     },
     "execution_count": 18,
     "metadata": {},
     "output_type": "execute_result"
    }
   ],
   "source": [
    "println(\"y before =\")\n",
    "y"
   ]
  },
  {
   "cell_type": "code",
   "execution_count": 19,
   "metadata": {},
   "outputs": [
    {
     "name": "stdout",
     "output_type": "stream",
     "text": [
      "y after =\n"
     ]
    },
    {
     "data": {
      "text/plain": [
       "4-element Array{Float64,1}:\n",
       " 1.2680537420022133\n",
       " 0.5703869035499988\n",
       " 0.8686709214697254\n",
       " 1.3738900643857819"
      ]
     },
     "execution_count": 19,
     "metadata": {},
     "output_type": "execute_result"
    }
   ],
   "source": [
    "laff.copy!( y, yold )   # save the original vector y\n",
    "\n",
    "Mvmult_n_unb_var1!( A, x, y )\n",
    "\n",
    "println( \"y after =\" )\n",
    "y"
   ]
  },
  {
   "cell_type": "code",
   "execution_count": 20,
   "metadata": {},
   "outputs": [
    {
     "name": "stdout",
     "output_type": "stream",
     "text": [
      "y - ( A * x + yold ) = \n"
     ]
    },
    {
     "data": {
      "text/plain": [
       "4-element Array{Float64,1}:\n",
       " 2.220446049250313e-16\n",
       " 0.0                  \n",
       " 0.0                  \n",
       " 0.0                  "
      ]
     },
     "execution_count": 20,
     "metadata": {},
     "output_type": "execute_result"
    }
   ],
   "source": [
    "println( \"y - ( A * x + yold ) = \" )\n",
    "y - ( A * x + yold )"
   ]
  },
  {
   "cell_type": "markdown",
   "metadata": {},
   "source": [
    "Bingo, it seems to work!  (Notice that we are doing floating point computations, which means that due to rounding you may not get an exact \"0\".)"
   ]
  },
  {
   "cell_type": "markdown",
   "metadata": {},
   "source": [
    "## Watch your code in action!"
   ]
  },
  {
   "cell_type": "markdown",
   "metadata": {},
   "source": [
    "Copy and paste the code into <a href=\"http://edx-org-utaustinx.s3.amazonaws.com/UT501x/PictureFlame/PictureFLAME.html\"> PictureFLAME </a>, a webpage where you can watch your routine in action.  Just cut and paste into the box.  \n",
    "\n",
    "Disclaimer: we implemented a VERY simple interpreter.  If you do something wrong, we cannot guarantee the results.  But if you do it right, you are in for a treat.\n",
    "\n",
    "If you want to reset the problem, just click in the box into which you pasted the code and hit \"next\" again."
   ]
  },
  {
   "cell_type": "code",
   "execution_count": null,
   "metadata": {},
   "outputs": [],
   "source": []
  }
 ],
 "metadata": {
  "kernelspec": {
   "display_name": "Julia 1.0.1",
   "language": "julia",
   "name": "julia-1.0"
  },
  "language_info": {
   "file_extension": ".jl",
   "mimetype": "application/julia",
   "name": "julia",
   "version": "1.0.1"
  }
 },
 "nbformat": 4,
 "nbformat_minor": 1
}
