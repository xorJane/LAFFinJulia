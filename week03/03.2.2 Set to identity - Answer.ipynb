{
 "cells": [
  {
   "cell_type": "markdown",
   "metadata": {},
   "source": [
    "# The Set_to_identity! routine"
   ]
  },
  {
   "cell_type": "markdown",
   "metadata": {},
   "source": [
    "This notebook walks you through how to implement simple functions that set a square matrix to the identity matrix."
   ]
  },
  {
   "cell_type": "markdown",
   "metadata": {},
   "source": [
    "## Getting started"
   ]
  },
  {
   "cell_type": "markdown",
   "metadata": {},
   "source": [
    "We will use some functions that are part of our laff library (of which this function will become a part) as well as some routines from the FLAME API (Application Programming Interface) that allows us to write code that closely resembles how we typeset algorithms using the FLAME notation.  These functions are imported with `include` and `using` statements."
   ]
  },
  {
   "cell_type": "markdown",
   "metadata": {},
   "source": [
    "## Algorithm"
   ]
  },
  {
   "cell_type": "markdown",
   "metadata": {},
   "source": [
    "<image src=\"https://studio.edx.org/c4x/UTAustinX/UT.5.01x/asset/322IdentityAlgorithm.png\" alt=\"Set matrix to zero algorithm\" width=\"50%\">"
   ]
  },
  {
   "cell_type": "markdown",
   "metadata": {},
   "source": [
    "## The routine"
   ]
  },
  {
   "cell_type": "markdown",
   "metadata": {},
   "source": [
    "The specific laff functions we will use are \n",
    "<ul>\n",
    "<li> <code> laff.zerov! </code> which, when given a row or column vector (stored as a 1 x n or n x 1 matrix) will zero that vector.  </li>\n",
    "<li> <code> laff.onev! </code> which, when given a row or column vector (stored as a 1 x n or n x 1 matrix) will set all components of that vector to one.  We will use it with the scalar <code> alpha11 </code>.  </li>\n",
    "</ul>\n",
    "\n",
    "Follow along with the video, using the <a href=\"https://studio.edx.org/c4x/UTAustinX/UT.5.01x/asset/index.html\"> Spark webpage </a>."
   ]
  },
  {
   "cell_type": "code",
   "execution_count": 1,
   "metadata": {},
   "outputs": [
    {
     "data": {
      "text/plain": [
       "Set_to_identity_unb_var1! (generic function with 1 method)"
      ]
     },
     "execution_count": 1,
     "metadata": {},
     "output_type": "execute_result"
    }
   ],
   "source": [
    "include(\"../flame.jl\")\n",
    "using .flame\n",
    "include(\"../laff/laff.jl\")\n",
    "using .laff\n",
    "\n",
    "function Set_to_identity_unb_var1!(A)\n",
    "\n",
    "    ATL, ATR,\n",
    "    ABL, ABR  = flame.part_2x2(A,\n",
    "                               0, 0, \"TL\")\n",
    "\n",
    "    while size(ATL, 1) < size(A, 1)\n",
    "\n",
    "        A00,  a01,     A02, \n",
    "        a10t, alpha11, a12t,\n",
    "        A20,  a21,     A22   = flame.repart_2x2_to_3x3(ATL, ATR,\n",
    "                                                       ABL, ABR,\n",
    "                                                       1, 1, \"BR\")\n",
    "\n",
    "        #------------------------------------------------------------#\n",
    "\n",
    "        laff.zerov!( a01 )\n",
    "        laff.onev!( alpha11 )\n",
    "        laff.zerov!( a21 )\n",
    "        \n",
    "        #------------------------------------------------------------#\n",
    "\n",
    "        ATL, ATR,\n",
    "        ABL, ABR  = flame.cont_with_3x3_to_2x2(A00,  a01,     A02,\n",
    "                                               a10t, alpha11, a12t,\n",
    "                                               A20,  a21,     A22,\n",
    "                                               \"TL\")\n",
    "\n",
    "    end\n",
    "    flame.merge_2x2!(ATL, ATR,\n",
    "                    ABL, ABR, A)\n",
    "end\n",
    "\n",
    "\n"
   ]
  },
  {
   "cell_type": "markdown",
   "metadata": {},
   "source": [
    "## Testing"
   ]
  },
  {
   "cell_type": "markdown",
   "metadata": {},
   "source": [
    "Let's quickly test the routine by creating a 5 x 5 matrix and then setting it to the identity."
   ]
  },
  {
   "cell_type": "code",
   "execution_count": 3,
   "metadata": {},
   "outputs": [
    {
     "name": "stdout",
     "output_type": "stream",
     "text": [
      "A before =\n"
     ]
    },
    {
     "data": {
      "text/plain": [
       "5×5 Array{Float64,2}:\n",
       " 0.246753   0.817068  0.954003   0.669295  0.233665\n",
       " 0.694729   0.274594  0.149069   0.576236  0.177039\n",
       " 0.0747234  0.814327  0.667962   0.63528   0.157745\n",
       " 0.555507   0.064138  0.0575306  0.139289  0.967827\n",
       " 0.620162   0.330765  0.512033   0.512269  0.192325"
      ]
     },
     "execution_count": 3,
     "metadata": {},
     "output_type": "execute_result"
    }
   ],
   "source": [
    "A = rand(5, 5)\n",
    "\n",
    "println( \"A before =\" )\n",
    "A"
   ]
  },
  {
   "cell_type": "code",
   "execution_count": 4,
   "metadata": {},
   "outputs": [
    {
     "name": "stdout",
     "output_type": "stream",
     "text": [
      "A after =\n"
     ]
    },
    {
     "data": {
      "text/plain": [
       "5×5 Array{Float64,2}:\n",
       " 1.0  0.0  0.0  0.0  0.0\n",
       " 0.0  1.0  0.0  0.0  0.0\n",
       " 0.0  0.0  1.0  0.0  0.0\n",
       " 0.0  0.0  0.0  1.0  0.0\n",
       " 0.0  0.0  0.0  0.0  1.0"
      ]
     },
     "execution_count": 4,
     "metadata": {},
     "output_type": "execute_result"
    }
   ],
   "source": [
    "Set_to_identity_unb_var1!( A )\n",
    "\n",
    "println( \"A after =\")\n",
    "A"
   ]
  },
  {
   "cell_type": "markdown",
   "metadata": {},
   "source": [
    "Bingo, it seems to work!"
   ]
  },
  {
   "cell_type": "markdown",
   "metadata": {},
   "source": [
    "## Try it yourself (Homework 3.2.2.2)"
   ]
  },
  {
   "cell_type": "markdown",
   "metadata": {},
   "source": [
    "Now, one could alternatively set a matrix to zero by rows."
   ]
  },
  {
   "cell_type": "markdown",
   "metadata": {},
   "source": [
    "Use the <a href=\"https://studio.edx.org/c4x/UTAustinX/UT.5.01x/asset/index.html\"> Spark webpage </a> to generate the function `Set_to_identity_unb_var2!( A )` that overwrites `A` with the identity one row at a time."
   ]
  },
  {
   "cell_type": "code",
   "execution_count": 6,
   "metadata": {},
   "outputs": [
    {
     "name": "stderr",
     "output_type": "stream",
     "text": [
      "WARNING: replacing module flame.\n",
      "WARNING: replacing module laff.\n"
     ]
    },
    {
     "data": {
      "text/plain": [
       "Set_to_identity_unb_var2! (generic function with 1 method)"
      ]
     },
     "execution_count": 6,
     "metadata": {},
     "output_type": "execute_result"
    }
   ],
   "source": [
    "include(\"../flame.jl\")\n",
    "using .flame\n",
    "include(\"../laff/laff.jl\")\n",
    "using .laff\n",
    "\n",
    "function Set_to_identity_unb_var2!(A)\n",
    "\n",
    "    ATL, ATR,\n",
    "    ABL, ABR  = flame.part_2x2(A,\n",
    "                               0, 0, \"TL\")\n",
    "\n",
    "    while size(ATL, 1) < size(A, 1)\n",
    "\n",
    "        A00,  a01,     A02,\n",
    "        a10t, alpha11, a12t,\n",
    "        A20,  a21,     A22   = flame.repart_2x2_to_3x3(ATL, ATR,\n",
    "                                                       ABL, ABR,\n",
    "                                                       1, 1, \"BR\")\n",
    "\n",
    "        #------------------------------------------------------------#\n",
    "\n",
    "        laff.zerov!( a10t )\n",
    "        laff.onev!( alpha11 )\n",
    "        laff.zerov!( a12t )\n",
    "\n",
    "        #------------------------------------------------------------#\n",
    "\n",
    "        ATL, ATR,\n",
    "        ABL, ABR  = flame.cont_with_3x3_to_2x2(A00,  a01,     A02,\n",
    "                                               a10t, alpha11, a12t,\n",
    "                                               A20,  a21,     A22,\n",
    "                                               \"TL\")\n",
    "    end\n",
    "        \n",
    "    flame.merge_2x2!(ATL, ATR,\n",
    "                    ABL, ABR, A)\n",
    "\n",
    "end\n",
    "\n"
   ]
  },
  {
   "cell_type": "markdown",
   "metadata": {},
   "source": [
    "Test your routine with the following"
   ]
  },
  {
   "cell_type": "code",
   "execution_count": 7,
   "metadata": {},
   "outputs": [
    {
     "name": "stdout",
     "output_type": "stream",
     "text": [
      "A before =\n"
     ]
    },
    {
     "data": {
      "text/plain": [
       "5×5 Array{Float64,2}:\n",
       " 0.411638  0.598246  0.98452   0.550112  0.0303126\n",
       " 0.251455  0.629501  0.476793  0.547942  0.671071 \n",
       " 0.110064  0.485278  0.336282  0.314123  0.960215 \n",
       " 0.354226  0.197713  0.657543  0.326158  0.0916383\n",
       " 0.025371  0.671849  0.804394  0.880336  0.855588 "
      ]
     },
     "execution_count": 7,
     "metadata": {},
     "output_type": "execute_result"
    }
   ],
   "source": [
    "A = rand(5, 5)\n",
    "\n",
    "println( \"A before =\" )\n",
    "A"
   ]
  },
  {
   "cell_type": "code",
   "execution_count": 8,
   "metadata": {},
   "outputs": [
    {
     "name": "stdout",
     "output_type": "stream",
     "text": [
      "A after =\n"
     ]
    },
    {
     "data": {
      "text/plain": [
       "5×5 Array{Float64,2}:\n",
       " 1.0  0.0  0.0  0.0  0.0\n",
       " 0.0  1.0  0.0  0.0  0.0\n",
       " 0.0  0.0  1.0  0.0  0.0\n",
       " 0.0  0.0  0.0  1.0  0.0\n",
       " 0.0  0.0  0.0  0.0  1.0"
      ]
     },
     "execution_count": 8,
     "metadata": {},
     "output_type": "execute_result"
    }
   ],
   "source": [
    "Set_to_identity_unb_var2!( A )\n",
    "\n",
    "println( \"A after =\" )\n",
    "A"
   ]
  },
  {
   "cell_type": "markdown",
   "metadata": {},
   "source": [
    "## Watch your code in action!"
   ]
  },
  {
   "cell_type": "markdown",
   "metadata": {},
   "source": [
    "Copy and paste the code into <a href=\"http://edx-org-utaustinx.s3.amazonaws.com/UT501x/PictureFlame/PictureFLAME.html\"> PictureFLAME </a>, a webpage where you can watch your routine in action.  Just cut and paste into the box.  \n",
    "\n",
    "Disclaimer: we implemented a VERY simple interpreter.  If you do something wrong, we cannot guarantee the results.  But if you do it right, you are in for a treat.\n",
    "\n",
    "If you want to reset the problem, just click in the box into which you pasted the code and hit \"next\" again."
   ]
  }
 ],
 "metadata": {
  "kernelspec": {
   "display_name": "Julia 1.0.1",
   "language": "julia",
   "name": "julia-1.0"
  },
  "language_info": {
   "file_extension": ".jl",
   "mimetype": "application/julia",
   "name": "julia",
   "version": "1.0.1"
  }
 },
 "nbformat": 4,
 "nbformat_minor": 1
}
