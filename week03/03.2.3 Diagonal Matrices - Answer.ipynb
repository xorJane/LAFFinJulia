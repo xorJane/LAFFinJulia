{
 "cells": [
  {
   "cell_type": "markdown",
   "metadata": {},
   "source": [
    "# The Set_to_diagonal_matrix routine"
   ]
  },
  {
   "cell_type": "markdown",
   "metadata": {},
   "source": [
    "This notebook walks you through how to implement simple functions that set the diagonal elements of a square matrix to the components of a given vector."
   ]
  },
  {
   "cell_type": "markdown",
   "metadata": {},
   "source": [
    "## Getting started"
   ]
  },
  {
   "cell_type": "markdown",
   "metadata": {},
   "source": [
    "We will use some functions that are part of our laff library (of which this function will become a part) as well as some routines from the FLAME API (Application Programming Interface) that allows us to write code that closely resembles how we typeset algorithms using the FLAME notation.  These functions are imported with `include` and `using` statements."
   ]
  },
  {
   "cell_type": "markdown",
   "metadata": {},
   "source": [
    "## Algorithm"
   ]
  },
  {
   "cell_type": "markdown",
   "metadata": {},
   "source": [
    "<image src=\"https://studio.edx.org/c4x/UTAustinX/UT.5.01x/asset/323DiagonalAlgorithm.png\" alt=\"Set matrix to a diagonal matrix algorithm\" width=\"75%\">"
   ]
  },
  {
   "cell_type": "markdown",
   "metadata": {},
   "source": [
    "## The `Set_to_diagonal_matrix_unb_var1!( d, A )` routine"
   ]
  },
  {
   "cell_type": "markdown",
   "metadata": {},
   "source": [
    "This routine sets the diagonal elements of $ A $ to the components of vector $ d$, and sets the off-diagonal elements to zero.\n",
    "\n",
    "The specific laff functions we will use are \n",
    "<ul>\n",
    "<li> <code> laff.zerov! </code> which, when given a row or column vector (stored as a 1 x n or n x 1 matrix) will zero that vector.  </li>\n",
    "<li> <code> laff.copy! </code> which copies a vector to a vector.  We will use it to copy a scalar to a scalar.  </li>\n",
    "</ul>\n",
    "\n",
    "Use the <a href=\"https://studio.edx.org/c4x/UTAustinX/UT.5.01x/asset/index.html\"> Spark webpage </a>."
   ]
  },
  {
   "cell_type": "code",
   "execution_count": 5,
   "metadata": {},
   "outputs": [
    {
     "name": "stderr",
     "output_type": "stream",
     "text": [
      "WARNING: replacing module flame.\n",
      "WARNING: replacing module laff.\n"
     ]
    },
    {
     "data": {
      "text/plain": [
       "Set_to_diagonal_matrix_unb_var1! (generic function with 1 method)"
      ]
     },
     "execution_count": 5,
     "metadata": {},
     "output_type": "execute_result"
    }
   ],
   "source": [
    "# Programmed by: Name of author\n",
    "#                Email of author\n",
    "\n",
    "include(\"../flame.jl\")\n",
    "using .flame\n",
    "include(\"../laff/laff.jl\")\n",
    "using .laff\n",
    "\n",
    "function Set_to_diagonal_matrix_unb_var1!(d, A)\n",
    "\n",
    "    dT,\n",
    "    dB  = flame.part_2x1(d,\n",
    "                         0, \"TOP\")\n",
    "\n",
    "    ATL, ATR,\n",
    "    ABL, ABR  = flame.part_2x2(A,\n",
    "                               0, 0, \"TL\")\n",
    "\n",
    "    while size(dT, 1) < size(d, 1)\n",
    "\n",
    "        d0,\n",
    "        delta1,\n",
    "        d2      = flame.repart_2x1_to_3x1(dT,\n",
    "                                          dB,\n",
    "                                          1, \"BOTTOM\")\n",
    "\n",
    "        A00,  a01,     A02,\n",
    "        a10t, alpha11, a12t,\n",
    "        A20,  a21,     A22   = flame.repart_2x2_to_3x3(ATL, ATR,\n",
    "                                                       ABL, ABR,\n",
    "                                                       1, 1, \"BR\")\n",
    "\n",
    "        #------------------------------------------------------------#\n",
    "\n",
    "        laff.zerov!( a01 )\n",
    "        laff.copy!( delta1, alpha11 )\n",
    "        laff.zerov!( a21 )\n",
    "\n",
    "        #------------------------------------------------------------#\n",
    "\n",
    "        dT,\n",
    "        dB  = flame.cont_with_3x1_to_2x1(d0,\n",
    "                                         delta1,\n",
    "                                         d2,\n",
    "                                         \"TOP\")\n",
    "\n",
    "        ATL, ATR,\n",
    "        ABL, ABR  = flame.cont_with_3x3_to_2x2(A00,  a01,     A02,\n",
    "                                               a10t, alpha11, a12t,\n",
    "                                               A20,  a21,     A22,\n",
    "                                               \"TL\")\n",
    "    end\n",
    "    \n",
    "    flame.merge_2x2!(ATL, ATR,\n",
    "                    ABL, ABR, A)\n",
    "end\n",
    "\n",
    "\n",
    "\n",
    "\n"
   ]
  },
  {
   "cell_type": "markdown",
   "metadata": {},
   "source": [
    "## Testing"
   ]
  },
  {
   "cell_type": "markdown",
   "metadata": {},
   "source": [
    "Let's quickly test the routine by creating a 5 x 5 matrix and vector of size 5 and then setting the matrix to the diagonal matrix with the components of the vector on its diagonal"
   ]
  },
  {
   "cell_type": "code",
   "execution_count": 6,
   "metadata": {},
   "outputs": [
    {
     "name": "stdout",
     "output_type": "stream",
     "text": [
      "A before =\n"
     ]
    },
    {
     "data": {
      "text/plain": [
       "5×5 Array{Float64,2}:\n",
       " 0.690999  0.747994   0.0907615  0.830718   0.81877  \n",
       " 0.317409  0.913327   0.515903   0.0828346  0.0100802\n",
       " 0.880749  0.694051   0.715871   0.762248   0.331181 \n",
       " 0.3352    0.34892    0.337697   0.0111799  0.860682 \n",
       " 0.24636   0.0231441  0.917349   0.151808   0.178275 "
      ]
     },
     "execution_count": 6,
     "metadata": {},
     "output_type": "execute_result"
    }
   ],
   "source": [
    "A = rand( 5,5 )\n",
    "d = rand( 5 )\n",
    "\n",
    "println( \"A before =\" )\n",
    "A"
   ]
  },
  {
   "cell_type": "code",
   "execution_count": 7,
   "metadata": {},
   "outputs": [
    {
     "name": "stdout",
     "output_type": "stream",
     "text": [
      "d before =\n"
     ]
    },
    {
     "data": {
      "text/plain": [
       "5-element Array{Float64,1}:\n",
       " 0.5213412551900927  \n",
       " 0.8477382449952988  \n",
       " 0.9447659001466573  \n",
       " 0.6144241958723153  \n",
       " 0.039983320254422194"
      ]
     },
     "execution_count": 7,
     "metadata": {},
     "output_type": "execute_result"
    }
   ],
   "source": [
    "println( \"d before =\")\n",
    "d"
   ]
  },
  {
   "cell_type": "code",
   "execution_count": 8,
   "metadata": {},
   "outputs": [
    {
     "name": "stdout",
     "output_type": "stream",
     "text": [
      "A after =\n"
     ]
    },
    {
     "data": {
      "text/plain": [
       "5×5 Array{Float64,2}:\n",
       " 0.521341  0.0       0.0       0.0       0.0      \n",
       " 0.0       0.847738  0.0       0.0       0.0      \n",
       " 0.0       0.0       0.944766  0.0       0.0      \n",
       " 0.0       0.0       0.0       0.614424  0.0      \n",
       " 0.0       0.0       0.0       0.0       0.0399833"
      ]
     },
     "execution_count": 8,
     "metadata": {},
     "output_type": "execute_result"
    }
   ],
   "source": [
    "Set_to_diagonal_matrix_unb_var1!( d, A )\n",
    "\n",
    "println( \"A after =\" )\n",
    "A"
   ]
  },
  {
   "cell_type": "markdown",
   "metadata": {},
   "source": [
    "Bingo, it seems to work!"
   ]
  },
  {
   "cell_type": "markdown",
   "metadata": {},
   "source": [
    "## Try it yourself (Homework 3.2.3.3)"
   ]
  },
  {
   "cell_type": "markdown",
   "metadata": {},
   "source": [
    "Now, one could alternatively sets the matrix to the diagonal matrix by rows."
   ]
  },
  {
   "cell_type": "markdown",
   "metadata": {},
   "source": [
    "Use the <a href=\"https://studio.edx.org/c4x/UTAustinX/UT.5.01x/asset/index.html\"> Spark webpage </a> to generate the function Set_to_diagonal_matrix_unb_var2!( d, A ) that overwrites A  one row at a time."
   ]
  },
  {
   "cell_type": "code",
   "execution_count": 10,
   "metadata": {},
   "outputs": [
    {
     "name": "stderr",
     "output_type": "stream",
     "text": [
      "WARNING: replacing module flame.\n",
      "WARNING: replacing module laff.\n"
     ]
    },
    {
     "data": {
      "text/plain": [
       "Set_to_diagonal_matrix_unb_var2! (generic function with 1 method)"
      ]
     },
     "execution_count": 10,
     "metadata": {},
     "output_type": "execute_result"
    }
   ],
   "source": [
    "# Programmed by: Name of author\n",
    "#                Email of author\n",
    "\n",
    "include(\"../flame.jl\")\n",
    "using .flame\n",
    "include(\"../laff/laff.jl\")\n",
    "using .laff\n",
    "\n",
    "function Set_to_diagonal_matrix_unb_var2!(d, A)\n",
    "\n",
    "    dT,\n",
    "    dB  = flame.part_2x1(d,\n",
    "                         0, \"TOP\")\n",
    "\n",
    "    ATL, ATR,\n",
    "    ABL, ABR  = flame.part_2x2(A,\n",
    "                               0, 0, \"TL\")\n",
    "\n",
    "    while size(dT, 1) < size(d, 1)\n",
    "\n",
    "        d0,\n",
    "        delta1,\n",
    "        d2      = flame.repart_2x1_to_3x1(dT,\n",
    "                                          dB,\n",
    "                                          1, \"BOTTOM\")\n",
    "\n",
    "        A00,  a01,     A02,\n",
    "        a10t, alpha11, a12t,\n",
    "        A20,  a21,     A22   = flame.repart_2x2_to_3x3(ATL, ATR,\n",
    "                                                       ABL, ABR,\n",
    "                                                       1, 1, \"BR\")\n",
    "\n",
    "        #------------------------------------------------------------#\n",
    "\n",
    "        laff.zerov!( a10t )\n",
    "        laff.copy!( delta1, alpha11 )\n",
    "        laff.zerov!( a12t )\n",
    "\n",
    "        #------------------------------------------------------------#\n",
    "\n",
    "        dT,\n",
    "        dB  = flame.cont_with_3x1_to_2x1(d0,\n",
    "                                         delta1,\n",
    "                                         d2,\n",
    "                                         \"TOP\")\n",
    "\n",
    "        ATL, ATR,\n",
    "        ABL, ABR  = flame.cont_with_3x3_to_2x2(A00,  a01,     A02, \n",
    "                                               a10t, alpha11, a12t,\n",
    "                                               A20,  a21,     A22,\n",
    "                                               \"TL\")\n",
    "    end\n",
    "        \n",
    "    flame.merge_2x2!(ATL, ATR,\n",
    "                    ABL, ABR, A)\n",
    "end\n",
    "\n",
    "\n",
    "\n"
   ]
  },
  {
   "cell_type": "markdown",
   "metadata": {},
   "source": [
    "Test your routine with the following"
   ]
  },
  {
   "cell_type": "code",
   "execution_count": 11,
   "metadata": {},
   "outputs": [
    {
     "name": "stdout",
     "output_type": "stream",
     "text": [
      "A before =\n"
     ]
    },
    {
     "data": {
      "text/plain": [
       "5×5 Array{Float64,2}:\n",
       " 0.140447   0.88528    0.965484  0.86262   0.490416 \n",
       " 0.0862107  0.0248791  0.700189  0.339882  0.691554 \n",
       " 0.237929   0.267942   0.130205  0.711948  0.990437 \n",
       " 0.424985   0.0169828  0.134009  0.963604  0.934822 \n",
       " 0.571907   0.351842   0.708851  0.602005  0.0651236"
      ]
     },
     "execution_count": 11,
     "metadata": {},
     "output_type": "execute_result"
    }
   ],
   "source": [
    "A = rand( 5,5 )\n",
    "d = rand( 5 )\n",
    "\n",
    "println( \"A before =\" )\n",
    "A"
   ]
  },
  {
   "cell_type": "code",
   "execution_count": 12,
   "metadata": {},
   "outputs": [
    {
     "name": "stdout",
     "output_type": "stream",
     "text": [
      "d before =\n"
     ]
    },
    {
     "data": {
      "text/plain": [
       "5-element Array{Float64,1}:\n",
       " 0.40562902239442034\n",
       " 0.9249357058097261 \n",
       " 0.3995751297389749 \n",
       " 0.20204547481963142\n",
       " 0.5333665246445847 "
      ]
     },
     "execution_count": 12,
     "metadata": {},
     "output_type": "execute_result"
    }
   ],
   "source": [
    "println( \"d before =\" )\n",
    "d"
   ]
  },
  {
   "cell_type": "code",
   "execution_count": 13,
   "metadata": {},
   "outputs": [
    {
     "name": "stdout",
     "output_type": "stream",
     "text": [
      "A after =\n"
     ]
    },
    {
     "data": {
      "text/plain": [
       "5×5 Array{Float64,2}:\n",
       " 0.405629  0.0       0.0       0.0       0.0     \n",
       " 0.0       0.924936  0.0       0.0       0.0     \n",
       " 0.0       0.0       0.399575  0.0       0.0     \n",
       " 0.0       0.0       0.0       0.202045  0.0     \n",
       " 0.0       0.0       0.0       0.0       0.533367"
      ]
     },
     "execution_count": 13,
     "metadata": {},
     "output_type": "execute_result"
    }
   ],
   "source": [
    "Set_to_diagonal_matrix_unb_var2!( d, A )\n",
    "\n",
    "println( \"A after =\" )\n",
    "A"
   ]
  },
  {
   "cell_type": "markdown",
   "metadata": {},
   "source": [
    "## Watch your code in action!"
   ]
  },
  {
   "cell_type": "markdown",
   "metadata": {},
   "source": [
    "Copy and paste the code into <a href=\"http://edx-org-utaustinx.s3.amazonaws.com/UT501x/PictureFlame/PictureFLAME.html\"> PictureFLAME </a>, a webpage where you can watch your routine in action.  Just cut and paste into the box.  \n",
    "\n",
    "Disclaimer: we implemented a VERY simple interpreter.  If you do something wrong, we cannot guarantee the results.  But if you do it right, you are in for a treat.\n",
    "\n",
    "If you want to reset the problem, just click in the box into which you pasted the code and hit \"next\" again."
   ]
  },
  {
   "cell_type": "code",
   "execution_count": null,
   "metadata": {},
   "outputs": [],
   "source": []
  }
 ],
 "metadata": {
  "kernelspec": {
   "display_name": "Julia 1.0.1",
   "language": "julia",
   "name": "julia-1.0"
  },
  "language_info": {
   "file_extension": ".jl",
   "mimetype": "application/julia",
   "name": "julia",
   "version": "1.0.1"
  }
 },
 "nbformat": 4,
 "nbformat_minor": 1
}
