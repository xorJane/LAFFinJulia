{
 "cells": [
  {
   "cell_type": "markdown",
   "metadata": {},
   "source": [
    "# Transposing a matrix"
   ]
  },
  {
   "cell_type": "markdown",
   "metadata": {},
   "source": [
    "This notebook walks you through how to implement simple functions that transpose matrix $ A $, storing the result in matrix $ B $."
   ]
  },
  {
   "cell_type": "markdown",
   "metadata": {},
   "source": [
    "## Getting started"
   ]
  },
  {
   "cell_type": "markdown",
   "metadata": {},
   "source": [
    "We will use some functions that are part of our laff library (of which this function will become a part) as well as some routines from the FLAME API (Application Programming Interface) that allows us to write code that closely resembles how we typeset algorithms using the FLAME notation.  These functions are imported with `include` and `using` statements."
   ]
  },
  {
   "cell_type": "markdown",
   "metadata": {},
   "source": [
    "## Algorithm"
   ]
  },
  {
   "cell_type": "markdown",
   "metadata": {},
   "source": [
    "<img src=\"https://studio.edx.org/c4x/UTAustinX/UT.5.01x/asset/325TransposeAlgorithm.png\" alt=\"Transposing a matrix\" width=\"75%\">"
   ]
  },
  {
   "cell_type": "markdown",
   "metadata": {},
   "source": [
    "## The routine"
   ]
  },
  {
   "cell_type": "markdown",
   "metadata": {},
   "source": [
    "Write your <br>\n",
    "<code> Transpose_unb_var1!( A, B ) </code> <br>\n",
    "routine, using the <a href=\"https://studio.edx.org/c4x/UTAustinX/UT.5.01x/asset/index.html\"> Spark webpage </a> and the <code> laff.copy! </code> routine."
   ]
  },
  {
   "cell_type": "code",
   "execution_count": 6,
   "metadata": {},
   "outputs": [
    {
     "name": "stderr",
     "output_type": "stream",
     "text": [
      "WARNING: replacing module flame.\n",
      "WARNING: replacing module laff.\n"
     ]
    },
    {
     "data": {
      "text/plain": [
       "Transpose_unb_var1! (generic function with 1 method)"
      ]
     },
     "execution_count": 6,
     "metadata": {},
     "output_type": "execute_result"
    }
   ],
   "source": [
    "include(\"../flame.jl\")\n",
    "using .flame\n",
    "include(\"../laff/laff.jl\")\n",
    "using .laff\n",
    "\n",
    "function Transpose_unb_var1!(A, B)\n",
    "\n",
    "    AL, AR = flame.part_1x2(A,\n",
    "                            0, \"LEFT\")\n",
    "\n",
    "    BT,\n",
    "    BB  = flame.part_2x1(B,\n",
    "                         0, \"TOP\")\n",
    "\n",
    "    while size(AL, 2) < size(A, 2)\n",
    "\n",
    "        A0, a1, A2 = flame.repart_1x2_to_1x3(AL, AR,\n",
    "                                             1, \"RIGHT\")\n",
    "\n",
    "        B0,\n",
    "        b1t,\n",
    "        B2   = flame.repart_2x1_to_3x1(BT,\n",
    "                                       BB,\n",
    "                                       1, \"BOTTOM\")\n",
    "\n",
    "        #------------------------------------------------------------#\n",
    "\n",
    "        laff.copy!( a1, b1t )\n",
    "\n",
    "        #------------------------------------------------------------#\n",
    "\n",
    "        AL, AR = flame.cont_with_1x3_to_1x2(A0, a1, A2,\n",
    "                                            \"LEFT\")\n",
    "\n",
    "        BT,\n",
    "        BB  = flame.cont_with_3x1_to_2x1(B0,\n",
    "                                         b1t,\n",
    "                                         B2,\n",
    "                                         \"TOP\")\n",
    "    end\n",
    "    \n",
    "    flame.merge_2x1!(BT,\n",
    "                    BB, B)\n",
    "end\n",
    "\n"
   ]
  },
  {
   "cell_type": "markdown",
   "metadata": {},
   "source": [
    "## Testing"
   ]
  },
  {
   "cell_type": "markdown",
   "metadata": {},
   "source": [
    "Let's quickly test the routine by creating a 5 x 4 matrix $ A $ and a 4 x 5 matrix $ B $ and then transposing $ A $, overwriting $ B $ with the result."
   ]
  },
  {
   "cell_type": "code",
   "execution_count": 2,
   "metadata": {},
   "outputs": [
    {
     "name": "stdout",
     "output_type": "stream",
     "text": [
      "A \n"
     ]
    },
    {
     "data": {
      "text/plain": [
       "5×4 Array{Float64,2}:\n",
       " 0.853242  0.501555   0.993423   0.67915 \n",
       " 0.472835  0.274183   0.657826   0.43335 \n",
       " 0.304028  0.383862   0.308583   0.414165\n",
       " 0.122078  0.666747   0.0314475  0.938264\n",
       " 0.728198  0.0609726  0.286247   0.69487 "
      ]
     },
     "execution_count": 2,
     "metadata": {},
     "output_type": "execute_result"
    }
   ],
   "source": [
    "A = rand(5, 4)\n",
    "B = rand(4, 5)\n",
    "\n",
    "println(\"A \")\n",
    "A"
   ]
  },
  {
   "cell_type": "code",
   "execution_count": 3,
   "metadata": {},
   "outputs": [
    {
     "name": "stdout",
     "output_type": "stream",
     "text": [
      "B before = \n"
     ]
    },
    {
     "data": {
      "text/plain": [
       "4×5 Array{Float64,2}:\n",
       " 0.785326  0.72007    0.720166  0.963036  0.845174\n",
       " 0.278372  0.785199   0.53788   0.70098   0.279658\n",
       " 0.304614  0.223178   0.138429  0.555007  0.648694\n",
       " 0.973185  0.0375883  0.453462  0.85967   0.874238"
      ]
     },
     "execution_count": 3,
     "metadata": {},
     "output_type": "execute_result"
    }
   ],
   "source": [
    "println( \"B before = \" )\n",
    "B"
   ]
  },
  {
   "cell_type": "code",
   "execution_count": 7,
   "metadata": {},
   "outputs": [
    {
     "name": "stdout",
     "output_type": "stream",
     "text": [
      "A \n"
     ]
    },
    {
     "data": {
      "text/plain": [
       "5×4 Array{Float64,2}:\n",
       " 0.853242  0.501555   0.993423   0.67915 \n",
       " 0.472835  0.274183   0.657826   0.43335 \n",
       " 0.304028  0.383862   0.308583   0.414165\n",
       " 0.122078  0.666747   0.0314475  0.938264\n",
       " 0.728198  0.0609726  0.286247   0.69487 "
      ]
     },
     "execution_count": 7,
     "metadata": {},
     "output_type": "execute_result"
    }
   ],
   "source": [
    "Transpose_unb_var1!( A, B )\n",
    "\n",
    "println(\"A \")\n",
    "A"
   ]
  },
  {
   "cell_type": "code",
   "execution_count": 8,
   "metadata": {},
   "outputs": [
    {
     "name": "stdout",
     "output_type": "stream",
     "text": [
      "B after = \n"
     ]
    },
    {
     "data": {
      "text/plain": [
       "4×5 Array{Float64,2}:\n",
       " 0.853242  0.472835  0.304028  0.122078   0.728198 \n",
       " 0.501555  0.274183  0.383862  0.666747   0.0609726\n",
       " 0.993423  0.657826  0.308583  0.0314475  0.286247 \n",
       " 0.67915   0.43335   0.414165  0.938264   0.69487  "
      ]
     },
     "execution_count": 8,
     "metadata": {},
     "output_type": "execute_result"
    }
   ],
   "source": [
    "println( \"B after = \" )\n",
    "B"
   ]
  },
  {
   "cell_type": "markdown",
   "metadata": {},
   "source": [
    "Bingo, it seems to work!"
   ]
  },
  {
   "cell_type": "markdown",
   "metadata": {},
   "source": [
    "## Try it yourself (Homework 3.2.5.3)"
   ]
  },
  {
   "cell_type": "markdown",
   "metadata": {},
   "source": [
    "Now, an alternative routine that accesses the matrix by rows."
   ]
  },
  {
   "cell_type": "markdown",
   "metadata": {},
   "source": [
    "Use the <a href=\"https://studio.edx.org/c4x/UTAustinX/UT.5.01x/asset/index.html\"> Spark webpage </a> to generate the routine <br>\n",
    "<code> Transpose_unb_var2!( A, B )</code>.<br>"
   ]
  },
  {
   "cell_type": "code",
   "execution_count": 9,
   "metadata": {},
   "outputs": [
    {
     "name": "stderr",
     "output_type": "stream",
     "text": [
      "WARNING: replacing module flame.\n",
      "WARNING: replacing module laff.\n"
     ]
    },
    {
     "data": {
      "text/plain": [
       "Transpose_unb_var2! (generic function with 1 method)"
      ]
     },
     "execution_count": 9,
     "metadata": {},
     "output_type": "execute_result"
    }
   ],
   "source": [
    "include(\"../flame.jl\")\n",
    "using .flame\n",
    "include(\"../laff/laff.jl\")\n",
    "using .laff\n",
    "\n",
    "function Transpose_unb_var2!(A, B)\n",
    "\n",
    "    AT,\n",
    "    AB  = flame.part_2x1(A,\n",
    "                         0, \"TOP\")\n",
    "\n",
    "    BL, BR = flame.part_1x2(B,\n",
    "                            0, \"LEFT\")\n",
    "\n",
    "    while size(AT, 1) < size(A, 1)\n",
    "\n",
    "        A0,\n",
    "        a1t,\n",
    "        A2   = flame.repart_2x1_to_3x1(AT,\n",
    "                                       AB,\n",
    "                                       1, \"BOTTOM\")\n",
    "\n",
    "        B0, b1, B2 = flame.repart_1x2_to_1x3(BL, BR,\n",
    "                                             1, \"RIGHT\")\n",
    "\n",
    "        #------------------------------------------------------------#\n",
    "\n",
    "        laff.copy!( a1t, b1 )\n",
    "        \n",
    "        #------------------------------------------------------------#\n",
    "\n",
    "        AT,\n",
    "        AB  = flame.cont_with_3x1_to_2x1(A0,\n",
    "                                         a1t,\n",
    "                                         A2,\n",
    "                                         \"TOP\")\n",
    "\n",
    "        BL, BR = flame.cont_with_1x3_to_1x2(B0, b1, B2,\n",
    "                                            \"LEFT\")\n",
    "    end\n",
    "        \n",
    "    flame.merge_1x2!(BL, BR, B)\n",
    "end\n"
   ]
  },
  {
   "cell_type": "markdown",
   "metadata": {},
   "source": [
    "Test your routine with the following"
   ]
  },
  {
   "cell_type": "code",
   "execution_count": 10,
   "metadata": {},
   "outputs": [
    {
     "name": "stdout",
     "output_type": "stream",
     "text": [
      "A \n"
     ]
    },
    {
     "data": {
      "text/plain": [
       "5×4 Array{Float64,2}:\n",
       " 0.0335269  0.180088    0.371604  0.884926 \n",
       " 0.245921   0.0597967   0.798307  0.091257 \n",
       " 0.0504451  0.395715    0.864776  0.291895 \n",
       " 0.785202   0.286571    0.949424  0.0344921\n",
       " 0.790869   0.00746409  0.539176  0.302127 "
      ]
     },
     "execution_count": 10,
     "metadata": {},
     "output_type": "execute_result"
    }
   ],
   "source": [
    "A = rand(5, 4)\n",
    "B = rand(4, 5)\n",
    "\n",
    "println(\"A \")\n",
    "A"
   ]
  },
  {
   "cell_type": "code",
   "execution_count": 11,
   "metadata": {},
   "outputs": [
    {
     "name": "stdout",
     "output_type": "stream",
     "text": [
      "B before =\n"
     ]
    },
    {
     "data": {
      "text/plain": [
       "4×5 Array{Float64,2}:\n",
       " 0.699477  0.75005   0.741618  0.693479   0.845177 \n",
       " 0.509212  0.241169  0.853838  0.613396   0.640074 \n",
       " 0.20298   0.122695  0.342054  0.0576411  0.71685  \n",
       " 0.315318  0.515619  0.841127  0.756304   0.0613672"
      ]
     },
     "execution_count": 11,
     "metadata": {},
     "output_type": "execute_result"
    }
   ],
   "source": [
    "println( \"B before =\" )\n",
    "B"
   ]
  },
  {
   "cell_type": "code",
   "execution_count": 12,
   "metadata": {},
   "outputs": [
    {
     "name": "stdout",
     "output_type": "stream",
     "text": [
      "A \n"
     ]
    },
    {
     "data": {
      "text/plain": [
       "5×4 Array{Float64,2}:\n",
       " 0.0335269  0.180088    0.371604  0.884926 \n",
       " 0.245921   0.0597967   0.798307  0.091257 \n",
       " 0.0504451  0.395715    0.864776  0.291895 \n",
       " 0.785202   0.286571    0.949424  0.0344921\n",
       " 0.790869   0.00746409  0.539176  0.302127 "
      ]
     },
     "execution_count": 12,
     "metadata": {},
     "output_type": "execute_result"
    }
   ],
   "source": [
    "Transpose_unb_var2!( A, B )\n",
    "\n",
    "println(\"A \")\n",
    "A"
   ]
  },
  {
   "cell_type": "code",
   "execution_count": 13,
   "metadata": {},
   "outputs": [
    {
     "name": "stdout",
     "output_type": "stream",
     "text": [
      "B after =\n"
     ]
    },
    {
     "data": {
      "text/plain": [
       "4×5 Array{Float64,2}:\n",
       " 0.0335269  0.245921   0.0504451  0.785202   0.790869  \n",
       " 0.180088   0.0597967  0.395715   0.286571   0.00746409\n",
       " 0.371604   0.798307   0.864776   0.949424   0.539176  \n",
       " 0.884926   0.091257   0.291895   0.0344921  0.302127  "
      ]
     },
     "execution_count": 13,
     "metadata": {},
     "output_type": "execute_result"
    }
   ],
   "source": [
    "println( \"B after =\" )\n",
    "B"
   ]
  },
  {
   "cell_type": "markdown",
   "metadata": {},
   "source": [
    "## Watch your code in action!"
   ]
  },
  {
   "cell_type": "markdown",
   "metadata": {},
   "source": [
    "Copy and paste the code into <a href=\"http://edx-org-utaustinx.s3.amazonaws.com/UT501x/PictureFlame/PictureFLAME.html\"> PictureFLAME </a>, a webpage where you can watch your routine in action.  Just cut and paste into the box.  \n",
    "\n",
    "Disclaimer: we implemented a VERY simple interpreter.  If you do something wrong, we cannot guarantee the results.  But if you do it right, you are in for a treat.\n",
    "\n",
    "If you want to reset the problem, just click in the box into which you pasted the code and hit \"next\" again."
   ]
  }
 ],
 "metadata": {
  "kernelspec": {
   "display_name": "Julia 1.0.1",
   "language": "julia",
   "name": "julia-1.0"
  },
  "language_info": {
   "file_extension": ".jl",
   "mimetype": "application/julia",
   "name": "julia",
   "version": "1.0.1"
  }
 },
 "nbformat": 4,
 "nbformat_minor": 1
}
