{
 "cells": [
  {
   "cell_type": "markdown",
   "metadata": {},
   "source": [
    "# The Scale_a_matrix routine"
   ]
  },
  {
   "cell_type": "markdown",
   "metadata": {},
   "source": [
    "This notebook walks you through how to implement a simple function that scales a matrix $ A $ by a scalar $ \\beta $, overwriting $ A $."
   ]
  },
  {
   "cell_type": "markdown",
   "metadata": {},
   "source": [
    "## Getting started"
   ]
  },
  {
   "cell_type": "markdown",
   "metadata": {},
   "source": [
    "We will use some functions that are part of our laff library (of which this function will become a part) as well as some routines from the FLAME API (Application Programming Interface) that allows us to write code that closely resembles how we typeset algorithms using the FLAME notation.  These functions are imported with `include` and `using` statements."
   ]
  },
  {
   "cell_type": "markdown",
   "metadata": {},
   "source": [
    "## Algorithm"
   ]
  },
  {
   "cell_type": "markdown",
   "metadata": {},
   "source": [
    "<image src=\"https://studio.edx.org/c4x/UTAustinX/UT.5.01x/asset/331ScaleMatrix.png\" alt=\"Set matrix to zero algorithm\" width=\"85%\">"
   ]
  },
  {
   "cell_type": "markdown",
   "metadata": {},
   "source": [
    "## The routine"
   ]
  },
  {
   "cell_type": "markdown",
   "metadata": {},
   "source": [
    "The specific laff function we will use is laff.scal which, when given a row or column vector (stored as a 1 x n or n x 1 matrix) and a scalar scales that vector.  \n",
    "\n",
    "Code the routine with the <a href=\"https://studio.edx.org/c4x/UTAustinX/UT.5.01x/asset/index.html\"> Spark webpage </a>."
   ]
  },
  {
   "cell_type": "code",
   "execution_count": 1,
   "metadata": {},
   "outputs": [
    {
     "data": {
      "text/plain": [
       "Scale_a_matrix_unb_var1! (generic function with 1 method)"
      ]
     },
     "execution_count": 1,
     "metadata": {},
     "output_type": "execute_result"
    }
   ],
   "source": [
    "include(\"../flame.jl\")\n",
    "using .flame\n",
    "include(\"../laff/laff.jl\")\n",
    "using .laff\n",
    "\n",
    "function Scale_a_matrix_unb_var1!(beta, A)\n",
    "\n",
    "    AL, AR = flame.part_1x2(A,\n",
    "                            0, \"LEFT\")\n",
    "\n",
    "    while size(AL, 2) < size(A, 2)\n",
    "\n",
    "        A0, a1, A2 = flame.repart_1x2_to_1x3(AL, AR,\n",
    "                                             1, \"RIGHT\")\n",
    "\n",
    "        #------------------------------------------------------------#\n",
    "\n",
    "        laff.scal!( beta, a1 )\n",
    "\n",
    "        #------------------------------------------------------------#\n",
    "\n",
    "        AL, AR = flame.cont_with_1x3_to_1x2(A0, a1, A2,\n",
    "                                            \"LEFT\")\n",
    "    end\n",
    "        \n",
    "    flame.merge_1x2!(AL, AR, A)\n",
    "end\n",
    "\n",
    "\n",
    "\n"
   ]
  },
  {
   "cell_type": "markdown",
   "metadata": {},
   "source": [
    "## Testing"
   ]
  },
  {
   "cell_type": "markdown",
   "metadata": {},
   "source": [
    "Let's quickly test the routine by creating a 5 x 4 matrix and then scaling by a scalar."
   ]
  },
  {
   "cell_type": "code",
   "execution_count": 3,
   "metadata": {},
   "outputs": [
    {
     "name": "stdout",
     "output_type": "stream",
     "text": [
      "beta = 2.0\n",
      "A before =\n"
     ]
    },
    {
     "data": {
      "text/plain": [
       "5×4 Array{Float64,2}:\n",
       " 0.993226   0.775104   0.769818  0.315073\n",
       " 0.445162   0.0243579  0.732206  0.649916\n",
       " 0.942865   0.956438   0.439302  0.612851\n",
       " 0.0561897  0.440606   0.868121  0.495532\n",
       " 0.448079   0.168591   0.987636  0.51238 "
      ]
     },
     "execution_count": 3,
     "metadata": {},
     "output_type": "execute_result"
    }
   ],
   "source": [
    "beta = 2.0\n",
    "A = rand(5, 4)\n",
    "\n",
    "@show beta\n",
    "\n",
    "println(\"A before =\")\n",
    "A"
   ]
  },
  {
   "cell_type": "code",
   "execution_count": 4,
   "metadata": {},
   "outputs": [
    {
     "name": "stdout",
     "output_type": "stream",
     "text": [
      "A after =\n"
     ]
    },
    {
     "data": {
      "text/plain": [
       "5×4 Array{Float64,2}:\n",
       " 1.98645   1.55021    1.53964   0.630146\n",
       " 0.890323  0.0487159  1.46441   1.29983 \n",
       " 1.88573   1.91288    0.878604  1.2257  \n",
       " 0.112379  0.881213   1.73624   0.991063\n",
       " 0.896158  0.337181   1.97527   1.02476 "
      ]
     },
     "execution_count": 4,
     "metadata": {},
     "output_type": "execute_result"
    }
   ],
   "source": [
    "Scale_a_matrix_unb_var1!( beta, A )\n",
    "\n",
    "println(\"A after =\")\n",
    "A"
   ]
  },
  {
   "cell_type": "markdown",
   "metadata": {},
   "source": [
    "Bingo, it seems to work!"
   ]
  },
  {
   "cell_type": "markdown",
   "metadata": {},
   "source": [
    "## Try it yourself (homework 3.3.1.3)"
   ]
  },
  {
   "cell_type": "markdown",
   "metadata": {},
   "source": [
    "Now, write an alternative algorithm that scales $ A $ one row at a time."
   ]
  },
  {
   "cell_type": "markdown",
   "metadata": {},
   "source": [
    "Use the <a href=\"https://studio.edx.org/c4x/UTAustinX/UT.5.01x/asset/index.html\"> Spark webpage </a> to generate the function `Scale_a_matrix_unb_var2!( beta, A )` that computes $ A := \\beta A $ one row at a time."
   ]
  },
  {
   "cell_type": "code",
   "execution_count": 6,
   "metadata": {},
   "outputs": [
    {
     "name": "stderr",
     "output_type": "stream",
     "text": [
      "WARNING: replacing module flame.\n",
      "WARNING: replacing module laff.\n"
     ]
    },
    {
     "data": {
      "text/plain": [
       "Scale_a_matrix_unb_var2! (generic function with 1 method)"
      ]
     },
     "execution_count": 6,
     "metadata": {},
     "output_type": "execute_result"
    }
   ],
   "source": [
    "include(\"../flame.jl\")\n",
    "using .flame\n",
    "include(\"../laff/laff.jl\")\n",
    "using .laff\n",
    "\n",
    "function Scale_a_matrix_unb_var2!(beta, A)\n",
    "\n",
    "    AT,\n",
    "    AB  = flame.part_2x1(A,\n",
    "                         0, \"TOP\")\n",
    "\n",
    "    while size(AT, 1) < size(A, 1)\n",
    "\n",
    "        A0,\n",
    "        a1t,\n",
    "        A2   = flame.repart_2x1_to_3x1(AT,\n",
    "                                       AB,\n",
    "                                       1, \"BOTTOM\")\n",
    "\n",
    "        #------------------------------------------------------------#\n",
    "\n",
    "        laff.scal!( beta, a1t )\n",
    "\n",
    "        #------------------------------------------------------------#\n",
    "\n",
    "        AT,\n",
    "        AB  = flame.cont_with_3x1_to_2x1(A0,\n",
    "                                         a1t,\n",
    "                                         A2,\n",
    "                                         \"TOP\")\n",
    "    end\n",
    "        \n",
    "    flame.merge_2x1!(AT,\n",
    "                    AB, A)\n",
    "end\n",
    "\n",
    "\n",
    "\n"
   ]
  },
  {
   "cell_type": "markdown",
   "metadata": {},
   "source": [
    "Test your routine with the following"
   ]
  },
  {
   "cell_type": "code",
   "execution_count": 7,
   "metadata": {},
   "outputs": [
    {
     "name": "stdout",
     "output_type": "stream",
     "text": [
      "beta = 2.0\n",
      "A before =\n"
     ]
    },
    {
     "data": {
      "text/plain": [
       "5×4 Array{Float64,2}:\n",
       " 0.142886  0.338658  0.181523  0.949475\n",
       " 0.248692  0.660332  0.740244  0.651124\n",
       " 0.316948  0.308168  0.734853  0.303025\n",
       " 0.741538  0.965379  0.409255  0.460398\n",
       " 0.508246  0.24102   0.292935  0.565491"
      ]
     },
     "execution_count": 7,
     "metadata": {},
     "output_type": "execute_result"
    }
   ],
   "source": [
    "beta = 2.0\n",
    "A = rand(5, 4)\n",
    "\n",
    "@show beta\n",
    "\n",
    "println(\"A before =\")\n",
    "A"
   ]
  },
  {
   "cell_type": "code",
   "execution_count": 8,
   "metadata": {},
   "outputs": [
    {
     "name": "stdout",
     "output_type": "stream",
     "text": [
      "A after =\n"
     ]
    },
    {
     "data": {
      "text/plain": [
       "5×4 Array{Float64,2}:\n",
       " 0.285771  0.677316  0.363047  1.89895 \n",
       " 0.497384  1.32066   1.48049   1.30225 \n",
       " 0.633897  0.616335  1.46971   0.60605 \n",
       " 1.48308   1.93076   0.81851   0.920797\n",
       " 1.01649   0.48204   0.58587   1.13098 "
      ]
     },
     "execution_count": 8,
     "metadata": {},
     "output_type": "execute_result"
    }
   ],
   "source": [
    "Scale_a_matrix_unb_var2!( beta, A )\n",
    "\n",
    "println(\"A after =\")\n",
    "A"
   ]
  },
  {
   "cell_type": "markdown",
   "metadata": {},
   "source": [
    "## Watch your code in action!"
   ]
  },
  {
   "cell_type": "markdown",
   "metadata": {},
   "source": [
    "Copy and paste the code into <a href=\"http://edx-org-utaustinx.s3.amazonaws.com/UT501x/PictureFlame/PictureFLAME.html\"> PictureFLAME </a>, a webpage where you can watch your routine in action.  Just cut and paste into the box.  \n",
    "\n",
    "Disclaimer: we implemented a VERY simple interpreter.  If you do something wrong, we cannot guarantee the results.  But if you do it right, you are in for a treat.\n",
    "\n",
    "If you want to reset the problem, just click in the box into which you pasted the code and hit \"next\" again."
   ]
  }
 ],
 "metadata": {
  "kernelspec": {
   "display_name": "Julia 1.0.1",
   "language": "julia",
   "name": "julia-1.0"
  },
  "language_info": {
   "file_extension": ".jl",
   "mimetype": "application/julia",
   "name": "julia",
   "version": "1.0.1"
  }
 },
 "nbformat": 4,
 "nbformat_minor": 1
}
