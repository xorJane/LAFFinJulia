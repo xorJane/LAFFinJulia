{
 "cells": [
  {
   "cell_type": "markdown",
   "metadata": {},
   "source": [
    "# \"Triangularizing\" a matrix"
   ]
  },
  {
   "cell_type": "markdown",
   "metadata": {},
   "source": [
    "This notebook walks you through how to implement simple functions that make a square matrix into a triangular matrix by setting the appropriate entries in the matrix to zero or one."
   ]
  },
  {
   "cell_type": "markdown",
   "metadata": {},
   "source": [
    "## Getting started"
   ]
  },
  {
   "cell_type": "markdown",
   "metadata": {},
   "source": [
    "We will use some functions that are part of our laff library (of which this function will become a part) as well as some routines from the FLAME API (Application Programming Interface) that allows us to write code that closely resembles how we typeset algorithms using the FLAME notation.  These functions are imported with `include` and `using` statements."
   ]
  },
  {
   "cell_type": "markdown",
   "metadata": {},
   "source": [
    "## Algorithm"
   ]
  },
  {
   "cell_type": "markdown",
   "metadata": {},
   "source": [
    "<image src=\"https://studio.edx.org/c4x/UTAustinX/UT.5.01x/asset/324TriangularizeAlgorithm.png\" alt=\"Make matrix into a triangular matrix\" width=\"75%\">"
   ]
  },
  {
   "cell_type": "markdown",
   "metadata": {},
   "source": [
    "## The routine"
   ]
  },
  {
   "cell_type": "markdown",
   "metadata": {},
   "source": [
    "Write your <br>\n",
    "<code> Set_to_lower_triangular_matrix_unb_var1!( A ) </code> <br>\n",
    "routine, using the <a href=\"https://studio.edx.org/c4x/UTAustinX/UT.5.01x/asset/index.html\"> Spark webpage </a>."
   ]
  },
  {
   "cell_type": "code",
   "execution_count": 1,
   "metadata": {},
   "outputs": [
    {
     "data": {
      "text/plain": [
       "Set_to_lower_triangular_matrix_unb_var1! (generic function with 1 method)"
      ]
     },
     "execution_count": 1,
     "metadata": {},
     "output_type": "execute_result"
    }
   ],
   "source": [
    "include(\"../flame.jl\")\n",
    "using .flame\n",
    "include(\"../laff/laff.jl\")\n",
    "using .laff\n",
    "\n",
    "function Set_to_lower_triangular_matrix_unb_var1!(A)\n",
    "\n",
    "    ATL, ATR,\n",
    "    ABL, ABR  = flame.part_2x2(A,\n",
    "                               0, 0, \"TL\")\n",
    "\n",
    "    while size(ATL, 1) < size(A, 1)\n",
    "\n",
    "        A00,  a01,     A02,\n",
    "        a10t, alpha11, a12t,\n",
    "        A20,  a21,     A22   = flame.repart_2x2_to_3x3(ATL, ATR,\n",
    "                                                       ABL, ABR,\n",
    "                                                       1, 1, \"BR\")\n",
    "\n",
    "        #------------------------------------------------------------#\n",
    "\n",
    "        laff.zerov!( a01 )\n",
    "\n",
    "        #------------------------------------------------------------#\n",
    "\n",
    "        ATL, ATR,\n",
    "        ABL, ABR  = flame.cont_with_3x3_to_2x2(A00,  a01,     A02,\n",
    "                                               a10t, alpha11, a12t,\n",
    "                                               A20,  a21,     A22,\n",
    "                                               \"TL\")\n",
    "\n",
    "    end\n",
    "    flame.merge_2x2!(ATL, ATR,\n",
    "                    ABL, ABR, A)\n",
    "\n",
    "end\n",
    "\n"
   ]
  },
  {
   "cell_type": "markdown",
   "metadata": {},
   "source": [
    "## Testing"
   ]
  },
  {
   "cell_type": "markdown",
   "metadata": {},
   "source": [
    "Let's quickly test the routine by creating a 5 x 5 matrix and then setting its strictly upper triangular part to zero, thus making it lower triangular.\n"
   ]
  },
  {
   "cell_type": "code",
   "execution_count": 2,
   "metadata": {},
   "outputs": [
    {
     "name": "stdout",
     "output_type": "stream",
     "text": [
      "A before =\n"
     ]
    },
    {
     "data": {
      "text/plain": [
       "5×5 Array{Float64,2}:\n",
       " 0.783439   0.988832  0.0819575  0.431303  0.800854\n",
       " 0.616882   0.028477  0.212164   0.970504  0.948701\n",
       " 0.256301   0.385638  0.281563   0.187777  0.366316\n",
       " 0.0867609  0.906088  0.936507   0.899056  0.138814\n",
       " 0.277679   0.730314  0.20467    0.427907  0.533601"
      ]
     },
     "execution_count": 2,
     "metadata": {},
     "output_type": "execute_result"
    }
   ],
   "source": [
    "A = rand(5, 5)\n",
    "\n",
    "println( \"A before =\" )\n",
    "A"
   ]
  },
  {
   "cell_type": "code",
   "execution_count": 3,
   "metadata": {},
   "outputs": [
    {
     "name": "stdout",
     "output_type": "stream",
     "text": [
      "A after =\n"
     ]
    },
    {
     "data": {
      "text/plain": [
       "5×5 Array{Float64,2}:\n",
       " 0.783439   0.0       0.0       0.0       0.0     \n",
       " 0.616882   0.028477  0.0       0.0       0.0     \n",
       " 0.256301   0.385638  0.281563  0.0       0.0     \n",
       " 0.0867609  0.906088  0.936507  0.899056  0.0     \n",
       " 0.277679   0.730314  0.20467   0.427907  0.533601"
      ]
     },
     "execution_count": 3,
     "metadata": {},
     "output_type": "execute_result"
    }
   ],
   "source": [
    "Set_to_lower_triangular_matrix_unb_var1!( A )\n",
    "\n",
    "println( \"A after =\" )\n",
    "A"
   ]
  },
  {
   "cell_type": "markdown",
   "metadata": {},
   "source": [
    "Bingo, it seems to work!"
   ]
  },
  {
   "cell_type": "markdown",
   "metadata": {},
   "source": [
    "## Try it yourself (Homework 3.2.4.6)"
   ]
  },
  {
   "cell_type": "markdown",
   "metadata": {},
   "source": [
    "Now, an alternative routine that accesses the matrix by rows."
   ]
  },
  {
   "cell_type": "markdown",
   "metadata": {},
   "source": [
    "Use the <a href=\"https://studio.edx.org/c4x/UTAustinX/UT.5.01x/asset/index.html\"> Spark webpage </a> to generate the routine <br>\n",
    "<code> Set_to_lower_triangular_matrix_unb_var2!( A )</code>.<br>"
   ]
  },
  {
   "cell_type": "code",
   "execution_count": 4,
   "metadata": {},
   "outputs": [
    {
     "name": "stderr",
     "output_type": "stream",
     "text": [
      "WARNING: replacing module flame.\n",
      "WARNING: replacing module laff.\n"
     ]
    },
    {
     "data": {
      "text/plain": [
       "Set_to_lower_triangular_matrix_unb_var2! (generic function with 1 method)"
      ]
     },
     "execution_count": 4,
     "metadata": {},
     "output_type": "execute_result"
    }
   ],
   "source": [
    "include(\"../flame.jl\")\n",
    "using .flame\n",
    "include(\"../laff/laff.jl\")\n",
    "using .laff\n",
    "\n",
    "function Set_to_lower_triangular_matrix_unb_var2!(A)\n",
    "\n",
    "    ATL, ATR,\n",
    "    ABL, ABR  = flame.part_2x2(A,\n",
    "                               0, 0, \"TL\")\n",
    "\n",
    "    while size(ATL, 1) < size(A, 1)\n",
    "\n",
    "        A00,  a01,     A02,\n",
    "        a10t, alpha11, a12t,\n",
    "        A20,  a21,     A22   = flame.repart_2x2_to_3x3(ATL, ATR,\n",
    "                                                       ABL, ABR,\n",
    "                                                       1, 1, \"BR\")\n",
    "\n",
    "        #------------------------------------------------------------#\n",
    "\n",
    "        laff.zerov!( a12t )\n",
    "\n",
    "        #------------------------------------------------------------#\n",
    "\n",
    "        ATL, ATR,\n",
    "        ABL, ABR  = flame.cont_with_3x3_to_2x2(A00,  a01,     A02,\n",
    "                                               a10t, alpha11, a12t,\n",
    "                                               A20,  a21,     A22,\n",
    "                                               \"TL\")\n",
    "    end\n",
    "    \n",
    "    flame.merge_2x2!(ATL, ATR,\n",
    "                     ABL, ABR, A)\n",
    "\n",
    "end\n",
    "\n",
    "\n"
   ]
  },
  {
   "cell_type": "markdown",
   "metadata": {},
   "source": [
    "Test your routine with the following"
   ]
  },
  {
   "cell_type": "code",
   "execution_count": 5,
   "metadata": {},
   "outputs": [
    {
     "name": "stdout",
     "output_type": "stream",
     "text": [
      "A before =\n"
     ]
    },
    {
     "data": {
      "text/plain": [
       "5×5 Array{Float64,2}:\n",
       " 0.482371  0.639736  0.65347     0.428844  0.0687273\n",
       " 0.630331  0.419351  0.247353    0.808458  0.423275 \n",
       " 0.2303    0.795088  0.413059    0.876253  0.600126 \n",
       " 0.893528  0.579694  0.401057    0.107857  0.758555 \n",
       " 0.763903  0.716321  0.00749892  0.596012  0.344989 "
      ]
     },
     "execution_count": 5,
     "metadata": {},
     "output_type": "execute_result"
    }
   ],
   "source": [
    "A = rand(5, 5)\n",
    "\n",
    "println( \"A before =\" )\n",
    "A"
   ]
  },
  {
   "cell_type": "code",
   "execution_count": 6,
   "metadata": {},
   "outputs": [
    {
     "name": "stdout",
     "output_type": "stream",
     "text": [
      "A after =\n"
     ]
    },
    {
     "data": {
      "text/plain": [
       "5×5 Array{Float64,2}:\n",
       " 0.482371  0.0       0.0         0.0       0.0     \n",
       " 0.630331  0.419351  0.0         0.0       0.0     \n",
       " 0.2303    0.795088  0.413059    0.0       0.0     \n",
       " 0.893528  0.579694  0.401057    0.107857  0.0     \n",
       " 0.763903  0.716321  0.00749892  0.596012  0.344989"
      ]
     },
     "execution_count": 6,
     "metadata": {},
     "output_type": "execute_result"
    }
   ],
   "source": [
    "Set_to_lower_triangular_matrix_unb_var2!( A )\n",
    "println( \"A after =\" )\n",
    "A"
   ]
  },
  {
   "cell_type": "markdown",
   "metadata": {},
   "source": [
    "## Watch your code in action!"
   ]
  },
  {
   "cell_type": "markdown",
   "metadata": {},
   "source": [
    "Copy and paste the code into <a href=\"http://edx-org-utaustinx.s3.amazonaws.com/UT501x/PictureFlame/PictureFLAME.html\"> PictureFLAME </a>, a webpage where you can watch your routine in action.  Just cut and paste into the box.  \n",
    "\n",
    "Disclaimer: we implemented a VERY simple interpreter.  If you do something wrong, we cannot guarantee the results.  But if you do it right, you are in for a treat.\n",
    "\n",
    "If you want to reset the problem, just click in the box into which you pasted the code and hit \"next\" again."
   ]
  }
 ],
 "metadata": {
  "kernelspec": {
   "display_name": "Julia 1.0.1",
   "language": "julia",
   "name": "julia-1.0"
  },
  "language_info": {
   "file_extension": ".jl",
   "mimetype": "application/julia",
   "name": "julia",
   "version": "1.0.1"
  }
 },
 "nbformat": 4,
 "nbformat_minor": 1
}
