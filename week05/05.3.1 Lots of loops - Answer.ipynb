{
 "cells": [
  {
   "cell_type": "markdown",
   "metadata": {},
   "source": [
    "# Lots of loops"
   ]
  },
  {
   "cell_type": "markdown",
   "metadata": {},
   "source": [
    "This notebook illustrates the different ways in which loops for matrix-matrix multiplication can be ordered.  Let's start by creating some matrices."
   ]
  },
  {
   "cell_type": "code",
   "execution_count": 2,
   "metadata": {},
   "outputs": [
    {
     "name": "stdout",
     "output_type": "stream",
     "text": [
      "C = \n"
     ]
    },
    {
     "data": {
      "text/plain": [
       "4×3 Array{Float64,2}:\n",
       " 0.261545   0.254755   0.492339\n",
       " 0.552558   0.231981   0.409594\n",
       " 0.150717   0.299299   0.301166\n",
       " 0.0406529  0.0498646  0.553314"
      ]
     },
     "execution_count": 2,
     "metadata": {},
     "output_type": "execute_result"
    }
   ],
   "source": [
    "m = 4\n",
    "n = 3\n",
    "k = 5\n",
    "\n",
    "println(\"C = \")\n",
    "C = rand(m, n)"
   ]
  },
  {
   "cell_type": "code",
   "execution_count": 4,
   "metadata": {},
   "outputs": [
    {
     "data": {
      "text/plain": [
       "4×3 Array{Float64,2}:\n",
       " 0.261545   0.254755   0.492339\n",
       " 0.552558   0.231981   0.409594\n",
       " 0.150717   0.299299   0.301166\n",
       " 0.0406529  0.0498646  0.553314"
      ]
     },
     "execution_count": 4,
     "metadata": {},
     "output_type": "execute_result"
    }
   ],
   "source": [
    "Cold = copy(C) # an alternative way of doing a \"hard\" copy"
   ]
  },
  {
   "cell_type": "code",
   "execution_count": 5,
   "metadata": {},
   "outputs": [
    {
     "name": "stdout",
     "output_type": "stream",
     "text": [
      "A = \n"
     ]
    },
    {
     "data": {
      "text/plain": [
       "4×5 Array{Float64,2}:\n",
       " 0.326325  0.838951  0.698483  0.313721  0.933725\n",
       " 0.083477  0.886588  0.230835  0.498924  0.444282\n",
       " 0.990166  0.502168  0.721407  0.817125  0.780143\n",
       " 0.602018  0.446371  0.573852  0.211951  0.860292"
      ]
     },
     "execution_count": 5,
     "metadata": {},
     "output_type": "execute_result"
    }
   ],
   "source": [
    "println(\"A = \")\n",
    "A = rand(m, k)"
   ]
  },
  {
   "cell_type": "code",
   "execution_count": 6,
   "metadata": {},
   "outputs": [
    {
     "name": "stdout",
     "output_type": "stream",
     "text": [
      "B = \n"
     ]
    },
    {
     "data": {
      "text/plain": [
       "5×3 Array{Float64,2}:\n",
       " 0.926506    0.48537    0.548547\n",
       " 0.00952294  0.0168649  0.9625  \n",
       " 0.190341    0.153879   0.924508\n",
       " 0.341832    0.0149595  0.094451\n",
       " 0.0837492   0.334056   0.181855"
      ]
     },
     "execution_count": 6,
     "metadata": {},
     "output_type": "execute_result"
    }
   ],
   "source": [
    "println(\"B = \")\n",
    "B = rand(k, n)"
   ]
  },
  {
   "cell_type": "markdown",
   "metadata": {},
   "source": [
    "## <h2>The basic algorithm</h2  <p> Given $ A \\in \\mathbb{R}^{m \\times k} $, $ B \\in \\mathbb{R}^{k \\times n} $, and $ C \\in \\mathbb{R}^{m \\times n} $, we will consider $ C := A B + C $. </p>      <p>     Now, recall that the $ i,j $ element of $ A B $ is computed as the dot product of  the $ i $th row of $ A $ with the $ j $th column of $ B $: </p>  <p>     $\\sum_{p=0}^{k-1} \\alpha_{i,j} \\beta_{i,j}$ </p>  <p>     and here, by adding to $ C $ we get </p>  <p> $ \\gamma_{i,j} = \\sum_{p=0}^{k-1} \\alpha_{i,j} \\beta_{i,j} + \\gamma_{i,j}.$ </p>  <p>     Now, we have to loop over all elements of $ C $.  The code, without the FLAMEpy API, becomes </p>"
   ]
  },
  {
   "cell_type": "code",
   "execution_count": 10,
   "metadata": {},
   "outputs": [
    {
     "data": {
      "text/plain": [
       "MMmult_lots_of_loops! (generic function with 1 method)"
      ]
     },
     "execution_count": 10,
     "metadata": {},
     "output_type": "execute_result"
    }
   ],
   "source": [
    "function MMmult_lots_of_loops!( A, B, C )\n",
    "\n",
    "    m, n = size( C )\n",
    "    m, k = size( A )\n",
    "    \n",
    "    # i,j,p\n",
    "    for i in 1:m                     \n",
    "        for j in 1:n                    \n",
    "            for p in 1:k                    \n",
    "                C[ i,j ] = A[ i,p ] * B[ p, j ] + C[ i,j ]\n",
    "            end\n",
    "        end\n",
    "    end\n",
    "                \n",
    "#     # i,p,j\n",
    "#     for i in 1:m                     \n",
    "#         for p in 1:k\n",
    "#             for j in 1:n\n",
    "#                 C[ i,j ] = A[ i,p ] * B[ p, j ] + C[ i,j ]\n",
    "#             end\n",
    "#         end\n",
    "#     end\n",
    "                \n",
    "#     # j,i,p                  \n",
    "#     for j in 1:n                    \n",
    "#         for i in 1:m \n",
    "#             for p in 1:k\n",
    "#                 C[ i,j ] = A[ i,p ] * B[ p, j ] + C[ i,j ]\n",
    "#             end\n",
    "#         end\n",
    "#     end\n",
    "\n",
    "#     # j,p,i\n",
    "#     for j in 1:n                    \n",
    "#         for p in 1:k\n",
    "#             for i in 1:m \n",
    "#                 C[ i,j ] = A[ i,p ] * B[ p, j ] + C[ i,j ]\n",
    "#             end\n",
    "#         end\n",
    "#     end\n",
    "\n",
    "#     # p,i,j\n",
    "#     for p in 1:k\n",
    "#         for i in 1:m\n",
    "#             for j in 1:n\n",
    "#                 C[ i,j ] = A[ i,p ] * B[ p, j ] + C[ i,j ]\n",
    "#             end\n",
    "#         end\n",
    "#     end\n",
    "\n",
    "#     # p,j,i\n",
    "#     for p in 1:k\n",
    "#         for j in 1:n\n",
    "#             for i in 1:m\n",
    "#                 C[ i,j ] = A[ i,p ] * B[ p, j ] + C[ i,j ]\n",
    "#             end\n",
    "#         end\n",
    "#     end\n",
    "    \n",
    "end"
   ]
  },
  {
   "cell_type": "code",
   "execution_count": 11,
   "metadata": {},
   "outputs": [
    {
     "name": "stdout",
     "output_type": "stream",
     "text": [
      "C - ( Cold + A * B )\n"
     ]
    },
    {
     "data": {
      "text/plain": [
       "4×3 Array{Float64,2}:\n",
       " 0.0           1.11022e-16  4.44089e-16\n",
       " 1.11022e-16   0.0          0.0        \n",
       " 0.0           0.0          0.0        \n",
       " 0.0          -1.11022e-16  0.0        "
      ]
     },
     "execution_count": 11,
     "metadata": {},
     "output_type": "execute_result"
    }
   ],
   "source": [
    "C = copy(Cold)            # restore C\n",
    "\n",
    "MMmult_lots_of_loops!( A, B, C )\n",
    "\n",
    "println(\"C - ( Cold + A * B )\" )\n",
    "C - ( Cold + A * B )"
   ]
  },
  {
   "cell_type": "markdown",
   "metadata": {},
   "source": [
    "Now, go back and systematically move the loops around, so that in the end you try out all six orders of the loops: three choices for the first, outermost, loop; two choices for the secod loop; one choice for the third loop, for a total of $ 3! $ (3 factorial) choices. Check that you get the right answer, regardless. \n",
    "\n",
    "(We suggest you just change the box in which the routine is defined and comment out variations that you've already tested.  Be careful with indentation.)"
   ]
  },
  {
   "cell_type": "markdown",
   "metadata": {},
   "source": [
    "## Why $ C := A B + C $ rather than $ C := A B $?"
   ]
  },
  {
   "cell_type": "markdown",
   "metadata": {},
   "source": [
    "Notice that we could have written a routine to compute $ C := A B $ instead, given below."
   ]
  },
  {
   "cell_type": "code",
   "execution_count": 14,
   "metadata": {},
   "outputs": [
    {
     "data": {
      "text/plain": [
       "MMmult_C_eq_AB! (generic function with 1 method)"
      ]
     },
     "execution_count": 14,
     "metadata": {},
     "output_type": "execute_result"
    }
   ],
   "source": [
    "function MMmult_C_eq_AB!( A, B, C )\n",
    "\n",
    "    m, n = size( C )\n",
    "    m, k = size( A )\n",
    "    \n",
    "    for i in 1:m                     \n",
    "        for j in 1:n  \n",
    "            C[ i,j ] = 0.0\n",
    "            for p in 1:k                    \n",
    "                C[ i,j ] = A[ i,p ] * B[ p, j ] + C[ i,j ]\n",
    "            end\n",
    "        end\n",
    "    end\n",
    "end"
   ]
  },
  {
   "cell_type": "code",
   "execution_count": 15,
   "metadata": {},
   "outputs": [
    {
     "name": "stdout",
     "output_type": "stream",
     "text": [
      "C - ( A * B )\n"
     ]
    },
    {
     "data": {
      "text/plain": [
       "4×3 Array{Float64,2}:\n",
       "  0.0           0.0           2.22045e-16\n",
       "  0.0           0.0          -2.22045e-16\n",
       " -2.22045e-16   1.11022e-16   4.44089e-16\n",
       "  0.0          -1.11022e-16  -2.22045e-16"
      ]
     },
     "execution_count": 15,
     "metadata": {},
     "output_type": "execute_result"
    }
   ],
   "source": [
    "C = copy(Cold)             # restore C\n",
    "\n",
    "MMmult_C_eq_AB!( A, B, C )\n",
    "\n",
    "println( \"C - ( A * B )\" )\n",
    "C - ( A * B )"
   ]
  },
  {
   "cell_type": "markdown",
   "metadata": {},
   "source": [
    "Now, start changing the order of the loops.  You notice it is not quite as simple.  But, if you have a routine for computing $ C := A B + C $, you can always initialize $ C = 0 $ (the zero matrix) and then use it to call $ C := A B $:"
   ]
  },
  {
   "cell_type": "code",
   "execution_count": 16,
   "metadata": {},
   "outputs": [
    {
     "name": "stdout",
     "output_type": "stream",
     "text": [
      "C - ( A * B )\n"
     ]
    },
    {
     "data": {
      "text/plain": [
       "4×3 Array{Float64,2}:\n",
       "  0.0           0.0           2.22045e-16\n",
       "  0.0           0.0          -2.22045e-16\n",
       " -2.22045e-16   1.11022e-16   4.44089e-16\n",
       "  0.0          -1.11022e-16  -2.22045e-16"
      ]
     },
     "execution_count": 16,
     "metadata": {},
     "output_type": "execute_result"
    }
   ],
   "source": [
    "C = fill(0.0, size(Cold))         # initialize C = 0 \n",
    "\n",
    "MMmult_lots_of_loops!( A, B, C )\n",
    "\n",
    "println( \"C - ( A * B )\" )\n",
    "C - ( A * B )"
   ]
  },
  {
   "cell_type": "code",
   "execution_count": null,
   "metadata": {},
   "outputs": [],
   "source": []
  }
 ],
 "metadata": {
  "kernelspec": {
   "display_name": "Julia 1.0.1",
   "language": "julia",
   "name": "julia-1.0"
  },
  "language_info": {
   "file_extension": ".jl",
   "mimetype": "application/julia",
   "name": "julia",
   "version": "1.0.1"
  }
 },
 "nbformat": 4,
 "nbformat_minor": 1
}
