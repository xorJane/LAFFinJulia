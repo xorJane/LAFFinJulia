{
 "cells": [
  {
   "cell_type": "markdown",
   "metadata": {},
   "source": [
    "# Multiplying upper triangular matrices"
   ]
  },
  {
   "cell_type": "markdown",
   "metadata": {},
   "source": [
    "This notebook helps you implement the operation $ C := U R $ where $ C, U, R \\in \\mathbb{R}^{n \\times n} $, and $ U $ and $ R $ are upper triangular.  $ U $ and $ R $ are stored in the upper triangular part of numpy matrices <code> U </code> and <code> R </code>. The upper triangular part of matrix <code> C </code> is to be overwritten with the resulting upper triangular matrix.  "
   ]
  },
  {
   "cell_type": "markdown",
   "metadata": {},
   "source": [
    "First, we create some matrices."
   ]
  },
  {
   "cell_type": "code",
   "execution_count": 28,
   "metadata": {},
   "outputs": [
    {
     "name": "stdout",
     "output_type": "stream",
     "text": [
      "C = \n"
     ]
    },
    {
     "data": {
      "text/plain": [
       "5×5 Array{Float64,2}:\n",
       " 0.342006  0.0125096  0.973661  0.117183  0.452058\n",
       " 0.305406  0.1648     0.342776  0.221853  0.674224\n",
       " 0.218045  0.721887   0.715148  0.684214  0.162473\n",
       " 0.509953  0.538232   0.251733  0.131354  0.882886\n",
       " 0.127258  0.190803   0.068036  0.289312  0.604951"
      ]
     },
     "execution_count": 28,
     "metadata": {},
     "output_type": "execute_result"
    }
   ],
   "source": [
    "n = 5\n",
    "\n",
    "C = rand(n, n)\n",
    "println( \"C = \" )\n",
    "C"
   ]
  },
  {
   "cell_type": "code",
   "execution_count": 29,
   "metadata": {},
   "outputs": [
    {
     "name": "stdout",
     "output_type": "stream",
     "text": [
      "U = \n"
     ]
    },
    {
     "data": {
      "text/plain": [
       "5×5 Array{Float64,2}:\n",
       " 0.92718   0.510549  0.517715  0.397911  0.777794\n",
       " 0.954084  0.358228  0.425726  0.475012  0.809655\n",
       " 0.742692  0.288332  0.892767  0.300795  0.397479\n",
       " 0.718162  0.25261   0.939957  0.676838  0.738155\n",
       " 0.946664  0.569021  0.82884   0.151853  0.323365"
      ]
     },
     "execution_count": 29,
     "metadata": {},
     "output_type": "execute_result"
    }
   ],
   "source": [
    "Cold = copy( C ) # an alternative way of doing a \"hard\" copy, in this case of a matrix\n",
    "    \n",
    "U = rand(n, n)\n",
    "println( \"U = \" )\n",
    "U"
   ]
  },
  {
   "cell_type": "code",
   "execution_count": 30,
   "metadata": {},
   "outputs": [
    {
     "name": "stdout",
     "output_type": "stream",
     "text": [
      "R = \n"
     ]
    },
    {
     "data": {
      "text/plain": [
       "5×5 Array{Float64,2}:\n",
       " 0.16368   0.0327048  0.2613    0.588521  0.507738\n",
       " 0.111698  0.861812   0.871939  0.460539  0.214001\n",
       " 0.113055  0.113623   0.977569  0.750129  0.616447\n",
       " 0.127917  0.271882   0.807505  0.671459  0.519208\n",
       " 0.15232   0.393337   0.682602  0.862563  0.181089"
      ]
     },
     "execution_count": 30,
     "metadata": {},
     "output_type": "execute_result"
    }
   ],
   "source": [
    "R = rand(n, n)\n",
    "println( \"R = \" )\n",
    "R"
   ]
  },
  {
   "cell_type": "markdown",
   "metadata": {},
   "source": [
    "## <h2>The algorithm  </h2>  \n",
    "\n",
    "<img src=\"https://studio.edx.org/c4x/UTAustinX/UT.5.01x/asset/5_5_1_10_Answer.png\" alt=\"Upper triangular matrix-matrix multiplication\" width=\"80%\">"
   ]
  },
  {
   "cell_type": "markdown",
   "metadata": {},
   "source": [
    "<h2> The routine <code> Trtrmm_uu_unb_var1!( U, R, C ) </code> </h2>\n",
    "\n",
    "This routine computes $ C := U R + C $.  The \"\\_uu\\_\" means that $ U $ and $ R $ are upper triangular matrices (which means $ C $ is too).  However, the lower triangular parts of numpy matrices <code> U </code>, <code> R </code>, and <code> C </code> are not to be \"touched\".\n",
    "    \n",
    "The specific laff function you will want to use is some subset of\n",
    "<ul>\n",
    "<li> <code> laff.gemv!( trans, alpha, A, x, beta, y ) </code> which computes $ y := \\alpha A x + \\beta y $ or $ y := \\alpha A^T x + \\beta y $ depending on whether <code> trans = 'No transpose' </code> or <code> trans = 'Transpose' </code> </li>\n",
    "    <li> <code> laff.ger!( alpha, x, y, A ) </code> which computes the rank-1 update (adds a multiple of an outer product to a matrix)\n",
    "$ A := \\alpha x y^T + A $. </li>\n",
    "    <li> <code> laff.axpy!( alpha, x, y ) </code></li>\n",
    "    <li>    <code> laff.dots!( x, y, alpha ) </code></li>\n",
    "</ul>\n",
    "\n",
    "<font color=red> Hint:</font>  If you multiply with $ U_{00} $, you will want to use <code> Matrix(UpperTriangular( U00 )) </code>; `UpperTriangular(U00)` will make sure you don't compute with the nonzeroes below the diagonal and wrapping this in a call to `Matrix()` will ensure you're still passing a regular `Matrix` type to the relevant `laff` function`.\n",
    "\n",
    "Use the <a href=\"https://studio.edx.org/c4x/UTAustinX/UT.5.01x/asset/index.html\"> Spark webpage</a> to generate a code skeleton.  (Make sure you adjust the name of the routine.)"
   ]
  },
  {
   "cell_type": "code",
   "execution_count": 31,
   "metadata": {},
   "outputs": [],
   "source": [
    "using LinearAlgebra"
   ]
  },
  {
   "cell_type": "code",
   "execution_count": 37,
   "metadata": {},
   "outputs": [
    {
     "name": "stderr",
     "output_type": "stream",
     "text": [
      "WARNING: replacing module flame.\n",
      "WARNING: replacing module laff.\n"
     ]
    },
    {
     "data": {
      "text/plain": [
       "Trtrmm_uu_unb_var1! (generic function with 1 method)"
      ]
     },
     "execution_count": 37,
     "metadata": {},
     "output_type": "execute_result"
    }
   ],
   "source": [
    "include(\"../flame.jl\")\n",
    "using .flame\n",
    "include(\"../laff/laff.jl\")\n",
    "using .laff\n",
    "\n",
    "function Trtrmm_uu_unb_var1!(U, R, C)\n",
    "\n",
    "    UTL, UTR, \n",
    "    UBL, UBR  = flame.part_2x2(U, \n",
    "                               0, 0, \"TL\")\n",
    "\n",
    "    RTL, RTR, \n",
    "    RBL, RBR  = flame.part_2x2(R, \n",
    "                               0, 0, \"TL\")\n",
    "\n",
    "    CTL, CTR, \n",
    "    CBL, CBR  = flame.part_2x2(C, \n",
    "                               0, 0, \"TL\")\n",
    "\n",
    "    while size(UTL, 1) < size(U, 1)\n",
    "\n",
    "        U00,  u01,       U02,  \n",
    "        u10t, upsilon11, u12t, \n",
    "        U20,  u21,       U22   = flame.repart_2x2_to_3x3(UTL, UTR, \n",
    "                                                         UBL, UBR, \n",
    "                                                         1, 1, \"BR\")\n",
    "\n",
    "        R00,  r01,   R02,  \n",
    "        r10t, rho11, r12t, \n",
    "        R20,  r21,   R22   = flame.repart_2x2_to_3x3(RTL, RTR, \n",
    "                                                     RBL, RBR, \n",
    "                                                     1, 1, \"BR\")\n",
    "\n",
    "        C00,  c01,     C02,  \n",
    "        c10t, gamma11, c12t, \n",
    "        C20,  c21,     C22   = flame.repart_2x2_to_3x3(CTL, CTR, \n",
    "                                                       CBL, CBR, \n",
    "                                                       1, 1, \"BR\")\n",
    "\n",
    "        #------------------------------------------------------------#\n",
    "\n",
    "        # imporant:  You do not need to recompute C00 = U00 * R00!!!!\n",
    "        laff.gemv!( \"No transpose\", 1.0, Matrix(UpperTriangular(U00)), r01, 0.0, c01 )\n",
    "        laff.axpy!( rho11, u01, c01 )\n",
    "        laff.dots!( rho11, upsilon11, gamma11 )\n",
    "\n",
    "        #------------------------------------------------------------#\n",
    "\n",
    "        UTL, UTR, \n",
    "        UBL, UBR  = flame.cont_with_3x3_to_2x2(U00,  u01,       U02,  \n",
    "                                               u10t, upsilon11, u12t, \n",
    "                                               U20,  u21,       U22,  \n",
    "                                               \"TL\")\n",
    "\n",
    "        RTL, RTR, \n",
    "        RBL, RBR  = flame.cont_with_3x3_to_2x2(R00,  r01,   R02,  \n",
    "                                               r10t, rho11, r12t, \n",
    "                                               R20,  r21,   R22,  \n",
    "                                               \"TL\")\n",
    "\n",
    "        CTL, CTR, \n",
    "        CBL, CBR  = flame.cont_with_3x3_to_2x2(C00,  c01,     C02,  \n",
    "                                               c10t, gamma11, c12t, \n",
    "                                               C20,  c21,     C22,  \n",
    "                                               \"TL\")\n",
    "\n",
    "    end\n",
    "\n",
    "    flame.merge_2x2!(CTL, CTR, \n",
    "                     CBL, CBR, C)\n",
    "\n",
    "end"
   ]
  },
  {
   "cell_type": "code",
   "execution_count": 38,
   "metadata": {},
   "outputs": [
    {
     "name": "stdout",
     "output_type": "stream",
     "text": [
      "C - Cref = \n"
     ]
    },
    {
     "data": {
      "text/plain": [
       "5×5 Array{Float64,2}:\n",
       " 0.0  0.0  0.0  0.0  0.0        \n",
       " 0.0  0.0  0.0  0.0  0.0        \n",
       " 0.0  0.0  0.0  0.0  1.11022e-16\n",
       " 0.0  0.0  0.0  0.0  0.0        \n",
       " 0.0  0.0  0.0  0.0  0.0        "
      ]
     },
     "execution_count": 38,
     "metadata": {},
     "output_type": "execute_result"
    }
   ],
   "source": [
    "C = copy( Cold ) # restore C \n",
    "\n",
    "Trtrmm_uu_unb_var1!( U, R, C )\n",
    "\n",
    "using LinearAlgebra\n",
    "Cref = UpperTriangular( U ) * UpperTriangular( R ) + LowerTriangular(Cold)\n",
    "println( \"C - Cref = \" )\n",
    "C - Cref"
   ]
  },
  {
   "cell_type": "markdown",
   "metadata": {},
   "source": [
    "In theory, the result matrix should be (approximately) zero."
   ]
  },
  {
   "cell_type": "markdown",
   "metadata": {},
   "source": [
    "## Watch the algorithm at work!"
   ]
  },
  {
   "cell_type": "markdown",
   "metadata": {},
   "source": [
    "Copy and paste the code into <a href=\"http://edx-org-utaustinx.s3.amazonaws.com/UT501x/PictureFlame/PictureFLAME.html\"> PictureFLAME </a>, a webpage where you can watch your routine in action.  Just cut and paste into the box.  \n",
    "\n",
    "Disclaimer: we implemented a VERY simple interpreter.  If you do something wrong, we cannot guarantee the results.  But if you do it right, you are in for a treat.\n",
    "\n",
    "If you want to reset the problem, just click in the box into which you pasted the code and hit \"next\" again."
   ]
  }
 ],
 "metadata": {
  "kernelspec": {
   "display_name": "Julia 1.0.1",
   "language": "julia",
   "name": "julia-1.0"
  },
  "language_info": {
   "file_extension": ".jl",
   "mimetype": "application/julia",
   "name": "julia",
   "version": "1.0.1"
  }
 },
 "nbformat": 4,
 "nbformat_minor": 1
}
