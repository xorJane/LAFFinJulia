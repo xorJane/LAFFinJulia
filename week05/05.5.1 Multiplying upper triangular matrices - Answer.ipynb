{
 "cells": [
  {
   "cell_type": "markdown",
   "metadata": {},
   "source": [
    "# Multiplying upper triangular matrices"
   ]
  },
  {
   "cell_type": "markdown",
   "metadata": {},
   "source": [
    "This notebook helps you implement the operation $ C := U R $ where $ C, U, R \\in \\mathbb{R}^{n \\times n} $, and $ U $ and $ R $ are upper triangular.  $ U $ and $ R $ are stored in the upper triangular part of numpy matrices <code> U </code> and <code> R </code>. The upper triangular part of matrix <code> C </code> is to be overwritten with the resulting upper triangular matrix.  "
   ]
  },
  {
   "cell_type": "markdown",
   "metadata": {},
   "source": [
    "First, we create some matrices."
   ]
  },
  {
   "cell_type": "code",
   "execution_count": 1,
   "metadata": {},
   "outputs": [
    {
     "name": "stdout",
     "output_type": "stream",
     "text": [
      "C = \n"
     ]
    },
    {
     "data": {
      "text/plain": [
       "5×5 Array{Float64,2}:\n",
       " 0.363805  0.470377  0.304103  0.460884  0.0186091\n",
       " 0.794673  0.941969  0.198176  0.604494  0.700519 \n",
       " 0.641871  0.509722  0.272848  0.947105  0.477244 \n",
       " 0.55827   0.182727  0.179498  0.551514  0.382309 \n",
       " 0.599656  0.681311  0.218425  0.182557  0.418006 "
      ]
     },
     "execution_count": 1,
     "metadata": {},
     "output_type": "execute_result"
    }
   ],
   "source": [
    "n = 5\n",
    "\n",
    "C = rand(n, n)\n",
    "println( \"C = \" )\n",
    "C"
   ]
  },
  {
   "cell_type": "code",
   "execution_count": 2,
   "metadata": {},
   "outputs": [
    {
     "name": "stdout",
     "output_type": "stream",
     "text": [
      "U = \n"
     ]
    },
    {
     "data": {
      "text/plain": [
       "5×5 Array{Float64,2}:\n",
       " 0.0200118  0.24006    0.469801  0.0260589  0.828365 \n",
       " 0.547712   0.0565943  0.700089  0.954994   0.493988 \n",
       " 0.136371   0.838578   0.176311  0.709253   0.0337659\n",
       " 0.962615   0.48762    0.950478  0.847303   0.0424887\n",
       " 0.246439   0.732695   0.701028  0.548225   0.502472 "
      ]
     },
     "execution_count": 2,
     "metadata": {},
     "output_type": "execute_result"
    }
   ],
   "source": [
    "Cold = copy( C ) # an alternative way of doing a \"hard\" copy, in this case of a matrix\n",
    "    \n",
    "U = rand(n, n)\n",
    "println( \"U = \" )\n",
    "U"
   ]
  },
  {
   "cell_type": "code",
   "execution_count": 3,
   "metadata": {},
   "outputs": [
    {
     "name": "stdout",
     "output_type": "stream",
     "text": [
      "R = \n"
     ]
    },
    {
     "data": {
      "text/plain": [
       "5×5 Array{Float64,2}:\n",
       " 0.130688   0.954879  0.387661  0.561678   0.316197\n",
       " 0.180876   0.435833  0.71329   0.0807493  0.649268\n",
       " 0.0879662  0.432293  0.481885  0.511855   0.667453\n",
       " 0.538766   0.486865  0.384126  0.459313   0.234974\n",
       " 0.888315   0.142085  0.442179  0.649281   0.440306"
      ]
     },
     "execution_count": 3,
     "metadata": {},
     "output_type": "execute_result"
    }
   ],
   "source": [
    "R = rand(n, n)\n",
    "println( \"R = \" )\n",
    "R"
   ]
  },
  {
   "cell_type": "markdown",
   "metadata": {},
   "source": [
    "## <h2>The algorithm  </h2>  <image src=\"https://studio.edx.org/c4x/UTAustinX/UT.5.01x/asset/5_5_1_10_Answer.png\" alt=\"Upper triangular matrix-matrix multiplication\" width=\"80%\">"
   ]
  },
  {
   "cell_type": "markdown",
   "metadata": {},
   "source": [
    "<h2> The routine <code> Trtrmm_uu_unb_var1!( U, R, C ) </code> </h2>\n",
    "\n",
    "This routine computes $ C := U R + C $.  The \"\\_uu\\_\" means that $ U $ and $ R $ are upper triangular matrices (which means $ C $ is too).  However, the lower triangular parts of numpy matrices <code> U </code>, <code> R </code>, and <code> C </code> are not to be \"touched\".\n",
    "    \n",
    "The specific laff function you will want to use is some subset of\n",
    "<ul>\n",
    "<li> <code> laff.gemv!( trans, alpha, A, x, beta, y ) </code> which computes $ y := \\alpha A x + \\beta y $ or $ y := \\alpha A^T x + \\beta y $ depending on whether <code> trans = 'No transpose' </code> or <code> trans = 'Transpose' </code> </li>\n",
    "    <li> <code> laff.ger!( alpha, x, y, A ) </code> which computes the rank-1 update (adds a multiple of an outer product to a matrix)\n",
    "$ A := \\alpha x y^T + A $. </li>\n",
    "    <li> <code> laff.axpy!( alpha, x, y ) </code></li>\n",
    "    <li>    <code> laff.dots!( x, y, alpha ) </code></li>\n",
    "</ul>\n",
    "\n",
    "<font color=red> Hint:</font>  If you multiply with $ U_{00} $, you will want to use <code> UpperTriangular( U00 ) </code> to make sure you don't compute with the nonzeroes below the diagonal.\n",
    "\n",
    "Use the <a href=\"https://studio.edx.org/c4x/UTAustinX/UT.5.01x/asset/index.html\"> Spark webpage</a> to generate a code skeleton.  (Make sure you adjust the name of the routine.)"
   ]
  },
  {
   "cell_type": "code",
   "execution_count": 6,
   "metadata": {},
   "outputs": [],
   "source": [
    "using LinearAlgebra"
   ]
  },
  {
   "cell_type": "code",
   "execution_count": 11,
   "metadata": {},
   "outputs": [
    {
     "name": "stderr",
     "output_type": "stream",
     "text": [
      "WARNING: replacing module flame.\n",
      "WARNING: replacing module laff.\n"
     ]
    },
    {
     "data": {
      "text/plain": [
       "Trtrmm_uu_unb_var1! (generic function with 1 method)"
      ]
     },
     "execution_count": 11,
     "metadata": {},
     "output_type": "execute_result"
    }
   ],
   "source": [
    "include(\"../flame.jl\")\n",
    "using .flame\n",
    "include(\"../laff/laff.jl\")\n",
    "using .laff\n",
    "\n",
    "function Trtrmm_uu_unb_var1!(U, R, C)\n",
    "\n",
    "    UTL, UTR, \n",
    "    UBL, UBR  = flame.part_2x2(U, \n",
    "                               0, 0, \"TL\")\n",
    "\n",
    "    RTL, RTR, \n",
    "    RBL, RBR  = flame.part_2x2(R, \n",
    "                               0, 0, \"TL\")\n",
    "\n",
    "    CTL, CTR, \n",
    "    CBL, CBR  = flame.part_2x2(C, \n",
    "                               0, 0, \"TL\")\n",
    "\n",
    "    while size(UTL, 1) < size(U, 1)\n",
    "\n",
    "        U00,  u01,       U02,  \n",
    "        u10t, upsilon11, u12t, \n",
    "        U20,  u21,       U22   = flame.repart_2x2_to_3x3(UTL, UTR, \n",
    "                                                         UBL, UBR, \n",
    "                                                         1, 1, \"BR\")\n",
    "\n",
    "        R00,  r01,   R02,  \n",
    "        r10t, rho11, r12t, \n",
    "        R20,  r21,   R22   = flame.repart_2x2_to_3x3(RTL, RTR, \n",
    "                                                     RBL, RBR, \n",
    "                                                     1, 1, \"BR\")\n",
    "\n",
    "        C00,  c01,     C02,  \n",
    "        c10t, gamma11, c12t, \n",
    "        C20,  c21,     C22   = flame.repart_2x2_to_3x3(CTL, CTR, \n",
    "                                                       CBL, CBR, \n",
    "                                                       1, 1, \"BR\")\n",
    "\n",
    "        #------------------------------------------------------------#\n",
    "\n",
    "        # imporant:  You do not need to recompute C00 = U00 * R00!!!!\n",
    "        myU00 = copy(U00)\n",
    "        m, n = size(myU00)\n",
    "        for i in 1:m\n",
    "            for j in 1:(i - 1)\n",
    "                myU00[i, j] = 0.0\n",
    "            end\n",
    "        end\n",
    "        laff.gemv!( \"No transpose\", 1.0, U00, r01, 0.0, c01 )\n",
    "        laff.axpy!( rho11, u01, c01 )\n",
    "        laff.dots!( rho11, upsilon11, gamma11 )\n",
    "\n",
    "        #------------------------------------------------------------#\n",
    "\n",
    "        UTL, UTR, \n",
    "        UBL, UBR  = flame.cont_with_3x3_to_2x2(U00,  u01,       U02,  \n",
    "                                               u10t, upsilon11, u12t, \n",
    "                                               U20,  u21,       U22,  \n",
    "                                               \"TL\")\n",
    "\n",
    "        RTL, RTR, \n",
    "        RBL, RBR  = flame.cont_with_3x3_to_2x2(R00,  r01,   R02,  \n",
    "                                               r10t, rho11, r12t, \n",
    "                                               R20,  r21,   R22,  \n",
    "                                               \"TL\")\n",
    "\n",
    "        CTL, CTR, \n",
    "        CBL, CBR  = flame.cont_with_3x3_to_2x2(C00,  c01,     C02,  \n",
    "                                               c10t, gamma11, c12t, \n",
    "                                               C20,  c21,     C22,  \n",
    "                                               \"TL\")\n",
    "\n",
    "    end\n",
    "\n",
    "    flame.merge_2x2!(CTL, CTR, \n",
    "                     CBL, CBR, C)\n",
    "\n",
    "end"
   ]
  },
  {
   "cell_type": "code",
   "execution_count": 12,
   "metadata": {},
   "outputs": [
    {
     "name": "stdout",
     "output_type": "stream",
     "text": [
      "C - Cref\n"
     ]
    },
    {
     "data": {
      "text/plain": [
       "5×5 Array{Float64,2}:\n",
       " 0.366421  0.0       0.0       0.0       0.0     \n",
       " 0.0       0.966634  0.212326  0.307637  0.173185\n",
       " 0.0       0.0       0.35781   0.144311  0.587582\n",
       " 0.0       0.0       0.0       0.940691  1.25537 \n",
       " 0.0       0.0       0.0       0.0       0.639247"
      ]
     },
     "execution_count": 12,
     "metadata": {},
     "output_type": "execute_result"
    }
   ],
   "source": [
    "C = copy( Cold ) # restore C \n",
    "\n",
    "Trtrmm_uu_unb_var1!( U, R, C )\n",
    "\n",
    "using LinearAlgebra\n",
    "strictly_lower_C = LowerTriangular( Cold ) - Diagonal(C)\n",
    "Cref = UpperTriangular( U ) * UpperTriangular( R ) + strictly_lower_C\n",
    "println( \"C - Cref\" )\n",
    "C - Cref"
   ]
  },
  {
   "cell_type": "markdown",
   "metadata": {},
   "source": [
    "In theory, the result matrix should be (approximately) zero."
   ]
  },
  {
   "cell_type": "markdown",
   "metadata": {},
   "source": [
    "## Watch the algorithm at work!"
   ]
  },
  {
   "cell_type": "markdown",
   "metadata": {},
   "source": [
    "Copy and paste the code into <a href=\"http://edx-org-utaustinx.s3.amazonaws.com/UT501x/PictureFlame/PictureFLAME.html\"> PictureFLAME </a>, a webpage where you can watch your routine in action.  Just cut and paste into the box.  \n",
    "\n",
    "Disclaimer: we implemented a VERY simple interpreter.  If you do something wrong, we cannot guarantee the results.  But if you do it right, you are in for a treat.\n",
    "\n",
    "If you want to reset the problem, just click in the box into which you pasted the code and hit \"next\" again."
   ]
  }
 ],
 "metadata": {
  "kernelspec": {
   "display_name": "Julia 1.0.1",
   "language": "julia",
   "name": "julia-1.0"
  },
  "language_info": {
   "file_extension": ".jl",
   "mimetype": "application/julia",
   "name": "julia",
   "version": "1.0.1"
  }
 },
 "nbformat": 4,
 "nbformat_minor": 1
}
