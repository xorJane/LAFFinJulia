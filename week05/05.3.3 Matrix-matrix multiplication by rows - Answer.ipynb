{
 "cells": [
  {
   "cell_type": "markdown",
   "metadata": {},
   "source": [
    "# Matrix-matrix multiplication by rows"
   ]
  },
  {
   "cell_type": "markdown",
   "metadata": {},
   "source": [
    "We continue to look at how the FLAMEJulia API can be used to implement different matrix-matrix multiplication algorithms.  "
   ]
  },
  {
   "cell_type": "markdown",
   "metadata": {},
   "source": [
    "First, we create some matrices."
   ]
  },
  {
   "cell_type": "code",
   "execution_count": 1,
   "metadata": {},
   "outputs": [
    {
     "name": "stdout",
     "output_type": "stream",
     "text": [
      "C = \n"
     ]
    },
    {
     "data": {
      "text/plain": [
       "4×3 Array{Float64,2}:\n",
       " 0.089461  0.0807089  0.786385 \n",
       " 0.775394  0.0109804  0.0878355\n",
       " 0.840988  0.675529   0.214333 \n",
       " 0.722499  0.879786   0.897798 "
      ]
     },
     "execution_count": 1,
     "metadata": {},
     "output_type": "execute_result"
    }
   ],
   "source": [
    "m = 4\n",
    "n = 3\n",
    "k = 5\n",
    "\n",
    "C = rand(m, n)\n",
    "println( \"C = \" )\n",
    "C"
   ]
  },
  {
   "cell_type": "code",
   "execution_count": 2,
   "metadata": {},
   "outputs": [
    {
     "name": "stdout",
     "output_type": "stream",
     "text": [
      "A = \n"
     ]
    },
    {
     "data": {
      "text/plain": [
       "4×5 Array{Float64,2}:\n",
       " 0.553488  0.636557   0.264353  0.0354749  0.62387 \n",
       " 0.347997  0.545717   0.78843   0.348231   0.485425\n",
       " 0.714738  0.125028   0.378362  0.370956   0.197038\n",
       " 0.63489   0.0310842  0.405945  0.143988   0.644408"
      ]
     },
     "execution_count": 2,
     "metadata": {},
     "output_type": "execute_result"
    }
   ],
   "source": [
    "Cold = copy( C ) # an alternative way of doing a \"hard\" copy, in this case of a matrix\n",
    "    \n",
    "A = rand(m, k)\n",
    "println( \"A = \" )\n",
    "A"
   ]
  },
  {
   "cell_type": "code",
   "execution_count": 3,
   "metadata": {},
   "outputs": [
    {
     "name": "stdout",
     "output_type": "stream",
     "text": [
      "B = \n"
     ]
    },
    {
     "data": {
      "text/plain": [
       "5×3 Array{Float64,2}:\n",
       " 0.630872   0.930963  0.563996\n",
       " 0.947745   0.776101  0.448223\n",
       " 0.0755745  0.705812  0.617178\n",
       " 0.504634   0.625457  0.25124 \n",
       " 0.311762   0.409956  0.572654"
      ]
     },
     "execution_count": 3,
     "metadata": {},
     "output_type": "execute_result"
    }
   ],
   "source": [
    "B = rand(k, n)\n",
    "println( \"B = \" )\n",
    "B"
   ]
  },
  {
   "cell_type": "markdown",
   "metadata": {},
   "source": [
    "## <h2>The algorithm  </h2>  <image src=\"https://studio.edx.org/c4x/UTAustinX/UT.5.01x/asset/Gemm_nn_unb_var2.png\" alt=\"Matrix-matrix multiplication by rows picture\" width=\"80%\">"
   ]
  },
  {
   "cell_type": "markdown",
   "metadata": {},
   "source": [
    "<h2> The routine <code> Gemm_nn_unb_var2!( A, B, C ) </code> </h2>\n",
    "\n",
    "This routine computes $ C := A B + C $ by rows.  The \"\\_nn\\_\" means that this is the \"No transpose, No transpose\" case of matrix multiplication.  \n",
    "The reason for this is that the operations $ C := A^T B + C $ (\"\\_tn\\_\" or \"Transpose, No transpose\"), $ C := A B^T + C $ (\"\\_nt\\_\" or \"No transpose, Transpose\"), and $ C := A^T B^T + C $ (\"\\_tt\\_\" or \"Transpose, Transpose\") are also encountered.  \n",
    "    \n",
    "The specific laff function we will use is\n",
    "<ul>\n",
    "<li> <code> laff.gemv!( trans, alpha, A, x, beta, y ) </code> which computes \n",
    "$ y := \\alpha A x + \\beta y $ or $ y := \\alpha A^T x + \\beta y $, depending on \n",
    "        parameter <code> trans</code>.  In particular, \n",
    "        <ul>\n",
    "        <li>\n",
    "        <code> laff.gemv!( \"No transpose\", alpha, A, x, beta, y ) </code> computes $ y := \\alpha A x + \\beta y $.\n",
    "            </li>\n",
    "        <li>\n",
    "        <code> laff.gemv!( \"Transpose\", alpha, A, x, beta, y ) </code> computes $ y := \\alpha A^T x + \\beta y $.\n",
    "            </li>\n",
    "            </ul>\n",
    "    </li>\n",
    "</ul>\n",
    "\n",
    "Use the <a href=\"https://studio.edx.org/c4x/UTAustinX/UT.5.01x/asset/index.html\"> Spark webpage</a> to generate a code skeleton.  (Make sure you adjust the name of the routine.)"
   ]
  },
  {
   "cell_type": "code",
   "execution_count": 4,
   "metadata": {},
   "outputs": [
    {
     "data": {
      "text/plain": [
       "Gemm_nn_unb_var2! (generic function with 1 method)"
      ]
     },
     "execution_count": 4,
     "metadata": {},
     "output_type": "execute_result"
    }
   ],
   "source": [
    "include(\"../flame.jl\")\n",
    "using .flame\n",
    "include(\"../laff/laff.jl\")\n",
    "using .laff\n",
    "\n",
    "function Gemm_nn_unb_var2!(A, B, C)\n",
    "\n",
    "    AT, \n",
    "    AB  = flame.part_2x1(A, \n",
    "                         0, \"TOP\")\n",
    "\n",
    "    CT, \n",
    "    CB  = flame.part_2x1(C, \n",
    "                         0, \"TOP\")\n",
    "\n",
    "    while size(AT, 1) < size(A, 1)\n",
    "\n",
    "        A0,  \n",
    "        a1t, \n",
    "        A2   = flame.repart_2x1_to_3x1(AT, \n",
    "                                       AB, \n",
    "                                       1, \"BOTTOM\")\n",
    "\n",
    "        C0,  \n",
    "        c1t, \n",
    "        C2   = flame.repart_2x1_to_3x1(CT, \n",
    "                                       CB, \n",
    "                                       1, \"BOTTOM\")\n",
    "\n",
    "        #------------------------------------------------------------#\n",
    "\n",
    "        laff.gemv!( \"Transpose\", 1.0, B, a1t, 1.0, c1t )\n",
    "\n",
    "        #------------------------------------------------------------#\n",
    "\n",
    "        AT, \n",
    "        AB  = flame.cont_with_3x1_to_2x1(A0,  \n",
    "                                         a1t, \n",
    "                                         A2,  \n",
    "                                         \"TOP\")\n",
    "\n",
    "        CT, \n",
    "        CB  = flame.cont_with_3x1_to_2x1(C0,  \n",
    "                                         c1t, \n",
    "                                         C2,  \n",
    "                                         \"TOP\")\n",
    "\n",
    "    end\n",
    "\n",
    "    flame.merge_2x1!(CT, \n",
    "                     CB, C)\n",
    "\n",
    "end"
   ]
  },
  {
   "cell_type": "code",
   "execution_count": 5,
   "metadata": {},
   "outputs": [
    {
     "name": "stdout",
     "output_type": "stream",
     "text": [
      "C - ( Cold + A * B )\n"
     ]
    },
    {
     "data": {
      "text/plain": [
       "4×3 Array{Float64,2}:\n",
       " 0.0  0.0  0.0\n",
       " 0.0  0.0  0.0\n",
       " 0.0  0.0  0.0\n",
       " 0.0  0.0  0.0"
      ]
     },
     "execution_count": 5,
     "metadata": {},
     "output_type": "execute_result"
    }
   ],
   "source": [
    "C = copy( Cold )              # restore C \n",
    "\n",
    "Gemm_nn_unb_var2!( A, B, C )\n",
    "\n",
    "println( \"C - ( Cold + A * B )\" )\n",
    "C - ( Cold + A * B )"
   ]
  },
  {
   "cell_type": "markdown",
   "metadata": {},
   "source": [
    "Bingo! It works!"
   ]
  },
  {
   "cell_type": "markdown",
   "metadata": {},
   "source": [
    "## Watch the algorithm at work!"
   ]
  },
  {
   "cell_type": "markdown",
   "metadata": {},
   "source": [
    "Copy and paste the code into <a href=\"http://edx-org-utaustinx.s3.amazonaws.com/UT501x/PictureFlame/PictureFLAME.html\"> PictureFLAME </a>, a webpage where you can watch your routine in action.  Just cut and paste into the box.  \n",
    "\n",
    "Disclaimer: we implemented a VERY simple interpreter.  If you do something wrong, we cannot guarantee the results.  But if you do it right, you are in for a treat.\n",
    "\n",
    "If you want to reset the problem, just click in the box into which you pasted the code and hit \"next\" again."
   ]
  }
 ],
 "metadata": {
  "kernelspec": {
   "display_name": "Julia 1.0.1",
   "language": "julia",
   "name": "julia-1.0"
  },
  "language_info": {
   "file_extension": ".jl",
   "mimetype": "application/julia",
   "name": "julia",
   "version": "1.0.1"
  }
 },
 "nbformat": 4,
 "nbformat_minor": 1
}
