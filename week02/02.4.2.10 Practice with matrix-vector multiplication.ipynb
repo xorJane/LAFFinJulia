{
 "cells": [
  {
   "cell_type": "markdown",
   "metadata": {},
   "source": [
    "## Practice with matrix-vector multiplication"
   ]
  },
  {
   "cell_type": "markdown",
   "metadata": {},
   "source": [
    "To practice your ability to compute a matrix-vector product, run the cells below and when you are ready, check your answer by running the third input cell below.  To do another one, just repeat by running the second cell below, and then the one below it!"
   ]
  },
  {
   "cell_type": "code",
   "execution_count": 76,
   "metadata": {},
   "outputs": [
    {
     "name": "stderr",
     "output_type": "stream",
     "text": [
      "WARNING: replacing module PracticeGemv.\n"
     ]
    }
   ],
   "source": [
    "include(\"PracticeGemv.jl\")\n",
    "using .PracticeGemv"
   ]
  },
  {
   "cell_type": "code",
   "execution_count": 77,
   "metadata": {},
   "outputs": [
    {
     "name": "stdout",
     "output_type": "stream",
     "text": [
      "/  1  2  \\  / -1 \\      \n",
      "| -2  2  |  \\ -2 /   =  \n",
      "\\  1  2  /              \n"
     ]
    }
   ],
   "source": [
    "problem = PracticeGemv.new_problem();"
   ]
  },
  {
   "cell_type": "code",
   "execution_count": 78,
   "metadata": {},
   "outputs": [
    {
     "name": "stdout",
     "output_type": "stream",
     "text": [
      "/  1  2  \\  / -1 \\      / -5 \\  \n",
      "| -2  2  |  \\ -2 /   =  | -2 |  \n",
      "\\  1  2  /              \\ -5 /  \n"
     ]
    }
   ],
   "source": [
    "PracticeGemv.show_answer(problem)"
   ]
  },
  {
   "cell_type": "code",
   "execution_count": null,
   "metadata": {},
   "outputs": [],
   "source": []
  }
 ],
 "metadata": {
  "kernelspec": {
   "display_name": "Julia 1.0.1",
   "language": "julia",
   "name": "julia-1.0"
  },
  "language_info": {
   "file_extension": ".jl",
   "mimetype": "application/julia",
   "name": "julia",
   "version": "1.0.1"
  }
 },
 "nbformat": 4,
 "nbformat_minor": 1
}
